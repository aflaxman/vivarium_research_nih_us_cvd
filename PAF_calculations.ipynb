{
 "cells": [
  {
   "cell_type": "markdown",
   "id": "2981ca59-9f05-4a87-bd9d-1c8aa02905b0",
   "metadata": {},
   "source": [
    "# PAF Calculations"
   ]
  },
  {
   "attachments": {
    "dfbb7a69-d37e-4ee3-85e3-d36c05418e77.png": {
     "image/png": "[encoded data removed]"
    }
   },
   "cell_type": "markdown",
   "id": "d686225d-1515-469a-8e25-48d7afa8c51f",
   "metadata": {},
   "source": [
    "## Starting with SBP -> HF \n",
    "\n",
    "This is from a categorical risk based on the SBP level of a simulant. Therefore, we will use the PAF equation and GBD risk exposure values to find the PAFs. \n",
    "\n",
    "![image.png](attachment:dfbb7a69-d37e-4ee3-85e3-d36c05418e77.png)"
   ]
  },
  {
   "cell_type": "markdown",
   "id": "d1d83dae-8902-42a0-9cff-759baad041aa",
   "metadata": {},
   "source": [
    "The Pp value is the percent exposed in the population. This can be found in the interactive model. However, this means that I only found it for Alabama. It will need to be done either nationally or for each state. "
   ]
  },
  {
   "cell_type": "code",
   "execution_count": 1,
   "id": "af31b3ff-146b-4f11-992c-39d45a6ef417",
   "metadata": {},
   "outputs": [],
   "source": [
    "import pandas as pd, numpy as np, os\n",
    "from db_queries import get_ids, get_outputs, get_location_metadata, get_population, get_covariate_estimates\n",
    "from get_draws.api import get_draws\n",
    "import scipy.stats as sp\n",
    "import scipy.integrate as integrate\n",
    "import matplotlib.pyplot as plt\n",
    "import random\n",
    "import scipy.integrate as integrate\n",
    "from risk_distributions import EnsembleDistribution\n",
    "import math \n",
    "from typing import List, Tuple, Union"
   ]
  },
  {
   "cell_type": "code",
   "execution_count": 2,
   "id": "602e4595-6744-46a1-bd2c-fb19b15e2f8d",
   "metadata": {},
   "outputs": [
    {
     "data": {
      "text/html": [
       "<div>\n",
       "<style scoped>\n",
       "    .dataframe tbody tr th:only-of-type {\n",
       "        vertical-align: middle;\n",
       "    }\n",
       "\n",
       "    .dataframe tbody tr th {\n",
       "        vertical-align: top;\n",
       "    }\n",
       "\n",
       "    .dataframe thead th {\n",
       "        text-align: right;\n",
       "    }\n",
       "</style>\n",
       "<table border=\"1\" class=\"dataframe\">\n",
       "  <thead>\n",
       "    <tr style=\"text-align: right;\">\n",
       "      <th></th>\n",
       "      <th>SBP_Group</th>\n",
       "      <th>RR_lower</th>\n",
       "      <th>RR</th>\n",
       "      <th>RR_upper</th>\n",
       "      <th>Pp</th>\n",
       "    </tr>\n",
       "  </thead>\n",
       "  <tbody>\n",
       "    <tr>\n",
       "      <th>0</th>\n",
       "      <td>&lt;120</td>\n",
       "      <td>1</td>\n",
       "      <td>1</td>\n",
       "      <td>1</td>\n",
       "      <td>0.44253490870032225</td>\n",
       "    </tr>\n",
       "    <tr>\n",
       "      <th>1</th>\n",
       "      <td>120-129</td>\n",
       "      <td>1.13</td>\n",
       "      <td>1.27</td>\n",
       "      <td>1.43</td>\n",
       "      <td>0.24583780880773362</td>\n",
       "    </tr>\n",
       "    <tr>\n",
       "      <th>2</th>\n",
       "      <td>130-139</td>\n",
       "      <td>1.3</td>\n",
       "      <td>1.5</td>\n",
       "      <td>1.73</td>\n",
       "      <td>0.1742749731471536</td>\n",
       "    </tr>\n",
       "    <tr>\n",
       "      <th>3</th>\n",
       "      <td>140+</td>\n",
       "      <td>1.43</td>\n",
       "      <td>1.76</td>\n",
       "      <td>2.17</td>\n",
       "      <td>0.13735230934479054</td>\n",
       "    </tr>\n",
       "  </tbody>\n",
       "</table>\n",
       "</div>"
      ],
      "text/plain": [
       "  SBP_Group RR_lower    RR RR_upper                   Pp\n",
       "0      <120        1     1        1  0.44253490870032225\n",
       "1   120-129     1.13  1.27     1.43  0.24583780880773362\n",
       "2   130-139      1.3   1.5     1.73   0.1742749731471536\n",
       "3      140+     1.43  1.76     2.17  0.13735230934479054"
      ]
     },
     "execution_count": 2,
     "metadata": {},
     "output_type": "execute_result"
    }
   ],
   "source": [
    "SBP_PAF = pd.DataFrame(np.array([['<120',1,1,1,0.44253490870032225],['120-129',1.13,1.27,1.43,0.24583780880773362],['130-139',1.3,1.5,1.73,0.1742749731471536],['140+',1.43,1.76,2.17,0.13735230934479054]]),\n",
    "                   columns=['SBP_Group', 'RR_lower', 'RR', 'RR_upper','Pp'])\n",
    "SBP_PAF"
   ]
  },
  {
   "cell_type": "code",
   "execution_count": 3,
   "id": "6217b764-d75e-4f62-b512-2d2bb4d97578",
   "metadata": {},
   "outputs": [
    {
     "data": {
      "text/html": [
       "<div>\n",
       "<style scoped>\n",
       "    .dataframe tbody tr th:only-of-type {\n",
       "        vertical-align: middle;\n",
       "    }\n",
       "\n",
       "    .dataframe tbody tr th {\n",
       "        vertical-align: top;\n",
       "    }\n",
       "\n",
       "    .dataframe thead th {\n",
       "        text-align: right;\n",
       "    }\n",
       "</style>\n",
       "<table border=\"1\" class=\"dataframe\">\n",
       "  <thead>\n",
       "    <tr style=\"text-align: right;\">\n",
       "      <th></th>\n",
       "      <th>SBP_Group</th>\n",
       "      <th>RR_lower</th>\n",
       "      <th>RR</th>\n",
       "      <th>RR_upper</th>\n",
       "      <th>Pp</th>\n",
       "      <th>RR_PP_lower</th>\n",
       "      <th>RR_PP</th>\n",
       "      <th>RR_PP_upper</th>\n",
       "    </tr>\n",
       "  </thead>\n",
       "  <tbody>\n",
       "    <tr>\n",
       "      <th>0</th>\n",
       "      <td>&lt;120</td>\n",
       "      <td>1.00</td>\n",
       "      <td>1.00</td>\n",
       "      <td>1.00</td>\n",
       "      <td>0.442535</td>\n",
       "      <td>0.442535</td>\n",
       "      <td>0.442535</td>\n",
       "      <td>0.442535</td>\n",
       "    </tr>\n",
       "    <tr>\n",
       "      <th>1</th>\n",
       "      <td>120-129</td>\n",
       "      <td>1.13</td>\n",
       "      <td>1.27</td>\n",
       "      <td>1.43</td>\n",
       "      <td>0.245838</td>\n",
       "      <td>0.277797</td>\n",
       "      <td>0.312214</td>\n",
       "      <td>0.351548</td>\n",
       "    </tr>\n",
       "    <tr>\n",
       "      <th>2</th>\n",
       "      <td>130-139</td>\n",
       "      <td>1.30</td>\n",
       "      <td>1.50</td>\n",
       "      <td>1.73</td>\n",
       "      <td>0.174275</td>\n",
       "      <td>0.226557</td>\n",
       "      <td>0.261412</td>\n",
       "      <td>0.301496</td>\n",
       "    </tr>\n",
       "    <tr>\n",
       "      <th>3</th>\n",
       "      <td>140+</td>\n",
       "      <td>1.43</td>\n",
       "      <td>1.76</td>\n",
       "      <td>2.17</td>\n",
       "      <td>0.137352</td>\n",
       "      <td>0.196414</td>\n",
       "      <td>0.241740</td>\n",
       "      <td>0.298055</td>\n",
       "    </tr>\n",
       "  </tbody>\n",
       "</table>\n",
       "</div>"
      ],
      "text/plain": [
       "  SBP_Group  RR_lower    RR  RR_upper        Pp  RR_PP_lower     RR_PP  \\\n",
       "0      <120      1.00  1.00      1.00  0.442535     0.442535  0.442535   \n",
       "1   120-129      1.13  1.27      1.43  0.245838     0.277797  0.312214   \n",
       "2   130-139      1.30  1.50      1.73  0.174275     0.226557  0.261412   \n",
       "3      140+      1.43  1.76      2.17  0.137352     0.196414  0.241740   \n",
       "\n",
       "   RR_PP_upper  \n",
       "0     0.442535  \n",
       "1     0.351548  \n",
       "2     0.301496  \n",
       "3     0.298055  "
      ]
     },
     "execution_count": 3,
     "metadata": {},
     "output_type": "execute_result"
    }
   ],
   "source": [
    "SBP_PAF['Pp'] = pd.to_numeric(SBP_PAF['Pp'])\n",
    "SBP_PAF['RR_lower'] = pd.to_numeric(SBP_PAF['RR_lower'])\n",
    "SBP_PAF['RR'] = pd.to_numeric(SBP_PAF['RR'])\n",
    "SBP_PAF['RR_upper'] = pd.to_numeric(SBP_PAF['RR_upper'])\n",
    "SBP_PAF['RR_PP_lower'] = SBP_PAF.RR_lower * SBP_PAF.Pp\n",
    "SBP_PAF['RR_PP'] = SBP_PAF.RR * SBP_PAF.Pp\n",
    "SBP_PAF['RR_PP_upper'] = SBP_PAF.RR_upper * SBP_PAF.Pp\n",
    "SBP_PAF"
   ]
  },
  {
   "cell_type": "code",
   "execution_count": 4,
   "id": "0efac107-4fc9-4d57-9106-bae6ca91024c",
   "metadata": {},
   "outputs": [
    {
     "name": "stdout",
     "output_type": "stream",
     "text": [
      "0.12534114983347655 0.20502516317370853 0.2824510731441321\n"
     ]
    }
   ],
   "source": [
    "RR_lower = SBP_PAF.RR_PP_lower.sum()\n",
    "RR = SBP_PAF.RR_PP.sum()\n",
    "RR_upper = SBP_PAF.RR_PP_upper.sum()\n",
    "\n",
    "PAF_lower = (RR_lower - 1) / (RR_lower)\n",
    "PAF = (RR - 1) / (RR)\n",
    "PAF_upper = (RR_upper - 1) / (RR_upper)\n",
    "\n",
    "print(PAF_lower, PAF, PAF_upper)"
   ]
  },
  {
   "cell_type": "markdown",
   "id": "3f2f93f4-f8bd-4896-b980-dca0b8097485",
   "metadata": {},
   "source": [
    "## Now for BMI -> HF \n",
    "\n",
    "This is a continuous risk for the BMI of the simulant and its effect on HF. There is not as clear cut a formula for this type of risk. "
   ]
  },
  {
   "cell_type": "markdown",
   "id": "e5f9fbac-06d6-44e3-be8c-493ef808b4ba",
   "metadata": {},
   "source": [
    "### Create the BMI pdf function"
   ]
  },
  {
   "cell_type": "code",
   "execution_count": 5,
   "id": "e8446e32-00c2-42ae-bd49-f7a1f14cd1f2",
   "metadata": {},
   "outputs": [
    {
     "data": {
      "text/plain": [
       "exp           0.001915\n",
       "gamma         0.028420\n",
       "invgamma      0.085432\n",
       "llogis        0.187009\n",
       "gumbel        0.220315\n",
       "invweibull    0.140573\n",
       "weibull       0.010840\n",
       "lnorm         0.057513\n",
       "norm          0.011908\n",
       "glnorm        0.000000\n",
       "betasr        0.135648\n",
       "mgamma        0.007814\n",
       "mgumbel       0.112612\n",
       "Name: 0, dtype: float64"
      ]
     },
     "execution_count": 5,
     "metadata": {},
     "output_type": "execute_result"
    }
   ],
   "source": [
    "weights = pd.read_csv('/ihme/epi/risk/ensemble/_weights/gbd_2019/metab_bmi_adult.csv')\n",
    "weights = weights.drop(columns=[c for c in weights.columns if '_id' in c]).loc[0]\n",
    "weights"
   ]
  },
  {
   "cell_type": "code",
   "execution_count": 6,
   "id": "e10e786c-a408-42a7-9c4b-b3c6474f0116",
   "metadata": {},
   "outputs": [],
   "source": [
    "w_exponential = weights['exp']\n",
    "w_gamma = weights['gamma']\n",
    "w_inverse_gamma = weights['invgamma']\n",
    "w_log_logistic = weights['llogis']\n",
    "w_gumbel = weights['gumbel']\n",
    "w_invweibull = weights['invweibull']\n",
    "w_weibull = weights['weibull']\n",
    "w_log_normal = weights['lnorm']\n",
    "w_normal = weights['norm']\n",
    "w_beta = weights['betasr']\n",
    "w_mirror_gamma = weights['mgamma']\n",
    "w_mirror_gumbel = weights['mgumbel']"
   ]
  },
  {
   "cell_type": "code",
   "execution_count": 54,
   "id": "4dcf1a20-5667-49aa-864f-ae53308a4556",
   "metadata": {},
   "outputs": [],
   "source": [
    "params = get_draws(release_id=6,\n",
    "         year_id=2019,\n",
    "         sex_id=[1,2],\n",
    "         location_id=523,\n",
    "         age_group_id=[10,11,12,13,14,15,16,17,18,19,20,30,31,32],\n",
    "         gbd_id_type='modelable_entity_id',\n",
    "         gbd_id=[2548,18706],\n",
    "         source='epi')"
   ]
  },
  {
   "cell_type": "code",
   "execution_count": 84,
   "id": "0033f09c-2638-4836-905b-e3cee50210f8",
   "metadata": {},
   "outputs": [
    {
     "data": {
      "text/html": [
       "<div>\n",
       "<style scoped>\n",
       "    .dataframe tbody tr th:only-of-type {\n",
       "        vertical-align: middle;\n",
       "    }\n",
       "\n",
       "    .dataframe tbody tr th {\n",
       "        vertical-align: top;\n",
       "    }\n",
       "\n",
       "    .dataframe thead th {\n",
       "        text-align: right;\n",
       "    }\n",
       "</style>\n",
       "<table border=\"1\" class=\"dataframe\">\n",
       "  <thead>\n",
       "    <tr style=\"text-align: right;\">\n",
       "      <th>parameter</th>\n",
       "      <th>sex_id</th>\n",
       "      <th>age_group_id</th>\n",
       "      <th>draw</th>\n",
       "      <th>mean</th>\n",
       "      <th>standard_deviation</th>\n",
       "    </tr>\n",
       "  </thead>\n",
       "  <tbody>\n",
       "    <tr>\n",
       "      <th>0</th>\n",
       "      <td>1</td>\n",
       "      <td>10</td>\n",
       "      <td>draw_0</td>\n",
       "      <td>28.898947</td>\n",
       "      <td>9.591207</td>\n",
       "    </tr>\n",
       "    <tr>\n",
       "      <th>1</th>\n",
       "      <td>1</td>\n",
       "      <td>10</td>\n",
       "      <td>draw_1</td>\n",
       "      <td>29.912804</td>\n",
       "      <td>9.922810</td>\n",
       "    </tr>\n",
       "    <tr>\n",
       "      <th>2</th>\n",
       "      <td>1</td>\n",
       "      <td>10</td>\n",
       "      <td>draw_10</td>\n",
       "      <td>28.482101</td>\n",
       "      <td>5.695761</td>\n",
       "    </tr>\n",
       "    <tr>\n",
       "      <th>3</th>\n",
       "      <td>1</td>\n",
       "      <td>10</td>\n",
       "      <td>draw_100</td>\n",
       "      <td>27.270368</td>\n",
       "      <td>9.091147</td>\n",
       "    </tr>\n",
       "    <tr>\n",
       "      <th>4</th>\n",
       "      <td>1</td>\n",
       "      <td>10</td>\n",
       "      <td>draw_101</td>\n",
       "      <td>26.607156</td>\n",
       "      <td>3.859586</td>\n",
       "    </tr>\n",
       "  </tbody>\n",
       "</table>\n",
       "</div>"
      ],
      "text/plain": [
       "parameter  sex_id  age_group_id      draw       mean  standard_deviation\n",
       "0               1            10    draw_0  28.898947            9.591207\n",
       "1               1            10    draw_1  29.912804            9.922810\n",
       "2               1            10   draw_10  28.482101            5.695761\n",
       "3               1            10  draw_100  27.270368            9.091147\n",
       "4               1            10  draw_101  26.607156            3.859586"
      ]
     },
     "execution_count": 84,
     "metadata": {},
     "output_type": "execute_result"
    }
   ],
   "source": [
    "data = params.set_index(['sex_id','modelable_entity_id','age_group_id'])\n",
    "data = (data[[c for c in data.columns if 'draw' in c]].stack().reset_index()\n",
    "        .rename(columns={'level_3':'draw',0:'value'}))\n",
    "data['parameter'] = np.where(data.modelable_entity_id==2548, 'mean', 'standard_deviation')\n",
    "data = data.drop(columns='modelable_entity_id')\n",
    "data = (data.pivot_table(index=['sex_id','age_group_id','draw'], columns='parameter', values='value')\n",
    "        .reset_index())\n",
    "data.head()"
   ]
  },
  {
   "cell_type": "code",
   "execution_count": 91,
   "id": "66b9f330-f796-4126-bffd-39fc46aa8629",
   "metadata": {},
   "outputs": [],
   "source": [
    "new_data = pd.DataFrame()\n",
    "for i in range(3):\n",
    "    for j in range(data.age_group_id.nunique()):\n",
    "        age_group_id = data.age_group_id.unique()[j]\n",
    "        data_current = data.loc[(data.sex_id == i) & (data.age_group_id == age_group_id)]\n",
    "        data_current_reasonable = data_current.standard_deviation.loc[data_current.standard_deviation < 15]\n",
    "        for k in range(len(data_current)):\n",
    "            if data_current.standard_deviation.iloc[k] > 15: \n",
    "                y = random.sample(data_current_reasonable.tolist(),50)\n",
    "                avg = np.mean(y)\n",
    "                data_current.standard_deviation.iloc[k] = avg \n",
    "        new_data = pd.concat([new_data,data_current])"
   ]
  },
  {
   "cell_type": "code",
   "execution_count": 94,
   "id": "c93bb0e4-c4d7-4db9-a5c5-fbabd68a7846",
   "metadata": {},
   "outputs": [
    {
     "data": {
      "text/plain": [
       "Text(0.5, 1.0, 'Standard Deviation by Age Group')"
      ]
     },
     "execution_count": 94,
     "metadata": {},
     "output_type": "execute_result"
    },
    {
     "data": {
      "image/png": "[encoded data removed]",
      "text/plain": [
       "<Figure size 432x288 with 1 Axes>"
      ]
     },
     "metadata": {
      "needs_background": "light"
     },
     "output_type": "display_data"
    }
   ],
   "source": [
    "plt.scatter(new_data.age_group_id, new_data.standard_deviation, alpha=0.3)\n",
    "plt.xlabel(\"Age Group ID\")\n",
    "plt.ylabel(\"Standard Deviation\")\n",
    "plt.title(\"Standard Deviation by Age Group\") "
   ]
  },
  {
   "cell_type": "code",
   "execution_count": 59,
   "id": "487ae6a5-b5eb-4663-ab39-7810e3d6268f",
   "metadata": {},
   "outputs": [
    {
     "data": {
      "text/plain": [
       "Text(0, 0.5, 'Counts')"
      ]
     },
     "execution_count": 59,
     "metadata": {},
     "output_type": "execute_result"
    },
    {
     "data": {
      "image/png": "[encoded data removed]",
      "text/plain": [
       "<Figure size 432x288 with 1 Axes>"
      ]
     },
     "metadata": {
      "needs_background": "light"
     },
     "output_type": "display_data"
    }
   ],
   "source": [
    "plt.hist(new_data.standard_deviation, bins=20)\n",
    "plt.xlabel(\"Standard Deviation\")\n",
    "plt.ylabel(\"Counts\")"
   ]
  },
  {
   "cell_type": "code",
   "execution_count": 60,
   "id": "59cdd1ac-25e3-44cb-97f0-2c13269b4164",
   "metadata": {},
   "outputs": [],
   "source": [
    "def bmi_ensemble(x, mean, std):\n",
    "    result = (EnsembleDistribution({'betasr': [w_beta], 'exp': [w_exponential], 'gamma': [w_gamma], 'gumbel': [w_gumbel], \n",
    "                                 'invgamma': [w_inverse_gamma], 'invweibull': [w_invweibull], 'llogis': [w_log_logistic], \n",
    "                                 'lnorm': [w_log_normal], 'mgamma': [w_mirror_gamma], 'mgumbel': [w_mirror_gumbel], \n",
    "                                 'norm': [w_normal], 'weibull': [w_weibull]},\n",
    "                                mean=mean, \n",
    "                                sd=std).pdf(x))\n",
    "    return np.abs(result)"
   ]
  },
  {
   "cell_type": "markdown",
   "id": "e956a7aa-42cf-412d-9aea-2050dbf6e0e1",
   "metadata": {},
   "source": [
    "### Add in the RR's to the dataset"
   ]
  },
  {
   "cell_type": "markdown",
   "id": "e520cc3b-a3f8-440f-b4a7-b25ed22373ac",
   "metadata": {},
   "source": [
    "We start with a mean of 1.14 and a 95% confidence interval of 1.12 to 1.16. First, we will find the standard deviation. "
   ]
  },
  {
   "cell_type": "code",
   "execution_count": 95,
   "id": "f183e071-f930-451b-8642-c57e1438c57b",
   "metadata": {},
   "outputs": [],
   "source": [
    "def get_lognorm_from_quantiles(median: float, lower: float, upper: float,\n",
    "                               quantiles: Tuple[float, float] = (0.025, 0.975)) -> sp.lognorm:\n",
    "    mu = np.log(median)\n",
    "    stdnorm_quantiles = sp.norm.ppf(quantiles)\n",
    "    norm_quantiles = np.log([lower, upper])\n",
    "    sigma = (norm_quantiles[1] - norm_quantiles[0]) / (stdnorm_quantiles[1] - stdnorm_quantiles[0])\n",
    "    return sp.lognorm(s=sigma, scale=median)"
   ]
  },
  {
   "cell_type": "code",
   "execution_count": 96,
   "id": "d45cfd8d-7643-4608-abf3-cd560ee88970",
   "metadata": {},
   "outputs": [],
   "source": [
    "test2 = get_lognorm_from_quantiles(1.14,1.12,1.16).rvs(size=28000)"
   ]
  },
  {
   "cell_type": "code",
   "execution_count": 97,
   "id": "01f5d174-fa0f-4043-864f-afccc9f1102a",
   "metadata": {},
   "outputs": [
    {
     "data": {
      "text/html": [
       "<div>\n",
       "<style scoped>\n",
       "    .dataframe tbody tr th:only-of-type {\n",
       "        vertical-align: middle;\n",
       "    }\n",
       "\n",
       "    .dataframe tbody tr th {\n",
       "        vertical-align: top;\n",
       "    }\n",
       "\n",
       "    .dataframe thead th {\n",
       "        text-align: right;\n",
       "    }\n",
       "</style>\n",
       "<table border=\"1\" class=\"dataframe\">\n",
       "  <thead>\n",
       "    <tr style=\"text-align: right;\">\n",
       "      <th>parameter</th>\n",
       "      <th>sex_id</th>\n",
       "      <th>age_group_id</th>\n",
       "      <th>draw</th>\n",
       "      <th>mean</th>\n",
       "      <th>standard_deviation</th>\n",
       "      <th>RR</th>\n",
       "    </tr>\n",
       "  </thead>\n",
       "  <tbody>\n",
       "    <tr>\n",
       "      <th>0</th>\n",
       "      <td>1</td>\n",
       "      <td>10</td>\n",
       "      <td>draw_0</td>\n",
       "      <td>28.898947</td>\n",
       "      <td>9.591207</td>\n",
       "      <td>1.142958</td>\n",
       "    </tr>\n",
       "    <tr>\n",
       "      <th>1</th>\n",
       "      <td>1</td>\n",
       "      <td>10</td>\n",
       "      <td>draw_1</td>\n",
       "      <td>29.912804</td>\n",
       "      <td>9.922810</td>\n",
       "      <td>1.134750</td>\n",
       "    </tr>\n",
       "    <tr>\n",
       "      <th>2</th>\n",
       "      <td>1</td>\n",
       "      <td>10</td>\n",
       "      <td>draw_10</td>\n",
       "      <td>28.482101</td>\n",
       "      <td>5.695761</td>\n",
       "      <td>1.145739</td>\n",
       "    </tr>\n",
       "    <tr>\n",
       "      <th>3</th>\n",
       "      <td>1</td>\n",
       "      <td>10</td>\n",
       "      <td>draw_100</td>\n",
       "      <td>27.270368</td>\n",
       "      <td>9.091147</td>\n",
       "      <td>1.160294</td>\n",
       "    </tr>\n",
       "    <tr>\n",
       "      <th>4</th>\n",
       "      <td>1</td>\n",
       "      <td>10</td>\n",
       "      <td>draw_101</td>\n",
       "      <td>26.607156</td>\n",
       "      <td>3.859586</td>\n",
       "      <td>1.132009</td>\n",
       "    </tr>\n",
       "  </tbody>\n",
       "</table>\n",
       "</div>"
      ],
      "text/plain": [
       "parameter  sex_id  age_group_id      draw       mean  standard_deviation  \\\n",
       "0               1            10    draw_0  28.898947            9.591207   \n",
       "1               1            10    draw_1  29.912804            9.922810   \n",
       "2               1            10   draw_10  28.482101            5.695761   \n",
       "3               1            10  draw_100  27.270368            9.091147   \n",
       "4               1            10  draw_101  26.607156            3.859586   \n",
       "\n",
       "parameter        RR  \n",
       "0          1.142958  \n",
       "1          1.134750  \n",
       "2          1.145739  \n",
       "3          1.160294  \n",
       "4          1.132009  "
      ]
     },
     "execution_count": 97,
     "metadata": {},
     "output_type": "execute_result"
    }
   ],
   "source": [
    "new_data['RR'] = test2\n",
    "new_data.head()"
   ]
  },
  {
   "cell_type": "code",
   "execution_count": 98,
   "id": "2194da4b-5dcb-4d41-9690-78378980584b",
   "metadata": {},
   "outputs": [
    {
     "data": {
      "text/html": [
       "<div>\n",
       "<style scoped>\n",
       "    .dataframe tbody tr th:only-of-type {\n",
       "        vertical-align: middle;\n",
       "    }\n",
       "\n",
       "    .dataframe tbody tr th {\n",
       "        vertical-align: top;\n",
       "    }\n",
       "\n",
       "    .dataframe thead th {\n",
       "        text-align: right;\n",
       "    }\n",
       "</style>\n",
       "<table border=\"1\" class=\"dataframe\">\n",
       "  <thead>\n",
       "    <tr style=\"text-align: right;\">\n",
       "      <th></th>\n",
       "      <th>Unnamed: 0</th>\n",
       "      <th>age_start</th>\n",
       "      <th>sex</th>\n",
       "      <th>sbp_delta_1</th>\n",
       "      <th>MF_SBP_1</th>\n",
       "      <th>age_group_id</th>\n",
       "      <th>sex_id</th>\n",
       "    </tr>\n",
       "  </thead>\n",
       "  <tbody>\n",
       "    <tr>\n",
       "      <th>0</th>\n",
       "      <td>0</td>\n",
       "      <td>70</td>\n",
       "      <td>Male</td>\n",
       "      <td>1.630016</td>\n",
       "      <td>0.186288</td>\n",
       "      <td>19</td>\n",
       "      <td>1</td>\n",
       "    </tr>\n",
       "    <tr>\n",
       "      <th>1</th>\n",
       "      <td>1</td>\n",
       "      <td>75</td>\n",
       "      <td>Male</td>\n",
       "      <td>1.684865</td>\n",
       "      <td>0.192556</td>\n",
       "      <td>20</td>\n",
       "      <td>1</td>\n",
       "    </tr>\n",
       "    <tr>\n",
       "      <th>2</th>\n",
       "      <td>2</td>\n",
       "      <td>65</td>\n",
       "      <td>Male</td>\n",
       "      <td>1.625224</td>\n",
       "      <td>0.185740</td>\n",
       "      <td>18</td>\n",
       "      <td>1</td>\n",
       "    </tr>\n",
       "    <tr>\n",
       "      <th>3</th>\n",
       "      <td>3</td>\n",
       "      <td>55</td>\n",
       "      <td>Male</td>\n",
       "      <td>1.553343</td>\n",
       "      <td>0.177525</td>\n",
       "      <td>16</td>\n",
       "      <td>1</td>\n",
       "    </tr>\n",
       "    <tr>\n",
       "      <th>4</th>\n",
       "      <td>4</td>\n",
       "      <td>30</td>\n",
       "      <td>Male</td>\n",
       "      <td>1.445270</td>\n",
       "      <td>0.165174</td>\n",
       "      <td>11</td>\n",
       "      <td>1</td>\n",
       "    </tr>\n",
       "  </tbody>\n",
       "</table>\n",
       "</div>"
      ],
      "text/plain": [
       "   Unnamed: 0  age_start   sex  sbp_delta_1  MF_SBP_1  age_group_id  sex_id\n",
       "0           0         70  Male     1.630016  0.186288            19       1\n",
       "1           1         75  Male     1.684865  0.192556            20       1\n",
       "2           2         65  Male     1.625224  0.185740            18       1\n",
       "3           3         55  Male     1.553343  0.177525            16       1\n",
       "4           4         30  Male     1.445270  0.165174            11       1"
      ]
     },
     "execution_count": 98,
     "metadata": {},
     "output_type": "execute_result"
    }
   ],
   "source": [
    "MF = pd.read_csv('/ihme/homes/lutzes/heart_failure_MF.csv')\n",
    "MF['age_group_id'] = np.where(MF['age_start']==25,10,np.where(MF['age_start']==30,11,np.where(MF['age_start']==35,12,np.where(MF['age_start']==40,13,np.where(MF['age_start']==45,14,np.where(MF['age_start']==50,15,np.where(MF['age_start']==55,16,np.where(MF['age_start']==60,17,np.where(MF['age_start']==65,18,np.where(MF['age_start']==70,19,np.where(MF['age_start']==75,20,np.where(MF['age_start']==80,30,np.where(MF['age_start']==85,31,np.where(MF['age_start']==90,32,0))))))))))))))\n",
    "MF['sex_id'] = np.where(MF['sex']=='Male',1,2)\n",
    "MF.head()"
   ]
  },
  {
   "cell_type": "code",
   "execution_count": 99,
   "id": "d6b3bccd-0ae5-486f-8303-b6b8ba2e63b3",
   "metadata": {},
   "outputs": [
    {
     "data": {
      "text/html": [
       "<div>\n",
       "<style scoped>\n",
       "    .dataframe tbody tr th:only-of-type {\n",
       "        vertical-align: middle;\n",
       "    }\n",
       "\n",
       "    .dataframe tbody tr th {\n",
       "        vertical-align: top;\n",
       "    }\n",
       "\n",
       "    .dataframe thead th {\n",
       "        text-align: right;\n",
       "    }\n",
       "</style>\n",
       "<table border=\"1\" class=\"dataframe\">\n",
       "  <thead>\n",
       "    <tr style=\"text-align: right;\">\n",
       "      <th></th>\n",
       "      <th>sex_id</th>\n",
       "      <th>age_group_id</th>\n",
       "      <th>draw</th>\n",
       "      <th>mean</th>\n",
       "      <th>standard_deviation</th>\n",
       "      <th>RR</th>\n",
       "      <th>MF_SBP_1</th>\n",
       "    </tr>\n",
       "  </thead>\n",
       "  <tbody>\n",
       "    <tr>\n",
       "      <th>0</th>\n",
       "      <td>1</td>\n",
       "      <td>10</td>\n",
       "      <td>draw_0</td>\n",
       "      <td>28.898947</td>\n",
       "      <td>9.591207</td>\n",
       "      <td>1.142958</td>\n",
       "      <td>0.20049</td>\n",
       "    </tr>\n",
       "    <tr>\n",
       "      <th>1</th>\n",
       "      <td>1</td>\n",
       "      <td>10</td>\n",
       "      <td>draw_1</td>\n",
       "      <td>29.912804</td>\n",
       "      <td>9.922810</td>\n",
       "      <td>1.134750</td>\n",
       "      <td>0.20049</td>\n",
       "    </tr>\n",
       "    <tr>\n",
       "      <th>2</th>\n",
       "      <td>1</td>\n",
       "      <td>10</td>\n",
       "      <td>draw_10</td>\n",
       "      <td>28.482101</td>\n",
       "      <td>5.695761</td>\n",
       "      <td>1.145739</td>\n",
       "      <td>0.20049</td>\n",
       "    </tr>\n",
       "    <tr>\n",
       "      <th>3</th>\n",
       "      <td>1</td>\n",
       "      <td>10</td>\n",
       "      <td>draw_100</td>\n",
       "      <td>27.270368</td>\n",
       "      <td>9.091147</td>\n",
       "      <td>1.160294</td>\n",
       "      <td>0.20049</td>\n",
       "    </tr>\n",
       "    <tr>\n",
       "      <th>4</th>\n",
       "      <td>1</td>\n",
       "      <td>10</td>\n",
       "      <td>draw_101</td>\n",
       "      <td>26.607156</td>\n",
       "      <td>3.859586</td>\n",
       "      <td>1.132009</td>\n",
       "      <td>0.20049</td>\n",
       "    </tr>\n",
       "  </tbody>\n",
       "</table>\n",
       "</div>"
      ],
      "text/plain": [
       "   sex_id  age_group_id      draw       mean  standard_deviation        RR  \\\n",
       "0       1            10    draw_0  28.898947            9.591207  1.142958   \n",
       "1       1            10    draw_1  29.912804            9.922810  1.134750   \n",
       "2       1            10   draw_10  28.482101            5.695761  1.145739   \n",
       "3       1            10  draw_100  27.270368            9.091147  1.160294   \n",
       "4       1            10  draw_101  26.607156            3.859586  1.132009   \n",
       "\n",
       "   MF_SBP_1  \n",
       "0   0.20049  \n",
       "1   0.20049  \n",
       "2   0.20049  \n",
       "3   0.20049  \n",
       "4   0.20049  "
      ]
     },
     "execution_count": 99,
     "metadata": {},
     "output_type": "execute_result"
    }
   ],
   "source": [
    "data1 = new_data.merge(MF[['MF_SBP_1','age_group_id','sex_id']], on=['age_group_id','sex_id'])\n",
    "data1.head()"
   ]
  },
  {
   "cell_type": "code",
   "execution_count": 100,
   "id": "e6dfebb3-59cd-47ea-9bbe-cf843783f063",
   "metadata": {},
   "outputs": [
    {
     "data": {
      "text/html": [
       "<div>\n",
       "<style scoped>\n",
       "    .dataframe tbody tr th:only-of-type {\n",
       "        vertical-align: middle;\n",
       "    }\n",
       "\n",
       "    .dataframe tbody tr th {\n",
       "        vertical-align: top;\n",
       "    }\n",
       "\n",
       "    .dataframe thead th {\n",
       "        text-align: right;\n",
       "    }\n",
       "</style>\n",
       "<table border=\"1\" class=\"dataframe\">\n",
       "  <thead>\n",
       "    <tr style=\"text-align: right;\">\n",
       "      <th></th>\n",
       "      <th>sex_id</th>\n",
       "      <th>age_group_id</th>\n",
       "      <th>draw</th>\n",
       "      <th>mean</th>\n",
       "      <th>standard_deviation</th>\n",
       "      <th>RR</th>\n",
       "      <th>MF_SBP_1</th>\n",
       "      <th>RR_adj</th>\n",
       "    </tr>\n",
       "  </thead>\n",
       "  <tbody>\n",
       "    <tr>\n",
       "      <th>0</th>\n",
       "      <td>1</td>\n",
       "      <td>10</td>\n",
       "      <td>draw_0</td>\n",
       "      <td>28.898947</td>\n",
       "      <td>9.591207</td>\n",
       "      <td>1.142958</td>\n",
       "      <td>0.20049</td>\n",
       "      <td>1.114297</td>\n",
       "    </tr>\n",
       "    <tr>\n",
       "      <th>1</th>\n",
       "      <td>1</td>\n",
       "      <td>10</td>\n",
       "      <td>draw_1</td>\n",
       "      <td>29.912804</td>\n",
       "      <td>9.922810</td>\n",
       "      <td>1.134750</td>\n",
       "      <td>0.20049</td>\n",
       "      <td>1.107734</td>\n",
       "    </tr>\n",
       "    <tr>\n",
       "      <th>2</th>\n",
       "      <td>1</td>\n",
       "      <td>10</td>\n",
       "      <td>draw_10</td>\n",
       "      <td>28.482101</td>\n",
       "      <td>5.695761</td>\n",
       "      <td>1.145739</td>\n",
       "      <td>0.20049</td>\n",
       "      <td>1.116520</td>\n",
       "    </tr>\n",
       "    <tr>\n",
       "      <th>3</th>\n",
       "      <td>1</td>\n",
       "      <td>10</td>\n",
       "      <td>draw_100</td>\n",
       "      <td>27.270368</td>\n",
       "      <td>9.091147</td>\n",
       "      <td>1.160294</td>\n",
       "      <td>0.20049</td>\n",
       "      <td>1.128157</td>\n",
       "    </tr>\n",
       "    <tr>\n",
       "      <th>4</th>\n",
       "      <td>1</td>\n",
       "      <td>10</td>\n",
       "      <td>draw_101</td>\n",
       "      <td>26.607156</td>\n",
       "      <td>3.859586</td>\n",
       "      <td>1.132009</td>\n",
       "      <td>0.20049</td>\n",
       "      <td>1.105542</td>\n",
       "    </tr>\n",
       "  </tbody>\n",
       "</table>\n",
       "</div>"
      ],
      "text/plain": [
       "   sex_id  age_group_id      draw       mean  standard_deviation        RR  \\\n",
       "0       1            10    draw_0  28.898947            9.591207  1.142958   \n",
       "1       1            10    draw_1  29.912804            9.922810  1.134750   \n",
       "2       1            10   draw_10  28.482101            5.695761  1.145739   \n",
       "3       1            10  draw_100  27.270368            9.091147  1.160294   \n",
       "4       1            10  draw_101  26.607156            3.859586  1.132009   \n",
       "\n",
       "   MF_SBP_1    RR_adj  \n",
       "0   0.20049  1.114297  \n",
       "1   0.20049  1.107734  \n",
       "2   0.20049  1.116520  \n",
       "3   0.20049  1.128157  \n",
       "4   0.20049  1.105542  "
      ]
     },
     "execution_count": 100,
     "metadata": {},
     "output_type": "execute_result"
    }
   ],
   "source": [
    "data1['RR_adj'] = (1 - data1['MF_SBP_1']) * (data1['RR'] - 1) + 1\n",
    "data1.head()"
   ]
  },
  {
   "cell_type": "markdown",
   "id": "bc66ff2e-b814-4d1f-8b00-77c4f399c5d3",
   "metadata": {},
   "source": [
    "### Add the TMREL based on a Uniform Distribution \n",
    "\n",
    "Note that these values should match what is in the simulation at the draw level. However, we don't have an output for the draw level from the sim today. So I am generating some values and then will coordinate with Steve to ensure we are aligned. "
   ]
  },
  {
   "cell_type": "code",
   "execution_count": 101,
   "id": "539a6fb4-6a32-488a-9fba-254d8b23089c",
   "metadata": {},
   "outputs": [
    {
     "data": {
      "text/plain": [
       "array([23.48234593, 21.43069667, 21.13425727, ..., 22.69692061,\n",
       "       23.79778933, 20.02823239])"
      ]
     },
     "execution_count": 101,
     "metadata": {},
     "output_type": "execute_result"
    }
   ],
   "source": [
    "np.random.seed(123)\n",
    "test3 = np.random.uniform(20,25,28000)\n",
    "test3"
   ]
  },
  {
   "cell_type": "code",
   "execution_count": 102,
   "id": "1f53bf8e-4be2-4052-9108-b7bc937d0f04",
   "metadata": {},
   "outputs": [
    {
     "data": {
      "text/html": [
       "<div>\n",
       "<style scoped>\n",
       "    .dataframe tbody tr th:only-of-type {\n",
       "        vertical-align: middle;\n",
       "    }\n",
       "\n",
       "    .dataframe tbody tr th {\n",
       "        vertical-align: top;\n",
       "    }\n",
       "\n",
       "    .dataframe thead th {\n",
       "        text-align: right;\n",
       "    }\n",
       "</style>\n",
       "<table border=\"1\" class=\"dataframe\">\n",
       "  <thead>\n",
       "    <tr style=\"text-align: right;\">\n",
       "      <th></th>\n",
       "      <th>sex_id</th>\n",
       "      <th>age_group_id</th>\n",
       "      <th>draw</th>\n",
       "      <th>mean</th>\n",
       "      <th>standard_deviation</th>\n",
       "      <th>RR</th>\n",
       "      <th>MF_SBP_1</th>\n",
       "      <th>RR_adj</th>\n",
       "      <th>TMREL</th>\n",
       "    </tr>\n",
       "  </thead>\n",
       "  <tbody>\n",
       "    <tr>\n",
       "      <th>0</th>\n",
       "      <td>1</td>\n",
       "      <td>10</td>\n",
       "      <td>draw_0</td>\n",
       "      <td>28.898947</td>\n",
       "      <td>9.591207</td>\n",
       "      <td>1.142958</td>\n",
       "      <td>0.20049</td>\n",
       "      <td>1.114297</td>\n",
       "      <td>23.482346</td>\n",
       "    </tr>\n",
       "    <tr>\n",
       "      <th>1</th>\n",
       "      <td>1</td>\n",
       "      <td>10</td>\n",
       "      <td>draw_1</td>\n",
       "      <td>29.912804</td>\n",
       "      <td>9.922810</td>\n",
       "      <td>1.134750</td>\n",
       "      <td>0.20049</td>\n",
       "      <td>1.107734</td>\n",
       "      <td>21.430697</td>\n",
       "    </tr>\n",
       "    <tr>\n",
       "      <th>2</th>\n",
       "      <td>1</td>\n",
       "      <td>10</td>\n",
       "      <td>draw_10</td>\n",
       "      <td>28.482101</td>\n",
       "      <td>5.695761</td>\n",
       "      <td>1.145739</td>\n",
       "      <td>0.20049</td>\n",
       "      <td>1.116520</td>\n",
       "      <td>21.134257</td>\n",
       "    </tr>\n",
       "    <tr>\n",
       "      <th>3</th>\n",
       "      <td>1</td>\n",
       "      <td>10</td>\n",
       "      <td>draw_100</td>\n",
       "      <td>27.270368</td>\n",
       "      <td>9.091147</td>\n",
       "      <td>1.160294</td>\n",
       "      <td>0.20049</td>\n",
       "      <td>1.128157</td>\n",
       "      <td>22.756574</td>\n",
       "    </tr>\n",
       "    <tr>\n",
       "      <th>4</th>\n",
       "      <td>1</td>\n",
       "      <td>10</td>\n",
       "      <td>draw_101</td>\n",
       "      <td>26.607156</td>\n",
       "      <td>3.859586</td>\n",
       "      <td>1.132009</td>\n",
       "      <td>0.20049</td>\n",
       "      <td>1.105542</td>\n",
       "      <td>23.597345</td>\n",
       "    </tr>\n",
       "  </tbody>\n",
       "</table>\n",
       "</div>"
      ],
      "text/plain": [
       "   sex_id  age_group_id      draw       mean  standard_deviation        RR  \\\n",
       "0       1            10    draw_0  28.898947            9.591207  1.142958   \n",
       "1       1            10    draw_1  29.912804            9.922810  1.134750   \n",
       "2       1            10   draw_10  28.482101            5.695761  1.145739   \n",
       "3       1            10  draw_100  27.270368            9.091147  1.160294   \n",
       "4       1            10  draw_101  26.607156            3.859586  1.132009   \n",
       "\n",
       "   MF_SBP_1    RR_adj      TMREL  \n",
       "0   0.20049  1.114297  23.482346  \n",
       "1   0.20049  1.107734  21.430697  \n",
       "2   0.20049  1.116520  21.134257  \n",
       "3   0.20049  1.128157  22.756574  \n",
       "4   0.20049  1.105542  23.597345  "
      ]
     },
     "execution_count": 102,
     "metadata": {},
     "output_type": "execute_result"
    }
   ],
   "source": [
    "data1['TMREL'] = test3\n",
    "data1.head()"
   ]
  },
  {
   "cell_type": "code",
   "execution_count": 106,
   "id": "c7e9519a-4f3d-4dfd-8846-e1a9a3938059",
   "metadata": {},
   "outputs": [
    {
     "data": {
      "text/plain": [
       "[Text(0.5, 0, 'Standard Deviation'), Text(0, 0.5, 'Counts')]"
      ]
     },
     "execution_count": 106,
     "metadata": {},
     "output_type": "execute_result"
    },
    {
     "data": {
      "image/png": "[encoded data removed]",
      "text/plain": [
       "<Figure size 720x504 with 1 Axes>"
      ]
     },
     "metadata": {
      "needs_background": "light"
     },
     "output_type": "display_data"
    }
   ],
   "source": [
    "import seaborn as sns\n",
    "fig, ax = plt.subplots(figsize=(10, 7))\n",
    "sns.histplot(data=data1, x='standard_deviation', hue='sex_id', stat='count', edgecolor=None)\n",
    "ax.set(xlabel='Standard Deviation', ylabel='Counts')"
   ]
  },
  {
   "cell_type": "markdown",
   "id": "21a42e42-4269-4f56-b83c-12998ebe6c81",
   "metadata": {},
   "source": [
    "Just doing a check that everything is looking as it should for both sexes"
   ]
  },
  {
   "cell_type": "markdown",
   "id": "1a50d2eb-1a83-4fec-aeb1-0717e8a4328b",
   "metadata": {},
   "source": [
    "### Testing for an appropriate upper/lower/epsilon\n",
    "\n",
    "In order to test for an appropriate error bound for the equation, I will make the function for a single row of data. This will allow it to run faster and so I can test epsilon values more easily. \n",
    "\n",
    "Since the standard deviations vary so greatly in the dataset, I am going to split the data into parts and have different spreads for each section. In the above histogram, it seems there are 3 main peaks in standard deviation values. I will reflect this with having the sets be: std>8, 8>std>5 and std<5."
   ]
  },
  {
   "cell_type": "code",
   "execution_count": 18,
   "id": "8054a9e0-68b6-4d1b-b1f3-f206ae4ebaae",
   "metadata": {},
   "outputs": [],
   "source": [
    "def function3():\n",
    "    return integrate.quad(lambda x: (bmi_ensemble(x, data1['mean'].iloc[0], 8)                                     \n",
    "                                          *data1['RR_adj'].iloc[0]**((data1['TMREL'].iloc[0] - x + abs(data1['TMREL'].iloc[0] - x))/2)),\n",
    "                          lower,upper,epsabs=0.0000001)"
   ]
  },
  {
   "cell_type": "code",
   "execution_count": 19,
   "id": "44c82f08-0330-47a1-b163-019ee3c846b1",
   "metadata": {},
   "outputs": [
    {
     "data": {
      "text/plain": [
       "(1.0971673159602984, 7.328204976175812e-08)"
      ]
     },
     "execution_count": 19,
     "metadata": {},
     "output_type": "execute_result"
    }
   ],
   "source": [
    "lower = 13\n",
    "upper = 60\n",
    "function3()"
   ]
  },
  {
   "cell_type": "markdown",
   "id": "ab0c5b87-404e-487d-b163-7489a8e4bf6e",
   "metadata": {},
   "source": [
    "After testing, I selected the bounds of upper=60, lower=13, and epsilon=0.00001"
   ]
  },
  {
   "cell_type": "code",
   "execution_count": 173,
   "id": "e56248dc-6759-4575-a704-38c821a283ce",
   "metadata": {},
   "outputs": [],
   "source": [
    "def function4():\n",
    "    return integrate.quad(lambda x: (bmi_ensemble(x, data1['mean'].iloc[0], 5)                                     \n",
    "                                          *data1['RR_adj'].iloc[0]**((data1['TMREL'].iloc[0] - x + abs(data1['TMREL'].iloc[0] - x))/2)),\n",
    "                          lower,upper,epsabs=0.001)"
   ]
  },
  {
   "cell_type": "code",
   "execution_count": 169,
   "id": "43507e82-ddec-4452-9032-c55b9d6da91e",
   "metadata": {},
   "outputs": [
    {
     "data": {
      "text/plain": [
       "(1.0126038868750735, 0.0003117275397416894)"
      ]
     },
     "execution_count": 169,
     "metadata": {},
     "output_type": "execute_result"
    }
   ],
   "source": [
    "lower = 17\n",
    "upper = 45\n",
    "function4()"
   ]
  },
  {
   "cell_type": "markdown",
   "id": "6d2534c5-0ba5-4185-b64e-f724add5f1b6",
   "metadata": {},
   "source": [
    "For the middle group, I experimented with values. My goal is also to ensure the burden is greater than 1. After checking multiple options, I selected upper = 45, lower = 17, and epsilon = 0.001."
   ]
  },
  {
   "cell_type": "code",
   "execution_count": 174,
   "id": "1e2c20e1-6eb2-4c0a-b4b0-820ecacb2700",
   "metadata": {},
   "outputs": [],
   "source": [
    "def function5():\n",
    "    return integrate.quad(lambda x: (bmi_ensemble(x, data1['mean'].iloc[11212], 3)                                     \n",
    "                                          *data1['RR_adj'].iloc[11212]**((data1['TMREL'].iloc[11212] - x + abs(data1['TMREL'].iloc[11212] - x))/2)),\n",
    "                          lower,upper,epsabs=0.001)"
   ]
  },
  {
   "cell_type": "code",
   "execution_count": 172,
   "id": "34be7923-76f4-4ad9-9441-9467346fffe9",
   "metadata": {},
   "outputs": [
    {
     "data": {
      "text/plain": [
       "(1.0164377682169, 0.00041886356969976155)"
      ]
     },
     "execution_count": 172,
     "metadata": {},
     "output_type": "execute_result"
    }
   ],
   "source": [
    "lower = 19\n",
    "upper = 37\n",
    "function5()"
   ]
  },
  {
   "cell_type": "markdown",
   "id": "22bb78e2-873f-4857-b2c2-e866d818736a",
   "metadata": {},
   "source": [
    "I hand selected a row I thought might be problematic and set the std to 3, which is just below the lowest std I have seen. So with the extreme case of row 11212. \n",
    "\n",
    "After testing, the best set to run but have a burden over 1 is upper = 37, lower = 19 and epsabs = 0.001. "
   ]
  },
  {
   "cell_type": "markdown",
   "id": "60a49140-57fd-42a0-848a-cfa324e1cd2a",
   "metadata": {},
   "source": [
    "### Running the actual function for PAFs\n",
    "\n",
    "I took the list of draws used from the current model V&V to make this faster. "
   ]
  },
  {
   "cell_type": "code",
   "execution_count": 176,
   "id": "2e82f2bf-46ad-4741-b817-993674347e4d",
   "metadata": {},
   "outputs": [],
   "source": [
    "draws_list = ([ 29, 232, 357, 394, 602, 629, 650, 680, 829, 946])"
   ]
  },
  {
   "cell_type": "markdown",
   "id": "303d1118-cfec-441e-9c99-1a27eb2108a7",
   "metadata": {},
   "source": [
    "When I actually ran the function with my selected outputs from above, it still would not converge for certain age/sex/draw combinations. This does make sense since I only tested on one age/sex/draw and there might be variation. I slowly increased the lower bound until I found a value that would run. "
   ]
  },
  {
   "cell_type": "code",
   "execution_count": 177,
   "id": "ba71aadb-3afc-4526-b5d0-f03644b5c2fc",
   "metadata": {},
   "outputs": [
    {
     "name": "stdout",
     "output_type": "stream",
     "text": [
      "calculating draw number 29\n"
     ]
    },
    {
     "name": "stderr",
     "output_type": "stream",
     "text": [
      "<timed exec>:15: FutureWarning: The frame.append method is deprecated and will be removed from pandas in a future version. Use pandas.concat instead.\n",
      "<timed exec>:18: IntegrationWarning: The occurrence of roundoff error is detected, which prevents \n",
      "  the requested tolerance from being achieved.  The error may be \n",
      "  underestimated.\n",
      "<timed exec>:25: FutureWarning: The frame.append method is deprecated and will be removed from pandas in a future version. Use pandas.concat instead.\n",
      "<timed exec>:28: IntegrationWarning: The occurrence of roundoff error is detected, which prevents \n",
      "  the requested tolerance from being achieved.  The error may be \n",
      "  underestimated.\n"
     ]
    },
    {
     "ename": "NameError",
     "evalue": "name 'burden2' is not defined",
     "output_type": "error",
     "traceback": [
      "\u001b[0;31m---------------------------------------------------------------------------\u001b[0m",
      "\u001b[0;31mNameError\u001b[0m                                 Traceback (most recent call last)",
      "File \u001b[0;32m<timed exec>:32\u001b[0m, in \u001b[0;36m<module>\u001b[0;34m\u001b[0m\n",
      "\u001b[0;31mNameError\u001b[0m: name 'burden2' is not defined"
     ]
    }
   ],
   "source": [
    "%%time\n",
    "data_final_hf = pd.DataFrame()\n",
    "for draw in [i for i in list(draws_list)]:\n",
    "    print(f'calculating draw number {draw}')\n",
    "    burden = []\n",
    "    burden1 = []\n",
    "    burden2 = []\n",
    "    df = data1.loc[(data1.draw==f'draw_{draw}') & (data1.standard_deviation > 8)]\n",
    "    for i in list(range(0,len(df))):\n",
    "        denom = integrate.quad(lambda x: (bmi_ensemble(x, df['mean'].iloc[i], df['standard_deviation'].iloc[i])                                     \n",
    "                                          * df['RR_adj'].iloc[i]**((df['TMREL'].iloc[i] - x + abs(df['TMREL'].iloc[i] - x))/2)),\n",
    "                                                      13, 60,\n",
    "                              epsabs=0.00001)[0]\n",
    "        burden.append(denom)\n",
    "    df['burden'] = burden\n",
    "    df['paf'] = (df['burden'] - 1) / df['burden']\n",
    "    data_final_hf = data_final_hf.append(df)\n",
    "    df1 = data1.loc[(data1.draw==f'draw_{draw}') & (data1.standard_deviation < 8) & (data1.standard_deviation > 5)]\n",
    "    for i in list(range(0,len(df1))):\n",
    "        denom1 = integrate.quad(lambda x: (bmi_ensemble(x, df1['mean'].iloc[i], df1['standard_deviation'].iloc[i])                                     \n",
    "                                          * df1['RR_adj'].iloc[i]**((df1['TMREL'].iloc[i] - x + abs(df1['TMREL'].iloc[i] - x))/2)),\n",
    "                                                      17, 45,\n",
    "                              epsabs=0.001)[0]\n",
    "        burden1.append(denom1)\n",
    "    df1['burden'] = burden1\n",
    "    df1['paf'] = (df1['burden'] - 1) / df1['burden']\n",
    "    data_final_hf = data_final_hf.append(df1)\n",
    "    df2 = data1.loc[(data1.draw==f'draw_{draw}') & (data1.standard_deviation < 5)]\n",
    "    for i in list(range(0,len(df2))):\n",
    "        denom2 = integrate.quad(lambda x: (bmi_ensemble(x, df2['mean'].iloc[i], df2['standard_deviation'].iloc[i])                                     \n",
    "                                          * df2['RR_adj'].iloc[i]**((df2['TMREL'].iloc[i] - x + abs(df2['TMREL'].iloc[i] - x))/2)),\n",
    "                                                      17, 37,\n",
    "                              epsabs=0.001)[0]\n",
    "        burden2.append(denom2)\n",
    "    df2['burden'] = burden2\n",
    "    df2['paf'] = (df2['burden'] - 1) / df2['burden']\n",
    "    data_final_hf = data_final_hf.append(df2)\n",
    "    print(f'Draw {draw} completed')"
   ]
  },
  {
   "cell_type": "code",
   "execution_count": 24,
   "id": "4052b72e-a960-4411-bed9-7c95a051494b",
   "metadata": {},
   "outputs": [
    {
     "data": {
      "text/html": [
       "<div>\n",
       "<style scoped>\n",
       "    .dataframe tbody tr th:only-of-type {\n",
       "        vertical-align: middle;\n",
       "    }\n",
       "\n",
       "    .dataframe tbody tr th {\n",
       "        vertical-align: top;\n",
       "    }\n",
       "\n",
       "    .dataframe thead th {\n",
       "        text-align: right;\n",
       "    }\n",
       "</style>\n",
       "<table border=\"1\" class=\"dataframe\">\n",
       "  <thead>\n",
       "    <tr style=\"text-align: right;\">\n",
       "      <th></th>\n",
       "      <th>sex_id</th>\n",
       "      <th>age_group_id</th>\n",
       "      <th>draw</th>\n",
       "      <th>mean</th>\n",
       "      <th>standard_deviation</th>\n",
       "      <th>RR</th>\n",
       "      <th>MF_SBP_1</th>\n",
       "      <th>RR_adj</th>\n",
       "      <th>TMREL</th>\n",
       "      <th>burden</th>\n",
       "      <th>paf</th>\n",
       "    </tr>\n",
       "  </thead>\n",
       "  <tbody>\n",
       "    <tr>\n",
       "      <th>212</th>\n",
       "      <td>1</td>\n",
       "      <td>10</td>\n",
       "      <td>draw_29</td>\n",
       "      <td>28.200823</td>\n",
       "      <td>9.400274</td>\n",
       "      <td>1.136494</td>\n",
       "      <td>0.200490</td>\n",
       "      <td>1.109128</td>\n",
       "      <td>22.129338</td>\n",
       "      <td>1.081016</td>\n",
       "      <td>0.074944</td>\n",
       "    </tr>\n",
       "    <tr>\n",
       "      <th>7212</th>\n",
       "      <td>1</td>\n",
       "      <td>17</td>\n",
       "      <td>draw_29</td>\n",
       "      <td>29.393362</td>\n",
       "      <td>9.799361</td>\n",
       "      <td>1.134141</td>\n",
       "      <td>0.179977</td>\n",
       "      <td>1.109999</td>\n",
       "      <td>20.089635</td>\n",
       "      <td>1.015892</td>\n",
       "      <td>0.015643</td>\n",
       "    </tr>\n",
       "    <tr>\n",
       "      <th>14212</th>\n",
       "      <td>2</td>\n",
       "      <td>10</td>\n",
       "      <td>draw_29</td>\n",
       "      <td>28.630906</td>\n",
       "      <td>9.542931</td>\n",
       "      <td>1.153998</td>\n",
       "      <td>0.200490</td>\n",
       "      <td>1.123123</td>\n",
       "      <td>24.309632</td>\n",
       "      <td>1.203342</td>\n",
       "      <td>0.168981</td>\n",
       "    </tr>\n",
       "    <tr>\n",
       "      <th>15212</th>\n",
       "      <td>2</td>\n",
       "      <td>11</td>\n",
       "      <td>draw_29</td>\n",
       "      <td>29.263606</td>\n",
       "      <td>9.754838</td>\n",
       "      <td>1.140963</td>\n",
       "      <td>0.165174</td>\n",
       "      <td>1.117680</td>\n",
       "      <td>24.970110</td>\n",
       "      <td>1.209624</td>\n",
       "      <td>0.173297</td>\n",
       "    </tr>\n",
       "    <tr>\n",
       "      <th>16212</th>\n",
       "      <td>2</td>\n",
       "      <td>12</td>\n",
       "      <td>draw_29</td>\n",
       "      <td>29.461670</td>\n",
       "      <td>9.820557</td>\n",
       "      <td>1.142054</td>\n",
       "      <td>0.165101</td>\n",
       "      <td>1.118601</td>\n",
       "      <td>23.690466</td>\n",
       "      <td>1.134211</td>\n",
       "      <td>0.118330</td>\n",
       "    </tr>\n",
       "  </tbody>\n",
       "</table>\n",
       "</div>"
      ],
      "text/plain": [
       "       sex_id  age_group_id     draw       mean  standard_deviation        RR  \\\n",
       "212         1            10  draw_29  28.200823            9.400274  1.136494   \n",
       "7212        1            17  draw_29  29.393362            9.799361  1.134141   \n",
       "14212       2            10  draw_29  28.630906            9.542931  1.153998   \n",
       "15212       2            11  draw_29  29.263606            9.754838  1.140963   \n",
       "16212       2            12  draw_29  29.461670            9.820557  1.142054   \n",
       "\n",
       "       MF_SBP_1    RR_adj      TMREL    burden       paf  \n",
       "212    0.200490  1.109128  22.129338  1.081016  0.074944  \n",
       "7212   0.179977  1.109999  20.089635  1.015892  0.015643  \n",
       "14212  0.200490  1.123123  24.309632  1.203342  0.168981  \n",
       "15212  0.165174  1.117680  24.970110  1.209624  0.173297  \n",
       "16212  0.165101  1.118601  23.690466  1.134211  0.118330  "
      ]
     },
     "execution_count": 24,
     "metadata": {},
     "output_type": "execute_result"
    }
   ],
   "source": [
    "data_final_hf.head()"
   ]
  },
  {
   "cell_type": "code",
   "execution_count": 25,
   "id": "6539f16d-7d47-46b9-a572-977ab25b8bfc",
   "metadata": {},
   "outputs": [],
   "source": [
    "data_final_hf.to_csv('/ihme/homes/lutzes/PAFs_BMI_HF_2.csv')"
   ]
  },
  {
   "cell_type": "markdown",
   "id": "7c9a3830-aed0-472f-b0c8-e730c149ef0f",
   "metadata": {},
   "source": [
    "### BMI -> Ischemic Heart Disease"
   ]
  },
  {
   "cell_type": "code",
   "execution_count": 26,
   "id": "f0878dfd-2f99-498f-9c8b-a1a30ebaebf4",
   "metadata": {},
   "outputs": [],
   "source": [
    "data_ihd = data[['sex_id','age_group_id','draw','mean','standard_deviation']]"
   ]
  },
  {
   "cell_type": "code",
   "execution_count": 27,
   "id": "7c6e9eee-88a3-4126-8580-5e5e33c2f626",
   "metadata": {},
   "outputs": [
    {
     "name": "stderr",
     "output_type": "stream",
     "text": [
      "/ihme/homes/lutzes/.conda/envs/vivarium_nih_us_cvd/lib/python3.8/site-packages/get_draws/transforms/version_transforms.py:33: PerformanceWarning: DataFrame is highly fragmented.  This is usually the result of calling `frame.insert` many times, which has poor performance.  Consider joining all columns at once using pd.concat(axis=1) instead. To get a de-fragmented frame, use `newframe = frame.copy()`\n",
      "  df[version_id_type_name] = version_id\n"
     ]
    }
   ],
   "source": [
    "ihd_rrs = get_draws(gbd_id_type='rei_id', \n",
    "                    gbd_id=370, \n",
    "                    source='rr', \n",
    "                    year_id=2019, \n",
    "                    gbd_round_id=6, \n",
    "                    status='best', \n",
    "                    decomp_step='step4')\n",
    "ihd_rrs = ihd_rrs.loc[ihd_rrs.cause_id==493]"
   ]
  },
  {
   "cell_type": "code",
   "execution_count": 28,
   "id": "5332c00c-d6b6-4da4-a754-83184fd2f1ac",
   "metadata": {},
   "outputs": [
    {
     "data": {
      "text/html": [
       "<div>\n",
       "<style scoped>\n",
       "    .dataframe tbody tr th:only-of-type {\n",
       "        vertical-align: middle;\n",
       "    }\n",
       "\n",
       "    .dataframe tbody tr th {\n",
       "        vertical-align: top;\n",
       "    }\n",
       "\n",
       "    .dataframe thead th {\n",
       "        text-align: right;\n",
       "    }\n",
       "</style>\n",
       "<table border=\"1\" class=\"dataframe\">\n",
       "  <thead>\n",
       "    <tr style=\"text-align: right;\">\n",
       "      <th>parameter</th>\n",
       "      <th>sex_id</th>\n",
       "      <th>age_group_id</th>\n",
       "      <th>draw</th>\n",
       "      <th>RR</th>\n",
       "    </tr>\n",
       "  </thead>\n",
       "  <tbody>\n",
       "    <tr>\n",
       "      <th>0</th>\n",
       "      <td>1</td>\n",
       "      <td>9</td>\n",
       "      <td>draw_0</td>\n",
       "      <td>3.510608</td>\n",
       "    </tr>\n",
       "    <tr>\n",
       "      <th>1</th>\n",
       "      <td>1</td>\n",
       "      <td>9</td>\n",
       "      <td>draw_1</td>\n",
       "      <td>1.740403</td>\n",
       "    </tr>\n",
       "    <tr>\n",
       "      <th>2</th>\n",
       "      <td>1</td>\n",
       "      <td>9</td>\n",
       "      <td>draw_10</td>\n",
       "      <td>1.525438</td>\n",
       "    </tr>\n",
       "    <tr>\n",
       "      <th>3</th>\n",
       "      <td>1</td>\n",
       "      <td>9</td>\n",
       "      <td>draw_100</td>\n",
       "      <td>2.891299</td>\n",
       "    </tr>\n",
       "    <tr>\n",
       "      <th>4</th>\n",
       "      <td>1</td>\n",
       "      <td>9</td>\n",
       "      <td>draw_101</td>\n",
       "      <td>2.206858</td>\n",
       "    </tr>\n",
       "  </tbody>\n",
       "</table>\n",
       "</div>"
      ],
      "text/plain": [
       "parameter  sex_id  age_group_id      draw        RR\n",
       "0               1             9    draw_0  3.510608\n",
       "1               1             9    draw_1  1.740403\n",
       "2               1             9   draw_10  1.525438\n",
       "3               1             9  draw_100  2.891299\n",
       "4               1             9  draw_101  2.206858"
      ]
     },
     "execution_count": 28,
     "metadata": {},
     "output_type": "execute_result"
    }
   ],
   "source": [
    "data2 = ihd_rrs.set_index(['sex_id','modelable_entity_id','age_group_id'])\n",
    "data2 = (data2[[c for c in data2.columns if 'draw' in c]].stack().reset_index()\n",
    "        .rename(columns={'level_3':'draw',0:'value'}))\n",
    "data2['parameter'] = np.where(data2.modelable_entity_id==9031, 'mean', 'standard_deviation')\n",
    "data2 = data2.drop(columns='modelable_entity_id')\n",
    "data2 = (data2.pivot_table(index=['sex_id','age_group_id','draw'], columns='parameter', values='value')\n",
    "        .reset_index())\n",
    "data2 = data2.rename(columns = {'mean':'RR'})\n",
    "data2.head()"
   ]
  },
  {
   "cell_type": "code",
   "execution_count": 29,
   "id": "dd07153b-aefb-4cd8-8e43-6f952f993eaa",
   "metadata": {},
   "outputs": [
    {
     "data": {
      "text/html": [
       "<div>\n",
       "<style scoped>\n",
       "    .dataframe tbody tr th:only-of-type {\n",
       "        vertical-align: middle;\n",
       "    }\n",
       "\n",
       "    .dataframe tbody tr th {\n",
       "        vertical-align: top;\n",
       "    }\n",
       "\n",
       "    .dataframe thead th {\n",
       "        text-align: right;\n",
       "    }\n",
       "</style>\n",
       "<table border=\"1\" class=\"dataframe\">\n",
       "  <thead>\n",
       "    <tr style=\"text-align: right;\">\n",
       "      <th></th>\n",
       "      <th>draw</th>\n",
       "      <th>FPG</th>\n",
       "      <th>SBP</th>\n",
       "      <th>LDL</th>\n",
       "    </tr>\n",
       "  </thead>\n",
       "  <tbody>\n",
       "    <tr>\n",
       "      <th>0</th>\n",
       "      <td>rei_id</td>\n",
       "      <td>370.000000</td>\n",
       "      <td>370.000000</td>\n",
       "      <td>370.000000</td>\n",
       "    </tr>\n",
       "    <tr>\n",
       "      <th>1</th>\n",
       "      <td>med_id</td>\n",
       "      <td>105.000000</td>\n",
       "      <td>107.000000</td>\n",
       "      <td>367.000000</td>\n",
       "    </tr>\n",
       "    <tr>\n",
       "      <th>2</th>\n",
       "      <td>cause_id</td>\n",
       "      <td>493.000000</td>\n",
       "      <td>493.000000</td>\n",
       "      <td>493.000000</td>\n",
       "    </tr>\n",
       "    <tr>\n",
       "      <th>3</th>\n",
       "      <td>mean_mediation</td>\n",
       "      <td>0.149278</td>\n",
       "      <td>0.311516</td>\n",
       "      <td>0.100209</td>\n",
       "    </tr>\n",
       "    <tr>\n",
       "      <th>4</th>\n",
       "      <td>draw_0</td>\n",
       "      <td>0.168698</td>\n",
       "      <td>0.288050</td>\n",
       "      <td>0.088317</td>\n",
       "    </tr>\n",
       "  </tbody>\n",
       "</table>\n",
       "</div>"
      ],
      "text/plain": [
       "             draw         FPG         SBP         LDL\n",
       "0          rei_id  370.000000  370.000000  370.000000\n",
       "1          med_id  105.000000  107.000000  367.000000\n",
       "2        cause_id  493.000000  493.000000  493.000000\n",
       "3  mean_mediation    0.149278    0.311516    0.100209\n",
       "4          draw_0    0.168698    0.288050    0.088317"
      ]
     },
     "execution_count": 29,
     "metadata": {},
     "output_type": "execute_result"
    }
   ],
   "source": [
    "MF2 = pd.read_csv('/ihme/costeffectiveness/artifacts/vivarium_nih_us_cvd/raw_data/mediation_matrix_draw_gbd_2021_edited.csv')\n",
    "IHD_MF = MF2.loc[(MF2.rei_id==370) & (MF2.cause_id==493)]\n",
    "IHD_MF = IHD_MF.transpose()\n",
    "IHD_MF.reset_index(inplace=True)\n",
    "IHD_MF = IHD_MF.rename(columns = {75:'FPG',81:'SBP',88:'LDL','index':'draw'})\n",
    "IHD_MF.head()"
   ]
  },
  {
   "cell_type": "code",
   "execution_count": 30,
   "id": "8c36414e-d0f7-4418-bf34-118c3ece7aca",
   "metadata": {},
   "outputs": [
    {
     "data": {
      "text/html": [
       "<div>\n",
       "<style scoped>\n",
       "    .dataframe tbody tr th:only-of-type {\n",
       "        vertical-align: middle;\n",
       "    }\n",
       "\n",
       "    .dataframe tbody tr th {\n",
       "        vertical-align: top;\n",
       "    }\n",
       "\n",
       "    .dataframe thead th {\n",
       "        text-align: right;\n",
       "    }\n",
       "</style>\n",
       "<table border=\"1\" class=\"dataframe\">\n",
       "  <thead>\n",
       "    <tr style=\"text-align: right;\">\n",
       "      <th></th>\n",
       "      <th>sex_id</th>\n",
       "      <th>age_group_id</th>\n",
       "      <th>draw</th>\n",
       "      <th>mean</th>\n",
       "      <th>standard_deviation</th>\n",
       "      <th>RR</th>\n",
       "      <th>FPG</th>\n",
       "      <th>SBP</th>\n",
       "      <th>LDL</th>\n",
       "      <th>RR_adj</th>\n",
       "    </tr>\n",
       "  </thead>\n",
       "  <tbody>\n",
       "    <tr>\n",
       "      <th>0</th>\n",
       "      <td>1</td>\n",
       "      <td>10</td>\n",
       "      <td>draw_0</td>\n",
       "      <td>28.898947</td>\n",
       "      <td>9.591207</td>\n",
       "      <td>3.510608</td>\n",
       "      <td>0.168698</td>\n",
       "      <td>0.28805</td>\n",
       "      <td>0.088317</td>\n",
       "      <td>2.354663</td>\n",
       "    </tr>\n",
       "    <tr>\n",
       "      <th>1</th>\n",
       "      <td>1</td>\n",
       "      <td>11</td>\n",
       "      <td>draw_0</td>\n",
       "      <td>30.768116</td>\n",
       "      <td>10.256039</td>\n",
       "      <td>2.094858</td>\n",
       "      <td>0.168698</td>\n",
       "      <td>0.28805</td>\n",
       "      <td>0.088317</td>\n",
       "      <td>1.590759</td>\n",
       "    </tr>\n",
       "    <tr>\n",
       "      <th>2</th>\n",
       "      <td>1</td>\n",
       "      <td>12</td>\n",
       "      <td>draw_0</td>\n",
       "      <td>31.168189</td>\n",
       "      <td>10.389089</td>\n",
       "      <td>1.685112</td>\n",
       "      <td>0.168698</td>\n",
       "      <td>0.28805</td>\n",
       "      <td>0.088317</td>\n",
       "      <td>1.369670</td>\n",
       "    </tr>\n",
       "    <tr>\n",
       "      <th>3</th>\n",
       "      <td>1</td>\n",
       "      <td>13</td>\n",
       "      <td>draw_0</td>\n",
       "      <td>30.308706</td>\n",
       "      <td>10.100829</td>\n",
       "      <td>1.665879</td>\n",
       "      <td>0.168698</td>\n",
       "      <td>0.28805</td>\n",
       "      <td>0.088317</td>\n",
       "      <td>1.359292</td>\n",
       "    </tr>\n",
       "    <tr>\n",
       "      <th>4</th>\n",
       "      <td>1</td>\n",
       "      <td>14</td>\n",
       "      <td>draw_0</td>\n",
       "      <td>31.454214</td>\n",
       "      <td>10.475955</td>\n",
       "      <td>1.591258</td>\n",
       "      <td>0.168698</td>\n",
       "      <td>0.28805</td>\n",
       "      <td>0.088317</td>\n",
       "      <td>1.319028</td>\n",
       "    </tr>\n",
       "  </tbody>\n",
       "</table>\n",
       "</div>"
      ],
      "text/plain": [
       "   sex_id  age_group_id    draw       mean  standard_deviation        RR  \\\n",
       "0       1            10  draw_0  28.898947            9.591207  3.510608   \n",
       "1       1            11  draw_0  30.768116           10.256039  2.094858   \n",
       "2       1            12  draw_0  31.168189           10.389089  1.685112   \n",
       "3       1            13  draw_0  30.308706           10.100829  1.665879   \n",
       "4       1            14  draw_0  31.454214           10.475955  1.591258   \n",
       "\n",
       "        FPG      SBP       LDL    RR_adj  \n",
       "0  0.168698  0.28805  0.088317  2.354663  \n",
       "1  0.168698  0.28805  0.088317  1.590759  \n",
       "2  0.168698  0.28805  0.088317  1.369670  \n",
       "3  0.168698  0.28805  0.088317  1.359292  \n",
       "4  0.168698  0.28805  0.088317  1.319028  "
      ]
     },
     "execution_count": 30,
     "metadata": {},
     "output_type": "execute_result"
    }
   ],
   "source": [
    "data_ihd2 = data_ihd.merge(data2[['age_group_id','sex_id','draw','RR']], on=['age_group_id','sex_id','draw']).merge(IHD_MF[['draw','FPG','SBP','LDL']], on=['draw'])\n",
    "data_ihd2['RR_adj'] = 1 + ((data_ihd2['RR'] - 1) * (1-data_ihd2['FPG']) * (1-data_ihd2['SBP']) * (1-data_ihd2['LDL']))\n",
    "data_ihd2.head()"
   ]
  },
  {
   "cell_type": "code",
   "execution_count": 31,
   "id": "2b3c0e98-7116-487b-a1ea-f98557d5dbc6",
   "metadata": {},
   "outputs": [
    {
     "data": {
      "text/html": [
       "<div>\n",
       "<style scoped>\n",
       "    .dataframe tbody tr th:only-of-type {\n",
       "        vertical-align: middle;\n",
       "    }\n",
       "\n",
       "    .dataframe tbody tr th {\n",
       "        vertical-align: top;\n",
       "    }\n",
       "\n",
       "    .dataframe thead th {\n",
       "        text-align: right;\n",
       "    }\n",
       "</style>\n",
       "<table border=\"1\" class=\"dataframe\">\n",
       "  <thead>\n",
       "    <tr style=\"text-align: right;\">\n",
       "      <th></th>\n",
       "      <th>sex_id</th>\n",
       "      <th>age_group_id</th>\n",
       "      <th>draw</th>\n",
       "      <th>mean</th>\n",
       "      <th>standard_deviation</th>\n",
       "      <th>RR</th>\n",
       "      <th>FPG</th>\n",
       "      <th>SBP</th>\n",
       "      <th>LDL</th>\n",
       "      <th>RR_adj</th>\n",
       "      <th>TMREL</th>\n",
       "    </tr>\n",
       "  </thead>\n",
       "  <tbody>\n",
       "    <tr>\n",
       "      <th>0</th>\n",
       "      <td>1</td>\n",
       "      <td>10</td>\n",
       "      <td>draw_0</td>\n",
       "      <td>28.898947</td>\n",
       "      <td>9.591207</td>\n",
       "      <td>3.510608</td>\n",
       "      <td>0.168698</td>\n",
       "      <td>0.28805</td>\n",
       "      <td>0.088317</td>\n",
       "      <td>2.354663</td>\n",
       "      <td>23.482346</td>\n",
       "    </tr>\n",
       "    <tr>\n",
       "      <th>1</th>\n",
       "      <td>1</td>\n",
       "      <td>11</td>\n",
       "      <td>draw_0</td>\n",
       "      <td>30.768116</td>\n",
       "      <td>10.256039</td>\n",
       "      <td>2.094858</td>\n",
       "      <td>0.168698</td>\n",
       "      <td>0.28805</td>\n",
       "      <td>0.088317</td>\n",
       "      <td>1.590759</td>\n",
       "      <td>21.430697</td>\n",
       "    </tr>\n",
       "    <tr>\n",
       "      <th>2</th>\n",
       "      <td>1</td>\n",
       "      <td>12</td>\n",
       "      <td>draw_0</td>\n",
       "      <td>31.168189</td>\n",
       "      <td>10.389089</td>\n",
       "      <td>1.685112</td>\n",
       "      <td>0.168698</td>\n",
       "      <td>0.28805</td>\n",
       "      <td>0.088317</td>\n",
       "      <td>1.369670</td>\n",
       "      <td>21.134257</td>\n",
       "    </tr>\n",
       "    <tr>\n",
       "      <th>3</th>\n",
       "      <td>1</td>\n",
       "      <td>13</td>\n",
       "      <td>draw_0</td>\n",
       "      <td>30.308706</td>\n",
       "      <td>10.100829</td>\n",
       "      <td>1.665879</td>\n",
       "      <td>0.168698</td>\n",
       "      <td>0.28805</td>\n",
       "      <td>0.088317</td>\n",
       "      <td>1.359292</td>\n",
       "      <td>22.756574</td>\n",
       "    </tr>\n",
       "    <tr>\n",
       "      <th>4</th>\n",
       "      <td>1</td>\n",
       "      <td>14</td>\n",
       "      <td>draw_0</td>\n",
       "      <td>31.454214</td>\n",
       "      <td>10.475955</td>\n",
       "      <td>1.591258</td>\n",
       "      <td>0.168698</td>\n",
       "      <td>0.28805</td>\n",
       "      <td>0.088317</td>\n",
       "      <td>1.319028</td>\n",
       "      <td>23.597345</td>\n",
       "    </tr>\n",
       "  </tbody>\n",
       "</table>\n",
       "</div>"
      ],
      "text/plain": [
       "   sex_id  age_group_id    draw       mean  standard_deviation        RR  \\\n",
       "0       1            10  draw_0  28.898947            9.591207  3.510608   \n",
       "1       1            11  draw_0  30.768116           10.256039  2.094858   \n",
       "2       1            12  draw_0  31.168189           10.389089  1.685112   \n",
       "3       1            13  draw_0  30.308706           10.100829  1.665879   \n",
       "4       1            14  draw_0  31.454214           10.475955  1.591258   \n",
       "\n",
       "        FPG      SBP       LDL    RR_adj      TMREL  \n",
       "0  0.168698  0.28805  0.088317  2.354663  23.482346  \n",
       "1  0.168698  0.28805  0.088317  1.590759  21.430697  \n",
       "2  0.168698  0.28805  0.088317  1.369670  21.134257  \n",
       "3  0.168698  0.28805  0.088317  1.359292  22.756574  \n",
       "4  0.168698  0.28805  0.088317  1.319028  23.597345  "
      ]
     },
     "execution_count": 31,
     "metadata": {},
     "output_type": "execute_result"
    }
   ],
   "source": [
    "np.random.seed(123)\n",
    "test3 = np.random.uniform(20,25,28000)\n",
    "data_ihd2['TMREL'] = test3\n",
    "data_ihd2.head()"
   ]
  },
  {
   "cell_type": "code",
   "execution_count": 32,
   "id": "f3819d92-4037-44d3-af07-15443ff7fe1c",
   "metadata": {},
   "outputs": [
    {
     "name": "stdout",
     "output_type": "stream",
     "text": [
      "calculating draw number 29\n"
     ]
    },
    {
     "name": "stderr",
     "output_type": "stream",
     "text": [
      "<timed exec>:15: FutureWarning: The frame.append method is deprecated and will be removed from pandas in a future version. Use pandas.concat instead.\n",
      "<timed exec>:25: FutureWarning: The frame.append method is deprecated and will be removed from pandas in a future version. Use pandas.concat instead.\n"
     ]
    },
    {
     "name": "stdout",
     "output_type": "stream",
     "text": [
      "Draw 29 completed\n",
      "calculating draw number 232\n"
     ]
    },
    {
     "name": "stderr",
     "output_type": "stream",
     "text": [
      "<timed exec>:15: FutureWarning: The frame.append method is deprecated and will be removed from pandas in a future version. Use pandas.concat instead.\n",
      "<timed exec>:25: FutureWarning: The frame.append method is deprecated and will be removed from pandas in a future version. Use pandas.concat instead.\n"
     ]
    },
    {
     "name": "stdout",
     "output_type": "stream",
     "text": [
      "Draw 232 completed\n",
      "calculating draw number 357\n"
     ]
    },
    {
     "name": "stderr",
     "output_type": "stream",
     "text": [
      "<timed exec>:15: FutureWarning: The frame.append method is deprecated and will be removed from pandas in a future version. Use pandas.concat instead.\n",
      "<timed exec>:25: FutureWarning: The frame.append method is deprecated and will be removed from pandas in a future version. Use pandas.concat instead.\n"
     ]
    },
    {
     "name": "stdout",
     "output_type": "stream",
     "text": [
      "Draw 357 completed\n",
      "calculating draw number 394\n"
     ]
    },
    {
     "name": "stderr",
     "output_type": "stream",
     "text": [
      "<timed exec>:15: FutureWarning: The frame.append method is deprecated and will be removed from pandas in a future version. Use pandas.concat instead.\n",
      "<timed exec>:25: FutureWarning: The frame.append method is deprecated and will be removed from pandas in a future version. Use pandas.concat instead.\n"
     ]
    },
    {
     "name": "stdout",
     "output_type": "stream",
     "text": [
      "Draw 394 completed\n",
      "calculating draw number 602\n"
     ]
    },
    {
     "name": "stderr",
     "output_type": "stream",
     "text": [
      "<timed exec>:15: FutureWarning: The frame.append method is deprecated and will be removed from pandas in a future version. Use pandas.concat instead.\n",
      "<timed exec>:25: FutureWarning: The frame.append method is deprecated and will be removed from pandas in a future version. Use pandas.concat instead.\n"
     ]
    },
    {
     "name": "stdout",
     "output_type": "stream",
     "text": [
      "Draw 602 completed\n",
      "calculating draw number 629\n"
     ]
    },
    {
     "name": "stderr",
     "output_type": "stream",
     "text": [
      "<timed exec>:15: FutureWarning: The frame.append method is deprecated and will be removed from pandas in a future version. Use pandas.concat instead.\n",
      "<timed exec>:25: FutureWarning: The frame.append method is deprecated and will be removed from pandas in a future version. Use pandas.concat instead.\n"
     ]
    },
    {
     "name": "stdout",
     "output_type": "stream",
     "text": [
      "Draw 629 completed\n",
      "calculating draw number 650\n"
     ]
    },
    {
     "name": "stderr",
     "output_type": "stream",
     "text": [
      "<timed exec>:15: FutureWarning: The frame.append method is deprecated and will be removed from pandas in a future version. Use pandas.concat instead.\n",
      "<timed exec>:25: FutureWarning: The frame.append method is deprecated and will be removed from pandas in a future version. Use pandas.concat instead.\n"
     ]
    },
    {
     "name": "stdout",
     "output_type": "stream",
     "text": [
      "Draw 650 completed\n",
      "calculating draw number 680\n"
     ]
    },
    {
     "name": "stderr",
     "output_type": "stream",
     "text": [
      "<timed exec>:15: FutureWarning: The frame.append method is deprecated and will be removed from pandas in a future version. Use pandas.concat instead.\n",
      "<timed exec>:25: FutureWarning: The frame.append method is deprecated and will be removed from pandas in a future version. Use pandas.concat instead.\n"
     ]
    },
    {
     "name": "stdout",
     "output_type": "stream",
     "text": [
      "Draw 680 completed\n",
      "calculating draw number 829\n"
     ]
    },
    {
     "name": "stderr",
     "output_type": "stream",
     "text": [
      "<timed exec>:15: FutureWarning: The frame.append method is deprecated and will be removed from pandas in a future version. Use pandas.concat instead.\n",
      "<timed exec>:18: IntegrationWarning: The occurrence of roundoff error is detected, which prevents \n",
      "  the requested tolerance from being achieved.  The error may be \n",
      "  underestimated.\n",
      "<timed exec>:25: FutureWarning: The frame.append method is deprecated and will be removed from pandas in a future version. Use pandas.concat instead.\n"
     ]
    },
    {
     "name": "stdout",
     "output_type": "stream",
     "text": [
      "Draw 829 completed\n",
      "calculating draw number 946\n"
     ]
    },
    {
     "name": "stderr",
     "output_type": "stream",
     "text": [
      "<timed exec>:15: FutureWarning: The frame.append method is deprecated and will be removed from pandas in a future version. Use pandas.concat instead.\n"
     ]
    },
    {
     "name": "stdout",
     "output_type": "stream",
     "text": [
      "Draw 946 completed\n",
      "CPU times: user 4h 35min 53s, sys: 21.4 s, total: 4h 36min 15s\n",
      "Wall time: 4h 35min 53s\n"
     ]
    },
    {
     "name": "stderr",
     "output_type": "stream",
     "text": [
      "<timed exec>:25: FutureWarning: The frame.append method is deprecated and will be removed from pandas in a future version. Use pandas.concat instead.\n"
     ]
    }
   ],
   "source": [
    "%%time\n",
    "data_final_ihd = pd.DataFrame()\n",
    "for draw in [i for i in list(draws_list)]:\n",
    "    print(f'calculating draw number {draw}')\n",
    "    burden = []\n",
    "    burden1 = []\n",
    "    burden2 = []\n",
    "    df = data_ihd2.loc[(data_ihd2.draw==f'draw_{draw}') & (data_ihd2.standard_deviation > 8)]\n",
    "    for i in list(range(0,len(df))):\n",
    "        denom = integrate.quad(lambda x: (bmi_ensemble(x, df['mean'].iloc[i], df['standard_deviation'].iloc[i])                                     \n",
    "                                          * df['RR_adj'].iloc[i]**((df['TMREL'].iloc[i] - x + abs(df['TMREL'].iloc[i] - x))/2)),\n",
    "                                                      13, 60,\n",
    "                              epsabs=0.00001)[0]\n",
    "        burden.append(denom)\n",
    "    df['burden'] = burden\n",
    "    df['paf'] = (df['burden'] - 1) / df['burden']\n",
    "    data_final_ihd = data_final_ihd.append(df)\n",
    "    df1 = data_ihd2.loc[(data_ihd2.draw==f'draw_{draw}') & (data_ihd2.standard_deviation < 8) & (data_ihd2.standard_deviation > 5)]\n",
    "    for i in list(range(0,len(df1))):\n",
    "        denom1 = integrate.quad(lambda x: (bmi_ensemble(x, df1['mean'].iloc[i], df1['standard_deviation'].iloc[i])                                     \n",
    "                                          * df1['RR_adj'].iloc[i]**((df1['TMREL'].iloc[i] - x + abs(df1['TMREL'].iloc[i] - x))/2)),\n",
    "                                                      17, 45,\n",
    "                              epsabs=0.001)[0]\n",
    "        burden1.append(denom1)\n",
    "    df1['burden'] = burden1\n",
    "    df1['paf'] = (df1['burden'] - 1) / df1['burden']\n",
    "    data_final_ihd = data_final_ihd.append(df1)\n",
    "    df2 = data_ihd2.loc[(data_ihd2.draw==f'draw_{draw}') & (data_ihd2.standard_deviation < 5)]\n",
    "    for i in list(range(0,len(df2))):\n",
    "        denom2 = integrate.quad(lambda x: (bmi_ensemble(x, df2['mean'].iloc[i], df2['standard_deviation'].iloc[i])                                     \n",
    "                                          * df2['RR_adj'].iloc[i]**((df2['TMREL'].iloc[i] - x + abs(df2['TMREL'].iloc[i] - x))/2)),\n",
    "                                                      17, 37,\n",
    "                              epsabs=0.001)[0]\n",
    "        burden2.append(denom2)\n",
    "    df2['burden'] = burden2\n",
    "    df2['paf'] = (df2['burden'] - 1) / df2['burden']\n",
    "    data_final_ihd = data_final_ihd.append(df2)\n",
    "    print(f'Draw {draw} completed')"
   ]
  },
  {
   "cell_type": "code",
   "execution_count": 33,
   "id": "72dacbb2-ba2b-40d9-8955-08cb6e33076c",
   "metadata": {},
   "outputs": [],
   "source": [
    "data_final_ihd.to_csv('/ihme/homes/lutzes/PAFs_BMI_IHD.csv')"
   ]
  },
  {
   "cell_type": "markdown",
   "id": "a41ad3cd-467f-45bb-8e0a-529e2a5d7450",
   "metadata": {},
   "source": [
    "### BMI -> Ischemic Stroke"
   ]
  },
  {
   "cell_type": "code",
   "execution_count": 34,
   "id": "45296e3f-0a15-42be-81c0-549f0fbe49eb",
   "metadata": {},
   "outputs": [],
   "source": [
    "data_stroke = data[['sex_id','age_group_id','draw','mean','standard_deviation']]"
   ]
  },
  {
   "cell_type": "code",
   "execution_count": 35,
   "id": "db24dd6a-6b52-459b-9a3a-5096b434be12",
   "metadata": {},
   "outputs": [
    {
     "name": "stderr",
     "output_type": "stream",
     "text": [
      "/ihme/homes/lutzes/.conda/envs/vivarium_nih_us_cvd/lib/python3.8/site-packages/get_draws/transforms/version_transforms.py:33: PerformanceWarning: DataFrame is highly fragmented.  This is usually the result of calling `frame.insert` many times, which has poor performance.  Consider joining all columns at once using pd.concat(axis=1) instead. To get a de-fragmented frame, use `newframe = frame.copy()`\n",
      "  df[version_id_type_name] = version_id\n"
     ]
    }
   ],
   "source": [
    "stroke_rrs = get_draws(gbd_id_type='rei_id', \n",
    "                    gbd_id=370, \n",
    "                    source='rr', \n",
    "                    year_id=2019, \n",
    "                    gbd_round_id=6, \n",
    "                    status='best', \n",
    "                    decomp_step='step4')\n",
    "stroke_rrs = stroke_rrs.loc[stroke_rrs.cause_id==495]"
   ]
  },
  {
   "cell_type": "code",
   "execution_count": 36,
   "id": "f748b5b5-b921-4dfa-b319-646933a88d29",
   "metadata": {},
   "outputs": [
    {
     "data": {
      "text/html": [
       "<div>\n",
       "<style scoped>\n",
       "    .dataframe tbody tr th:only-of-type {\n",
       "        vertical-align: middle;\n",
       "    }\n",
       "\n",
       "    .dataframe tbody tr th {\n",
       "        vertical-align: top;\n",
       "    }\n",
       "\n",
       "    .dataframe thead th {\n",
       "        text-align: right;\n",
       "    }\n",
       "</style>\n",
       "<table border=\"1\" class=\"dataframe\">\n",
       "  <thead>\n",
       "    <tr style=\"text-align: right;\">\n",
       "      <th>parameter</th>\n",
       "      <th>sex_id</th>\n",
       "      <th>age_group_id</th>\n",
       "      <th>draw</th>\n",
       "      <th>RR</th>\n",
       "    </tr>\n",
       "  </thead>\n",
       "  <tbody>\n",
       "    <tr>\n",
       "      <th>0</th>\n",
       "      <td>1</td>\n",
       "      <td>9</td>\n",
       "      <td>draw_0</td>\n",
       "      <td>2.405075</td>\n",
       "    </tr>\n",
       "    <tr>\n",
       "      <th>1</th>\n",
       "      <td>1</td>\n",
       "      <td>9</td>\n",
       "      <td>draw_1</td>\n",
       "      <td>2.088226</td>\n",
       "    </tr>\n",
       "    <tr>\n",
       "      <th>2</th>\n",
       "      <td>1</td>\n",
       "      <td>9</td>\n",
       "      <td>draw_10</td>\n",
       "      <td>3.831654</td>\n",
       "    </tr>\n",
       "    <tr>\n",
       "      <th>3</th>\n",
       "      <td>1</td>\n",
       "      <td>9</td>\n",
       "      <td>draw_100</td>\n",
       "      <td>2.202777</td>\n",
       "    </tr>\n",
       "    <tr>\n",
       "      <th>4</th>\n",
       "      <td>1</td>\n",
       "      <td>9</td>\n",
       "      <td>draw_101</td>\n",
       "      <td>2.824795</td>\n",
       "    </tr>\n",
       "  </tbody>\n",
       "</table>\n",
       "</div>"
      ],
      "text/plain": [
       "parameter  sex_id  age_group_id      draw        RR\n",
       "0               1             9    draw_0  2.405075\n",
       "1               1             9    draw_1  2.088226\n",
       "2               1             9   draw_10  3.831654\n",
       "3               1             9  draw_100  2.202777\n",
       "4               1             9  draw_101  2.824795"
      ]
     },
     "execution_count": 36,
     "metadata": {},
     "output_type": "execute_result"
    }
   ],
   "source": [
    "data3 = stroke_rrs.set_index(['sex_id','modelable_entity_id','age_group_id'])\n",
    "data3 = (data3[[c for c in data3.columns if 'draw' in c]].stack().reset_index()\n",
    "        .rename(columns={'level_3':'draw',0:'value'}))\n",
    "data3['parameter'] = np.where(data3.modelable_entity_id==9031, 'mean', 'standard_deviation')\n",
    "data3 = data3.drop(columns='modelable_entity_id')\n",
    "data3 = (data3.pivot_table(index=['sex_id','age_group_id','draw'], columns='parameter', values='value')\n",
    "        .reset_index())\n",
    "data3 = data3.rename(columns = {'mean':'RR'})\n",
    "data3.head()"
   ]
  },
  {
   "cell_type": "code",
   "execution_count": 37,
   "id": "9c0d2c31-5c49-42a9-8a83-0600d95e3aec",
   "metadata": {},
   "outputs": [
    {
     "data": {
      "text/html": [
       "<div>\n",
       "<style scoped>\n",
       "    .dataframe tbody tr th:only-of-type {\n",
       "        vertical-align: middle;\n",
       "    }\n",
       "\n",
       "    .dataframe tbody tr th {\n",
       "        vertical-align: top;\n",
       "    }\n",
       "\n",
       "    .dataframe thead th {\n",
       "        text-align: right;\n",
       "    }\n",
       "</style>\n",
       "<table border=\"1\" class=\"dataframe\">\n",
       "  <thead>\n",
       "    <tr style=\"text-align: right;\">\n",
       "      <th></th>\n",
       "      <th>draw</th>\n",
       "      <th>FPG</th>\n",
       "      <th>SBP</th>\n",
       "      <th>LDL</th>\n",
       "    </tr>\n",
       "  </thead>\n",
       "  <tbody>\n",
       "    <tr>\n",
       "      <th>0</th>\n",
       "      <td>rei_id</td>\n",
       "      <td>370.000000</td>\n",
       "      <td>370.000000</td>\n",
       "      <td>370.000000</td>\n",
       "    </tr>\n",
       "    <tr>\n",
       "      <th>1</th>\n",
       "      <td>med_id</td>\n",
       "      <td>105.000000</td>\n",
       "      <td>107.000000</td>\n",
       "      <td>367.000000</td>\n",
       "    </tr>\n",
       "    <tr>\n",
       "      <th>2</th>\n",
       "      <td>cause_id</td>\n",
       "      <td>495.000000</td>\n",
       "      <td>495.000000</td>\n",
       "      <td>495.000000</td>\n",
       "    </tr>\n",
       "    <tr>\n",
       "      <th>3</th>\n",
       "      <td>mean_mediation</td>\n",
       "      <td>0.216638</td>\n",
       "      <td>0.646555</td>\n",
       "      <td>0.034331</td>\n",
       "    </tr>\n",
       "    <tr>\n",
       "      <th>4</th>\n",
       "      <td>draw_0</td>\n",
       "      <td>0.193331</td>\n",
       "      <td>0.645818</td>\n",
       "      <td>0.051478</td>\n",
       "    </tr>\n",
       "  </tbody>\n",
       "</table>\n",
       "</div>"
      ],
      "text/plain": [
       "             draw         FPG         SBP         LDL\n",
       "0          rei_id  370.000000  370.000000  370.000000\n",
       "1          med_id  105.000000  107.000000  367.000000\n",
       "2        cause_id  495.000000  495.000000  495.000000\n",
       "3  mean_mediation    0.216638    0.646555    0.034331\n",
       "4          draw_0    0.193331    0.645818    0.051478"
      ]
     },
     "execution_count": 37,
     "metadata": {},
     "output_type": "execute_result"
    }
   ],
   "source": [
    "stroke_MF = MF2.loc[(MF2.rei_id==370) & (MF2.cause_id==495)]\n",
    "stroke_MF = stroke_MF.transpose()\n",
    "stroke_MF.reset_index(inplace=True)\n",
    "stroke_MF = stroke_MF.rename(columns = {76:'FPG',82:'SBP',89:'LDL','index':'draw'})\n",
    "stroke_MF.head()"
   ]
  },
  {
   "cell_type": "code",
   "execution_count": 38,
   "id": "c9fc5b7f-9ac1-4888-87f4-e6cdda7f0f95",
   "metadata": {},
   "outputs": [
    {
     "data": {
      "text/html": [
       "<div>\n",
       "<style scoped>\n",
       "    .dataframe tbody tr th:only-of-type {\n",
       "        vertical-align: middle;\n",
       "    }\n",
       "\n",
       "    .dataframe tbody tr th {\n",
       "        vertical-align: top;\n",
       "    }\n",
       "\n",
       "    .dataframe thead th {\n",
       "        text-align: right;\n",
       "    }\n",
       "</style>\n",
       "<table border=\"1\" class=\"dataframe\">\n",
       "  <thead>\n",
       "    <tr style=\"text-align: right;\">\n",
       "      <th></th>\n",
       "      <th>sex_id</th>\n",
       "      <th>age_group_id</th>\n",
       "      <th>draw</th>\n",
       "      <th>mean</th>\n",
       "      <th>standard_deviation</th>\n",
       "      <th>RR</th>\n",
       "      <th>FPG</th>\n",
       "      <th>SBP</th>\n",
       "      <th>LDL</th>\n",
       "      <th>RR_adj</th>\n",
       "    </tr>\n",
       "  </thead>\n",
       "  <tbody>\n",
       "    <tr>\n",
       "      <th>0</th>\n",
       "      <td>1</td>\n",
       "      <td>10</td>\n",
       "      <td>draw_0</td>\n",
       "      <td>28.898947</td>\n",
       "      <td>9.591207</td>\n",
       "      <td>2.405075</td>\n",
       "      <td>0.193331</td>\n",
       "      <td>0.645818</td>\n",
       "      <td>0.051478</td>\n",
       "      <td>1.380775</td>\n",
       "    </tr>\n",
       "    <tr>\n",
       "      <th>1</th>\n",
       "      <td>1</td>\n",
       "      <td>11</td>\n",
       "      <td>draw_0</td>\n",
       "      <td>30.768116</td>\n",
       "      <td>10.256039</td>\n",
       "      <td>2.220086</td>\n",
       "      <td>0.193331</td>\n",
       "      <td>0.645818</td>\n",
       "      <td>0.051478</td>\n",
       "      <td>1.330643</td>\n",
       "    </tr>\n",
       "    <tr>\n",
       "      <th>2</th>\n",
       "      <td>1</td>\n",
       "      <td>12</td>\n",
       "      <td>draw_0</td>\n",
       "      <td>31.168189</td>\n",
       "      <td>10.389089</td>\n",
       "      <td>1.919950</td>\n",
       "      <td>0.193331</td>\n",
       "      <td>0.645818</td>\n",
       "      <td>0.051478</td>\n",
       "      <td>1.249306</td>\n",
       "    </tr>\n",
       "    <tr>\n",
       "      <th>3</th>\n",
       "      <td>1</td>\n",
       "      <td>13</td>\n",
       "      <td>draw_0</td>\n",
       "      <td>30.308706</td>\n",
       "      <td>10.100829</td>\n",
       "      <td>1.738278</td>\n",
       "      <td>0.193331</td>\n",
       "      <td>0.645818</td>\n",
       "      <td>0.051478</td>\n",
       "      <td>1.200073</td>\n",
       "    </tr>\n",
       "    <tr>\n",
       "      <th>4</th>\n",
       "      <td>1</td>\n",
       "      <td>14</td>\n",
       "      <td>draw_0</td>\n",
       "      <td>31.454214</td>\n",
       "      <td>10.475955</td>\n",
       "      <td>1.809969</td>\n",
       "      <td>0.193331</td>\n",
       "      <td>0.645818</td>\n",
       "      <td>0.051478</td>\n",
       "      <td>1.219501</td>\n",
       "    </tr>\n",
       "  </tbody>\n",
       "</table>\n",
       "</div>"
      ],
      "text/plain": [
       "   sex_id  age_group_id    draw       mean  standard_deviation        RR  \\\n",
       "0       1            10  draw_0  28.898947            9.591207  2.405075   \n",
       "1       1            11  draw_0  30.768116           10.256039  2.220086   \n",
       "2       1            12  draw_0  31.168189           10.389089  1.919950   \n",
       "3       1            13  draw_0  30.308706           10.100829  1.738278   \n",
       "4       1            14  draw_0  31.454214           10.475955  1.809969   \n",
       "\n",
       "        FPG       SBP       LDL    RR_adj  \n",
       "0  0.193331  0.645818  0.051478  1.380775  \n",
       "1  0.193331  0.645818  0.051478  1.330643  \n",
       "2  0.193331  0.645818  0.051478  1.249306  \n",
       "3  0.193331  0.645818  0.051478  1.200073  \n",
       "4  0.193331  0.645818  0.051478  1.219501  "
      ]
     },
     "execution_count": 38,
     "metadata": {},
     "output_type": "execute_result"
    }
   ],
   "source": [
    "data_stroke2 = data_stroke.merge(data3[['age_group_id','sex_id','draw','RR']], on=['age_group_id','sex_id','draw']).merge(stroke_MF[['draw','FPG','SBP','LDL']], on=['draw'])\n",
    "data_stroke2['RR_adj'] = 1 + ((data_stroke2['RR'] - 1) * (1-data_stroke2['FPG']) * (1-data_stroke2['SBP']) * (1-data_stroke2['LDL']))\n",
    "data_stroke2.head()"
   ]
  },
  {
   "cell_type": "code",
   "execution_count": 39,
   "id": "07acdeac-ab43-4b5c-9e9e-252fc6e8dae7",
   "metadata": {},
   "outputs": [
    {
     "data": {
      "text/html": [
       "<div>\n",
       "<style scoped>\n",
       "    .dataframe tbody tr th:only-of-type {\n",
       "        vertical-align: middle;\n",
       "    }\n",
       "\n",
       "    .dataframe tbody tr th {\n",
       "        vertical-align: top;\n",
       "    }\n",
       "\n",
       "    .dataframe thead th {\n",
       "        text-align: right;\n",
       "    }\n",
       "</style>\n",
       "<table border=\"1\" class=\"dataframe\">\n",
       "  <thead>\n",
       "    <tr style=\"text-align: right;\">\n",
       "      <th></th>\n",
       "      <th>sex_id</th>\n",
       "      <th>age_group_id</th>\n",
       "      <th>draw</th>\n",
       "      <th>mean</th>\n",
       "      <th>standard_deviation</th>\n",
       "      <th>RR</th>\n",
       "      <th>FPG</th>\n",
       "      <th>SBP</th>\n",
       "      <th>LDL</th>\n",
       "      <th>RR_adj</th>\n",
       "      <th>TMREL</th>\n",
       "    </tr>\n",
       "  </thead>\n",
       "  <tbody>\n",
       "    <tr>\n",
       "      <th>0</th>\n",
       "      <td>1</td>\n",
       "      <td>10</td>\n",
       "      <td>draw_0</td>\n",
       "      <td>28.898947</td>\n",
       "      <td>9.591207</td>\n",
       "      <td>2.405075</td>\n",
       "      <td>0.193331</td>\n",
       "      <td>0.645818</td>\n",
       "      <td>0.051478</td>\n",
       "      <td>1.380775</td>\n",
       "      <td>23.482346</td>\n",
       "    </tr>\n",
       "    <tr>\n",
       "      <th>1</th>\n",
       "      <td>1</td>\n",
       "      <td>11</td>\n",
       "      <td>draw_0</td>\n",
       "      <td>30.768116</td>\n",
       "      <td>10.256039</td>\n",
       "      <td>2.220086</td>\n",
       "      <td>0.193331</td>\n",
       "      <td>0.645818</td>\n",
       "      <td>0.051478</td>\n",
       "      <td>1.330643</td>\n",
       "      <td>21.430697</td>\n",
       "    </tr>\n",
       "    <tr>\n",
       "      <th>2</th>\n",
       "      <td>1</td>\n",
       "      <td>12</td>\n",
       "      <td>draw_0</td>\n",
       "      <td>31.168189</td>\n",
       "      <td>10.389089</td>\n",
       "      <td>1.919950</td>\n",
       "      <td>0.193331</td>\n",
       "      <td>0.645818</td>\n",
       "      <td>0.051478</td>\n",
       "      <td>1.249306</td>\n",
       "      <td>21.134257</td>\n",
       "    </tr>\n",
       "    <tr>\n",
       "      <th>3</th>\n",
       "      <td>1</td>\n",
       "      <td>13</td>\n",
       "      <td>draw_0</td>\n",
       "      <td>30.308706</td>\n",
       "      <td>10.100829</td>\n",
       "      <td>1.738278</td>\n",
       "      <td>0.193331</td>\n",
       "      <td>0.645818</td>\n",
       "      <td>0.051478</td>\n",
       "      <td>1.200073</td>\n",
       "      <td>22.756574</td>\n",
       "    </tr>\n",
       "    <tr>\n",
       "      <th>4</th>\n",
       "      <td>1</td>\n",
       "      <td>14</td>\n",
       "      <td>draw_0</td>\n",
       "      <td>31.454214</td>\n",
       "      <td>10.475955</td>\n",
       "      <td>1.809969</td>\n",
       "      <td>0.193331</td>\n",
       "      <td>0.645818</td>\n",
       "      <td>0.051478</td>\n",
       "      <td>1.219501</td>\n",
       "      <td>23.597345</td>\n",
       "    </tr>\n",
       "  </tbody>\n",
       "</table>\n",
       "</div>"
      ],
      "text/plain": [
       "   sex_id  age_group_id    draw       mean  standard_deviation        RR  \\\n",
       "0       1            10  draw_0  28.898947            9.591207  2.405075   \n",
       "1       1            11  draw_0  30.768116           10.256039  2.220086   \n",
       "2       1            12  draw_0  31.168189           10.389089  1.919950   \n",
       "3       1            13  draw_0  30.308706           10.100829  1.738278   \n",
       "4       1            14  draw_0  31.454214           10.475955  1.809969   \n",
       "\n",
       "        FPG       SBP       LDL    RR_adj      TMREL  \n",
       "0  0.193331  0.645818  0.051478  1.380775  23.482346  \n",
       "1  0.193331  0.645818  0.051478  1.330643  21.430697  \n",
       "2  0.193331  0.645818  0.051478  1.249306  21.134257  \n",
       "3  0.193331  0.645818  0.051478  1.200073  22.756574  \n",
       "4  0.193331  0.645818  0.051478  1.219501  23.597345  "
      ]
     },
     "execution_count": 39,
     "metadata": {},
     "output_type": "execute_result"
    }
   ],
   "source": [
    "np.random.seed(123)\n",
    "test3 = np.random.uniform(20,25,28000)\n",
    "data_stroke2['TMREL'] = test3\n",
    "data_stroke2.head()"
   ]
  },
  {
   "cell_type": "code",
   "execution_count": 40,
   "id": "a04fbd4c-33f7-42d1-9a98-00c0af48c9ec",
   "metadata": {},
   "outputs": [
    {
     "name": "stdout",
     "output_type": "stream",
     "text": [
      "calculating draw number 29\n"
     ]
    },
    {
     "name": "stderr",
     "output_type": "stream",
     "text": [
      "<timed exec>:15: FutureWarning: The frame.append method is deprecated and will be removed from pandas in a future version. Use pandas.concat instead.\n",
      "<timed exec>:25: FutureWarning: The frame.append method is deprecated and will be removed from pandas in a future version. Use pandas.concat instead.\n"
     ]
    },
    {
     "name": "stdout",
     "output_type": "stream",
     "text": [
      "Draw 29 completed\n",
      "calculating draw number 232\n"
     ]
    },
    {
     "name": "stderr",
     "output_type": "stream",
     "text": [
      "<timed exec>:15: FutureWarning: The frame.append method is deprecated and will be removed from pandas in a future version. Use pandas.concat instead.\n",
      "<timed exec>:25: FutureWarning: The frame.append method is deprecated and will be removed from pandas in a future version. Use pandas.concat instead.\n"
     ]
    },
    {
     "name": "stdout",
     "output_type": "stream",
     "text": [
      "Draw 232 completed\n",
      "calculating draw number 357\n"
     ]
    },
    {
     "name": "stderr",
     "output_type": "stream",
     "text": [
      "<timed exec>:15: FutureWarning: The frame.append method is deprecated and will be removed from pandas in a future version. Use pandas.concat instead.\n",
      "<timed exec>:25: FutureWarning: The frame.append method is deprecated and will be removed from pandas in a future version. Use pandas.concat instead.\n"
     ]
    },
    {
     "name": "stdout",
     "output_type": "stream",
     "text": [
      "Draw 357 completed\n",
      "calculating draw number 394\n"
     ]
    },
    {
     "name": "stderr",
     "output_type": "stream",
     "text": [
      "<timed exec>:15: FutureWarning: The frame.append method is deprecated and will be removed from pandas in a future version. Use pandas.concat instead.\n",
      "<timed exec>:25: FutureWarning: The frame.append method is deprecated and will be removed from pandas in a future version. Use pandas.concat instead.\n"
     ]
    },
    {
     "name": "stdout",
     "output_type": "stream",
     "text": [
      "Draw 394 completed\n",
      "calculating draw number 602\n"
     ]
    },
    {
     "name": "stderr",
     "output_type": "stream",
     "text": [
      "<timed exec>:15: FutureWarning: The frame.append method is deprecated and will be removed from pandas in a future version. Use pandas.concat instead.\n",
      "<timed exec>:25: FutureWarning: The frame.append method is deprecated and will be removed from pandas in a future version. Use pandas.concat instead.\n"
     ]
    },
    {
     "name": "stdout",
     "output_type": "stream",
     "text": [
      "Draw 602 completed\n",
      "calculating draw number 629\n"
     ]
    },
    {
     "name": "stderr",
     "output_type": "stream",
     "text": [
      "<timed exec>:15: FutureWarning: The frame.append method is deprecated and will be removed from pandas in a future version. Use pandas.concat instead.\n",
      "<timed exec>:25: FutureWarning: The frame.append method is deprecated and will be removed from pandas in a future version. Use pandas.concat instead.\n"
     ]
    },
    {
     "name": "stdout",
     "output_type": "stream",
     "text": [
      "Draw 629 completed\n",
      "calculating draw number 650\n"
     ]
    },
    {
     "name": "stderr",
     "output_type": "stream",
     "text": [
      "<timed exec>:15: FutureWarning: The frame.append method is deprecated and will be removed from pandas in a future version. Use pandas.concat instead.\n",
      "<timed exec>:25: FutureWarning: The frame.append method is deprecated and will be removed from pandas in a future version. Use pandas.concat instead.\n"
     ]
    },
    {
     "name": "stdout",
     "output_type": "stream",
     "text": [
      "Draw 650 completed\n",
      "calculating draw number 680\n"
     ]
    },
    {
     "name": "stderr",
     "output_type": "stream",
     "text": [
      "<timed exec>:15: FutureWarning: The frame.append method is deprecated and will be removed from pandas in a future version. Use pandas.concat instead.\n",
      "<timed exec>:25: FutureWarning: The frame.append method is deprecated and will be removed from pandas in a future version. Use pandas.concat instead.\n"
     ]
    },
    {
     "name": "stdout",
     "output_type": "stream",
     "text": [
      "Draw 680 completed\n",
      "calculating draw number 829\n"
     ]
    },
    {
     "name": "stderr",
     "output_type": "stream",
     "text": [
      "<timed exec>:15: FutureWarning: The frame.append method is deprecated and will be removed from pandas in a future version. Use pandas.concat instead.\n",
      "<timed exec>:18: IntegrationWarning: The occurrence of roundoff error is detected, which prevents \n",
      "  the requested tolerance from being achieved.  The error may be \n",
      "  underestimated.\n",
      "<timed exec>:25: FutureWarning: The frame.append method is deprecated and will be removed from pandas in a future version. Use pandas.concat instead.\n"
     ]
    },
    {
     "name": "stdout",
     "output_type": "stream",
     "text": [
      "Draw 829 completed\n",
      "calculating draw number 946\n"
     ]
    },
    {
     "name": "stderr",
     "output_type": "stream",
     "text": [
      "<timed exec>:15: FutureWarning: The frame.append method is deprecated and will be removed from pandas in a future version. Use pandas.concat instead.\n"
     ]
    },
    {
     "name": "stdout",
     "output_type": "stream",
     "text": [
      "Draw 946 completed\n",
      "CPU times: user 4h 17min 21s, sys: 21.7 s, total: 4h 17min 43s\n",
      "Wall time: 4h 17min 20s\n"
     ]
    },
    {
     "name": "stderr",
     "output_type": "stream",
     "text": [
      "<timed exec>:25: FutureWarning: The frame.append method is deprecated and will be removed from pandas in a future version. Use pandas.concat instead.\n"
     ]
    }
   ],
   "source": [
    "%%time\n",
    "data_final_stroke = pd.DataFrame()\n",
    "for draw in [i for i in list(draws_list)]:\n",
    "    print(f'calculating draw number {draw}')\n",
    "    burden = []\n",
    "    burden1 = []\n",
    "    burden2 = []\n",
    "    df = data_stroke2.loc[(data_stroke2.draw==f'draw_{draw}') & (data_stroke2.standard_deviation > 8)]\n",
    "    for i in list(range(0,len(df))):\n",
    "        denom = integrate.quad(lambda x: (bmi_ensemble(x, df['mean'].iloc[i], df['standard_deviation'].iloc[i])                                     \n",
    "                                          * df['RR_adj'].iloc[i]**((df['TMREL'].iloc[i] - x + abs(df['TMREL'].iloc[i] - x))/2)),\n",
    "                                                      13, 60,\n",
    "                              epsabs=0.00001)[0]\n",
    "        burden.append(denom)\n",
    "    df['burden'] = burden\n",
    "    df['paf'] = (df['burden'] - 1) / df['burden']\n",
    "    data_final_stroke = data_final_stroke.append(df)\n",
    "    df1 = data_stroke2.loc[(data_stroke2.draw==f'draw_{draw}') & (data_stroke2.standard_deviation < 8) & (data_stroke2.standard_deviation > 5)]\n",
    "    for i in list(range(0,len(df1))):\n",
    "        denom1 = integrate.quad(lambda x: (bmi_ensemble(x, df1['mean'].iloc[i], df1['standard_deviation'].iloc[i])                                     \n",
    "                                          * df1['RR_adj'].iloc[i]**((df1['TMREL'].iloc[i] - x + abs(df1['TMREL'].iloc[i] - x))/2)),\n",
    "                                                      17, 45,\n",
    "                              epsabs=0.001)[0]\n",
    "        burden1.append(denom1)\n",
    "    df1['burden'] = burden1\n",
    "    df1['paf'] = (df1['burden'] - 1) / df1['burden']\n",
    "    data_final_stroke = data_final_stroke.append(df1)\n",
    "    df2 = data_stroke2.loc[(data_stroke2.draw==f'draw_{draw}') & (data_stroke2.standard_deviation < 5)]\n",
    "    for i in list(range(0,len(df2))):\n",
    "        denom2 = integrate.quad(lambda x: (bmi_ensemble(x, df2['mean'].iloc[i], df2['standard_deviation'].iloc[i])                                     \n",
    "                                          * df2['RR_adj'].iloc[i]**((df2['TMREL'].iloc[i] - x + abs(df2['TMREL'].iloc[i] - x))/2)),\n",
    "                                                      17, 37,\n",
    "                              epsabs=0.001)[0]\n",
    "        burden2.append(denom2)\n",
    "    df2['burden'] = burden2\n",
    "    df2['paf'] = (df2['burden'] - 1) / df2['burden']\n",
    "    data_final_stroke = data_final_stroke.append(df2)\n",
    "    print(f'Draw {draw} completed')"
   ]
  },
  {
   "cell_type": "code",
   "execution_count": 41,
   "id": "6499336c-f682-4080-b895-910dbedea069",
   "metadata": {},
   "outputs": [],
   "source": [
    "data_final_stroke.to_csv('/ihme/homes/lutzes/PAFs_BMI_stroke.csv')"
   ]
  },
  {
   "cell_type": "code",
   "execution_count": null,
   "id": "35c585cd-983a-4dd3-bc4f-ad8fe9407183",
   "metadata": {},
   "outputs": [],
   "source": []
  }
 ],
 "metadata": {
  "kernelspec": {
   "display_name": "Python 3 (ipykernel)",
   "language": "python",
   "name": "python3"
  },
  "language_info": {
   "codemirror_mode": {
    "name": "ipython",
    "version": 3
   },
   "file_extension": ".py",
   "mimetype": "text/x-python",
   "name": "python",
   "nbconvert_exporter": "python",
   "pygments_lexer": "ipython3",
   "version": "3.8.13"
  }
 },
 "nbformat": 4,
 "nbformat_minor": 5
}
