{
 "cells": [
  {
   "cell_type": "markdown",
   "id": "d495a449-fceb-4ebd-945e-3832cb447616",
   "metadata": {},
   "source": [
    "### Loading Packages and Data"
   ]
  },
  {
   "cell_type": "code",
   "execution_count": 1,
   "id": "cd3d6483-2cb2-49a5-a8a1-19b34851e8e5",
   "metadata": {
    "tags": []
   },
   "outputs": [
    {
     "ename": "KeyboardInterrupt",
     "evalue": "",
     "output_type": "error",
     "traceback": [
      "\u001b[0;31m---------------------------------------------------------------------------\u001b[0m",
      "\u001b[0;31mAttributeError\u001b[0m                            Traceback (most recent call last)",
      "File \u001b[0;32m~/.conda/envs/vivarium_nih_us_cvd/lib/python3.8/inspect.py:2258\u001b[0m, in \u001b[0;36m_signature_from_callable\u001b[0;34m(obj, follow_wrapper_chains, skip_bound_arg, sigcls)\u001b[0m\n\u001b[1;32m   2257\u001b[0m \u001b[38;5;28;01mtry\u001b[39;00m:\n\u001b[0;32m-> 2258\u001b[0m     sig \u001b[38;5;241m=\u001b[39m \u001b[43mobj\u001b[49m\u001b[38;5;241;43m.\u001b[39;49m\u001b[43m__signature__\u001b[49m\n\u001b[1;32m   2259\u001b[0m \u001b[38;5;28;01mexcept\u001b[39;00m \u001b[38;5;167;01mAttributeError\u001b[39;00m:\n",
      "\u001b[0;31mAttributeError\u001b[0m: 'function' object has no attribute '__signature__'",
      "\nDuring handling of the above exception, another exception occurred:\n",
      "\u001b[0;31mKeyboardInterrupt\u001b[0m                         Traceback (most recent call last)",
      "Input \u001b[0;32mIn [1]\u001b[0m, in \u001b[0;36m<cell line: 1>\u001b[0;34m()\u001b[0m\n\u001b[0;32m----> 1\u001b[0m \u001b[43mget_ipython\u001b[49m\u001b[43m(\u001b[49m\u001b[43m)\u001b[49m\u001b[38;5;241;43m.\u001b[39;49m\u001b[43mrun_line_magic\u001b[49m\u001b[43m(\u001b[49m\u001b[38;5;124;43m'\u001b[39;49m\u001b[38;5;124;43mmatplotlib\u001b[39;49m\u001b[38;5;124;43m'\u001b[39;49m\u001b[43m,\u001b[49m\u001b[43m \u001b[49m\u001b[38;5;124;43m'\u001b[39;49m\u001b[38;5;124;43minline\u001b[39;49m\u001b[38;5;124;43m'\u001b[39;49m\u001b[43m)\u001b[49m\n\u001b[1;32m      2\u001b[0m \u001b[38;5;28;01mimport\u001b[39;00m \u001b[38;5;21;01mmatplotlib\u001b[39;00m\u001b[38;5;21;01m.\u001b[39;00m\u001b[38;5;21;01mpyplot\u001b[39;00m \u001b[38;5;28;01mas\u001b[39;00m \u001b[38;5;21;01mplt\u001b[39;00m\n\u001b[1;32m      3\u001b[0m \u001b[38;5;28;01mimport\u001b[39;00m \u001b[38;5;21;01mnumpy\u001b[39;00m \u001b[38;5;28;01mas\u001b[39;00m \u001b[38;5;21;01mnp\u001b[39;00m\n",
      "File \u001b[0;32m~/.conda/envs/vivarium_nih_us_cvd/lib/python3.8/site-packages/IPython/core/interactiveshell.py:2305\u001b[0m, in \u001b[0;36mInteractiveShell.run_line_magic\u001b[0;34m(self, magic_name, line, _stack_depth)\u001b[0m\n\u001b[1;32m   2303\u001b[0m     kwargs[\u001b[38;5;124m'\u001b[39m\u001b[38;5;124mlocal_ns\u001b[39m\u001b[38;5;124m'\u001b[39m] \u001b[38;5;241m=\u001b[39m \u001b[38;5;28mself\u001b[39m\u001b[38;5;241m.\u001b[39mget_local_scope(stack_depth)\n\u001b[1;32m   2304\u001b[0m \u001b[38;5;28;01mwith\u001b[39;00m \u001b[38;5;28mself\u001b[39m\u001b[38;5;241m.\u001b[39mbuiltin_trap:\n\u001b[0;32m-> 2305\u001b[0m     result \u001b[38;5;241m=\u001b[39m \u001b[43mfn\u001b[49m\u001b[43m(\u001b[49m\u001b[38;5;241;43m*\u001b[39;49m\u001b[43margs\u001b[49m\u001b[43m,\u001b[49m\u001b[43m \u001b[49m\u001b[38;5;241;43m*\u001b[39;49m\u001b[38;5;241;43m*\u001b[39;49m\u001b[43mkwargs\u001b[49m\u001b[43m)\u001b[49m\n\u001b[1;32m   2306\u001b[0m \u001b[38;5;28;01mreturn\u001b[39;00m result\n",
      "File \u001b[0;32m~/.conda/envs/vivarium_nih_us_cvd/lib/python3.8/site-packages/IPython/core/magics/pylab.py:99\u001b[0m, in \u001b[0;36mPylabMagics.matplotlib\u001b[0;34m(self, line)\u001b[0m\n\u001b[1;32m     97\u001b[0m     \u001b[38;5;28mprint\u001b[39m(\u001b[38;5;124m\"\u001b[39m\u001b[38;5;124mAvailable matplotlib backends: \u001b[39m\u001b[38;5;132;01m%s\u001b[39;00m\u001b[38;5;124m\"\u001b[39m \u001b[38;5;241m%\u001b[39m backends_list)\n\u001b[1;32m     98\u001b[0m \u001b[38;5;28;01melse\u001b[39;00m:\n\u001b[0;32m---> 99\u001b[0m     gui, backend \u001b[38;5;241m=\u001b[39m \u001b[38;5;28;43mself\u001b[39;49m\u001b[38;5;241;43m.\u001b[39;49m\u001b[43mshell\u001b[49m\u001b[38;5;241;43m.\u001b[39;49m\u001b[43menable_matplotlib\u001b[49m\u001b[43m(\u001b[49m\u001b[43margs\u001b[49m\u001b[38;5;241;43m.\u001b[39;49m\u001b[43mgui\u001b[49m\u001b[38;5;241;43m.\u001b[39;49m\u001b[43mlower\u001b[49m\u001b[43m(\u001b[49m\u001b[43m)\u001b[49m\u001b[43m \u001b[49m\u001b[38;5;28;43;01mif\u001b[39;49;00m\u001b[43m \u001b[49m\u001b[38;5;28;43misinstance\u001b[39;49m\u001b[43m(\u001b[49m\u001b[43margs\u001b[49m\u001b[38;5;241;43m.\u001b[39;49m\u001b[43mgui\u001b[49m\u001b[43m,\u001b[49m\u001b[43m \u001b[49m\u001b[38;5;28;43mstr\u001b[39;49m\u001b[43m)\u001b[49m\u001b[43m \u001b[49m\u001b[38;5;28;43;01melse\u001b[39;49;00m\u001b[43m \u001b[49m\u001b[43margs\u001b[49m\u001b[38;5;241;43m.\u001b[39;49m\u001b[43mgui\u001b[49m\u001b[43m)\u001b[49m\n\u001b[1;32m    100\u001b[0m     \u001b[38;5;28mself\u001b[39m\u001b[38;5;241m.\u001b[39m_show_matplotlib_backend(args\u001b[38;5;241m.\u001b[39mgui, backend)\n",
      "File \u001b[0;32m~/.conda/envs/vivarium_nih_us_cvd/lib/python3.8/site-packages/IPython/core/interactiveshell.py:3478\u001b[0m, in \u001b[0;36mInteractiveShell.enable_matplotlib\u001b[0;34m(self, gui)\u001b[0m\n\u001b[1;32m   3457\u001b[0m \u001b[38;5;28;01mdef\u001b[39;00m \u001b[38;5;21menable_matplotlib\u001b[39m(\u001b[38;5;28mself\u001b[39m, gui\u001b[38;5;241m=\u001b[39m\u001b[38;5;28;01mNone\u001b[39;00m):\n\u001b[1;32m   3458\u001b[0m     \u001b[38;5;124;03m\"\"\"Enable interactive matplotlib and inline figure support.\u001b[39;00m\n\u001b[1;32m   3459\u001b[0m \n\u001b[1;32m   3460\u001b[0m \u001b[38;5;124;03m    This takes the following steps:\u001b[39;00m\n\u001b[0;32m   (...)\u001b[0m\n\u001b[1;32m   3476\u001b[0m \u001b[38;5;124;03m        display figures inline.\u001b[39;00m\n\u001b[1;32m   3477\u001b[0m \u001b[38;5;124;03m    \"\"\"\u001b[39;00m\n\u001b[0;32m-> 3478\u001b[0m     \u001b[38;5;28;01mfrom\u001b[39;00m \u001b[38;5;21;01mmatplotlib_inline\u001b[39;00m\u001b[38;5;21;01m.\u001b[39;00m\u001b[38;5;21;01mbackend_inline\u001b[39;00m \u001b[38;5;28;01mimport\u001b[39;00m configure_inline_support\n\u001b[1;32m   3480\u001b[0m     \u001b[38;5;28;01mfrom\u001b[39;00m \u001b[38;5;21;01mIPython\u001b[39;00m\u001b[38;5;21;01m.\u001b[39;00m\u001b[38;5;21;01mcore\u001b[39;00m \u001b[38;5;28;01mimport\u001b[39;00m pylabtools \u001b[38;5;28;01mas\u001b[39;00m pt\n\u001b[1;32m   3481\u001b[0m     gui, backend \u001b[38;5;241m=\u001b[39m pt\u001b[38;5;241m.\u001b[39mfind_gui_and_backend(gui, \u001b[38;5;28mself\u001b[39m\u001b[38;5;241m.\u001b[39mpylab_gui_select)\n",
      "File \u001b[0;32m~/.conda/envs/vivarium_nih_us_cvd/lib/python3.8/site-packages/matplotlib_inline/backend_inline.py:223\u001b[0m, in \u001b[0;36m<module>\u001b[0;34m\u001b[0m\n\u001b[1;32m    219\u001b[0m                 ip\u001b[38;5;241m.\u001b[39mevents\u001b[38;5;241m.\u001b[39munregister(\u001b[38;5;124m'\u001b[39m\u001b[38;5;124mpost_run_cell\u001b[39m\u001b[38;5;124m'\u001b[39m, configure_once)\n\u001b[1;32m    220\u001b[0m             ip\u001b[38;5;241m.\u001b[39mevents\u001b[38;5;241m.\u001b[39mregister(\u001b[38;5;124m'\u001b[39m\u001b[38;5;124mpost_run_cell\u001b[39m\u001b[38;5;124m'\u001b[39m, configure_once)\n\u001b[0;32m--> 223\u001b[0m \u001b[43m_enable_matplotlib_integration\u001b[49m\u001b[43m(\u001b[49m\u001b[43m)\u001b[49m\n\u001b[1;32m    226\u001b[0m \u001b[38;5;28;01mdef\u001b[39;00m \u001b[38;5;21m_fetch_figure_metadata\u001b[39m(fig):\n\u001b[1;32m    227\u001b[0m     \u001b[38;5;124;03m\"\"\"Get some metadata to help with displaying a figure.\"\"\"\u001b[39;00m\n",
      "File \u001b[0;32m~/.conda/envs/vivarium_nih_us_cvd/lib/python3.8/site-packages/matplotlib_inline/backend_inline.py:212\u001b[0m, in \u001b[0;36m_enable_matplotlib_integration\u001b[0;34m()\u001b[0m\n\u001b[1;32m    210\u001b[0m \u001b[38;5;28;01mfrom\u001b[39;00m \u001b[38;5;21;01mIPython\u001b[39;00m\u001b[38;5;21;01m.\u001b[39;00m\u001b[38;5;21;01mcore\u001b[39;00m\u001b[38;5;21;01m.\u001b[39;00m\u001b[38;5;21;01mpylabtools\u001b[39;00m \u001b[38;5;28;01mimport\u001b[39;00m activate_matplotlib\n\u001b[1;32m    211\u001b[0m \u001b[38;5;28;01mtry\u001b[39;00m:\n\u001b[0;32m--> 212\u001b[0m     \u001b[43mactivate_matplotlib\u001b[49m\u001b[43m(\u001b[49m\u001b[43mbackend\u001b[49m\u001b[43m)\u001b[49m\n\u001b[1;32m    213\u001b[0m     configure_inline_support(ip, backend)\n\u001b[1;32m    214\u001b[0m \u001b[38;5;28;01mexcept\u001b[39;00m (\u001b[38;5;167;01mImportError\u001b[39;00m, \u001b[38;5;167;01mAttributeError\u001b[39;00m):\n\u001b[1;32m    215\u001b[0m     \u001b[38;5;66;03m# bugs may cause a circular import on Python 2\u001b[39;00m\n",
      "File \u001b[0;32m~/.conda/envs/vivarium_nih_us_cvd/lib/python3.8/site-packages/IPython/core/pylabtools.py:357\u001b[0m, in \u001b[0;36mactivate_matplotlib\u001b[0;34m(backend)\u001b[0m\n\u001b[1;32m    352\u001b[0m matplotlib\u001b[38;5;241m.\u001b[39mrcParams[\u001b[38;5;124m'\u001b[39m\u001b[38;5;124mbackend\u001b[39m\u001b[38;5;124m'\u001b[39m] \u001b[38;5;241m=\u001b[39m backend\n\u001b[1;32m    354\u001b[0m \u001b[38;5;66;03m# Due to circular imports, pyplot may be only partially initialised\u001b[39;00m\n\u001b[1;32m    355\u001b[0m \u001b[38;5;66;03m# when this function runs.\u001b[39;00m\n\u001b[1;32m    356\u001b[0m \u001b[38;5;66;03m# So avoid needing matplotlib attribute-lookup to access pyplot.\u001b[39;00m\n\u001b[0;32m--> 357\u001b[0m \u001b[38;5;28;01mfrom\u001b[39;00m \u001b[38;5;21;01mmatplotlib\u001b[39;00m \u001b[38;5;28;01mimport\u001b[39;00m pyplot \u001b[38;5;28;01mas\u001b[39;00m plt\n\u001b[1;32m    359\u001b[0m plt\u001b[38;5;241m.\u001b[39mswitch_backend(backend)\n\u001b[1;32m    361\u001b[0m plt\u001b[38;5;241m.\u001b[39mshow\u001b[38;5;241m.\u001b[39m_needmain \u001b[38;5;241m=\u001b[39m \u001b[38;5;28;01mFalse\u001b[39;00m\n",
      "File \u001b[0;32m~/.conda/envs/vivarium_nih_us_cvd/lib/python3.8/site-packages/matplotlib/pyplot.py:57\u001b[0m, in \u001b[0;36m<module>\u001b[0;34m\u001b[0m\n\u001b[1;32m     55\u001b[0m \u001b[38;5;28;01mfrom\u001b[39;00m \u001b[38;5;21;01mmatplotlib\u001b[39;00m \u001b[38;5;28;01mimport\u001b[39;00m docstring\n\u001b[1;32m     56\u001b[0m \u001b[38;5;28;01mfrom\u001b[39;00m \u001b[38;5;21;01mmatplotlib\u001b[39;00m\u001b[38;5;21;01m.\u001b[39;00m\u001b[38;5;21;01mbackend_bases\u001b[39;00m \u001b[38;5;28;01mimport\u001b[39;00m FigureCanvasBase, MouseButton\n\u001b[0;32m---> 57\u001b[0m \u001b[38;5;28;01mfrom\u001b[39;00m \u001b[38;5;21;01mmatplotlib\u001b[39;00m\u001b[38;5;21;01m.\u001b[39;00m\u001b[38;5;21;01mfigure\u001b[39;00m \u001b[38;5;28;01mimport\u001b[39;00m Figure, figaspect\n\u001b[1;32m     58\u001b[0m \u001b[38;5;28;01mfrom\u001b[39;00m \u001b[38;5;21;01mmatplotlib\u001b[39;00m\u001b[38;5;21;01m.\u001b[39;00m\u001b[38;5;21;01mgridspec\u001b[39;00m \u001b[38;5;28;01mimport\u001b[39;00m GridSpec, SubplotSpec\n\u001b[1;32m     59\u001b[0m \u001b[38;5;28;01mfrom\u001b[39;00m \u001b[38;5;21;01mmatplotlib\u001b[39;00m \u001b[38;5;28;01mimport\u001b[39;00m rcParams, rcParamsDefault, get_backend, rcParamsOrig\n",
      "File \u001b[0;32m~/.conda/envs/vivarium_nih_us_cvd/lib/python3.8/site-packages/matplotlib/figure.py:25\u001b[0m, in \u001b[0;36m<module>\u001b[0;34m\u001b[0m\n\u001b[1;32m     22\u001b[0m \u001b[38;5;28;01mimport\u001b[39;00m \u001b[38;5;21;01mnumpy\u001b[39;00m \u001b[38;5;28;01mas\u001b[39;00m \u001b[38;5;21;01mnp\u001b[39;00m\n\u001b[1;32m     24\u001b[0m \u001b[38;5;28;01mimport\u001b[39;00m \u001b[38;5;21;01mmatplotlib\u001b[39;00m \u001b[38;5;28;01mas\u001b[39;00m \u001b[38;5;21;01mmpl\u001b[39;00m\n\u001b[0;32m---> 25\u001b[0m \u001b[38;5;28;01mfrom\u001b[39;00m \u001b[38;5;21;01mmatplotlib\u001b[39;00m \u001b[38;5;28;01mimport\u001b[39;00m _blocking_input, docstring, projections\n\u001b[1;32m     26\u001b[0m \u001b[38;5;28;01mfrom\u001b[39;00m \u001b[38;5;21;01mmatplotlib\u001b[39;00m\u001b[38;5;21;01m.\u001b[39;00m\u001b[38;5;21;01martist\u001b[39;00m \u001b[38;5;28;01mimport\u001b[39;00m (\n\u001b[1;32m     27\u001b[0m     Artist, allow_rasterization, _finalize_rasterization)\n\u001b[1;32m     28\u001b[0m \u001b[38;5;28;01mfrom\u001b[39;00m \u001b[38;5;21;01mmatplotlib\u001b[39;00m\u001b[38;5;21;01m.\u001b[39;00m\u001b[38;5;21;01mbackend_bases\u001b[39;00m \u001b[38;5;28;01mimport\u001b[39;00m (\n\u001b[1;32m     29\u001b[0m     FigureCanvasBase, NonGuiException, MouseButton, _get_renderer)\n",
      "File \u001b[0;32m~/.conda/envs/vivarium_nih_us_cvd/lib/python3.8/site-packages/matplotlib/projections/__init__.py:55\u001b[0m, in \u001b[0;36m<module>\u001b[0;34m\u001b[0m\n\u001b[1;32m      1\u001b[0m \u001b[38;5;124;03m\"\"\"\u001b[39;00m\n\u001b[1;32m      2\u001b[0m \u001b[38;5;124;03mNon-separable transforms that map from data space to screen space.\u001b[39;00m\n\u001b[1;32m      3\u001b[0m \n\u001b[0;32m   (...)\u001b[0m\n\u001b[1;32m     52\u001b[0m \u001b[38;5;124;03m`matplotlib.projections.polar` may also be of interest.\u001b[39;00m\n\u001b[1;32m     53\u001b[0m \u001b[38;5;124;03m\"\"\"\u001b[39;00m\n\u001b[0;32m---> 55\u001b[0m \u001b[38;5;28;01mfrom\u001b[39;00m \u001b[38;5;21;01m.\u001b[39;00m\u001b[38;5;21;01m.\u001b[39;00m \u001b[38;5;28;01mimport\u001b[39;00m axes, docstring\n\u001b[1;32m     56\u001b[0m \u001b[38;5;28;01mfrom\u001b[39;00m \u001b[38;5;21;01m.\u001b[39;00m\u001b[38;5;21;01mgeo\u001b[39;00m \u001b[38;5;28;01mimport\u001b[39;00m AitoffAxes, HammerAxes, LambertAxes, MollweideAxes\n\u001b[1;32m     57\u001b[0m \u001b[38;5;28;01mfrom\u001b[39;00m \u001b[38;5;21;01m.\u001b[39;00m\u001b[38;5;21;01mpolar\u001b[39;00m \u001b[38;5;28;01mimport\u001b[39;00m PolarAxes\n",
      "File \u001b[0;32m~/.conda/envs/vivarium_nih_us_cvd/lib/python3.8/site-packages/matplotlib/axes/__init__.py:1\u001b[0m, in \u001b[0;36m<module>\u001b[0;34m\u001b[0m\n\u001b[0;32m----> 1\u001b[0m \u001b[38;5;28;01mfrom\u001b[39;00m \u001b[38;5;21;01m.\u001b[39;00m\u001b[38;5;21;01m_subplots\u001b[39;00m \u001b[38;5;28;01mimport\u001b[39;00m \u001b[38;5;241m*\u001b[39m\n\u001b[1;32m      2\u001b[0m \u001b[38;5;28;01mfrom\u001b[39;00m \u001b[38;5;21;01m.\u001b[39;00m\u001b[38;5;21;01m_axes\u001b[39;00m \u001b[38;5;28;01mimport\u001b[39;00m \u001b[38;5;241m*\u001b[39m\n",
      "File \u001b[0;32m~/.conda/envs/vivarium_nih_us_cvd/lib/python3.8/site-packages/matplotlib/axes/_subplots.py:3\u001b[0m, in \u001b[0;36m<module>\u001b[0;34m\u001b[0m\n\u001b[1;32m      1\u001b[0m \u001b[38;5;28;01mimport\u001b[39;00m \u001b[38;5;21;01mmatplotlib\u001b[39;00m \u001b[38;5;28;01mas\u001b[39;00m \u001b[38;5;21;01mmpl\u001b[39;00m\n\u001b[1;32m      2\u001b[0m \u001b[38;5;28;01mfrom\u001b[39;00m \u001b[38;5;21;01mmatplotlib\u001b[39;00m \u001b[38;5;28;01mimport\u001b[39;00m _api, cbook\n\u001b[0;32m----> 3\u001b[0m \u001b[38;5;28;01mfrom\u001b[39;00m \u001b[38;5;21;01mmatplotlib\u001b[39;00m\u001b[38;5;21;01m.\u001b[39;00m\u001b[38;5;21;01maxes\u001b[39;00m\u001b[38;5;21;01m.\u001b[39;00m\u001b[38;5;21;01m_axes\u001b[39;00m \u001b[38;5;28;01mimport\u001b[39;00m Axes\n\u001b[1;32m      4\u001b[0m \u001b[38;5;28;01mfrom\u001b[39;00m \u001b[38;5;21;01mmatplotlib\u001b[39;00m\u001b[38;5;21;01m.\u001b[39;00m\u001b[38;5;21;01mgridspec\u001b[39;00m \u001b[38;5;28;01mimport\u001b[39;00m GridSpec, SubplotSpec\n\u001b[1;32m      7\u001b[0m \u001b[38;5;28;01mclass\u001b[39;00m \u001b[38;5;21;01mSubplotBase\u001b[39;00m:\n",
      "File \u001b[0;32m~/.conda/envs/vivarium_nih_us_cvd/lib/python3.8/site-packages/matplotlib/axes/_axes.py:47\u001b[0m, in \u001b[0;36m<module>\u001b[0;34m\u001b[0m\n\u001b[1;32m     39\u001b[0m _log \u001b[38;5;241m=\u001b[39m logging\u001b[38;5;241m.\u001b[39mgetLogger(\u001b[38;5;18m__name__\u001b[39m)\n\u001b[1;32m     42\u001b[0m \u001b[38;5;66;03m# The axes module contains all the wrappers to plotting functions.\u001b[39;00m\n\u001b[1;32m     43\u001b[0m \u001b[38;5;66;03m# All the other methods should go in the _AxesBase class.\u001b[39;00m\n\u001b[1;32m     46\u001b[0m \u001b[38;5;129;43m@docstring\u001b[39;49m\u001b[38;5;241;43m.\u001b[39;49m\u001b[43minterpd\u001b[49m\n\u001b[0;32m---> 47\u001b[0m \u001b[38;5;28;43;01mclass\u001b[39;49;00m\u001b[43m \u001b[49m\u001b[38;5;21;43;01mAxes\u001b[39;49;00m\u001b[43m(\u001b[49m\u001b[43m_AxesBase\u001b[49m\u001b[43m)\u001b[49m\u001b[43m:\u001b[49m\n\u001b[1;32m     48\u001b[0m \u001b[43m    \u001b[49m\u001b[38;5;124;43;03m\"\"\"\u001b[39;49;00m\n\u001b[1;32m     49\u001b[0m \u001b[38;5;124;43;03m    The `Axes` contains most of the figure elements: `~.axis.Axis`,\u001b[39;49;00m\n\u001b[1;32m     50\u001b[0m \u001b[38;5;124;43;03m    `~.axis.Tick`, `~.lines.Line2D`, `~.text.Text`, `~.patches.Polygon`, etc.,\u001b[39;49;00m\n\u001b[0;32m   (...)\u001b[0m\n\u001b[1;32m     64\u001b[0m \n\u001b[1;32m     65\u001b[0m \u001b[38;5;124;43;03m    \"\"\"\u001b[39;49;00m\n\u001b[1;32m     66\u001b[0m \u001b[43m    \u001b[49m\u001b[38;5;66;43;03m### Labelling, legend and texts\u001b[39;49;00m\n",
      "File \u001b[0;32m~/.conda/envs/vivarium_nih_us_cvd/lib/python3.8/site-packages/matplotlib/docstring.py:86\u001b[0m, in \u001b[0;36m_ArtistPropertiesSubstitution.__call__\u001b[0;34m(self, obj)\u001b[0m\n\u001b[1;32m     84\u001b[0m \u001b[38;5;28msuper\u001b[39m()\u001b[38;5;241m.\u001b[39m\u001b[38;5;21m__call__\u001b[39m(obj)\n\u001b[1;32m     85\u001b[0m \u001b[38;5;28;01mif\u001b[39;00m \u001b[38;5;28misinstance\u001b[39m(obj, \u001b[38;5;28mtype\u001b[39m) \u001b[38;5;129;01mand\u001b[39;00m obj\u001b[38;5;241m.\u001b[39m\u001b[38;5;21m__init__\u001b[39m \u001b[38;5;241m!=\u001b[39m \u001b[38;5;28mobject\u001b[39m\u001b[38;5;241m.\u001b[39m\u001b[38;5;21m__init__\u001b[39m:\n\u001b[0;32m---> 86\u001b[0m     \u001b[38;5;28;43mself\u001b[39;49m\u001b[43m(\u001b[49m\u001b[43mobj\u001b[49m\u001b[38;5;241;43m.\u001b[39;49m\u001b[38;5;21;43m__init__\u001b[39;49m\u001b[43m)\u001b[49m\n\u001b[1;32m     87\u001b[0m \u001b[38;5;28;01mreturn\u001b[39;00m obj\n",
      "File \u001b[0;32m~/.conda/envs/vivarium_nih_us_cvd/lib/python3.8/site-packages/matplotlib/docstring.py:84\u001b[0m, in \u001b[0;36m_ArtistPropertiesSubstitution.__call__\u001b[0;34m(self, obj)\u001b[0m\n\u001b[1;32m     83\u001b[0m \u001b[38;5;28;01mdef\u001b[39;00m \u001b[38;5;21m__call__\u001b[39m(\u001b[38;5;28mself\u001b[39m, obj):\n\u001b[0;32m---> 84\u001b[0m     \u001b[38;5;28;43msuper\u001b[39;49m\u001b[43m(\u001b[49m\u001b[43m)\u001b[49m\u001b[38;5;241;43m.\u001b[39;49m\u001b[38;5;21;43m__call__\u001b[39;49m\u001b[43m(\u001b[49m\u001b[43mobj\u001b[49m\u001b[43m)\u001b[49m\n\u001b[1;32m     85\u001b[0m     \u001b[38;5;28;01mif\u001b[39;00m \u001b[38;5;28misinstance\u001b[39m(obj, \u001b[38;5;28mtype\u001b[39m) \u001b[38;5;129;01mand\u001b[39;00m obj\u001b[38;5;241m.\u001b[39m\u001b[38;5;21m__init__\u001b[39m \u001b[38;5;241m!=\u001b[39m \u001b[38;5;28mobject\u001b[39m\u001b[38;5;241m.\u001b[39m\u001b[38;5;21m__init__\u001b[39m:\n\u001b[1;32m     86\u001b[0m         \u001b[38;5;28mself\u001b[39m(obj\u001b[38;5;241m.\u001b[39m\u001b[38;5;21m__init__\u001b[39m)\n",
      "File \u001b[0;32m~/.conda/envs/vivarium_nih_us_cvd/lib/python3.8/site-packages/matplotlib/docstring.py:38\u001b[0m, in \u001b[0;36mSubstitution.__call__\u001b[0;34m(self, func)\u001b[0m\n\u001b[1;32m     36\u001b[0m \u001b[38;5;28;01mdef\u001b[39;00m \u001b[38;5;21m__call__\u001b[39m(\u001b[38;5;28mself\u001b[39m, func):\n\u001b[1;32m     37\u001b[0m     \u001b[38;5;28;01mif\u001b[39;00m func\u001b[38;5;241m.\u001b[39m\u001b[38;5;18m__doc__\u001b[39m:\n\u001b[0;32m---> 38\u001b[0m         func\u001b[38;5;241m.\u001b[39m\u001b[38;5;18m__doc__\u001b[39m \u001b[38;5;241m=\u001b[39m \u001b[43minspect\u001b[49m\u001b[38;5;241;43m.\u001b[39;49m\u001b[43mcleandoc\u001b[49m\u001b[43m(\u001b[49m\u001b[43mfunc\u001b[49m\u001b[38;5;241;43m.\u001b[39;49m\u001b[38;5;18;43m__doc__\u001b[39;49m\u001b[43m)\u001b[49m\u001b[43m \u001b[49m\u001b[38;5;241;43m%\u001b[39;49m\u001b[43m \u001b[49m\u001b[38;5;28;43mself\u001b[39;49m\u001b[38;5;241;43m.\u001b[39;49m\u001b[43mparams\u001b[49m\n\u001b[1;32m     39\u001b[0m     \u001b[38;5;28;01mreturn\u001b[39;00m func\n",
      "File \u001b[0;32m~/.conda/envs/vivarium_nih_us_cvd/lib/python3.8/site-packages/matplotlib/docstring.py:65\u001b[0m, in \u001b[0;36m_ArtistKwdocLoader.__missing__\u001b[0;34m(self, key)\u001b[0m\n\u001b[1;32m     63\u001b[0m \u001b[38;5;28;01mexcept\u001b[39;00m \u001b[38;5;167;01mValueError\u001b[39;00m \u001b[38;5;28;01mas\u001b[39;00m e:\n\u001b[1;32m     64\u001b[0m     \u001b[38;5;28;01mraise\u001b[39;00m \u001b[38;5;167;01mKeyError\u001b[39;00m(key) \u001b[38;5;28;01mfrom\u001b[39;00m \u001b[38;5;21;01me\u001b[39;00m\n\u001b[0;32m---> 65\u001b[0m \u001b[38;5;28;01mreturn\u001b[39;00m \u001b[38;5;28mself\u001b[39m\u001b[38;5;241m.\u001b[39msetdefault(key, \u001b[43mkwdoc\u001b[49m\u001b[43m(\u001b[49m\u001b[38;5;28;43mcls\u001b[39;49m\u001b[43m)\u001b[49m)\n",
      "File \u001b[0;32m~/.conda/envs/vivarium_nih_us_cvd/lib/python3.8/site-packages/matplotlib/artist.py:1749\u001b[0m, in \u001b[0;36mkwdoc\u001b[0;34m(artist)\u001b[0m\n\u001b[1;32m   1731\u001b[0m \u001b[38;5;124mr\u001b[39m\u001b[38;5;124;03m\"\"\"\u001b[39;00m\n\u001b[1;32m   1732\u001b[0m \u001b[38;5;124;03mInspect an `~matplotlib.artist.Artist` class (using `.ArtistInspector`) and\u001b[39;00m\n\u001b[1;32m   1733\u001b[0m \u001b[38;5;124;03mreturn information about its settable properties and their current values.\u001b[39;00m\n\u001b[0;32m   (...)\u001b[0m\n\u001b[1;32m   1744\u001b[0m \u001b[38;5;124;03m    use in Sphinx) if it is True.\u001b[39;00m\n\u001b[1;32m   1745\u001b[0m \u001b[38;5;124;03m\"\"\"\u001b[39;00m\n\u001b[1;32m   1746\u001b[0m ai \u001b[38;5;241m=\u001b[39m ArtistInspector(artist)\n\u001b[1;32m   1747\u001b[0m \u001b[38;5;28;01mreturn\u001b[39;00m (\u001b[38;5;124m'\u001b[39m\u001b[38;5;130;01m\\n\u001b[39;00m\u001b[38;5;124m'\u001b[39m\u001b[38;5;241m.\u001b[39mjoin(ai\u001b[38;5;241m.\u001b[39mpprint_setters_rest(leadingspace\u001b[38;5;241m=\u001b[39m\u001b[38;5;241m4\u001b[39m))\n\u001b[1;32m   1748\u001b[0m         \u001b[38;5;28;01mif\u001b[39;00m mpl\u001b[38;5;241m.\u001b[39mrcParams[\u001b[38;5;124m'\u001b[39m\u001b[38;5;124mdocstring.hardcopy\u001b[39m\u001b[38;5;124m'\u001b[39m] \u001b[38;5;28;01melse\u001b[39;00m\n\u001b[0;32m-> 1749\u001b[0m         \u001b[38;5;124m'\u001b[39m\u001b[38;5;124mProperties:\u001b[39m\u001b[38;5;130;01m\\n\u001b[39;00m\u001b[38;5;124m'\u001b[39m \u001b[38;5;241m+\u001b[39m \u001b[38;5;124m'\u001b[39m\u001b[38;5;130;01m\\n\u001b[39;00m\u001b[38;5;124m'\u001b[39m\u001b[38;5;241m.\u001b[39mjoin(\u001b[43mai\u001b[49m\u001b[38;5;241;43m.\u001b[39;49m\u001b[43mpprint_setters\u001b[49m\u001b[43m(\u001b[49m\u001b[43mleadingspace\u001b[49m\u001b[38;5;241;43m=\u001b[39;49m\u001b[38;5;241;43m4\u001b[39;49m\u001b[43m)\u001b[49m))\n",
      "File \u001b[0;32m~/.conda/envs/vivarium_nih_us_cvd/lib/python3.8/site-packages/matplotlib/artist.py:1509\u001b[0m, in \u001b[0;36mArtistInspector.pprint_setters\u001b[0;34m(self, prop, leadingspace)\u001b[0m\n\u001b[1;32m   1506\u001b[0m     \u001b[38;5;28;01mreturn\u001b[39;00m \u001b[38;5;124m'\u001b[39m\u001b[38;5;132;01m%s\u001b[39;00m\u001b[38;5;132;01m%s\u001b[39;00m\u001b[38;5;124m: \u001b[39m\u001b[38;5;132;01m%s\u001b[39;00m\u001b[38;5;124m'\u001b[39m \u001b[38;5;241m%\u001b[39m (pad, prop, accepts)\n\u001b[1;32m   1508\u001b[0m lines \u001b[38;5;241m=\u001b[39m []\n\u001b[0;32m-> 1509\u001b[0m \u001b[38;5;28;01mfor\u001b[39;00m prop \u001b[38;5;129;01min\u001b[39;00m \u001b[38;5;28msorted\u001b[39m(\u001b[38;5;28;43mself\u001b[39;49m\u001b[38;5;241;43m.\u001b[39;49m\u001b[43mget_setters\u001b[49m\u001b[43m(\u001b[49m\u001b[43m)\u001b[49m):\n\u001b[1;32m   1510\u001b[0m     accepts \u001b[38;5;241m=\u001b[39m \u001b[38;5;28mself\u001b[39m\u001b[38;5;241m.\u001b[39mget_valid_values(prop)\n\u001b[1;32m   1511\u001b[0m     name \u001b[38;5;241m=\u001b[39m \u001b[38;5;28mself\u001b[39m\u001b[38;5;241m.\u001b[39maliased_name(prop)\n",
      "File \u001b[0;32m~/.conda/envs/vivarium_nih_us_cvd/lib/python3.8/site-packages/matplotlib/artist.py:1435\u001b[0m, in \u001b[0;36mArtistInspector.get_setters\u001b[0;34m(self)\u001b[0m\n\u001b[1;32m   1432\u001b[0m     \u001b[38;5;28;01mcontinue\u001b[39;00m\n\u001b[1;32m   1433\u001b[0m func \u001b[38;5;241m=\u001b[39m \u001b[38;5;28mgetattr\u001b[39m(\u001b[38;5;28mself\u001b[39m\u001b[38;5;241m.\u001b[39mo, name)\n\u001b[1;32m   1434\u001b[0m \u001b[38;5;28;01mif\u001b[39;00m (\u001b[38;5;129;01mnot\u001b[39;00m callable(func)\n\u001b[0;32m-> 1435\u001b[0m         \u001b[38;5;129;01mor\u001b[39;00m \u001b[38;5;28mlen\u001b[39m(\u001b[43minspect\u001b[49m\u001b[38;5;241;43m.\u001b[39;49m\u001b[43msignature\u001b[49m\u001b[43m(\u001b[49m\u001b[43mfunc\u001b[49m\u001b[43m)\u001b[49m\u001b[38;5;241m.\u001b[39mparameters) \u001b[38;5;241m<\u001b[39m \u001b[38;5;241m2\u001b[39m\n\u001b[1;32m   1436\u001b[0m         \u001b[38;5;129;01mor\u001b[39;00m \u001b[38;5;28mself\u001b[39m\u001b[38;5;241m.\u001b[39mis_alias(func)):\n\u001b[1;32m   1437\u001b[0m     \u001b[38;5;28;01mcontinue\u001b[39;00m\n\u001b[1;32m   1438\u001b[0m setters\u001b[38;5;241m.\u001b[39mappend(name[\u001b[38;5;241m4\u001b[39m:])\n",
      "File \u001b[0;32m~/.conda/envs/vivarium_nih_us_cvd/lib/python3.8/inspect.py:3105\u001b[0m, in \u001b[0;36msignature\u001b[0;34m(obj, follow_wrapped)\u001b[0m\n\u001b[1;32m   3103\u001b[0m \u001b[38;5;28;01mdef\u001b[39;00m \u001b[38;5;21msignature\u001b[39m(obj, \u001b[38;5;241m*\u001b[39m, follow_wrapped\u001b[38;5;241m=\u001b[39m\u001b[38;5;28;01mTrue\u001b[39;00m):\n\u001b[1;32m   3104\u001b[0m     \u001b[38;5;124;03m\"\"\"Get a signature object for the passed callable.\"\"\"\u001b[39;00m\n\u001b[0;32m-> 3105\u001b[0m     \u001b[38;5;28;01mreturn\u001b[39;00m \u001b[43mSignature\u001b[49m\u001b[38;5;241;43m.\u001b[39;49m\u001b[43mfrom_callable\u001b[49m\u001b[43m(\u001b[49m\u001b[43mobj\u001b[49m\u001b[43m,\u001b[49m\u001b[43m \u001b[49m\u001b[43mfollow_wrapped\u001b[49m\u001b[38;5;241;43m=\u001b[39;49m\u001b[43mfollow_wrapped\u001b[49m\u001b[43m)\u001b[49m\n",
      "File \u001b[0;32m~/.conda/envs/vivarium_nih_us_cvd/lib/python3.8/inspect.py:2854\u001b[0m, in \u001b[0;36mSignature.from_callable\u001b[0;34m(cls, obj, follow_wrapped)\u001b[0m\n\u001b[1;32m   2851\u001b[0m \u001b[38;5;129m@classmethod\u001b[39m\n\u001b[1;32m   2852\u001b[0m \u001b[38;5;28;01mdef\u001b[39;00m \u001b[38;5;21mfrom_callable\u001b[39m(\u001b[38;5;28mcls\u001b[39m, obj, \u001b[38;5;241m*\u001b[39m, follow_wrapped\u001b[38;5;241m=\u001b[39m\u001b[38;5;28;01mTrue\u001b[39;00m):\n\u001b[1;32m   2853\u001b[0m     \u001b[38;5;124;03m\"\"\"Constructs Signature for the given callable object.\"\"\"\u001b[39;00m\n\u001b[0;32m-> 2854\u001b[0m     \u001b[38;5;28;01mreturn\u001b[39;00m \u001b[43m_signature_from_callable\u001b[49m\u001b[43m(\u001b[49m\u001b[43mobj\u001b[49m\u001b[43m,\u001b[49m\u001b[43m \u001b[49m\u001b[43msigcls\u001b[49m\u001b[38;5;241;43m=\u001b[39;49m\u001b[38;5;28;43mcls\u001b[39;49m\u001b[43m,\u001b[49m\n\u001b[1;32m   2855\u001b[0m \u001b[43m                                    \u001b[49m\u001b[43mfollow_wrapper_chains\u001b[49m\u001b[38;5;241;43m=\u001b[39;49m\u001b[43mfollow_wrapped\u001b[49m\u001b[43m)\u001b[49m\n",
      "File \u001b[0;32m~/.conda/envs/vivarium_nih_us_cvd/lib/python3.8/inspect.py:2258\u001b[0m, in \u001b[0;36m_signature_from_callable\u001b[0;34m(obj, follow_wrapper_chains, skip_bound_arg, sigcls)\u001b[0m\n\u001b[1;32m   2251\u001b[0m         \u001b[38;5;28;01mreturn\u001b[39;00m _signature_from_callable(\n\u001b[1;32m   2252\u001b[0m             obj,\n\u001b[1;32m   2253\u001b[0m             follow_wrapper_chains\u001b[38;5;241m=\u001b[39mfollow_wrapper_chains,\n\u001b[1;32m   2254\u001b[0m             skip_bound_arg\u001b[38;5;241m=\u001b[39mskip_bound_arg,\n\u001b[1;32m   2255\u001b[0m             sigcls\u001b[38;5;241m=\u001b[39msigcls)\n\u001b[1;32m   2257\u001b[0m \u001b[38;5;28;01mtry\u001b[39;00m:\n\u001b[0;32m-> 2258\u001b[0m     sig \u001b[38;5;241m=\u001b[39m \u001b[43mobj\u001b[49m\u001b[38;5;241;43m.\u001b[39;49m\u001b[43m__signature__\u001b[49m\n\u001b[1;32m   2259\u001b[0m \u001b[38;5;28;01mexcept\u001b[39;00m \u001b[38;5;167;01mAttributeError\u001b[39;00m:\n\u001b[1;32m   2260\u001b[0m     \u001b[38;5;28;01mpass\u001b[39;00m\n",
      "\u001b[0;31mKeyboardInterrupt\u001b[0m: "
     ]
    }
   ],
   "source": [
    "%matplotlib inline\n",
    "import matplotlib.pyplot as plt\n",
    "import numpy as np\n",
    "import pandas as pd\n",
    "pd.set_option('display.max_rows', 8)\n",
    "\n",
    "#import xarray as xr\n",
    "import warnings\n",
    "warnings.filterwarnings('ignore')\n",
    "from matplotlib.backends.backend_pdf import PdfPages"
   ]
  },
  {
   "cell_type": "code",
   "execution_count": null,
   "id": "836af9e8-96d1-458f-848b-ca8de78678ae",
   "metadata": {
    "tags": []
   },
   "outputs": [],
   "source": [
    "ls /ihme/costeffectiveness/results/vivarium_nih_us_cvd/model_2/v2_high_sbp/alabama/2022_08_25_16_15_52/"
   ]
  },
  {
   "cell_type": "code",
   "execution_count": null,
   "id": "4a393696-a5cc-486d-8223-6891216ccb93",
   "metadata": {},
   "outputs": [],
   "source": [
    "ls /ihme/costeffectiveness/results/vivarium_nih_us_cvd/model_2/v2_high_sbp/alabama/2022_08_25_16_15_52/count_data"
   ]
  },
  {
   "cell_type": "code",
   "execution_count": null,
   "id": "535b5cea-d455-4dd7-ad39-9b67b4e2bd22",
   "metadata": {},
   "outputs": [],
   "source": [
    "sim_results_dir = '/ihme/costeffectiveness/results/vivarium_nih_us_cvd/model_2/v2_high_sbp/alabama/2022_08_25_16_15_52/count_data/'"
   ]
  },
  {
   "cell_type": "markdown",
   "id": "2b062c32-c56b-49f3-800e-16f396bf1bbb",
   "metadata": {},
   "source": [
    "### Exploring Data"
   ]
  },
  {
   "cell_type": "code",
   "execution_count": null,
   "id": "6e5566eb-e2a6-448c-bef5-620af9e496e4",
   "metadata": {},
   "outputs": [],
   "source": [
    "deaths = pd.read_csv(sim_results_dir + 'deaths.csv')\n",
    "deaths.head()"
   ]
  },
  {
   "cell_type": "code",
   "execution_count": null,
   "id": "2a6e7a90-fe07-4279-a21a-6a6ae56eee53",
   "metadata": {},
   "outputs": [],
   "source": [
    "pop = pd.read_csv(sim_results_dir + 'population.csv')\n",
    "pop.loc[pop.measure==\"total_population_untracked\"].value.sum()\n",
    "pop.head()"
   ]
  },
  {
   "cell_type": "code",
   "execution_count": null,
   "id": "309d253c-286a-4385-ac3e-3ee5afdd63d9",
   "metadata": {},
   "outputs": [],
   "source": [
    "tran = pd.read_csv(sim_results_dir + 'transition_count.csv')\n",
    "tran.transition.unique()"
   ]
  },
  {
   "cell_type": "code",
   "execution_count": null,
   "id": "ab9f1283-13d6-43b8-a3c9-cd98d6387bf8",
   "metadata": {},
   "outputs": [],
   "source": [
    "state_person_time = pd.read_csv(sim_results_dir + '/state_person_time.csv')\n",
    "person_time = state_person_time.loc[state_person_time['state'].isin([\"ischemic_stroke_acute_ischemic_stroke\", \"ischemic_stroke_chronic_ischemic_stroke\", \"ischemic_stroke_susceptible_to_ischemic_stroke\"])].reset_index() \n",
    "person_time.value.sum()"
   ]
  },
  {
   "cell_type": "code",
   "execution_count": null,
   "id": "c47cca3d-f4eb-4443-871d-81609c386d2c",
   "metadata": {},
   "outputs": [],
   "source": [
    "person_time_test = state_person_time.loc[state_person_time['state'].isin([\"myocardial_infarction_acute_myocardial_infarction\", \"myocardial_infarction_post_myocardial_infarction\", \"myocardial_infarction_susceptible_to_myocardial_infarction\"])].reset_index() \n",
    "person_time_test.value.sum()"
   ]
  },
  {
   "cell_type": "markdown",
   "id": "5ce33abb-2782-4d22-9a12-87002632a91f",
   "metadata": {},
   "source": [
    "### Total DALYs by Year"
   ]
  },
  {
   "cell_type": "code",
   "execution_count": null,
   "id": "d829ca5f-0de4-4f4f-ae25-395b06fc24ae",
   "metadata": {},
   "outputs": [],
   "source": [
    "yll = pd.read_csv(sim_results_dir + 'ylls.csv')\n",
    "yll = yll.rename(columns = {'value':'yll'})\n",
    "yll_total = yll.groupby(['sex', 'age', 'input_draw', 'year']).yll.sum().reset_index()\n",
    "yld = pd.read_csv(sim_results_dir + 'ylds.csv')\n",
    "yld = yld.rename(columns = {'value':'yld'})\n",
    "yld_total = yld.groupby(['sex', 'age', 'input_draw', 'year']).yld.sum().reset_index()\n",
    "daly_total = pd.concat([yll_total, yld_total.yld], axis=1)\n",
    "daly_total['daly'] = daly_total['yll'] + daly_total['yld'] \n",
    "\n",
    "daly_total.head()"
   ]
  },
  {
   "cell_type": "code",
   "execution_count": null,
   "id": "3474a213-75ba-4641-9f7a-0beab4630121",
   "metadata": {},
   "outputs": [],
   "source": [
    "daly_sum = (daly_total\n",
    "                .groupby(['year'])\n",
    "                .daly.describe(percentiles=[.025, .975])\n",
    "                .filter(['mean', '2.5%', '97.5%'])\n",
    "                .reset_index())\n",
    "\n",
    "daly_sum.head()"
   ]
  },
  {
   "cell_type": "code",
   "execution_count": null,
   "id": "7e3845a1-ca30-40df-aae5-5a55a47335e0",
   "metadata": {},
   "outputs": [],
   "source": [
    "plt.plot(daly_sum['year'], daly_sum['mean'], marker = 'o')\n",
    "plt.fill_between(daly_sum['year'], daly_sum['2.5%'], daly_sum['97.5%'], alpha = 0.3)"
   ]
  },
  {
   "cell_type": "markdown",
   "id": "a636b7ae-27e1-4d7e-82e4-841b706db361",
   "metadata": {},
   "source": [
    "### All Cause Mortality Graphs"
   ]
  },
  {
   "cell_type": "code",
   "execution_count": null,
   "id": "2a15f1f7-4d7a-462d-92ac-494746448364",
   "metadata": {
    "tags": []
   },
   "outputs": [],
   "source": [
    "result_summary = (deaths\n",
    "                      .groupby(['age', 'sex', 'year'])\n",
    "                      .value.describe(percentiles=[.025, .975])\n",
    "                      .filter(['mean', '2.5%', '97.5%'])\n",
    "                      .reset_index())\n",
    "\n",
    "result_summary.head()"
   ]
  },
  {
   "cell_type": "code",
   "execution_count": null,
   "id": "b381a15a-52e5-44ed-84f0-77744e16380c",
   "metadata": {
    "tags": []
   },
   "outputs": [],
   "source": [
    "%%capture \n",
    "from matplotlib.backends.backend_pdf import PdfPages # PDF package\n",
    "\n",
    "with PdfPages('model1vv_v2_raw_mortality_counts.pdf') as pdf:\n",
    "    for sex in result_summary.sex.unique():\n",
    "        for year in result_summary.year.unique():\n",
    "            plt.figure()             \n",
    "            subdata = result_summary.loc[(result_summary.sex==sex) & (result_summary.year==year)]\n",
    "            plt.plot(subdata['age'], subdata['mean'], marker='o')\n",
    "            plt.fill_between(subdata['age'], subdata['2.5%'], subdata['97.5%'], alpha=.3)\n",
    "            plt.title(f'Raw death counts: {year} {sex}') \n",
    "            plt.xticks(rotation=90) \n",
    "            plt.ylim(ymax=1000)\n",
    "            plt.grid()\n",
    "            pdf.savefig(bbox_inches='tight')"
   ]
  },
  {
   "cell_type": "markdown",
   "id": "7f95de1b-3f07-4a14-8acf-1f97f42f4adb",
   "metadata": {},
   "source": [
    "#### All Cause Mortality Graph with Rate"
   ]
  },
  {
   "cell_type": "code",
   "execution_count": null,
   "id": "d4fab11a-addf-4f4b-8d8a-47c9b260ed9a",
   "metadata": {},
   "outputs": [],
   "source": [
    "person_time = person_time.rename(columns = {'value':'ptvalue'})\n",
    "per_time_group = person_time.groupby(['age', 'sex', 'year', 'input_draw']).ptvalue.sum().reset_index()\n",
    "\n",
    "per_time_group.head()"
   ]
  },
  {
   "cell_type": "code",
   "execution_count": null,
   "id": "e65d3af0-d47c-47da-bbe4-a09bc76d0a38",
   "metadata": {},
   "outputs": [],
   "source": [
    "results_rate = deaths.groupby(['age', 'sex', 'year', 'input_draw']).value.sum().reset_index()\n",
    "results_rate = pd.concat([results_rate, per_time_group.ptvalue], axis=1)\n",
    "results_rate['mean_rate'] = results_rate['value'] / results_rate['ptvalue']\n",
    "result_summary = (results_rate\n",
    "                      .groupby(['age', 'sex', 'year'])\n",
    "                      .mean_rate.describe(percentiles=[.025, .975])\n",
    "                      .filter(['mean', '2.5%', '97.5%'])\n",
    "                      .reset_index())\n",
    "\n",
    "result_summary.head()"
   ]
  },
  {
   "cell_type": "code",
   "execution_count": null,
   "id": "b387e8fd",
   "metadata": {},
   "outputs": [],
   "source": [
    "%%capture \n",
    "with PdfPages('model1vv_v2_acmr.pdf') as pdf:\n",
    "    for sex in result_summary.sex.unique():\n",
    "        for year in result_summary.year.unique():\n",
    "            plt.figure() \n",
    "            subdata = result_summary.loc[(result_summary.sex==sex) & (result_summary.year==year)]\n",
    "            plt.plot(subdata['age'], subdata['mean'], marker='o')\n",
    "            plt.fill_between(subdata['age'], subdata['2.5%'], subdata['97.5%'], alpha=.3)\n",
    "            plt.title(f'ACMR: {year} {sex}') \n",
    "            plt.xticks(rotation=90) \n",
    "            plt.ylim(ymax=0.4)\n",
    "            plt.grid()\n",
    "            pdf.savefig(bbox_inches='tight')"
   ]
  },
  {
   "cell_type": "code",
   "execution_count": null,
   "id": "fe51c530",
   "metadata": {
    "scrolled": true
   },
   "outputs": [],
   "source": [
    "%%capture \n",
    "## Has age and year reversed, so looking at year trend by age group now. \n",
    "with PdfPages('model1vv_v2_acmr_by_year.pdf') as pdf:\n",
    "    for sex in result_summary.sex.unique():\n",
    "        for age in result_summary.age.unique():\n",
    "            plt.figure() \n",
    "            subdata = result_summary.loc[(result_summary.sex==sex) & (result_summary.age==age)]\n",
    "            plt.plot(subdata['year'], subdata['mean'], marker='o')\n",
    "            plt.fill_between(subdata['year'], subdata['2.5%'], subdata['97.5%'], alpha=.3)\n",
    "            plt.title(f'ACMR: {age} {sex}') \n",
    "            plt.xticks(rotation=90) \n",
    "            plt.ylim(ymin=0) \n",
    "            plt.grid()\n",
    "            pdf.savefig(bbox_inches='tight')"
   ]
  },
  {
   "cell_type": "markdown",
   "id": "84340be2-45b9-49ef-ad17-4eb13eb2e3c8",
   "metadata": {},
   "source": [
    "### Cause Specific Mortality Graphs\n",
    "#### Acute Stroke"
   ]
  },
  {
   "cell_type": "code",
   "execution_count": null,
   "id": "1b9b5ffc-6d6e-4651-8e57-08925c8e5cd6",
   "metadata": {
    "tags": []
   },
   "outputs": [],
   "source": [
    "deaths_cause = (deaths\n",
    "               .groupby(['age', 'sex', 'year', 'cause'])\n",
    "               .value.describe(percentiles=[.025, .975])\n",
    "               .filter(['mean', '2.5%', '97.5%'])\n",
    "               .reset_index())\n",
    "\n",
    "acute = deaths_cause.loc[(deaths_cause['cause'] == 'acute_ischemic_stroke')].reset_index()\n",
    "\n",
    "acute.head()"
   ]
  },
  {
   "cell_type": "code",
   "execution_count": null,
   "id": "65f2f190-de9f-4c4e-a44f-d863abc4816d",
   "metadata": {},
   "outputs": [],
   "source": [
    "death_rate_cause = deaths.groupby(['age', 'sex', 'year', 'input_draw', 'cause']).value.sum().reset_index()\n",
    "acute_rate = death_rate_cause.loc[(death_rate_cause['cause'] == 'acute_ischemic_stroke')].reset_index()\n",
    "acute_rate.head()"
   ]
  },
  {
   "cell_type": "code",
   "execution_count": null,
   "id": "b164d283-8282-4de7-bce6-f614a3e7ad0f",
   "metadata": {},
   "outputs": [],
   "source": [
    "acute_rate_2 = pd.concat([acute_rate, per_time_group.ptvalue], axis=1)\n",
    "acute_rate_2['mean_rate'] = acute_rate_2['value'] / acute_rate_2['ptvalue']\n",
    "\n",
    "acute_rate_summary = (acute_rate_2\n",
    "                      .groupby(['age', 'sex', 'year'])\n",
    "                      .mean_rate.describe(percentiles=[.025, .975])\n",
    "                      .filter(['mean', '2.5%', '97.5%'])\n",
    "                      .reset_index())\n",
    "\n",
    "acute_rate_summary.head()"
   ]
  },
  {
   "cell_type": "code",
   "execution_count": null,
   "id": "881d3df5-f6d1-4428-be24-6b57901bb1e2",
   "metadata": {},
   "outputs": [],
   "source": [
    "%%capture \n",
    "with PdfPages('model1vv_v2_acute_csmr.pdf') as pdf:\n",
    "    for sex in acute_rate_summary.sex.unique():\n",
    "        for year in acute_rate_summary.year.unique():\n",
    "            plt.figure() \n",
    "            subdata = acute_rate_summary.loc[(acute_rate_summary.sex==sex) & (acute_rate_summary.year==year)]\n",
    "            plt.plot(subdata['age'], subdata['mean'], marker='o')\n",
    "            plt.fill_between(subdata['age'], subdata['2.5%'], subdata['97.5%'], alpha=.3)\n",
    "            plt.title(f'Acute Stroke CSMR: {year} {sex}') \n",
    "            plt.xticks(rotation=90) \n",
    "            plt.ylim(ymax=0.01)\n",
    "            plt.grid()\n",
    "            pdf.savefig(bbox_inches='tight')"
   ]
  },
  {
   "cell_type": "markdown",
   "id": "df4b6f2e-c85f-4767-ad16-0bee71580de2",
   "metadata": {},
   "source": [
    "#### Chronic Stroke"
   ]
  },
  {
   "cell_type": "code",
   "execution_count": null,
   "id": "fbacf7d1-45bf-45e8-85be-9fc0c03a0cf8",
   "metadata": {},
   "outputs": [],
   "source": [
    "chronic_rate = death_rate_cause.loc[(death_rate_cause['cause'] == 'chronic_ischemic_stroke')].reset_index()\n",
    "chronic_rate = pd.concat([chronic_rate, per_time_group.ptvalue], axis=1)\n",
    "chronic_rate['mean_rate'] = chronic_rate['value'] / chronic_rate['ptvalue']\n",
    "chronic_rate_summ = (chronic_rate\n",
    "                      .groupby(['age', 'sex', 'year'])\n",
    "                      .mean_rate.describe(percentiles=[.025, .975])\n",
    "                      .filter(['mean', '2.5%', '97.5%'])\n",
    "                      .reset_index())\n",
    "\n",
    "chronic_rate_summ"
   ]
  },
  {
   "cell_type": "code",
   "execution_count": null,
   "id": "339a8e63-708b-4b06-b2de-b1df0db9c143",
   "metadata": {},
   "outputs": [],
   "source": [
    "%%capture\n",
    "with PdfPages('model1vv_v2_chronic_csmr.pdf') as pdf:\n",
    "    for sex in chronic_rate_summ.sex.unique():\n",
    "        for year in chronic_rate_summ.year.unique():\n",
    "            plt.figure() \n",
    "            subdata = chronic_rate_summ.loc[(chronic_rate_summ.sex==sex) & (chronic_rate_summ.year==year)]\n",
    "            plt.plot(subdata['age'], subdata['mean'], marker='o')\n",
    "            plt.fill_between(subdata['age'], subdata['2.5%'], subdata['97.5%'], alpha=.3)\n",
    "            plt.title(f'Chronic Stroke CSMR: {year} {sex}') \n",
    "            plt.xticks(rotation=90) \n",
    "            plt.ylim(ymax=0.03)\n",
    "            plt.grid()\n",
    "            pdf.savefig(bbox_inches='tight')"
   ]
  },
  {
   "cell_type": "markdown",
   "id": "501b5937-b61d-4fe0-8ead-7d5d9936a967",
   "metadata": {},
   "source": [
    "#### Acute Myocardial Infarction"
   ]
  },
  {
   "cell_type": "code",
   "execution_count": null,
   "id": "07f98b7a-adde-4cff-abd6-4dba4373df25",
   "metadata": {},
   "outputs": [],
   "source": [
    "death_rate_cause.cause.unique()"
   ]
  },
  {
   "cell_type": "code",
   "execution_count": null,
   "id": "f384906b-8d45-409d-9d70-b997ee2a76d6",
   "metadata": {},
   "outputs": [],
   "source": [
    "acute_MI_rate = death_rate_cause.loc[(death_rate_cause['cause'] == 'acute_myocardial_infarction')].reset_index()\n",
    "acute_MI_rate = pd.concat([acute_MI_rate, per_time_group.ptvalue], axis=1)\n",
    "acute_MI_rate['mean_rate'] = acute_MI_rate['value'] / acute_MI_rate['ptvalue']\n",
    "acute_MI_rate_summ = (acute_MI_rate\n",
    "                      .groupby(['age', 'sex', 'year'])\n",
    "                      .mean_rate.describe(percentiles=[.025, .975])\n",
    "                      .filter(['mean', '2.5%', '97.5%'])\n",
    "                      .reset_index())\n",
    "\n",
    "acute_MI_rate_summ.head()"
   ]
  },
  {
   "cell_type": "code",
   "execution_count": null,
   "id": "58181b8a-1bef-44e0-b958-6132d927c847",
   "metadata": {},
   "outputs": [],
   "source": [
    "%%capture\n",
    "with PdfPages('model1vv_v2_acute_MI_csmr.pdf') as pdf:\n",
    "    for sex in acute_MI_rate_summ.sex.unique():\n",
    "        for year in acute_MI_rate_summ.year.unique():\n",
    "            plt.figure() \n",
    "            subdata = acute_MI_rate_summ.loc[(acute_MI_rate_summ.sex==sex) & (acute_MI_rate_summ.year==year)]\n",
    "            plt.plot(subdata['age'], subdata['mean'], marker='o')\n",
    "            plt.fill_between(subdata['age'], subdata['2.5%'], subdata['97.5%'], alpha=.3)\n",
    "            plt.title(f'Acute MI CSMR: {year} {sex}') \n",
    "            plt.xticks(rotation=90) \n",
    "            plt.ylim(ymax=0.03)\n",
    "            plt.grid()\n",
    "            pdf.savefig(bbox_inches='tight')"
   ]
  },
  {
   "cell_type": "markdown",
   "id": "7ee0ca05-a383-4a96-86a8-97a3ddf27158",
   "metadata": {},
   "source": [
    "#### Post Myocaridal Infarction"
   ]
  },
  {
   "cell_type": "code",
   "execution_count": null,
   "id": "fe30ac11-99fd-4697-b5d1-dc4d47b37e68",
   "metadata": {},
   "outputs": [],
   "source": [
    "post_MI_rate = death_rate_cause.loc[(death_rate_cause['cause'] == 'post_myocardial_infarction')].reset_index()\n",
    "post_MI_rate = pd.concat([post_MI_rate, per_time_group.ptvalue], axis=1)\n",
    "post_MI_rate['mean_rate'] = post_MI_rate['value'] / post_MI_rate['ptvalue']\n",
    "post_MI_rate_summ = (post_MI_rate\n",
    "                      .groupby(['age', 'sex', 'year'])\n",
    "                      .mean_rate.describe(percentiles=[.025, .975])\n",
    "                      .filter(['mean', '2.5%', '97.5%'])\n",
    "                      .reset_index())\n",
    "\n",
    "post_MI_rate_summ.head()"
   ]
  },
  {
   "cell_type": "code",
   "execution_count": null,
   "id": "d76d5ab4-47f3-43f8-bd88-4493b76ad2e5",
   "metadata": {},
   "outputs": [],
   "source": [
    "%%capture\n",
    "with PdfPages('model1vv_v2_post_MI_csmr.pdf') as pdf:\n",
    "    for sex in post_MI_rate_summ.sex.unique():\n",
    "        for year in post_MI_rate_summ.year.unique():\n",
    "            plt.figure() \n",
    "            subdata = post_MI_rate_summ.loc[(post_MI_rate_summ.sex==sex) & (post_MI_rate_summ.year==year)]\n",
    "            plt.plot(subdata['age'], subdata['mean'], marker='o')\n",
    "            plt.fill_between(subdata['age'], subdata['2.5%'], subdata['97.5%'], alpha=.3)\n",
    "            plt.title(f'Post MI CSMR: {year} {sex}') \n",
    "            plt.xticks(rotation=90) \n",
    "            plt.ylim(ymax=0.01)\n",
    "            plt.grid()\n",
    "            pdf.savefig(bbox_inches='tight')"
   ]
  },
  {
   "cell_type": "code",
   "execution_count": null,
   "id": "a9989e2d-d4bf-482f-8f41-c181a6d62fa2",
   "metadata": {},
   "outputs": [],
   "source": [
    "%%capture\n",
    "with PdfPages('model1vv_v2_post_MI_csmr_byyear.pdf') as pdf:\n",
    "    for sex in post_MI_rate_summ.sex.unique():\n",
    "        for age in post_MI_rate_summ.age.unique():\n",
    "            plt.figure() \n",
    "            subdata = post_MI_rate_summ.loc[(post_MI_rate_summ.sex==sex) & (post_MI_rate_summ.age==age)]\n",
    "            plt.plot(subdata['year'], subdata['mean'], marker='o')\n",
    "            plt.fill_between(subdata['year'], subdata['2.5%'], subdata['97.5%'], alpha=.3)\n",
    "            plt.title(f'Post MI CSMR by Year: {age} {sex}') \n",
    "            plt.xticks(rotation=90) \n",
    "            plt.grid()\n",
    "            pdf.savefig(bbox_inches='tight')"
   ]
  },
  {
   "cell_type": "markdown",
   "id": "cb161126-ff3b-4ca4-96f7-25d8ce095fbe",
   "metadata": {},
   "source": [
    "### Excess Mortality rate"
   ]
  },
  {
   "cell_type": "markdown",
   "id": "5e9501ae-f5a8-4c2c-846c-61df9586b2f8",
   "metadata": {},
   "source": [
    "#### Post Ischemic Stroke"
   ]
  },
  {
   "cell_type": "code",
   "execution_count": null,
   "id": "9a72d765-5090-435c-862e-d0b6917fd5ae",
   "metadata": {},
   "outputs": [],
   "source": [
    "per_time_state = state_person_time.groupby(['age', 'sex', 'year', 'state', 'input_draw']).value.sum().reset_index()\n",
    "per_time_state = per_time_state.rename(columns = {'value':'ptvalue'})\n",
    "per_time_post_MI = per_time_state.loc[(per_time_state['state'] == 'myocardial_infarction_post_myocardial_infarction')].reset_index()\n",
    "\n",
    "post_MI_emr = death_rate_cause.loc[(death_rate_cause['cause'] == 'post_myocardial_infarction')].reset_index()\n",
    "post_MI_emr = pd.concat([post_MI_emr, per_time_post_MI.ptvalue], axis=1)\n",
    "post_MI_emr['mean_rate'] = post_MI_emr['value'] / post_MI_emr['ptvalue']\n",
    "post_MI_emr_summ = (post_MI_emr\n",
    "                      .groupby(['age', 'sex', 'year'])\n",
    "                      .mean_rate.describe(percentiles=[.025, .975])\n",
    "                      .filter(['mean', '2.5%', '97.5%'])\n",
    "                      .reset_index())\n",
    "\n",
    "post_MI_emr_summ.head()"
   ]
  },
  {
   "cell_type": "code",
   "execution_count": null,
   "id": "382c0638-0bc7-4a74-b8d9-b3ee3bdc998f",
   "metadata": {},
   "outputs": [],
   "source": [
    "%%capture\n",
    "with PdfPages('model1vv_v2_post_MI_emr.pdf') as pdf:\n",
    "    for sex in post_MI_emr_summ.sex.unique():\n",
    "        for year in post_MI_emr_summ.year.unique():\n",
    "            plt.figure() \n",
    "            subdata = post_MI_emr_summ.loc[(post_MI_emr_summ.sex==sex) & (post_MI_emr_summ.year==year)]\n",
    "            plt.plot(subdata['age'], subdata['mean'], marker='o')\n",
    "            plt.fill_between(subdata['age'], subdata['2.5%'], subdata['97.5%'], alpha=.3)\n",
    "            plt.title(f'Post MI EMR: {year} {sex}') \n",
    "            plt.xticks(rotation=90) \n",
    "            plt.grid()\n",
    "            pdf.savefig(bbox_inches='tight')"
   ]
  },
  {
   "cell_type": "markdown",
   "id": "27e45b3d-f5af-4bfa-8670-b12790a2739a",
   "metadata": {},
   "source": [
    "### Prevalence "
   ]
  },
  {
   "cell_type": "markdown",
   "id": "91f65874-2f4a-4090-becf-c35a8f45ecfb",
   "metadata": {},
   "source": [
    "#### Chronic + Acute Stroke"
   ]
  },
  {
   "cell_type": "code",
   "execution_count": null,
   "id": "690565be-d92c-4f62-a8f8-3476870ab156",
   "metadata": {
    "tags": []
   },
   "outputs": [],
   "source": [
    "prev_acute = per_time_state.loc[(per_time_state['state'] == 'ischemic_stroke_acute_ischemic_stroke')].reset_index()\n",
    "prev_acute = prev_acute.rename(columns = {'ptvalue':'value'})\n",
    "prev_acute_rate = pd.concat([prev_acute, per_time_group.ptvalue], axis=1)\n",
    "prev_acute_rate['rate']= prev_acute_rate['value'] / prev_acute_rate['ptvalue']\n",
    "prev_acute_rate_sum = (prev_acute_rate\n",
    "                 .groupby(['age', 'sex', 'year'])\n",
    "                 .rate.describe(percentiles=[.025, .975])\n",
    "                 .filter(['mean', '2.5%', '97.5%'])\n",
    "                 .reset_index())\n",
    "\n",
    "prev_acute_rate_sum.head()"
   ]
  },
  {
   "cell_type": "code",
   "execution_count": null,
   "id": "649e859e-e5ae-4f7f-91c7-1501bd56a253",
   "metadata": {},
   "outputs": [],
   "source": [
    "groups = prev_acute_rate_sum.groupby('sex')\n",
    "for name, group in groups:\n",
    "    plt.plot(group['age'], group['mean'], marker='o', label=name)\n",
    "    plt.fill_between(group['age'], group['2.5%'], group['97.5%'], alpha=.3)\n",
    "plt.title('Prevalence Rate of Acute Ischemic Stroke by Sex') \n",
    "plt.xticks(rotation=90) \n",
    "plt.grid()    \n",
    "plt.legend()"
   ]
  },
  {
   "cell_type": "code",
   "execution_count": null,
   "id": "1f5cf0ae-e0c0-46cc-b168-6c962223f8e9",
   "metadata": {},
   "outputs": [],
   "source": [
    "prev_chronic = per_time_state.loc[(per_time_state['state'] == 'ischemic_stroke_chronic_ischemic_stroke')].reset_index()\n",
    "prev_chronic = prev_chronic.rename(columns = {'ptvalue':'value'})\n",
    "prev_chronic_rate = pd.concat([prev_chronic, per_time_group.ptvalue], axis=1)\n",
    "prev_chronic_rate['rate']= prev_chronic_rate['value'] / prev_chronic_rate['ptvalue']\n",
    "prev_chronic_rate_sum = (prev_chronic_rate\n",
    "                 .groupby(['age', 'sex', 'year'])\n",
    "                 .rate.describe(percentiles=[.025, .975])\n",
    "                 .filter(['mean', '2.5%', '97.5%'])\n",
    "                 .reset_index())"
   ]
  },
  {
   "cell_type": "code",
   "execution_count": null,
   "id": "11e64dbb-352c-47cf-9e6f-e67c0e3d3830",
   "metadata": {},
   "outputs": [],
   "source": [
    "groups = prev_chronic_rate_sum.groupby('sex')\n",
    "for name, group in groups:\n",
    "    plt.plot(group['age'], group['mean'], marker='o', label=name)\n",
    "    plt.fill_between(group['age'], group['2.5%'], group['97.5%'], alpha=.3)\n",
    "plt.title('Prevalence Rate of Ischemic Stroke by Sex') \n",
    "plt.xticks(rotation=90) \n",
    "plt.grid()    \n",
    "plt.legend()"
   ]
  },
  {
   "cell_type": "markdown",
   "id": "244cb69d-dff4-4424-910d-5044b0ec602e",
   "metadata": {},
   "source": [
    "#### Myocardial Infarction"
   ]
  },
  {
   "cell_type": "code",
   "execution_count": null,
   "id": "66a15ce9-0a50-4916-9dec-bff9f99e2879",
   "metadata": {},
   "outputs": [],
   "source": [
    "prev_acute_MI = per_time_state.loc[(per_time_state['state'] == 'myocardial_infarction_acute_myocardial_infarction')].reset_index()\n",
    "prev_acute_MI = prev_acute_MI.rename(columns = {'ptvalue':'value'})\n",
    "prev_acute_MI = pd.concat([prev_acute_MI, per_time_group.ptvalue], axis=1)\n",
    "prev_acute_MI['rate']= prev_acute_MI['value'] / prev_acute_MI['ptvalue']\n",
    "prev_acute_MI_summ = (prev_acute_MI\n",
    "                 .groupby(['age', 'sex', 'year'])\n",
    "                 .rate.describe(percentiles=[.025, .975])\n",
    "                 .filter(['mean', '2.5%', '97.5%'])\n",
    "                 .reset_index())\n",
    "prev_acute_MI_summ.head()"
   ]
  },
  {
   "cell_type": "code",
   "execution_count": null,
   "id": "e1f6b70b-a1e4-4c83-add1-4ee0637f0023",
   "metadata": {},
   "outputs": [],
   "source": [
    "groups = prev_acute_MI_summ.groupby('sex')\n",
    "for name, group in groups:\n",
    "    plt.plot(group['age'], group['mean'], marker='o', label=name)\n",
    "    plt.fill_between(group['age'], group['2.5%'], group['97.5%'], alpha=.3)\n",
    "plt.title('Prevalence Rate of Acute Myocardial Infarction by Sex') \n",
    "plt.xticks(rotation=90) \n",
    "plt.grid()    \n",
    "plt.legend()"
   ]
  },
  {
   "cell_type": "code",
   "execution_count": null,
   "id": "ed4260d8-4dee-4f73-886f-e3b68d0daa16",
   "metadata": {},
   "outputs": [],
   "source": [
    "prev_post_MI = per_time_state.loc[(per_time_state['state'] == 'myocardial_infarction_post_myocardial_infarction')].reset_index()\n",
    "prev_post_MI = prev_post_MI.rename(columns = {'ptvalue':'value'})\n",
    "prev_post_MI = pd.concat([prev_post_MI, per_time_group.ptvalue], axis=1)\n",
    "prev_post_MI['rate']= prev_post_MI['value'] / prev_post_MI['ptvalue']\n",
    "prev_post_MI_summ = (prev_post_MI\n",
    "                 .groupby(['age', 'sex', 'year'])\n",
    "                 .rate.describe(percentiles=[.025, .975])\n",
    "                 .filter(['mean', '2.5%', '97.5%'])\n",
    "                 .reset_index())\n",
    "prev_post_MI_summ.head()"
   ]
  },
  {
   "cell_type": "code",
   "execution_count": null,
   "id": "8ad5ac2b-6fb9-410a-8c8d-3b79cd1033c8",
   "metadata": {},
   "outputs": [],
   "source": [
    "%%capture\n",
    "for sex in prev_post_MI_summ.sex.unique():\n",
    "    for year in prev_post_MI_summ.year.unique():\n",
    "        plt.figure() \n",
    "        subdata = prev_post_MI_summ.loc[(post_MI_rate_summ.sex==sex) & (prev_post_MI_summ.year==year)]\n",
    "        plt.plot(subdata['age'], subdata['mean'], marker='o')\n",
    "        plt.fill_between(subdata['age'], subdata['2.5%'], subdata['97.5%'], alpha=.3)\n",
    "        plt.title(f'Post MI Prevalence: {year} {sex}') \n",
    "        plt.xticks(rotation=90) \n",
    "        plt.ylim(ymax=0.05)\n",
    "        plt.grid()"
   ]
  },
  {
   "cell_type": "markdown",
   "id": "4dcb81e6-33e5-4b3b-9838-14c69654faa4",
   "metadata": {},
   "source": [
    "### Incidence of First Time Acute Ischemic Stroke"
   ]
  },
  {
   "cell_type": "code",
   "execution_count": null,
   "id": "d959bc56-6820-40e6-8af8-f212ff8bbd87",
   "metadata": {},
   "outputs": [],
   "source": [
    "tran.transition.unique()"
   ]
  },
  {
   "cell_type": "code",
   "execution_count": null,
   "id": "cf0a3f31-7217-4693-b9cd-e6e24db683b5",
   "metadata": {},
   "outputs": [],
   "source": [
    "tran_sum = (tran\n",
    "                 .groupby(['age', 'sex', 'year', 'transition'])\n",
    "                 .value.describe(percentiles=[.025, .975])\n",
    "                 .filter(['mean', '2.5%', '97.5%'])\n",
    "                 .reset_index())\n",
    "\n",
    "tran_sum_stroke = tran_sum.loc[(tran_sum['transition'] == 'ischemic_stroke_susceptible_to_ischemic_stroke_to_acute_ischemic_stroke')].reset_index()\n",
    "tran_sum_stroke.head()"
   ]
  },
  {
   "cell_type": "code",
   "execution_count": null,
   "id": "8ecdcf6f-0741-41b0-b527-8563d754ccb8",
   "metadata": {},
   "outputs": [],
   "source": [
    "groups = tran_sum_stroke.groupby('sex')\n",
    "for name, group in groups:\n",
    "    plt.plot(group['age'], group['mean'], marker='o', label=name)\n",
    "    plt.fill_between(group['age'], group['2.5%'], group['97.5%'], alpha=.3)\n",
    "plt.title('Incidence of Acute Ischemic Stroke by Sex') \n",
    "plt.xticks(rotation=90) \n",
    "plt.grid()    \n",
    "plt.legend()"
   ]
  },
  {
   "cell_type": "code",
   "execution_count": null,
   "id": "220b29e4-1846-477d-8fa9-25fb65b023d1",
   "metadata": {},
   "outputs": [],
   "source": [
    "per_time_sus_stroke = per_time_state.loc[(per_time_state['state'] == 'ischemic_stroke_susceptible_to_ischemic_stroke')].reset_index()\n",
    "per_time_sus_stroke.head()"
   ]
  },
  {
   "cell_type": "code",
   "execution_count": null,
   "id": "5f799cd7-62fb-4760-9d3d-4dbc27d62b8a",
   "metadata": {},
   "outputs": [],
   "source": [
    "tran_rate = tran.groupby(['age', 'sex', 'year', 'transition', 'input_draw']).value.sum().reset_index()\n",
    "tran_rate = tran_rate.loc[(tran['transition'] == 'ischemic_stroke_susceptible_to_ischemic_stroke_to_acute_ischemic_stroke')].reset_index()\n",
    "tran_rate = pd.concat([tran_rate, per_time_group.ptvalue], axis=1)\n",
    "tran_rate['rate']= tran_rate['value'] / tran_rate['ptvalue']\n",
    "tran_rate_sum = (tran_rate\n",
    "                 .groupby(['age', 'sex', 'year'])\n",
    "                 .rate.describe(percentiles=[.025, .975])\n",
    "                 .filter(['mean', '2.5%', '97.5%'])\n",
    "                 .reset_index())\n",
    "\n",
    "tran_rate_sum.head()"
   ]
  },
  {
   "cell_type": "code",
   "execution_count": null,
   "id": "1e4293b9-5734-49ed-8fea-1611cdf1e5dd",
   "metadata": {},
   "outputs": [],
   "source": [
    "%%capture\n",
    "with PdfPages('model1vv_v2_acute_stroke_inc.pdf') as pdf:\n",
    "    for sex in tran_rate_sum.sex.unique():\n",
    "        for age in tran_rate_sum.age.unique():\n",
    "            plt.figure() \n",
    "            subdata = tran_rate_sum.loc[(tran_rate_sum.sex==sex) & (tran_rate_sum.age==age)]\n",
    "            plt.plot(subdata['year'], subdata['mean'], marker='o')\n",
    "            plt.fill_between(subdata['year'], subdata['2.5%'], subdata['97.5%'], alpha=.3)\n",
    "            plt.title(f'Acute Stroke Incidence: {age} {sex}') \n",
    "            plt.xticks(rotation=90) \n",
    "            plt.grid()\n",
    "            pdf.savefig(bbox_inches='tight')"
   ]
  },
  {
   "cell_type": "markdown",
   "id": "49274f77-106a-4ca0-8791-3b2af2fac681",
   "metadata": {},
   "source": [
    "### Incidence of Acute Myocardial Infraction "
   ]
  },
  {
   "cell_type": "code",
   "execution_count": null,
   "id": "cc5fbe50-89ab-499f-84ae-3f6c4c419de4",
   "metadata": {},
   "outputs": [],
   "source": [
    "state_person_time = pd.read_csv(sim_results_dir + '/state_person_time.csv')\n",
    "person_time = state_person_time.loc[state_person_time['state'].isin([\"myocardial_infarction_acute_myocardial_infarction\", \"myocardial_infarction_post_myocardial_infarction\", \"myocardial_infarction_susceptible_to_myocardial_infarction\"])].reset_index() \n",
    "per_time_sus_MI = person_time.loc[(person_time['state'].isin(['myocardial_infarction_susceptible_to_myocardial_infarction','myocardial_infarction_post_myocardial_infarction']))].reset_index()\n",
    "tran_rate_MI = tran.loc[(tran['transition'].isin(['myocardial_infarction_susceptible_to_myocardial_infarction_to_acute_myocardial_infarction','myocardial_infarction_post_myocardial_infarction_to_acute_myocardial_infarction']))].reset_index()\n",
    "groupby_cols = ['age', 'sex', 'year', 'input_draw']\n",
    "tran_rate_MI_all = tran_rate_MI.groupby(groupby_cols).sum() / per_time_sus_MI.groupby(groupby_cols).sum()\n",
    "tran_MI_summ = (tran_rate_MI_all.groupby([c for c in groupby_cols if c != 'input_draw'])\n",
    "                   .value.describe(percentiles=[0.025, 0.975])\n",
    "                   .filter(['mean', '2.5%', '97.5%']))\n",
    "                 \n",
    "tran_MI_summ.head()"
   ]
  },
  {
   "cell_type": "code",
   "execution_count": null,
   "id": "8e274d16-b7a4-4afd-81b0-46137130a972",
   "metadata": {},
   "outputs": [],
   "source": [
    "%%capture\n",
    "with PdfPages('model1vv_v2_acute_MI_inc.pdf') as pdf:\n",
    "    for sex in tran_MI_summ.index.get_level_values('sex').unique():\n",
    "        for year in tran_MI_summ.index.get_level_values('year').unique():\n",
    "            plt.figure() \n",
    "            subdata = tran_MI_summ.loc[(tran_MI_summ.index.get_level_values('sex')==sex) & (tran_MI_summ.index.get_level_values('year')==year)]\n",
    "            plt.plot(subdata.index.get_level_values('age'), subdata['mean'], marker='o')\n",
    "            plt.fill_between(subdata.index.get_level_values('age'), subdata['2.5%'], subdata['97.5%'], alpha=.3)\n",
    "            plt.title(f'Acute MI Incidence: {year} {sex}') \n",
    "            plt.xticks(rotation=90) \n",
    "            plt.grid()\n",
    "            plt.ylim(0,0.04)\n",
    "            pdf.savefig(bbox_inches='tight')"
   ]
  },
  {
   "cell_type": "markdown",
   "id": "667a2a22-7ff6-44f7-a4af-d53c09b201b7",
   "metadata": {},
   "source": [
    "### Artifacts"
   ]
  },
  {
   "cell_type": "code",
   "execution_count": null,
   "id": "d57d2a34-e31a-4087-8880-1c6a16458f98",
   "metadata": {},
   "outputs": [],
   "source": [
    "ls /mnt/share/costeffectiveness/artifacts/vivarium_nih_us_cvd/"
   ]
  },
  {
   "cell_type": "code",
   "execution_count": null,
   "id": "543b09fa-ebb2-4743-9e35-f3df9ce97bb3",
   "metadata": {},
   "outputs": [],
   "source": [
    "from vivarium import Artifact\n",
    "\n",
    "#explore the artifact data (note age groups)\n",
    "art = Artifact('/mnt/share/costeffectiveness/artifacts/vivarium_nih_us_cvd/alabama.hdf', filter_terms=['year_start == 2019', 'age_start >=  25'])"
   ]
  },
  {
   "cell_type": "code",
   "execution_count": null,
   "id": "cdbfc486-fa84-4ead-af86-6d0678cbd5ba",
   "metadata": {},
   "outputs": [],
   "source": [
    "art_pop = art.load('population.structure').reset_index()\n",
    "art_pop.head()"
   ]
  },
  {
   "cell_type": "code",
   "execution_count": null,
   "id": "41e28405-6ea6-4252-9f42-e175835a9d9f",
   "metadata": {},
   "outputs": [],
   "source": [
    "art.keys"
   ]
  },
  {
   "cell_type": "code",
   "execution_count": null,
   "id": "f85abb65-9c40-45cd-a297-2316116cf804",
   "metadata": {},
   "outputs": [],
   "source": [
    "art_mort = art.load('sequela.acute_ischemic_stroke.excess_mortality_rate').reset_index()\n",
    "art_mort.head()"
   ]
  },
  {
   "cell_type": "code",
   "execution_count": null,
   "id": "55ad4190-9493-45ef-aea8-119713d9da52",
   "metadata": {},
   "outputs": [],
   "source": [
    "def load_artifact_data(word:str, cause:str, measure:str):\n",
    "    master_art_data = pd.DataFrame()\n",
    "    for i in ['alabama']: #in case there are other countries\n",
    "        \n",
    "        # grab main artifact object\n",
    "        art = Artifact('/mnt/share/costeffectiveness/artifacts/vivarium_nih_us_cvd/' + i + '.hdf', \n",
    "                   filter_terms=['year_start == 2019', 'age_start >=  25']) # << MIGHT WANT TO CHANGE THESE TERMS\n",
    "        \n",
    "        # load requested measure\n",
    "        data = art.load(word + '.' + cause + '.' + measure)\n",
    "        \n",
    "        # collapse to desired percentiles\n",
    "        data = data.apply(pd.DataFrame.describe, percentiles=[0.025, 0.975], axis=1).filter(['mean', '2.5%', '97.5%']).reset_index()\n",
    "        \n",
    "        # formatting (may want to format age as well)\n",
    "        data['location'] = i.capitalize()\n",
    "        data['measure'] = measure\n",
    "        data['sex'] = np.where(data['sex'] == 'Female', 'female', 'male')\n",
    "    \n",
    "   \n",
    "        master_art_data = master_art_data.append(data)\n",
    "        \n",
    "    return master_art_data"
   ]
  },
  {
   "cell_type": "markdown",
   "id": "4b8155db-7eb4-4c9a-b2eb-0cfaa7faa95c",
   "metadata": {},
   "source": [
    "#### All Cause Mortality Rates"
   ]
  },
  {
   "cell_type": "code",
   "execution_count": null,
   "id": "d8246422-6840-4c9e-9b3c-1fa139fd19e0",
   "metadata": {},
   "outputs": [],
   "source": [
    "art_acmr = load_artifact_data('cause', 'all_causes', 'cause_specific_mortality_rate')\n",
    "art_acmr['age_group'] = [f'{int(i)}_to_{int(j) - 1}' for (i,j) in zip(art_acmr.age_start,art_acmr.age_end)]\n",
    "art_acmr.head()"
   ]
  },
  {
   "cell_type": "code",
   "execution_count": null,
   "id": "8b14c1be-b784-44b8-b6b6-fa8fd333a6ac",
   "metadata": {},
   "outputs": [],
   "source": [
    "result_summary_allyears = (results_rate\n",
    "                      .groupby(['age', 'sex'])\n",
    "                      .mean_rate.describe(percentiles=[.025, .975])\n",
    "                      .filter(['mean', '2.5%', '97.5%'])\n",
    "                      .reset_index())\n",
    "\n",
    "result_summary_allyears.head()"
   ]
  },
  {
   "cell_type": "code",
   "execution_count": null,
   "id": "aba888a1",
   "metadata": {},
   "outputs": [],
   "source": [
    "with PdfPages('model1vv_v2_acmr_artifact_and_sim.pdf') as pdf:\n",
    "    for sex in result_summary_allyears.sex.unique():\n",
    "        plt.figure() \n",
    "        subdata = result_summary_allyears.loc[(result_summary_allyears.sex==sex)]\n",
    "        plt.plot(subdata['age'], subdata['mean'], marker='o')\n",
    "        plt.fill_between(subdata['age'], subdata['2.5%'], subdata['97.5%'], alpha=.3)\n",
    "        subdata2 = art_acmr.loc[(art_acmr.sex==sex)]\n",
    "        plt.plot(subdata2['age_group'], subdata2['mean'], marker='o')\n",
    "        plt.fill_between(subdata2['age_group'], subdata2['2.5%'], subdata2['97.5%'], alpha=.3)\n",
    "        plt.title(f'ACMR: {sex}') \n",
    "        plt.xticks(rotation=90) \n",
    "        plt.grid()\n",
    "        plt.yscale('log')\n",
    "        pdf.savefig(bbox_inches='tight')\n",
    "        plt.legend(['Simulation baseline', 'Sim 95%', 'Artifact Baseline', 'Artifact 95%']) "
   ]
  },
  {
   "cell_type": "code",
   "execution_count": null,
   "id": "8619c24b",
   "metadata": {},
   "outputs": [],
   "source": [
    "def make_sim_vs_artifact_plots_by_age(sex, year, sim_data, art_data, measure):\n",
    "    plt.figure(dpi=120) # this dpi makes the figure a little bigger and more clear\n",
    "    plt.plot(sim_data.loc[(sim_data.sex==sex) & (sim_data.year==year)].age,\n",
    "            sim_data.loc[(sim_data.sex==sex) & (sim_data.year==year)]['mean'], marker='o')\n",
    "    plt.plot(art_data.loc[(art_data.sex==sex)].age_group,\n",
    "            art_data.loc[(art_data.sex==sex)]['mean'], marker='o')\n",
    "    plt.legend(['Simulation baseline', 'Artifact']) # legend so we know which color is which\n",
    "    plt.xticks(rotation=90)\n",
    "    plt.title(f'{measure}: {sex} {year}') # title for ease of review\n",
    "    plt.grid()\n",
    "    plt.semilogy()"
   ]
  },
  {
   "cell_type": "code",
   "execution_count": null,
   "id": "b418cb48",
   "metadata": {},
   "outputs": [],
   "source": [
    "make_sim_vs_artifact_plots_by_age('male', 2040, result_summary, art_acmr, 'All cause mortality rate')"
   ]
  },
  {
   "cell_type": "markdown",
   "id": "ee7ea039-556b-4b46-b4c3-b699caee78a8",
   "metadata": {},
   "source": [
    "### Cause Specific Mortality Rates"
   ]
  },
  {
   "cell_type": "markdown",
   "id": "fd0e3559-d2c1-478c-aa6d-878e388862e8",
   "metadata": {},
   "source": [
    "#### Stroke"
   ]
  },
  {
   "cell_type": "code",
   "execution_count": null,
   "id": "d8a51d47-2cea-4c40-ae1a-d2706650debb",
   "metadata": {},
   "outputs": [],
   "source": [
    "art_csmr = load_artifact_data('cause', 'ischemic_stroke', 'cause_specific_mortality_rate') \n",
    "art_csmr['age_group'] = [f'{int(i)}_to_{int(j) - 1}' for (i,j) in zip(art_acmr.age_start,art_acmr.age_end)]\n",
    "art_csmr.head()"
   ]
  },
  {
   "cell_type": "code",
   "execution_count": null,
   "id": "4b2191fa-1ca5-4b80-98ef-e609112d7798",
   "metadata": {},
   "outputs": [],
   "source": [
    "acute_rate_sum_allyear = (acute_rate_2\n",
    "                      .groupby(['age', 'sex'])\n",
    "                      .mean_rate.describe(percentiles=[.025, .975])\n",
    "                      .filter(['mean', '2.5%', '97.5%'])\n",
    "                      .reset_index())"
   ]
  },
  {
   "cell_type": "code",
   "execution_count": null,
   "id": "24f25432-bd97-464c-aaf3-dbb2314b5bb8",
   "metadata": {},
   "outputs": [],
   "source": [
    "chronic_rate_allyear = (chronic_rate\n",
    "                      .groupby(['age', 'sex'])\n",
    "                      .mean_rate.describe(percentiles=[.025, .975])\n",
    "                      .filter(['mean', '2.5%', '97.5%'])\n",
    "                      .reset_index())"
   ]
  },
  {
   "cell_type": "code",
   "execution_count": null,
   "id": "d96b917e-33c0-43a4-b0cf-e556b25801b7",
   "metadata": {},
   "outputs": [],
   "source": [
    "acute_rate_2 = acute_rate_2.rename(columns = {'mean_rate':'acute_rate'})\n",
    "chronic_rate = chronic_rate.rename(columns = {'mean_rate':'chronic_rate'})\n",
    "total_stroke_rate = pd.concat([acute_rate_2, chronic_rate.chronic_rate], axis=1)\n",
    "total_stroke_rate['total_rate'] = total_stroke_rate['acute_rate'] + total_stroke_rate['chronic_rate']"
   ]
  },
  {
   "cell_type": "code",
   "execution_count": null,
   "id": "accd853e-0b93-4da1-865c-1655874da028",
   "metadata": {},
   "outputs": [],
   "source": [
    "total_stroke_rate_allyear = (total_stroke_rate\n",
    "                      .groupby(['age', 'sex'])\n",
    "                      .total_rate.describe(percentiles=[.025, .975])\n",
    "                      .filter(['mean', '2.5%', '97.5%'])\n",
    "                      .reset_index())\n",
    "total_stroke_rate_allyear.head()"
   ]
  },
  {
   "cell_type": "code",
   "execution_count": null,
   "id": "dba5e328-b587-4d14-8b2a-36280d309380",
   "metadata": {},
   "outputs": [],
   "source": [
    "with PdfPages('model1vv_csmr_artifact_and_sim.pdf') as pdf:\n",
    "    for sex in acute_rate_sum_allyear.sex.unique():\n",
    "        plt.figure() \n",
    "        #subdata = acute_rate_sum_allyear.loc[(acute_rate_sum_allyear.sex==sex)]\n",
    "        #plt.plot(subdata['age'], subdata['mean'], marker='o')\n",
    "        #plt.fill_between(subdata['age'], subdata['2.5%'], subdata['97.5%'], alpha=.3)\n",
    "        #subdata2 = chronic_rate_allyear.loc[(chronic_rate_allyear.sex==sex)]\n",
    "        #plt.plot(subdata2['age'], subdata2['mean'], marker='o')\n",
    "        #plt.fill_between(subdata2['age'], subdata2['2.5%'], subdata2['97.5%'], alpha=.3)\n",
    "        subdata4 = total_stroke_rate_allyear.loc[(total_stroke_rate_allyear.sex==sex)]\n",
    "        plt.plot(subdata4['age'], subdata4['mean'], marker='o')\n",
    "        plt.fill_between(subdata4['age'], subdata4['2.5%'], subdata4['97.5%'], alpha=.3)\n",
    "        subdata3 = art_csmr.loc[(art_csmr.sex==sex)]\n",
    "        plt.plot(subdata3['age_group'], subdata3['mean'], marker='o')\n",
    "        plt.fill_between(subdata3['age_group'], subdata3['2.5%'], subdata3['97.5%'], alpha=.3)\n",
    "        plt.title(f'CSMR for all Stroke: {sex}') \n",
    "        plt.xticks(rotation=90) \n",
    "        plt.yscale('log')\n",
    "        plt.grid()\n",
    "        plt.yscale('log')\n",
    "        pdf.savefig(bbox_inches='tight')\n",
    "        plt.legend(['Simulation Stroke', 'Sim 95%', 'Artifact Baseline', 'Artifact 95%']) "
   ]
  },
  {
   "cell_type": "markdown",
   "id": "3845e586-ba20-4ac3-8072-3e233995c5da",
   "metadata": {},
   "source": [
    "#### Myocardial Infarction"
   ]
  },
  {
   "cell_type": "code",
   "execution_count": null,
   "id": "b5350f5b-be6e-480b-ac60-323418c9b61e",
   "metadata": {},
   "outputs": [],
   "source": [
    "art_csmr2 = load_artifact_data('cause', 'myocardial_infarction', 'cause_specific_mortality_rate') \n",
    "art_csmr2['age_group'] = [f'{int(i)}_to_{int(j) - 1}' for (i,j) in zip(art_csmr2.age_start,art_csmr2.age_end)]\n",
    "art_csmr2.head()"
   ]
  },
  {
   "cell_type": "code",
   "execution_count": null,
   "id": "e5646ed2-6173-44f5-8050-f3602c1f4b85",
   "metadata": {},
   "outputs": [],
   "source": [
    "acute_MI_rate_allyear = (acute_MI_rate\n",
    "                      .groupby(['age', 'sex'])\n",
    "                      .mean_rate.describe(percentiles=[.025, .975])\n",
    "                      .filter(['mean', '2.5%', '97.5%'])\n",
    "                      .reset_index())"
   ]
  },
  {
   "cell_type": "code",
   "execution_count": null,
   "id": "8ac468d8-c075-4d36-8e9e-0579645d578c",
   "metadata": {},
   "outputs": [],
   "source": [
    "post_MI_rate_allyear = (post_MI_rate\n",
    "                      .groupby(['age', 'sex'])\n",
    "                      .mean_rate.describe(percentiles=[.025, .975])\n",
    "                      .filter(['mean', '2.5%', '97.5%'])\n",
    "                      .reset_index())"
   ]
  },
  {
   "cell_type": "code",
   "execution_count": null,
   "id": "057d4685-5bb7-4563-90fb-50e2da0cc4f0",
   "metadata": {},
   "outputs": [],
   "source": [
    "with PdfPages('model1vv_csmr_artifact_and_sim.pdf') as pdf:\n",
    "    for sex in acute_MI_rate_allyear.sex.unique():\n",
    "        plt.figure() \n",
    "        subdata = acute_MI_rate_allyear.loc[(acute_MI_rate_allyear.sex==sex)]\n",
    "        plt.plot(subdata['age'], subdata['mean'], marker='o')\n",
    "        plt.fill_between(subdata['age'], subdata['2.5%'], subdata['97.5%'], alpha=.3)\n",
    "        subdata2 = post_MI_rate_allyear.loc[(post_MI_rate_allyear.sex==sex)]\n",
    "        plt.plot(subdata2['age'], subdata2['mean'], marker='o')\n",
    "        plt.fill_between(subdata2['age'], subdata2['2.5%'], subdata2['97.5%'], alpha=.3)\n",
    "        subdata3 = art_csmr2.loc[(art_csmr2.sex==sex)]\n",
    "        plt.plot(subdata3['age_group'], subdata3['mean'], marker='o')\n",
    "        plt.fill_between(subdata3['age_group'], subdata3['2.5%'], subdata3['97.5%'], alpha=.3)\n",
    "        plt.title(f'CSMR for MI: {sex}') \n",
    "        plt.xticks(rotation=90) \n",
    "        plt.grid()\n",
    "        #plt.yscale('log')\n",
    "        pdf.savefig(bbox_inches='tight')\n",
    "        plt.legend(['Simulation Acute MI', 'Sim 95%', 'Simulation Post MI', 'Sim 95%','Artifact Baseline', 'Artifact 95%']) "
   ]
  },
  {
   "cell_type": "code",
   "execution_count": null,
   "id": "ae18f790-1390-4924-a3a7-b6bfcff2558d",
   "metadata": {},
   "outputs": [],
   "source": [
    "acute_MI_rate = acute_MI_rate.rename(columns = {'mean_rate':'acute_rate'})\n",
    "post_MI_rate = post_MI_rate.rename(columns = {'mean_rate':'post_rate'})\n",
    "total_MI_rate = pd.concat([acute_MI_rate, post_MI_rate.post_rate], axis=1)\n",
    "total_MI_rate['total_rate'] = total_MI_rate['acute_rate'] + total_MI_rate['post_rate']\n",
    "total_MI_rate_allyear = (total_MI_rate\n",
    "                      .groupby(['age', 'sex'])\n",
    "                      .total_rate.describe(percentiles=[.025, .975])\n",
    "                      .filter(['mean', '2.5%', '97.5%'])\n",
    "                      .reset_index())\n",
    "total_MI_rate_allyear.head()"
   ]
  },
  {
   "cell_type": "code",
   "execution_count": null,
   "id": "4f5be413-157f-44e4-9f07-f3bc3155e0dd",
   "metadata": {},
   "outputs": [],
   "source": [
    "for sex in total_MI_rate_allyear.sex.unique():\n",
    "    plt.figure() \n",
    "    subdata = total_MI_rate_allyear.loc[(total_MI_rate_allyear.sex==sex)]\n",
    "    plt.plot(subdata['age'], subdata['mean'], marker='o')\n",
    "    plt.fill_between(subdata['age'], subdata['2.5%'], subdata['97.5%'], alpha=.3)\n",
    "    subdata3 = art_csmr2.loc[(art_csmr2.sex==sex)]\n",
    "    plt.plot(subdata3['age_group'], subdata3['mean'], marker='o')\n",
    "    plt.fill_between(subdata3['age_group'], subdata3['2.5%'], subdata3['97.5%'], alpha=.3)\n",
    "    plt.title(f'CSMR for MI: {sex}') \n",
    "    plt.xticks(rotation=90) \n",
    "    plt.grid()\n",
    "    plt.yscale('log')\n",
    "    plt.legend(['Simulation All MI', 'Sim 95%', 'Artifact Baseline', 'Artifact 95%']) "
   ]
  },
  {
   "cell_type": "markdown",
   "id": "3f4918b3-4859-4fe6-afb4-3fd3a7c2e06f",
   "metadata": {},
   "source": [
    "#### Incidence Rates for Stroke"
   ]
  },
  {
   "cell_type": "code",
   "execution_count": null,
   "id": "2d3c8a87-f368-4197-8316-d941b2f81629",
   "metadata": {},
   "outputs": [],
   "source": [
    "art_inc = load_artifact_data('cause', 'ischemic_stroke', 'incidence_rate')\n",
    "art_inc['age_group'] = [f'{int(i)}_to_{int(j) - 1}' for (i,j) in zip(art_inc.age_start,art_inc.age_end)]\n",
    "art_inc.head()"
   ]
  },
  {
   "cell_type": "code",
   "execution_count": null,
   "id": "09291793-79c9-4627-9301-d544debafaaf",
   "metadata": {},
   "outputs": [],
   "source": [
    "tran_rate_sum_allyear = (tran_rate\n",
    "                 .groupby(['age', 'sex'])\n",
    "                 .rate.describe(percentiles=[.025, .975])\n",
    "                 .filter(['mean', '2.5%', '97.5%'])\n",
    "                 .reset_index())\n",
    "tran_rate_sum_allyear.head()"
   ]
  },
  {
   "cell_type": "code",
   "execution_count": null,
   "id": "995fc822-59bd-45e0-8286-ed9b5f5207e3",
   "metadata": {},
   "outputs": [],
   "source": [
    "with PdfPages('model1vv_inc_artifact_and_sim.pdf') as pdf:\n",
    "    for sex in tran_rate_sum_allyear.sex.unique():\n",
    "        plt.figure() \n",
    "        subdata = tran_rate_sum_allyear.loc[(tran_rate_sum_allyear.sex==sex)]\n",
    "        plt.plot(subdata['age'], subdata['mean'], marker='o')\n",
    "        plt.fill_between(subdata['age'], subdata['2.5%'], subdata['97.5%'], alpha=.3)\n",
    "        subdata2 = art_inc.loc[(art_inc.sex==sex)]\n",
    "        plt.plot(subdata2['age_group'], subdata2['mean'], marker='o')\n",
    "        plt.fill_between(subdata2['age_group'], subdata2['2.5%'], subdata2['97.5%'], alpha=.3)\n",
    "        plt.title(f'Incidence for Stroke: {sex}') \n",
    "        plt.xticks(rotation=90) \n",
    "        plt.grid()\n",
    "        plt.yscale('log')\n",
    "        pdf.savefig(bbox_inches='tight')\n",
    "        plt.legend(['Simulation baseline', 'Sim 95%', 'Artifact Baseline', 'Artifact 95%']) "
   ]
  },
  {
   "cell_type": "markdown",
   "id": "6bf59f41-eaf2-4e35-8ff6-e3f2ae92ab92",
   "metadata": {},
   "source": [
    "#### Incidence Rates for MI"
   ]
  },
  {
   "cell_type": "code",
   "execution_count": null,
   "id": "6888fffe-d4ae-4361-ac12-cac51c25f5d4",
   "metadata": {},
   "outputs": [],
   "source": [
    "art_inc_acute_MI = load_artifact_data('cause', 'myocardial_infarction', 'incidence_rate')\n",
    "art_inc_acute_MI['age_group'] = [f'{int(i)}_to_{int(j) - 1}' for (i,j) in zip(art_inc_acute_MI.age_start,art_inc_acute_MI.age_end)]\n",
    "art_inc_acute_MI.head()"
   ]
  },
  {
   "cell_type": "code",
   "execution_count": null,
   "id": "7d59003e-1903-4769-ae05-32a0fc65b13e",
   "metadata": {},
   "outputs": [],
   "source": [
    "groupby_cols2 = ['age', 'sex', 'input_draw']\n",
    "tran_rate_MI_all = tran_rate_MI.groupby(groupby_cols2).sum() / per_time_sus_MI.groupby(groupby_cols2).sum()\n",
    "tran_MI_summ_allyear = (tran_rate_MI_all.groupby([c for c in groupby_cols2 if c != 'input_draw'])\n",
    "                   .value.describe(percentiles=[0.025, 0.975])\n",
    "                   .filter(['mean', '2.5%', '97.5%']))\n",
    "                 \n",
    "tran_MI_summ_allyear.head()"
   ]
  },
  {
   "cell_type": "code",
   "execution_count": null,
   "id": "3edd234d-247b-48a9-afeb-96c62e5473a2",
   "metadata": {},
   "outputs": [],
   "source": [
    "for sex in tran_MI_summ_allyear.index.get_level_values('sex').unique():\n",
    "    plt.figure() \n",
    "    subdata = tran_MI_summ_allyear.loc[(tran_MI_summ_allyear.index.get_level_values('sex')==sex)]\n",
    "    plt.plot(subdata.index.get_level_values('age'), subdata['mean'], marker='o')\n",
    "    plt.fill_between(subdata.index.get_level_values('age'), subdata['2.5%'], subdata['97.5%'], alpha=.3)\n",
    "    subdata3 = art_inc_acute_MI.loc[(art_inc_acute_MI.sex==sex)]\n",
    "    plt.plot(subdata3['age_group'], subdata3['mean'], marker='o')\n",
    "    plt.fill_between(subdata3['age_group'], subdata3['2.5%'], subdata3['97.5%'], alpha=.3)\n",
    "    plt.title(f'Incidence for MI: {sex}') \n",
    "    plt.xticks(rotation=90) \n",
    "    plt.grid()\n",
    "    plt.yscale('log')\n",
    "    plt.legend(['Simulation All MI', 'Sim 95%', 'Artifact Baseline', 'Artifact 95%']) "
   ]
  },
  {
   "cell_type": "markdown",
   "id": "16a4992f-fe40-4be8-858a-c6642527c2b7",
   "metadata": {},
   "source": [
    "#### Prevalence Rates"
   ]
  },
  {
   "cell_type": "code",
   "execution_count": null,
   "id": "697bc60f-709b-40eb-b6ad-19f770657833",
   "metadata": {},
   "outputs": [],
   "source": [
    "prev_chronic_rate_sum_allyear = (prev_chronic_rate\n",
    "                 .groupby(['age', 'sex'])\n",
    "                 .rate.describe(percentiles=[.025, .975])\n",
    "                 .filter(['mean', '2.5%', '97.5%'])\n",
    "                 .reset_index())"
   ]
  },
  {
   "cell_type": "code",
   "execution_count": null,
   "id": "a0b4fa49-2bba-4ec5-b80d-90f91b2f7e6d",
   "metadata": {},
   "outputs": [],
   "source": [
    "art_prev = load_artifact_data('sequela', 'chronic_ischemic_stroke', 'prevalence')\n",
    "art_prev['age_group'] = [f'{int(i)}_to_{int(j) - 1}' for (i,j) in zip(art_prev.age_start,art_prev.age_end)]\n",
    "art_prev.head()"
   ]
  },
  {
   "cell_type": "code",
   "execution_count": null,
   "id": "94c96147-f246-4c4d-91fa-3371283e00b8",
   "metadata": {},
   "outputs": [],
   "source": [
    "for sex in prev_chronic_rate_sum_allyear.sex.unique():\n",
    "    plt.figure() \n",
    "    subdata = prev_chronic_rate_sum_allyear.loc[(prev_chronic_rate_sum_allyear.sex==sex)]\n",
    "    plt.plot(subdata['age'], subdata['mean'], marker='o')\n",
    "    plt.fill_between(subdata['age'], subdata['2.5%'], subdata['97.5%'], alpha=.3)\n",
    "    subdata2 = art_prev.loc[(art_prev.sex==sex)]\n",
    "    plt.plot(subdata2['age_group'], subdata2['mean'], marker='o')\n",
    "    plt.fill_between(subdata2['age_group'], subdata2['2.5%'], subdata2['97.5%'], alpha=.3)\n",
    "    plt.title(f'Prevalence of Chronic Stroke: {sex}') \n",
    "    plt.xticks(rotation=90) \n",
    "    plt.grid()\n",
    "    plt.yscale('log')\n",
    "    plt.legend(['Simulation baseline', 'Sim 95%', 'Artifact Baseline', 'Artifact 95%']) "
   ]
  },
  {
   "cell_type": "code",
   "execution_count": null,
   "id": "c352e087-d374-4a5b-9250-a328b2933e9f",
   "metadata": {},
   "outputs": [],
   "source": [
    "prev_acute_rate_sum_allyear = (prev_acute_rate\n",
    "                 .groupby(['age', 'sex'])\n",
    "                 .rate.describe(percentiles=[.025, .975])\n",
    "                 .filter(['mean', '2.5%', '97.5%'])\n",
    "                 .reset_index())"
   ]
  },
  {
   "cell_type": "code",
   "execution_count": null,
   "id": "637377aa-14a5-4e83-accc-d09662a4575d",
   "metadata": {},
   "outputs": [],
   "source": [
    "art_prev2 = load_artifact_data('sequela', 'acute_ischemic_stroke', 'prevalence')\n",
    "art_prev2['age_group'] = [f'{int(i)}_to_{int(j) - 1}' for (i,j) in zip(art_prev2.age_start,art_prev2.age_end)]"
   ]
  },
  {
   "cell_type": "code",
   "execution_count": null,
   "id": "360ad206-2f08-4482-bd84-da5026b06763",
   "metadata": {},
   "outputs": [],
   "source": [
    "for sex in prev_acute_rate_sum_allyear.sex.unique():\n",
    "    plt.figure() \n",
    "    subdata = prev_acute_rate_sum_allyear.loc[(prev_acute_rate_sum_allyear.sex==sex)]\n",
    "    plt.plot(subdata['age'], subdata['mean'], marker='o')\n",
    "    plt.fill_between(subdata['age'], subdata['2.5%'], subdata['97.5%'], alpha=.3)\n",
    "    subdata2 = art_prev2.loc[(art_prev2.sex==sex)]\n",
    "    plt.plot(subdata2['age_group'], subdata2['mean'], marker='o')\n",
    "    plt.fill_between(subdata2['age_group'], subdata2['2.5%'], subdata2['97.5%'], alpha=.3)\n",
    "    plt.title(f'Prevalence of Acute Stroke: {sex}') \n",
    "    plt.xticks(rotation=90) \n",
    "    plt.grid()\n",
    "    plt.yscale('log')\n",
    "    plt.legend(['Simulation baseline', 'Sim 95%', 'Artifact Baseline', 'Artifact 95%']) "
   ]
  },
  {
   "cell_type": "markdown",
   "id": "785a5d8c-9e0b-4ac7-b838-8ec21b8a22ff",
   "metadata": {},
   "source": [
    "#### Prevalence of Post MI"
   ]
  },
  {
   "cell_type": "code",
   "execution_count": null,
   "id": "4081d8bc-49e6-4c5f-a838-803673694ecf",
   "metadata": {},
   "outputs": [],
   "source": [
    "art_prev3 = load_artifact_data('cause', 'post_myocardial_infarction', 'prevalence')\n",
    "art_prev3['age_group'] = [f'{int(i)}_to_{int(j) - 1}' for (i,j) in zip(art_prev3.age_start,art_prev3.age_end)]\n",
    "art_prev3.head()"
   ]
  },
  {
   "cell_type": "code",
   "execution_count": null,
   "id": "43fd9075-a373-48a9-b1ec-23436bcc7cf8",
   "metadata": {},
   "outputs": [],
   "source": [
    "prev_post_MI_sum_allyear = (prev_post_MI\n",
    "                 .groupby(['age', 'sex'])\n",
    "                 .rate.describe(percentiles=[.025, .975])\n",
    "                 .filter(['mean', '2.5%', '97.5%'])\n",
    "                 .reset_index())\n",
    "prev_post_MI_sum_allyear.head()"
   ]
  },
  {
   "cell_type": "code",
   "execution_count": null,
   "id": "a45cade2-785f-419b-aca0-ee1ebd281e98",
   "metadata": {},
   "outputs": [],
   "source": [
    "##Can try plotting the median \n",
    "\n",
    "for sex in prev_post_MI_sum_allyear.sex.unique():\n",
    "    plt.figure() \n",
    "    subdata = prev_post_MI_sum_allyear.loc[(prev_post_MI_sum_allyear.sex==sex)]\n",
    "    plt.plot(subdata['age'], subdata['mean'], marker='o')\n",
    "    plt.fill_between(subdata['age'], subdata['2.5%'], subdata['97.5%'], alpha=.3)\n",
    "    subdata2 = art_prev3.loc[(art_prev3.sex==sex)]\n",
    "    plt.plot(subdata2['age_group'], subdata2['mean'], marker='o')\n",
    "    plt.fill_between(subdata2['age_group'], subdata2['2.5%'], subdata2['97.5%'], alpha=.3)\n",
    "    plt.title(f'Prevalence of Post MI: {sex}') \n",
    "    plt.xticks(rotation=90) \n",
    "    plt.grid()\n",
    "    plt.yscale('log')\n",
    "    plt.legend(['Simulation baseline', 'Sim 95%', 'Artifact Baseline', 'Artifact 95%']) "
   ]
  },
  {
   "cell_type": "markdown",
   "id": "12556e2e-284d-47df-a2a3-11fc8e7e6e9f",
   "metadata": {},
   "source": [
    "#### Prevalence of Acute MI"
   ]
  },
  {
   "cell_type": "code",
   "execution_count": null,
   "id": "d87ec4fd-63d6-4a05-9877-13c36ce01880",
   "metadata": {},
   "outputs": [],
   "source": [
    "art_prev4 = load_artifact_data('cause', 'acute_myocardial_infarction', 'prevalence')\n",
    "art_prev4['age_group'] = [f'{int(i)}_to_{int(j) - 1}' for (i,j) in zip(art_prev4.age_start,art_prev4.age_end)]\n",
    "art_prev4.head()"
   ]
  },
  {
   "cell_type": "code",
   "execution_count": null,
   "id": "dfb94a39-d0f8-40a8-847b-70a967c274fe",
   "metadata": {},
   "outputs": [],
   "source": [
    "prev_acute_MI_sum_allyear = (prev_acute_MI\n",
    "                 .groupby(['age', 'sex'])\n",
    "                 .rate.describe(percentiles=[.025, .975])\n",
    "                 .filter(['mean', '2.5%', '97.5%'])\n",
    "                 .reset_index())\n",
    "prev_acute_MI_sum_allyear.head()"
   ]
  },
  {
   "cell_type": "code",
   "execution_count": null,
   "id": "55e159b2-9b66-42b5-94d0-2688e26474f9",
   "metadata": {},
   "outputs": [],
   "source": [
    "for sex in prev_acute_MI_sum_allyear.sex.unique():\n",
    "    plt.figure() \n",
    "    subdata = prev_acute_MI_sum_allyear.loc[(prev_acute_MI_sum_allyear.sex==sex)]\n",
    "    plt.plot(subdata['age'], subdata['mean'], marker='o')\n",
    "    plt.fill_between(subdata['age'], subdata['2.5%'], subdata['97.5%'], alpha=.3)\n",
    "    subdata2 = art_prev4.loc[(art_prev4.sex==sex)]\n",
    "    plt.plot(subdata2['age_group'], subdata2['mean'], marker='o')\n",
    "    plt.fill_between(subdata2['age_group'], subdata2['2.5%'], subdata2['97.5%'], alpha=.3)\n",
    "    plt.title(f'Prevalence of Acute MI: {sex}') \n",
    "    plt.xticks(rotation=90) \n",
    "    plt.grid()\n",
    "    plt.yscale('log')\n",
    "    plt.legend(['Simulation baseline', 'Sim 95%', 'Artifact Baseline', 'Artifact 95%']) "
   ]
  },
  {
   "cell_type": "markdown",
   "id": "8f29d1a9-e026-497b-8573-c7cc4457552f",
   "metadata": {},
   "source": [
    "#### Excess Mortality Rate"
   ]
  },
  {
   "cell_type": "markdown",
   "id": "922669c5-cc6a-478c-8ceb-cde0736b7624",
   "metadata": {},
   "source": [
    "#### Acute Stroke"
   ]
  },
  {
   "cell_type": "code",
   "execution_count": null,
   "id": "f1c0ce1d-0c60-49fe-898f-bdd349cd5232",
   "metadata": {},
   "outputs": [],
   "source": [
    "art_emr = load_artifact_data('sequela', 'acute_ischemic_stroke', 'excess_mortality_rate')\n",
    "art_emr['age_group'] = [f'{int(i)}_to_{int(j) - 1}' for (i,j) in zip(art_emr.age_start,art_emr.age_end)]\n",
    "art_emr.head()"
   ]
  },
  {
   "cell_type": "code",
   "execution_count": null,
   "id": "6adcbb63-1ebc-4c8a-880b-696957e8ec2f",
   "metadata": {},
   "outputs": [],
   "source": [
    "prev_acute = per_time_state.loc[(per_time_state['state'] == 'ischemic_stroke_acute_ischemic_stroke')].reset_index()\n",
    "acute_rate_emr = pd.concat([acute_rate, prev_acute.ptvalue], axis=1)\n",
    "acute_rate_emr['mean_rate'] = acute_rate_emr['value'] / acute_rate_emr['ptvalue']\n",
    "\n",
    "acute_rate_sum_allyear = (acute_rate_emr\n",
    "                      .groupby(['age', 'sex'])\n",
    "                      .mean_rate.describe(percentiles=[.025, .975])\n",
    "                      .filter(['mean', '2.5%', '97.5%'])\n",
    "                      .reset_index())\n",
    "\n",
    "acute_rate_sum_allyear.head()"
   ]
  },
  {
   "cell_type": "code",
   "execution_count": null,
   "id": "6a132e3d-1fc8-4df0-a8c1-60a3d1dc17a3",
   "metadata": {},
   "outputs": [],
   "source": [
    "for sex in acute_rate_sum_allyear.sex.unique():\n",
    "    plt.figure() \n",
    "    subdata = acute_rate_sum_allyear.loc[(acute_rate_sum_allyear.sex==sex)]\n",
    "    plt.plot(subdata['age'], subdata['mean'], marker='o')\n",
    "    plt.fill_between(subdata['age'], subdata['2.5%'], subdata['97.5%'], alpha=.3)\n",
    "    subdata2 = art_emr.loc[(art_emr.sex==sex)]\n",
    "    plt.plot(subdata2['age_group'], subdata2['mean'], marker='o')\n",
    "    plt.fill_between(subdata2['age_group'], subdata2['2.5%'], subdata2['97.5%'], alpha=.3)\n",
    "    plt.title(f'Excess Mortality Rate from Acute Stroke: {sex}') \n",
    "    plt.xticks(rotation=90) \n",
    "    plt.grid()\n",
    "    plt.yscale('log')\n",
    "    plt.legend(['Simulation baseline', 'Sim 95%', 'Artifact Baseline', 'Artifact 95%']) "
   ]
  },
  {
   "cell_type": "markdown",
   "id": "0394cb6a-5aba-4199-aa46-a22b2293d405",
   "metadata": {},
   "source": [
    "#### Chronic Stroke"
   ]
  },
  {
   "cell_type": "code",
   "execution_count": null,
   "id": "63764c68-2e93-4ca7-9fc7-1436cbf7c4b7",
   "metadata": {},
   "outputs": [],
   "source": [
    "art_emr2 = load_artifact_data('sequela', 'chronic_ischemic_stroke', 'excess_mortality_rate')\n",
    "art_emr2['age_group'] = [f'{int(i)}_to_{int(j) - 1}' for (i,j) in zip(art_emr2.age_start,art_emr2.age_end)]"
   ]
  },
  {
   "cell_type": "code",
   "execution_count": null,
   "id": "f1d9cb63-3e38-4dfd-ae7a-61a1897c18b5",
   "metadata": {},
   "outputs": [],
   "source": [
    "chronic = per_time_state.loc[(per_time_state['state'] == 'ischemic_stroke_chronic_ischemic_stroke')].reset_index()\n",
    "#chronic = chronic.rename(columns = {'value':'ptvalue'})\n",
    "chronic_rate = death_rate_cause.loc[(death_rate_cause['cause'] == 'chronic_ischemic_stroke')].reset_index()\n",
    "chronic_rate_emr = pd.concat([chronic_rate, chronic.ptvalue], axis=1)\n",
    "chronic_rate_emr['mean_rate'] = chronic_rate_emr['value'] / chronic_rate_emr['ptvalue']\n",
    "chronic_rate_emr_allyear = (chronic_rate_emr\n",
    "                      .groupby(['age', 'sex'])\n",
    "                      .mean_rate.describe(percentiles=[.025, .975])\n",
    "                      .filter(['mean', '2.5%', '97.5%'])\n",
    "                      .reset_index())\n",
    "\n",
    "\n",
    "chronic_rate_emr_allyear.head()"
   ]
  },
  {
   "cell_type": "code",
   "execution_count": null,
   "id": "1aa10636-3855-4ef5-ac0c-2c6202b33a36",
   "metadata": {},
   "outputs": [],
   "source": [
    "for sex in chronic_rate_emr_allyear.sex.unique():\n",
    "    plt.figure() \n",
    "    subdata = chronic_rate_emr_allyear.loc[(chronic_rate_emr_allyear.sex==sex)]\n",
    "    plt.plot(subdata['age'], subdata['mean'], marker='o')\n",
    "    plt.fill_between(subdata['age'], subdata['2.5%'], subdata['97.5%'], alpha=.3)\n",
    "    subdata2 = art_emr2.loc[(art_emr2.sex==sex)]\n",
    "    plt.plot(subdata2['age_group'], subdata2['mean'], marker='o')\n",
    "    plt.fill_between(subdata2['age_group'], subdata2['2.5%'], subdata2['97.5%'], alpha=.3)\n",
    "    plt.title(f'Excess Mortality Rate from Chronic Stroke: {sex}') \n",
    "    plt.xticks(rotation=90) \n",
    "    plt.grid()\n",
    "    plt.yscale('log')\n",
    "    plt.legend(['Simulation baseline', 'Sim 95%', 'Artifact Baseline', 'Artifact 95%']) "
   ]
  },
  {
   "cell_type": "markdown",
   "id": "54a13130-b4d3-4b43-a58b-fd9eb00344e8",
   "metadata": {},
   "source": [
    "#### Acute MI"
   ]
  },
  {
   "cell_type": "code",
   "execution_count": null,
   "id": "84b35b20-7e3f-4b8c-ab2d-0fb9e86407fc",
   "metadata": {},
   "outputs": [],
   "source": [
    "art_emr_acuteMI = load_artifact_data('cause', 'acute_myocardial_infarction', 'excess_mortality_rate')\n",
    "art_emr_acuteMI['age_group'] = [f'{int(i)}_to_{int(j) - 1}' for (i,j) in zip(art_emr_acuteMI.age_start,art_emr_acuteMI.age_end)]"
   ]
  },
  {
   "cell_type": "code",
   "execution_count": null,
   "id": "46488539-d225-4a6b-92fe-d5bf7fcabc6f",
   "metadata": {},
   "outputs": [],
   "source": [
    "acute_MI_EMR = per_time_state.loc[(per_time_state['state'] == 'myocardial_infarction_acute_myocardial_infarction')].reset_index()\n",
    "acute_MI_emr_rate = death_rate_cause.loc[(death_rate_cause['cause'] == 'acute_myocardial_infarction')].reset_index()\n",
    "acute_MI_emr_rate = pd.concat([acute_MI_emr_rate, acute_MI_EMR.ptvalue], axis=1)\n",
    "acute_MI_emr_rate['mean_rate'] = acute_MI_emr_rate['value'] / acute_MI_emr_rate['ptvalue']\n",
    "acute_MI_emr_rate_allyear = (acute_MI_emr_rate\n",
    "                      .groupby(['age', 'sex'])\n",
    "                      .mean_rate.describe(percentiles=[.025, .975])\n",
    "                      .filter(['mean', '2.5%', '97.5%'])\n",
    "                      .reset_index())\n",
    "\n",
    "\n",
    "acute_MI_emr_rate_allyear.head()"
   ]
  },
  {
   "cell_type": "code",
   "execution_count": null,
   "id": "7a5a1dea-0a6f-4491-bda2-9deae044062d",
   "metadata": {},
   "outputs": [],
   "source": [
    "for sex in acute_MI_emr_rate_allyear.sex.unique():\n",
    "    plt.figure() \n",
    "    subdata = acute_MI_emr_rate_allyear.loc[(acute_MI_emr_rate_allyear.sex==sex)]\n",
    "    plt.plot(subdata['age'], subdata['mean'], marker='o')\n",
    "    plt.fill_between(subdata['age'], subdata['2.5%'], subdata['97.5%'], alpha=.3)\n",
    "    subdata2 = art_emr_acuteMI.loc[(art_emr_acuteMI.sex==sex)]\n",
    "    plt.plot(subdata2['age_group'], subdata2['mean'], marker='o')\n",
    "    plt.fill_between(subdata2['age_group'], subdata2['2.5%'], subdata2['97.5%'], alpha=.3)\n",
    "    plt.title(f'Excess Mortality Rate from Acute MI: {sex}') \n",
    "    plt.xticks(rotation=90) \n",
    "    plt.grid()\n",
    "    plt.yscale('log')\n",
    "    plt.legend(['Simulation baseline', 'Sim 95%', 'Artifact Baseline', 'Artifact 95%']) "
   ]
  },
  {
   "cell_type": "markdown",
   "id": "a4a7732c-3d73-4174-9f99-45bc2a68acd2",
   "metadata": {},
   "source": [
    "#### Post MI EMR"
   ]
  },
  {
   "cell_type": "code",
   "execution_count": null,
   "id": "521b1136-094f-4f5b-8f98-4321ed063ae5",
   "metadata": {},
   "outputs": [],
   "source": [
    "post_mi_rate_emr_allyear = (post_MI_emr\n",
    "                      .groupby(['age', 'sex'])\n",
    "                      .mean_rate.describe(percentiles=[.025, .975])\n",
    "                      .filter(['mean', '2.5%', '97.5%'])\n",
    "                      .reset_index())\n",
    "\n",
    "\n",
    "post_mi_rate_emr_allyear.head()"
   ]
  },
  {
   "cell_type": "code",
   "execution_count": null,
   "id": "a08414d2-08ac-4556-b7de-6a245283ec1e",
   "metadata": {},
   "outputs": [],
   "source": [
    "art_emr_postMI = load_artifact_data('cause', 'post_myocardial_infarction', 'excess_mortality_rate')\n",
    "art_emr_postMI['age_group'] = [f'{int(i)}_to_{int(j) - 1}' for (i,j) in zip(art_emr_postMI.age_start,art_emr_postMI.age_end)]"
   ]
  },
  {
   "cell_type": "code",
   "execution_count": null,
   "id": "6636654c-2e11-4ba4-b379-757def658061",
   "metadata": {},
   "outputs": [],
   "source": [
    "for sex in post_mi_rate_emr_allyear.sex.unique():\n",
    "    plt.figure() \n",
    "    subdata = post_mi_rate_emr_allyear.loc[(post_mi_rate_emr_allyear.sex==sex)]\n",
    "    plt.plot(subdata['age'], subdata['mean'], marker='o')\n",
    "    plt.fill_between(subdata['age'], subdata['2.5%'], subdata['97.5%'], alpha=.3)\n",
    "    subdata2 = art_emr_postMI.loc[(art_emr_postMI.sex==sex)]\n",
    "    plt.plot(subdata2['age_group'], subdata2['mean'], marker='o')\n",
    "    plt.fill_between(subdata2['age_group'], subdata2['2.5%'], subdata2['97.5%'], alpha=.3)\n",
    "    plt.title(f'Excess Mortality Rate from Post MI: {sex}') \n",
    "    plt.xticks(rotation=90) \n",
    "    plt.grid()\n",
    "    plt.yscale('log')\n",
    "    plt.legend(['Simulation baseline', 'Sim 95%', 'Artifact Baseline', 'Artifact 95%']) "
   ]
  },
  {
   "cell_type": "markdown",
   "id": "64c6a519-4a3a-49e3-81ed-1a4622cab8a5",
   "metadata": {},
   "source": [
    "# GBD Comparison"
   ]
  },
  {
   "cell_type": "markdown",
   "id": "a4e26a8f-0f28-4acb-bbc3-b6fb207c826e",
   "metadata": {},
   "source": [
    "#### All Cause Mortality Rate"
   ]
  },
  {
   "cell_type": "code",
   "execution_count": null,
   "id": "1ce3094c-af0a-42ae-a274-55af0f79832f",
   "metadata": {},
   "outputs": [],
   "source": [
    "from db_queries import get_outputs as go\n",
    "from db_queries import get_ids"
   ]
  },
  {
   "cell_type": "code",
   "execution_count": null,
   "id": "42cabc90-6752-484e-8ae0-631d398d51bc",
   "metadata": {},
   "outputs": [],
   "source": [
    "gbd_data = go(\"cause\", gbd_round_id=6, age_group_id=[10,11,12,13,14,15,16,17,18,19,20,30,31,32,33], cause_id=294, measure_id=1, metric_id=3, location_id=523, year_id=2019, sex_id=[1,2], decomp_step='step5')"
   ]
  },
  {
   "cell_type": "code",
   "execution_count": null,
   "id": "7d6f85d3-9bb4-462d-824c-1cb2d6834ab2",
   "metadata": {},
   "outputs": [],
   "source": [
    "gbd_data['age'] = gbd_data.age_group_name.str.replace(' ', '_')\n",
    "gbd_data.head()"
   ]
  },
  {
   "cell_type": "code",
   "execution_count": null,
   "id": "1191e723-eeb4-4831-a377-d91453ecc5a7",
   "metadata": {},
   "outputs": [],
   "source": [
    "for sex in result_summary_allyears.sex.unique():\n",
    "    plt.figure() \n",
    "    subdata = result_summary_allyears.loc[(result_summary_allyears.sex==sex)]\n",
    "    plt.plot(subdata['age'], subdata['mean'], marker='o')\n",
    "    plt.fill_between(subdata['age'], subdata['2.5%'], subdata['97.5%'], alpha=.3)\n",
    "    subdata2 = gbd_data.loc[(gbd_data.sex==sex.capitalize())]\n",
    "    plt.plot(subdata2['age'], subdata2['val'], marker='o')\n",
    "    plt.fill_between(subdata2['age'], subdata2['lower'], subdata2['upper'], alpha=.3)\n",
    "    plt.title(f'All Cause Mortality Rate: {sex}') \n",
    "    plt.xticks(rotation=90) \n",
    "    plt.grid()\n",
    "    plt.legend(['Simulation baseline', 'Sim 95%', 'GBD Baseline', 'GBD 95%']) "
   ]
  },
  {
   "cell_type": "markdown",
   "id": "ae86f0c6-ece6-4347-a87c-3070261d50a9",
   "metadata": {},
   "source": [
    "#### Incidence Rate for Stroke"
   ]
  },
  {
   "cell_type": "code",
   "execution_count": null,
   "id": "56fdb404-5db0-4a3d-8520-cbdd0d5b6a29",
   "metadata": {},
   "outputs": [],
   "source": [
    "gbd_incd = go(\"cause\", gbd_round_id=6, age_group_id=[10,11,12,13,14,15,16,17,18,19,20,30,31,32,33], cause_id=495, measure_id=6, metric_id=3, location_id=523, year_id=2019, sex_id=[1,2], decomp_step='step5')"
   ]
  },
  {
   "cell_type": "code",
   "execution_count": null,
   "id": "dc0fb51c-2beb-4865-a686-cfe2b6c42ee0",
   "metadata": {},
   "outputs": [],
   "source": [
    "gbd_incd['age'] = gbd_incd.age_group_name.str.replace(' ', '_')\n",
    "gbd_incd.head()"
   ]
  },
  {
   "cell_type": "code",
   "execution_count": null,
   "id": "14a2f710-92f5-46b9-88a7-0891492a503d",
   "metadata": {},
   "outputs": [],
   "source": [
    "for sex in tran_rate_sum_allyear.sex.unique():\n",
    "    plt.figure() \n",
    "    subdata = tran_rate_sum_allyear.loc[(tran_rate_sum_allyear.sex==sex)]\n",
    "    plt.plot(subdata['age'], subdata['mean'], marker='o')\n",
    "    plt.fill_between(subdata['age'], subdata['2.5%'], subdata['97.5%'], alpha=.3)\n",
    "    subdata2 = gbd_incd.loc[(gbd_incd.sex==sex.capitalize())]\n",
    "    plt.plot(subdata2['age'], subdata2['val'], marker='o')\n",
    "    plt.fill_between(subdata2['age'], subdata2['lower'], subdata2['upper'], alpha=.3)\n",
    "    plt.title(f'Incidence Rate for Stroke: {sex}') \n",
    "    plt.xticks(rotation=90) \n",
    "    plt.grid()\n",
    "    plt.yscale('log')\n",
    "    plt.legend(['Simulation baseline', 'Sim 95%', 'GBD Baseline', 'GBD 95%']) "
   ]
  },
  {
   "cell_type": "markdown",
   "id": "4cd1ee8e-676b-4efa-bed3-7d0d42c727f3",
   "metadata": {},
   "source": [
    "#### Incidence Rate for MI"
   ]
  },
  {
   "cell_type": "code",
   "execution_count": null,
   "id": "89db50f6-a679-40c0-955a-f845fa058228",
   "metadata": {},
   "outputs": [],
   "source": [
    "gbd_incd_MI = go(\"cause\", gbd_round_id=6, age_group_id=[10,11,12,13,14,15,16,17,18,19,20,30,31,32,33], cause_id=493, measure_id=6, metric_id=3, location_id=523, year_id=2019, sex_id=[1,2], decomp_step='step5')\n",
    "gbd_incd_MI['age'] = gbd_incd_MI.age_group_name.str.replace(' ', '_')\n",
    "gbd_incd_MI.head()"
   ]
  },
  {
   "cell_type": "code",
   "execution_count": null,
   "id": "9e71878c-3b1d-4799-8138-16d14372d1f8",
   "metadata": {},
   "outputs": [],
   "source": [
    "for sex in tran_MI_summ_allyear.index.get_level_values('sex').unique():\n",
    "    plt.figure() \n",
    "    subdata = tran_MI_summ_allyear.loc[(tran_MI_summ_allyear.index.get_level_values('sex')==sex)]\n",
    "    plt.plot(subdata.index.get_level_values('age'), subdata['mean'], marker='o')\n",
    "    plt.fill_between(subdata.index.get_level_values('age'), subdata['2.5%'], subdata['97.5%'], alpha=.3)\n",
    "    subdata2 = gbd_incd_MI.loc[(gbd_incd_MI.sex==sex.capitalize())]\n",
    "    plt.plot(subdata2['age'], subdata2['val'], marker='o')\n",
    "    plt.fill_between(subdata2['age'], subdata2['lower'], subdata2['upper'], alpha=.3)\n",
    "    plt.title(f'Incidence for MI: {sex}') \n",
    "    plt.xticks(rotation=90) \n",
    "    plt.grid()\n",
    "    plt.yscale('log')\n",
    "    plt.legend(['Simulation All MI', 'Sim 95%', 'GBD Baseline', 'GBD 95%']) "
   ]
  },
  {
   "cell_type": "markdown",
   "id": "43788fcd-05dd-4b40-a5f0-e574e52f3ef0",
   "metadata": {},
   "source": [
    "#### Incidence for MI based on all person_time "
   ]
  },
  {
   "cell_type": "code",
   "execution_count": null,
   "id": "8546d2bd-beac-4efb-a619-cf015f99dde3",
   "metadata": {},
   "outputs": [],
   "source": [
    "tran_rate_MI_GBD = tran.groupby(['age', 'sex', 'year', 'transition', 'input_draw']).value.sum().reset_index()\n",
    "tran_rate_MI_GBD = tran_rate_MI_GBD.loc[(tran_rate_MI_GBD['transition'].isin(['myocardial_infarction_susceptible_to_myocardial_infarction_to_acute_myocardial_infarction','myocardial_infarction_post_myocardial_infarction_to_acute_myocardial_infarction']))].reset_index()\n",
    "tran_rate_MI_GBD = tran_rate_MI_GBD.groupby(['age', 'sex', 'year', 'input_draw']).value.sum().reset_index()\n",
    "tran_rate_MI_GBD = pd.concat([tran_rate_MI_GBD, per_time_group.ptvalue], axis=1)\n",
    "tran_rate_MI_GBD['rate']= tran_rate_MI_GBD['value'] / tran_rate_MI_GBD['ptvalue']\n",
    "tran_rate_MI_GBD_summ = (tran_rate_MI_GBD\n",
    "                 .groupby(['age', 'sex'])\n",
    "                 .rate.describe(percentiles=[.025, .975])\n",
    "                 .filter(['mean', '2.5%', '97.5%'])\n",
    "                 .reset_index())\n",
    "\n",
    "tran_rate_MI_GBD_summ.head()"
   ]
  },
  {
   "cell_type": "code",
   "execution_count": null,
   "id": "225d4c86-9ad7-4df3-b2ae-109a59b16c37",
   "metadata": {},
   "outputs": [],
   "source": [
    "for sex in tran_rate_MI_GBD_summ.sex.unique():\n",
    "    plt.figure() \n",
    "    subdata = tran_rate_MI_GBD_summ.loc[(tran_rate_MI_GBD_summ.sex==sex)]\n",
    "    plt.plot(subdata['age'], subdata['mean'], marker='o')\n",
    "    plt.fill_between(subdata['age'], subdata['2.5%'], subdata['97.5%'], alpha=.3)\n",
    "    subdata2 = gbd_incd_MI.loc[(gbd_incd_MI.sex==sex.capitalize())]\n",
    "    plt.plot(subdata2['age'], subdata2['val'], marker='o')\n",
    "    plt.fill_between(subdata2['age'], subdata2['lower'], subdata2['upper'], alpha=.3)\n",
    "    plt.title(f'Incidence Rate for MI: {sex}') \n",
    "    plt.xticks(rotation=90) \n",
    "    plt.grid()\n",
    "    plt.yscale('log')\n",
    "    plt.legend(['Simulation baseline', 'Sim 95%', 'GBD Baseline', 'GBD 95%']) "
   ]
  },
  {
   "cell_type": "markdown",
   "id": "6914eaac-58ec-4324-855d-af995911ad78",
   "metadata": {},
   "source": [
    "#### DALYs from Stroke"
   ]
  },
  {
   "cell_type": "code",
   "execution_count": null,
   "id": "ffd95fba-1f37-4500-8af0-4faead0ef25c",
   "metadata": {},
   "outputs": [],
   "source": [
    "gbd_daly = go(\"cause\", gbd_round_id=6, age_group_id=[10,11,12,13,14,15,16,17,18,19,20,30,31,32,33], cause_id=495, measure_id=2, metric_id=3, location_id=523, year_id=2019, sex_id=[1,2], decomp_step='step5')"
   ]
  },
  {
   "cell_type": "code",
   "execution_count": null,
   "id": "efc561b2-3483-4713-8bfb-78e797ecc052",
   "metadata": {},
   "outputs": [],
   "source": [
    "gbd_daly['age'] = gbd_daly.age_group_name.str.replace(' ', '_')\n",
    "gbd_daly.head()"
   ]
  },
  {
   "cell_type": "code",
   "execution_count": null,
   "id": "943cfda4-cfab-45ae-8f85-99a1a6dbd826",
   "metadata": {},
   "outputs": [],
   "source": [
    "yll_stroke = yll.loc[yll['cause'].isin([\"acute_ischemic_stroke\", \"chronic_ischemic_stroke\"])].reset_index()\n",
    "yld_stroke = yld.loc[yld['cause_of_disability'].isin([\"acute_ischemic_stroke\", \"chronic_ischemic_stroke\"])].reset_index()\n",
    "len(yll_stroke)"
   ]
  },
  {
   "cell_type": "code",
   "execution_count": null,
   "id": "f0f1fa71-0cab-49d5-b96d-d10104708fb0",
   "metadata": {},
   "outputs": [],
   "source": [
    "daly_stroke = pd.concat([yll_stroke, yld_stroke.yld], axis=1)\n",
    "daly_stroke['daly'] = daly_stroke['yll'] + daly_stroke['yld']\n",
    "daly_stroke.head()"
   ]
  },
  {
   "cell_type": "code",
   "execution_count": null,
   "id": "751ba0b8-be67-4e3c-a4c9-5636ef7b4582",
   "metadata": {},
   "outputs": [],
   "source": [
    "daly_stroke = daly_stroke.groupby(['age', 'sex', 'year', 'input_draw']).daly.sum().reset_index()\n",
    "daly_stroke_rate = pd.concat([daly_stroke, per_time_group.ptvalue], axis=1)\n",
    "daly_stroke_rate['daly_rate'] = daly_stroke_rate['daly'] / daly_stroke_rate['ptvalue']\n",
    "daly_stroke_sum_allyear = (daly_stroke_rate\n",
    "                .groupby(['age', 'sex'])\n",
    "                .daly_rate.describe(percentiles=[.025, .975])\n",
    "                .filter(['mean', '2.5%', '97.5%'])\n",
    "                .reset_index())\n",
    "\n",
    "daly_stroke_sum_allyear.head()"
   ]
  },
  {
   "cell_type": "code",
   "execution_count": null,
   "id": "5c2e5a2b-807f-4dd7-8c8c-c8cbbbd4bc3b",
   "metadata": {},
   "outputs": [],
   "source": [
    "for sex in daly_stroke_sum_allyear.sex.unique():\n",
    "    plt.figure() \n",
    "    subdata = daly_stroke_sum_allyear.loc[(daly_stroke_sum_allyear.sex==sex)]\n",
    "    plt.plot(subdata['age'], subdata['mean'], marker='o')\n",
    "    plt.fill_between(subdata['age'], subdata['2.5%'], subdata['97.5%'], alpha=.3)\n",
    "    subdata2 = gbd_daly.loc[(gbd_daly.sex==sex.capitalize())]\n",
    "    plt.plot(subdata2['age'], subdata2['val'], marker='o')\n",
    "    plt.fill_between(subdata2['age'], subdata2['lower'], subdata2['upper'], alpha=.3)\n",
    "    plt.title(f'Stroke DALYs: {sex}') \n",
    "    plt.xticks(rotation=90) \n",
    "    plt.grid()\n",
    "    plt.yscale('log')\n",
    "    plt.legend(['Simulation baseline', 'Sim 95%', 'GBD Baseline', 'GBD 95%']) "
   ]
  },
  {
   "cell_type": "markdown",
   "id": "92fc5e23-df4e-42b4-8cdf-87bb0912d37c",
   "metadata": {},
   "source": [
    "#### DALYs from Acute MI"
   ]
  },
  {
   "cell_type": "code",
   "execution_count": null,
   "id": "a34fcf0b-d306-42ff-a4b4-64a38701a6a6",
   "metadata": {},
   "outputs": [],
   "source": [
    "gbd_daly_MI = go(\"cause\", gbd_round_id=6, age_group_id=[10,11,12,13,14,15,16,17,18,19,20,30,31,32,33], cause_id=493, measure_id=2, metric_id=3, location_id=523, year_id=2019, sex_id=[1,2], decomp_step='step5')"
   ]
  },
  {
   "cell_type": "code",
   "execution_count": null,
   "id": "f887fec3-eb7d-4a42-9d93-07a24afe0753",
   "metadata": {},
   "outputs": [],
   "source": [
    "gbd_daly_MI['age'] = gbd_daly_MI.age_group_name.str.replace(' ', '_')\n",
    "gbd_daly_MI.head()"
   ]
  },
  {
   "cell_type": "code",
   "execution_count": null,
   "id": "de781b13-38de-42e1-a237-a2beb8adf739",
   "metadata": {},
   "outputs": [],
   "source": [
    "yll_MI = yll.loc[yll['cause'].isin([\"acute_myocardial_infarction\", \"post_myocardial_infarction\"])].reset_index()\n",
    "yll_MI = yll_MI.groupby(['age', 'sex', 'year', 'input_draw']).yll.sum().reset_index()\n",
    "yld_MI = yld.loc[yld['cause_of_disability'].isin([\"acute_myocardial_infarction\"])].reset_index()\n",
    "len(yll_MI)"
   ]
  },
  {
   "cell_type": "code",
   "execution_count": null,
   "id": "3c9ea3e0-2836-4c21-84ea-bb3061fecd7a",
   "metadata": {},
   "outputs": [],
   "source": [
    "daly_MI = pd.concat([yll_MI, yld_MI.yld], axis=1)\n",
    "daly_MI['daly'] = daly_MI['yll'] + daly_MI['yld']\n",
    "daly_MI.head()"
   ]
  },
  {
   "cell_type": "code",
   "execution_count": null,
   "id": "f032deb3-c4f2-4fbe-8d68-f29eddcc9564",
   "metadata": {},
   "outputs": [],
   "source": [
    "daly_MI = daly_MI.groupby(['age', 'sex', 'year', 'input_draw']).daly.sum().reset_index()\n",
    "daly_MI_rate = pd.concat([daly_MI, per_time_group.ptvalue], axis=1)\n",
    "daly_MI_rate['daly_rate'] = daly_MI_rate['daly'] / daly_MI_rate['ptvalue']\n",
    "daly_MI_rate_allyear = (daly_MI_rate\n",
    "                .groupby(['age', 'sex'])\n",
    "                .daly_rate.describe(percentiles=[.025, .975])\n",
    "                .filter(['mean', '2.5%', '97.5%'])\n",
    "                .reset_index())\n",
    "\n",
    "daly_MI_rate_allyear.head()"
   ]
  },
  {
   "cell_type": "code",
   "execution_count": null,
   "id": "92495026-5313-4fea-af09-604da46fdbb1",
   "metadata": {},
   "outputs": [],
   "source": [
    "for sex in daly_MI_rate_allyear.sex.unique():\n",
    "    plt.figure() \n",
    "    subdata = daly_MI_rate_allyear.loc[(daly_MI_rate_allyear.sex==sex)]\n",
    "    plt.plot(subdata['age'], subdata['mean'], marker='o')\n",
    "    plt.fill_between(subdata['age'], subdata['2.5%'], subdata['97.5%'], alpha=.3)\n",
    "    subdata2 = gbd_daly_MI.loc[(gbd_daly_MI.sex==sex.capitalize())]\n",
    "    plt.plot(subdata2['age'], subdata2['val'], marker='o')\n",
    "    plt.fill_between(subdata2['age'], subdata2['lower'], subdata2['upper'], alpha=.3)\n",
    "    plt.title(f'MI DALYs: {sex}') \n",
    "    plt.xticks(rotation=90) \n",
    "    plt.grid()\n",
    "    plt.yscale('log')\n",
    "    plt.legend(['Simulation baseline', 'Sim 95%', 'GBD Baseline', 'GBD 95%']) "
   ]
  },
  {
   "cell_type": "code",
   "execution_count": null,
   "id": "c6faf833-7dcf-4a08-a1ad-fced618776db",
   "metadata": {},
   "outputs": [],
   "source": [
    "gbd_prev_MI = go(\"sequela\", \n",
    "                 gbd_round_id=6, \n",
    "                 age_group_id=[10,11,12,13,14,15,16,17,18,19,20,30,31,32,33], \n",
    "                 sequela_id=[378,379], \n",
    "                 measure_id=5, \n",
    "                 metric_id=3, \n",
    "                 location_id=523, \n",
    "                 year_id=2019, \n",
    "                 sex_id=[1,2], \n",
    "                 decomp_step='step5')\n"
   ]
  },
  {
   "cell_type": "code",
   "execution_count": null,
   "id": "8dfe0142-25eb-47e2-bb7b-4f728a12b84e",
   "metadata": {},
   "outputs": [],
   "source": [
    "gbd_prev_MI.head()"
   ]
  },
  {
   "cell_type": "code",
   "execution_count": null,
   "id": "2a15a9de-abc2-4fdf-8596-0694dafec64b",
   "metadata": {},
   "outputs": [],
   "source": []
  },
  {
   "cell_type": "code",
   "execution_count": null,
   "id": "0aa7a085-9548-4a2e-bd71-7075a080f3b4",
   "metadata": {},
   "outputs": [],
   "source": []
  },
  {
   "cell_type": "code",
   "execution_count": null,
   "id": "8e78eaee-e064-4a2a-9acf-e63c37cf6d98",
   "metadata": {},
   "outputs": [],
   "source": []
  },
  {
   "cell_type": "markdown",
   "id": "0e57c9be-bad5-4689-b9e7-8061e999dcc7",
   "metadata": {},
   "source": [
    "### LDL-C Testing - Total Exposure by age/year"
   ]
  },
  {
   "cell_type": "code",
   "execution_count": null,
   "id": "9df4026f-d594-430b-9d88-3e6b52b310f8",
   "metadata": {},
   "outputs": [],
   "source": [
    "risk_exp = pd.read_csv(sim_results_dir + 'risk_exposure_time.csv')\n",
    "ldl = risk_exp.loc[risk_exp['risk']=='high_ldl_cholesterol']\n",
    "ldl.head()"
   ]
  },
  {
   "cell_type": "code",
   "execution_count": null,
   "id": "91127def-72fd-4d83-8d86-d515898b68e4",
   "metadata": {},
   "outputs": [],
   "source": [
    "ldl_summ = (ldl\n",
    "                .groupby(['age', 'sex', 'year'])\n",
    "                .value.describe(percentiles=[.025, .975])\n",
    "                .filter(['mean', '2.5%', '97.5%'])\n",
    "                .reset_index())\n",
    "#ldl_summ"
   ]
  },
  {
   "cell_type": "code",
   "execution_count": null,
   "id": "5e4830a5-70f5-4439-ad20-9a2e9b7fdcbd",
   "metadata": {},
   "outputs": [],
   "source": [
    "%%capture\n",
    "for sex in ldl_summ.sex.unique():\n",
    "    for year in ldl_summ.year.unique():\n",
    "        plt.figure() \n",
    "        subdata = ldl_summ.loc[(ldl_summ.sex==sex) & (ldl_summ.year==year)]\n",
    "        plt.plot(subdata['age'], subdata['mean'], marker='o')\n",
    "        plt.fill_between(subdata['age'], subdata['2.5%'], subdata['97.5%'], alpha=.3)\n",
    "        plt.title(f'LDL Exposure: {sex} in {year}') \n",
    "        plt.xticks(rotation=90) \n",
    "        plt.ylim(0,100000)\n",
    "        plt.grid()"
   ]
  },
  {
   "cell_type": "code",
   "execution_count": null,
   "id": "3545b0f1-ed1b-4bd1-a1a7-bd80838ddc2a",
   "metadata": {},
   "outputs": [],
   "source": [
    "%%capture\n",
    "for sex in ldl_summ.sex.unique():\n",
    "    for age in ldl_summ.age.unique():\n",
    "        plt.figure() \n",
    "        subdata = ldl_summ.loc[(ldl_summ.sex==sex) & (ldl_summ.age==age)]\n",
    "        plt.plot(subdata['year'], subdata['mean'], marker='o')\n",
    "        plt.fill_between(subdata['year'], subdata['2.5%'], subdata['97.5%'], alpha=.3)\n",
    "        plt.title(f'LDL Exposure: {sex} in {age}') \n",
    "        plt.xticks(rotation=90) \n",
    "        #plt.ylim(0,100000)\n",
    "        plt.grid()"
   ]
  },
  {
   "cell_type": "markdown",
   "id": "b52e685d-21b9-4d94-abe4-f1aa6368f374",
   "metadata": {},
   "source": [
    "The absolute number is definitely changing over time. Let's see if this is due to changes in population structure or something else. "
   ]
  },
  {
   "cell_type": "markdown",
   "id": "72638043-fa83-42ed-957a-81db2d52c09c",
   "metadata": {},
   "source": [
    "### Rates of Exposure by Age/Year"
   ]
  },
  {
   "cell_type": "code",
   "execution_count": null,
   "id": "710e2254-b9dc-4542-be53-30e959ce4f3a",
   "metadata": {},
   "outputs": [],
   "source": [
    "ldl_rate = ldl.groupby(['age','sex','year','input_draw']).value.sum().reset_index()\n",
    "ldl_rate = pd.concat([ldl_rate, per_time_group.ptvalue], axis=1)\n",
    "ldl_rate['ldl_rate'] = ldl_rate['value'] / ldl_rate['ptvalue']\n",
    "ldl_rate_summ = (ldl_rate\n",
    "                .groupby(['age', 'sex', 'year'])\n",
    "                .ldl_rate.describe(percentiles=[.025, .975])\n",
    "                .filter(['mean', '2.5%', '97.5%'])\n",
    "                .reset_index())\n",
    "ldl_rate_summ.head()"
   ]
  },
  {
   "cell_type": "code",
   "execution_count": null,
   "id": "b130eb52-4567-4be6-a598-cfbbefd80065",
   "metadata": {},
   "outputs": [],
   "source": [
    "## Want to think through these. These are now rates - why is it dropping at older age groups? Selection bias \n",
    "## (those with high cholestrol don't live as long?) Something else? \n",
    "\n",
    "%%capture\n",
    "for sex in ldl_rate_summ.sex.unique():\n",
    "    for year in ldl_rate_summ.year.unique():\n",
    "        plt.figure() \n",
    "        subdata = ldl_rate_summ.loc[(ldl_rate_summ.sex==sex) & (ldl_rate_summ.year==year)]\n",
    "        plt.plot(subdata['age'], subdata['mean'], marker='o')\n",
    "        plt.fill_between(subdata['age'], subdata['2.5%'], subdata['97.5%'], alpha=.3)\n",
    "        plt.title(f'LDL Exposure: {sex} in {year}') \n",
    "        plt.xticks(rotation=90) \n",
    "        #plt.ylim(0,100000)\n",
    "        plt.grid()"
   ]
  },
  {
   "cell_type": "code",
   "execution_count": null,
   "id": "0e4feea4-fce4-4f96-8aeb-9936c2798b8a",
   "metadata": {
    "tags": []
   },
   "outputs": [],
   "source": [
    "## These look a bit funny - we should discuss. What is causing changes over time across these groups? \n",
    "## Why is this not 3? \n",
    "\n",
    "%%capture\n",
    "for sex in ldl_rate_summ.sex.unique():\n",
    "    for age in ldl_rate_summ.age.unique():\n",
    "        plt.figure() \n",
    "        subdata = ldl_rate_summ.loc[(ldl_rate_summ.sex==sex) & (ldl_rate_summ.age==age)]\n",
    "        plt.plot(subdata['year'], subdata['mean'], marker='o')\n",
    "        plt.fill_between(subdata['year'], subdata['2.5%'], subdata['97.5%'], alpha=.3)\n",
    "        plt.title(f'LDL Exposure: {sex} in {age}') \n",
    "        plt.xticks(rotation=90) \n",
    "        #plt.ylim(0,100000)\n",
    "        plt.grid()"
   ]
  },
  {
   "cell_type": "markdown",
   "id": "5cd01cc6-f3c2-4cb9-847a-5d24a65d8a6a",
   "metadata": {},
   "source": [
    "### Within 2023, LDL-C Distribution "
   ]
  },
  {
   "cell_type": "code",
   "execution_count": null,
   "id": "053b91ca-51e5-4c60-8ba0-6d83ed568c12",
   "metadata": {},
   "outputs": [],
   "source": [
    "ldl_2023 = ldl.loc[ldl['year']==2023].reset_index()\n",
    "ldl_2023.head()"
   ]
  },
  {
   "cell_type": "markdown",
   "id": "c0bde8bd-5b7d-41e5-82c6-b799e98fdcdd",
   "metadata": {},
   "source": [
    "### Compare with Artifact \n",
    "'risk_factor.high_ldl_cholesterol.distribution' - just says \"ensemble\"\n",
    "\n",
    "'risk_factor.high_ldl_cholesterol.exposure'\n",
    "\n",
    "'risk_factor.high_ldl_cholesterol.exposure_standard_deviation'\n",
    "\n",
    "'risk_factor.high_ldl_cholesterol.exposure_distribution_weights'- weights of the ensemble dist\n",
    "\n",
    "'risk_factor.high_ldl_cholesterol.relative_risk'\n",
    "\n",
    "'risk_factor.high_ldl_cholesterol.population_attributable_fraction'\n",
    "\n",
    "'risk_factor.high_ldl_cholesterol.tmred' - GBD values, no testing\n",
    "\n",
    "'risk_factor.high_ldl_cholesterol.relative_risk_scalar' - this is just 1"
   ]
  },
  {
   "cell_type": "code",
   "execution_count": null,
   "id": "7593f0cb-f667-4eca-aaef-f718a827935e",
   "metadata": {},
   "outputs": [],
   "source": [
    "ldl_exp = load_artifact_data('risk_factor', 'high_ldl_cholesterol', 'exposure')\n",
    "ldl_exp['age_group'] = [f'{int(i)}_to_{int(j) - 1}' for (i,j) in zip(ldl_exp.age_start,ldl_exp.age_end)]\n",
    "ldl_exp.head()"
   ]
  },
  {
   "cell_type": "code",
   "execution_count": null,
   "id": "5c6211a0-7722-43a2-a127-02cb8d228770",
   "metadata": {},
   "outputs": [],
   "source": [
    "for sex in ldl_rate_summ.sex.unique():\n",
    "    plt.figure() \n",
    "    subdata = ldl_rate_summ.loc[(ldl_rate_summ.sex==sex) & (ldl_rate_summ.year==2023)]\n",
    "    plt.plot(subdata['age'], subdata['mean'], marker='o')\n",
    "    plt.fill_between(subdata['age'], subdata['2.5%'], subdata['97.5%'], alpha=.3)\n",
    "    subdata2 = ldl_exp.loc[(ldl_exp.sex==sex) & (ldl_exp.year_end==2020)]\n",
    "    plt.plot(subdata2['age_group'], subdata2['mean'], marker='o')\n",
    "    plt.fill_between(subdata2['age_group'], subdata2['2.5%'], subdata2['97.5%'], alpha=.3)\n",
    "    plt.title(f'LDL Exposure: {sex} in 2023') \n",
    "    plt.xticks(rotation=90) \n",
    "    #plt.ylim(0,100000)\n",
    "    plt.grid()\n",
    "    plt.legend(['Simulation baseline', 'Sim 95%', 'Artifact Baseline', 'Artifact 95%']) "
   ]
  },
  {
   "cell_type": "markdown",
   "id": "b54f2e9b-e5f2-4f67-bc70-740bff07ba23",
   "metadata": {},
   "source": [
    "### High SBP Risk Factor Testing "
   ]
  },
  {
   "cell_type": "code",
   "execution_count": null,
   "id": "4cabc2c5-c975-4bac-92ba-c8f10f827c0b",
   "metadata": {},
   "outputs": [],
   "source": [
    "sbp = risk_exp.loc[risk_exp['risk']=='high_systolic_blood_pressure']\n",
    "sbp.head()"
   ]
  },
  {
   "cell_type": "code",
   "execution_count": null,
   "id": "c6d99420-8ca7-43a7-862b-b7f90ef16820",
   "metadata": {},
   "outputs": [],
   "source": [
    "sbp_summ = (sbp\n",
    "                .groupby(['age', 'sex', 'year'])\n",
    "                .value.describe(percentiles=[.025, .975])\n",
    "                .filter(['mean', '2.5%', '97.5%'])\n",
    "                .reset_index())\n",
    "#sbp_summ"
   ]
  },
  {
   "cell_type": "code",
   "execution_count": null,
   "id": "7be8d384-6384-440b-ba1a-452e5f401860",
   "metadata": {},
   "outputs": [],
   "source": [
    "%%capture\n",
    "for sex in sbp_summ.sex.unique():\n",
    "    for year in sbp_summ.year.unique():\n",
    "        plt.figure() \n",
    "        subdata = sbp_summ.loc[(sbp_summ.sex==sex) & (sbp_summ.year==year)]\n",
    "        plt.plot(subdata['age'], subdata['mean'], marker='o')\n",
    "        plt.fill_between(subdata['age'], subdata['2.5%'], subdata['97.5%'], alpha=.3)\n",
    "        plt.title(f'SBP Exposure: {sex} in {year}') \n",
    "        plt.xticks(rotation=90) \n",
    "        plt.grid()"
   ]
  },
  {
   "cell_type": "code",
   "execution_count": null,
   "id": "8d800de8-55a0-4637-9a2c-7d6106d8bc87",
   "metadata": {},
   "outputs": [],
   "source": [
    "#Some interesting patterns going on here - since it is not a rate I am not overly concerned but might be worth a look\n",
    "%%capture\n",
    "for sex in sbp_summ.sex.unique():\n",
    "    for age in sbp_summ.age.unique():\n",
    "        plt.figure() \n",
    "        subdata = sbp_summ.loc[(sbp_summ.sex==sex) & (sbp_summ.age==age)]\n",
    "        plt.plot(subdata['year'], subdata['mean'], marker='o')\n",
    "        plt.fill_between(subdata['year'], subdata['2.5%'], subdata['97.5%'], alpha=.3)\n",
    "        plt.title(f'SBP Exposure: {sex} in {age}') \n",
    "        plt.xticks(rotation=90) \n",
    "        plt.grid()"
   ]
  },
  {
   "cell_type": "code",
   "execution_count": null,
   "id": "b9a0e4e2-e86b-4e00-bd4c-830ab0e43c4b",
   "metadata": {},
   "outputs": [],
   "source": [
    "sbp_rate = sbp.groupby(['age','sex','year','input_draw']).value.sum().reset_index()\n",
    "sbp_rate = pd.concat([sbp_rate, per_time_group.ptvalue], axis=1)\n",
    "sbp_rate['ldl_rate'] = sbp_rate['value'] / sbp_rate['ptvalue']\n",
    "sbp_rate_summ = (sbp_rate\n",
    "                .groupby(['age', 'sex', 'year'])\n",
    "                .ldl_rate.describe(percentiles=[.025, .975])\n",
    "                .filter(['mean', '2.5%', '97.5%'])\n",
    "                .reset_index())\n",
    "sbp_rate_summ.head()"
   ]
  },
  {
   "cell_type": "code",
   "execution_count": null,
   "id": "75c8cb21-4573-4176-9fd5-4e0d8009b7dc",
   "metadata": {},
   "outputs": [],
   "source": [
    "%%capture\n",
    "for sex in sbp_rate_summ.sex.unique():\n",
    "    for year in sbp_rate_summ.year.unique():\n",
    "        plt.figure() \n",
    "        subdata = sbp_rate_summ.loc[(sbp_rate_summ.sex==sex) & (sbp_rate_summ.year==year)]\n",
    "        plt.plot(subdata['age'], subdata['mean'], marker='o')\n",
    "        plt.fill_between(subdata['age'], subdata['2.5%'], subdata['97.5%'], alpha=.3)\n",
    "        plt.title(f'SBP Exposure: {sex} in {year}') \n",
    "        plt.xticks(rotation=90) \n",
    "        plt.grid()"
   ]
  },
  {
   "cell_type": "code",
   "execution_count": null,
   "id": "5d1f7075-d4bd-46ff-b039-3212777f1e79",
   "metadata": {},
   "outputs": [],
   "source": [
    "%%capture\n",
    "for sex in sbp_rate_summ.sex.unique():\n",
    "    for age in sbp_rate_summ.age.unique():\n",
    "        plt.figure() \n",
    "        subdata = sbp_rate_summ.loc[(sbp_rate_summ.sex==sex) & (sbp_rate_summ.age==age)]\n",
    "        plt.plot(subdata['year'], subdata['mean'], marker='o')\n",
    "        plt.fill_between(subdata['year'], subdata['2.5%'], subdata['97.5%'], alpha=.3)\n",
    "        plt.title(f'SBP Exposure: {sex} in {age}') \n",
    "        plt.xticks(rotation=90) \n",
    "        plt.grid()"
   ]
  },
  {
   "cell_type": "code",
   "execution_count": null,
   "id": "1a815866-18b3-4816-b084-0397b0e4e176",
   "metadata": {},
   "outputs": [],
   "source": [
    "sbp_exp = load_artifact_data('risk_factor', 'high_systolic_blood_pressure', 'exposure')\n",
    "sbp_exp['age_group'] = [f'{int(i)}_to_{int(j) - 1}' for (i,j) in zip(sbp_exp.age_start,sbp_exp.age_end)]\n",
    "sbp_exp.head()"
   ]
  },
  {
   "cell_type": "code",
   "execution_count": null,
   "id": "1a1f628f-fd37-47c6-a0ca-1f19f2dd50fe",
   "metadata": {},
   "outputs": [],
   "source": [
    "for sex in sbp_rate_summ.sex.unique():\n",
    "    plt.figure() \n",
    "    subdata = sbp_rate_summ.loc[(sbp_rate_summ.sex==sex) & (sbp_rate_summ.year==2023)]\n",
    "    plt.plot(subdata['age'], subdata['mean'], marker='o')\n",
    "    plt.fill_between(subdata['age'], subdata['2.5%'], subdata['97.5%'], alpha=.3)\n",
    "    subdata2 = sbp_exp.loc[(sbp_exp.sex==sex) & (sbp_exp.year_end==2020)]\n",
    "    plt.plot(subdata2['age_group'], subdata2['mean'], marker='o')\n",
    "    plt.fill_between(subdata2['age_group'], subdata2['2.5%'], subdata2['97.5%'], alpha=.3)\n",
    "    plt.title(f'SBP Exposure: {sex} in 2023') \n",
    "    plt.xticks(rotation=90) \n",
    "    plt.grid()\n",
    "    plt.legend(['Simulation baseline', 'Sim 95%', 'Artifact Baseline', 'Artifact 95%']) "
   ]
  }
 ],
 "metadata": {
  "kernelspec": {
   "display_name": "Python 3 (ipykernel)",
   "language": "python",
   "name": "python3"
  },
  "language_info": {
   "codemirror_mode": {
    "name": "ipython",
    "version": 3
   },
   "file_extension": ".py",
   "mimetype": "text/x-python",
   "name": "python",
   "nbconvert_exporter": "python",
   "pygments_lexer": "ipython3",
   "version": "3.8.13"
  }
 },
 "nbformat": 4,
 "nbformat_minor": 5
}
