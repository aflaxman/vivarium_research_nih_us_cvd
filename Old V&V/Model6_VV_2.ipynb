{
 "cells": [
  {
   "cell_type": "markdown",
   "id": "d495a449-fceb-4ebd-945e-3832cb447616",
   "metadata": {},
   "source": [
    "### Loading Packages and Data"
   ]
  },
  {
   "cell_type": "code",
   "execution_count": null,
   "id": "cd3d6483-2cb2-49a5-a8a1-19b34851e8e5",
   "metadata": {
    "tags": []
   },
   "outputs": [],
   "source": [
    "%matplotlib inline\n",
    "import matplotlib.pyplot as plt\n",
    "import numpy as np\n",
    "import pandas as pd\n",
    "pd.set_option('display.max_rows', 8)\n",
    "\n",
    "#import xarray as xr\n",
    "import warnings\n",
    "warnings.filterwarnings('ignore')\n",
    "from matplotlib.backends.backend_pdf import PdfPages"
   ]
  },
  {
   "cell_type": "code",
   "execution_count": null,
   "id": "836af9e8-96d1-458f-848b-ca8de78678ae",
   "metadata": {
    "collapsed": true,
    "jupyter": {
     "outputs_hidden": true
    },
    "tags": []
   },
   "outputs": [
    {
     "name": "stdout",
     "output_type": "stream",
     "text": [
      "deaths.csv                       risk_exposure_time.hdf\n",
      "deaths.hdf                       sbp_medication_person_time.csv\n",
      "healthcare_visits.csv            sbp_medication_person_time.hdf\n",
      "healthcare_visits.hdf            state_person_time.csv\n",
      "intervention_person_time.csv     state_person_time.hdf\n",
      "intervention_person_time.hdf     transition_count.csv\n",
      "ldlc_medication_person_time.csv  transition_count.hdf\n",
      "ldlc_medication_person_time.hdf  ylds.csv\n",
      "population.csv                   ylds.hdf\n",
      "population.hdf                   ylls.csv\n",
      "risk_exposure_time.csv           ylls.hdf\n"
     ]
    }
   ],
   "source": [
    "ls /ihme/costeffectiveness/results/vivarium_nih_us_cvd/model_6/alabama/2022_11_01_15_10_44/"
   ]
  },
  {
   "cell_type": "code",
   "execution_count": null,
   "id": "4a393696-a5cc-486d-8223-6891216ccb93",
   "metadata": {},
   "outputs": [
    {
     "name": "stdout",
     "output_type": "stream",
     "text": [
      "deaths.csv                       sbp_medication_person_time.csv\n",
      "deaths.hdf                       sbp_medication_person_time.hdf\n",
      "healthcare_visits.csv            state_person_time.csv\n",
      "healthcare_visits.hdf            state_person_time.hdf\n",
      "ldlc_medication_person_time.csv  transition_count.csv\n",
      "ldlc_medication_person_time.hdf  transition_count.hdf\n",
      "population.csv                   ylds.csv\n",
      "population.hdf                   ylds.hdf\n",
      "risk_exposure_time.csv           ylls.csv\n",
      "risk_exposure_time.hdf           ylls.hdf\n"
     ]
    }
   ],
   "source": [
    "ls /ihme/costeffectiveness/results/vivarium_nih_us_cvd/model_6/alabama/2022_11_01_15_10_44/count_data"
   ]
  },
  {
   "cell_type": "code",
   "execution_count": null,
   "id": "535b5cea-d455-4dd7-ad39-9b67b4e2bd22",
   "metadata": {},
   "outputs": [],
   "source": [
    "sim_results_dir = '/ihme/costeffectiveness/results/vivarium_nih_us_cvd/model_6/alabama/2022_11_01_15_10_44/count_data/'"
   ]
  },
  {
   "cell_type": "markdown",
   "id": "2b062c32-c56b-49f3-800e-16f396bf1bbb",
   "metadata": {},
   "source": [
    "### Exploring Data"
   ]
  },
  {
   "cell_type": "code",
   "execution_count": null,
   "id": "6e5566eb-e2a6-448c-bef5-620af9e496e4",
   "metadata": {},
   "outputs": [
    {
     "data": {
      "text/html": [
       "<div>\n",
       "<style scoped>\n",
       "    .dataframe tbody tr th:only-of-type {\n",
       "        vertical-align: middle;\n",
       "    }\n",
       "\n",
       "    .dataframe tbody tr th {\n",
       "        vertical-align: top;\n",
       "    }\n",
       "\n",
       "    .dataframe thead th {\n",
       "        text-align: right;\n",
       "    }\n",
       "</style>\n",
       "<table border=\"1\" class=\"dataframe\">\n",
       "  <thead>\n",
       "    <tr style=\"text-align: right;\">\n",
       "      <th></th>\n",
       "      <th>Unnamed: 0</th>\n",
       "      <th>sex</th>\n",
       "      <th>year</th>\n",
       "      <th>cause</th>\n",
       "      <th>measure</th>\n",
       "      <th>input_draw</th>\n",
       "      <th>scenario</th>\n",
       "      <th>age</th>\n",
       "      <th>value</th>\n",
       "    </tr>\n",
       "  </thead>\n",
       "  <tbody>\n",
       "    <tr>\n",
       "      <th>0</th>\n",
       "      <td>0</td>\n",
       "      <td>female</td>\n",
       "      <td>2023</td>\n",
       "      <td>acute_ischemic_stroke</td>\n",
       "      <td>deaths</td>\n",
       "      <td>29</td>\n",
       "      <td>baseline</td>\n",
       "      <td>25_to_29</td>\n",
       "      <td>2</td>\n",
       "    </tr>\n",
       "    <tr>\n",
       "      <th>1</th>\n",
       "      <td>1</td>\n",
       "      <td>female</td>\n",
       "      <td>2023</td>\n",
       "      <td>acute_ischemic_stroke</td>\n",
       "      <td>deaths</td>\n",
       "      <td>29</td>\n",
       "      <td>baseline</td>\n",
       "      <td>30_to_34</td>\n",
       "      <td>1</td>\n",
       "    </tr>\n",
       "    <tr>\n",
       "      <th>2</th>\n",
       "      <td>2</td>\n",
       "      <td>female</td>\n",
       "      <td>2023</td>\n",
       "      <td>acute_ischemic_stroke</td>\n",
       "      <td>deaths</td>\n",
       "      <td>29</td>\n",
       "      <td>baseline</td>\n",
       "      <td>35_to_39</td>\n",
       "      <td>0</td>\n",
       "    </tr>\n",
       "    <tr>\n",
       "      <th>3</th>\n",
       "      <td>3</td>\n",
       "      <td>female</td>\n",
       "      <td>2023</td>\n",
       "      <td>acute_ischemic_stroke</td>\n",
       "      <td>deaths</td>\n",
       "      <td>29</td>\n",
       "      <td>baseline</td>\n",
       "      <td>40_to_44</td>\n",
       "      <td>0</td>\n",
       "    </tr>\n",
       "    <tr>\n",
       "      <th>4</th>\n",
       "      <td>4</td>\n",
       "      <td>female</td>\n",
       "      <td>2023</td>\n",
       "      <td>acute_ischemic_stroke</td>\n",
       "      <td>deaths</td>\n",
       "      <td>29</td>\n",
       "      <td>baseline</td>\n",
       "      <td>45_to_49</td>\n",
       "      <td>1</td>\n",
       "    </tr>\n",
       "  </tbody>\n",
       "</table>\n",
       "</div>"
      ],
      "text/plain": [
       "   Unnamed: 0     sex  year                  cause measure  input_draw  \\\n",
       "0           0  female  2023  acute_ischemic_stroke  deaths          29   \n",
       "1           1  female  2023  acute_ischemic_stroke  deaths          29   \n",
       "2           2  female  2023  acute_ischemic_stroke  deaths          29   \n",
       "3           3  female  2023  acute_ischemic_stroke  deaths          29   \n",
       "4           4  female  2023  acute_ischemic_stroke  deaths          29   \n",
       "\n",
       "   scenario       age  value  \n",
       "0  baseline  25_to_29      2  \n",
       "1  baseline  30_to_34      1  \n",
       "2  baseline  35_to_39      0  \n",
       "3  baseline  40_to_44      0  \n",
       "4  baseline  45_to_49      1  "
      ]
     },
     "execution_count": 4,
     "metadata": {},
     "output_type": "execute_result"
    }
   ],
   "source": [
    "deaths = pd.read_csv(sim_results_dir + 'deaths.csv')\n",
    "deaths.head()"
   ]
  },
  {
   "cell_type": "code",
   "execution_count": null,
   "id": "2a6e7a90-fe07-4279-a21a-6a6ae56eee53",
   "metadata": {},
   "outputs": [
    {
     "data": {
      "text/html": [
       "<div>\n",
       "<style scoped>\n",
       "    .dataframe tbody tr th:only-of-type {\n",
       "        vertical-align: middle;\n",
       "    }\n",
       "\n",
       "    .dataframe tbody tr th {\n",
       "        vertical-align: top;\n",
       "    }\n",
       "\n",
       "    .dataframe thead th {\n",
       "        text-align: right;\n",
       "    }\n",
       "</style>\n",
       "<table border=\"1\" class=\"dataframe\">\n",
       "  <thead>\n",
       "    <tr style=\"text-align: right;\">\n",
       "      <th></th>\n",
       "      <th>Unnamed: 0</th>\n",
       "      <th>measure</th>\n",
       "      <th>input_draw</th>\n",
       "      <th>scenario</th>\n",
       "      <th>value</th>\n",
       "    </tr>\n",
       "  </thead>\n",
       "  <tbody>\n",
       "    <tr>\n",
       "      <th>0</th>\n",
       "      <td>0</td>\n",
       "      <td>total_population</td>\n",
       "      <td>29</td>\n",
       "      <td>baseline</td>\n",
       "      <td>750000</td>\n",
       "    </tr>\n",
       "    <tr>\n",
       "      <th>1</th>\n",
       "      <td>1</td>\n",
       "      <td>total_population</td>\n",
       "      <td>232</td>\n",
       "      <td>baseline</td>\n",
       "      <td>750000</td>\n",
       "    </tr>\n",
       "    <tr>\n",
       "      <th>2</th>\n",
       "      <td>2</td>\n",
       "      <td>total_population</td>\n",
       "      <td>357</td>\n",
       "      <td>baseline</td>\n",
       "      <td>750000</td>\n",
       "    </tr>\n",
       "    <tr>\n",
       "      <th>3</th>\n",
       "      <td>3</td>\n",
       "      <td>total_population</td>\n",
       "      <td>394</td>\n",
       "      <td>baseline</td>\n",
       "      <td>750000</td>\n",
       "    </tr>\n",
       "    <tr>\n",
       "      <th>4</th>\n",
       "      <td>4</td>\n",
       "      <td>total_population</td>\n",
       "      <td>602</td>\n",
       "      <td>baseline</td>\n",
       "      <td>750000</td>\n",
       "    </tr>\n",
       "  </tbody>\n",
       "</table>\n",
       "</div>"
      ],
      "text/plain": [
       "   Unnamed: 0           measure  input_draw  scenario   value\n",
       "0           0  total_population          29  baseline  750000\n",
       "1           1  total_population         232  baseline  750000\n",
       "2           2  total_population         357  baseline  750000\n",
       "3           3  total_population         394  baseline  750000\n",
       "4           4  total_population         602  baseline  750000"
      ]
     },
     "execution_count": 5,
     "metadata": {},
     "output_type": "execute_result"
    }
   ],
   "source": [
    "pop = pd.read_csv(sim_results_dir + 'population.csv')\n",
    "pop.loc[pop.measure==\"total_population_untracked\"].value.sum()\n",
    "pop.head()"
   ]
  },
  {
   "cell_type": "code",
   "execution_count": null,
   "id": "309d253c-286a-4385-ac3e-3ee5afdd63d9",
   "metadata": {},
   "outputs": [
    {
     "data": {
      "text/plain": [
       "array(['ischemic_stroke_acute_ischemic_stroke_to_chronic_ischemic_stroke',\n",
       "       'ischemic_stroke_chronic_ischemic_stroke_to_acute_ischemic_stroke',\n",
       "       'ischemic_stroke_susceptible_to_ischemic_stroke_to_acute_ischemic_stroke',\n",
       "       'myocardial_infarction_acute_myocardial_infarction_to_post_myocardial_infarction',\n",
       "       'myocardial_infarction_post_myocardial_infarction_to_acute_myocardial_infarction',\n",
       "       'myocardial_infarction_susceptible_to_myocardial_infarction_to_acute_myocardial_infarction'],\n",
       "      dtype=object)"
      ]
     },
     "execution_count": 6,
     "metadata": {},
     "output_type": "execute_result"
    }
   ],
   "source": [
    "tran = pd.read_csv(sim_results_dir + 'transition_count.csv')\n",
    "tran.transition.unique()"
   ]
  },
  {
   "cell_type": "code",
   "execution_count": null,
   "id": "ab9f1283-13d6-43b8-a3c9-cd98d6387bf8",
   "metadata": {},
   "outputs": [
    {
     "data": {
      "text/plain": [
       "102356373.9247091"
      ]
     },
     "execution_count": 7,
     "metadata": {},
     "output_type": "execute_result"
    }
   ],
   "source": [
    "state_person_time = pd.read_csv(sim_results_dir + '/state_person_time.csv')\n",
    "person_time = state_person_time.loc[state_person_time['state'].isin([\"ischemic_stroke_acute_ischemic_stroke\", \"ischemic_stroke_chronic_ischemic_stroke\", \"ischemic_stroke_susceptible_to_ischemic_stroke\"])].reset_index() \n",
    "person_time.value.sum()"
   ]
  },
  {
   "cell_type": "code",
   "execution_count": null,
   "id": "c47cca3d-f4eb-4443-871d-81609c386d2c",
   "metadata": {},
   "outputs": [
    {
     "data": {
      "text/plain": [
       "102356373.92470908"
      ]
     },
     "execution_count": 8,
     "metadata": {},
     "output_type": "execute_result"
    }
   ],
   "source": [
    "person_time_test = state_person_time.loc[state_person_time['state'].isin([\"myocardial_infarction_acute_myocardial_infarction\", \"myocardial_infarction_post_myocardial_infarction\", \"myocardial_infarction_susceptible_to_myocardial_infarction\"])].reset_index() \n",
    "person_time_test.value.sum()"
   ]
  },
  {
   "cell_type": "markdown",
   "id": "5ce33abb-2782-4d22-9a12-87002632a91f",
   "metadata": {},
   "source": [
    "### Total DALYs by Year"
   ]
  },
  {
   "cell_type": "code",
   "execution_count": null,
   "id": "d829ca5f-0de4-4f4f-ae25-395b06fc24ae",
   "metadata": {},
   "outputs": [
    {
     "data": {
      "text/html": [
       "<div>\n",
       "<style scoped>\n",
       "    .dataframe tbody tr th:only-of-type {\n",
       "        vertical-align: middle;\n",
       "    }\n",
       "\n",
       "    .dataframe tbody tr th {\n",
       "        vertical-align: top;\n",
       "    }\n",
       "\n",
       "    .dataframe thead th {\n",
       "        text-align: right;\n",
       "    }\n",
       "</style>\n",
       "<table border=\"1\" class=\"dataframe\">\n",
       "  <thead>\n",
       "    <tr style=\"text-align: right;\">\n",
       "      <th></th>\n",
       "      <th>sex</th>\n",
       "      <th>age</th>\n",
       "      <th>input_draw</th>\n",
       "      <th>year</th>\n",
       "      <th>yll</th>\n",
       "      <th>yld</th>\n",
       "      <th>daly</th>\n",
       "    </tr>\n",
       "  </thead>\n",
       "  <tbody>\n",
       "    <tr>\n",
       "      <th>0</th>\n",
       "      <td>female</td>\n",
       "      <td>25_to_29</td>\n",
       "      <td>29</td>\n",
       "      <td>2023</td>\n",
       "      <td>1979.294558</td>\n",
       "      <td>53.262302</td>\n",
       "      <td>2032.556860</td>\n",
       "    </tr>\n",
       "    <tr>\n",
       "      <th>1</th>\n",
       "      <td>female</td>\n",
       "      <td>25_to_29</td>\n",
       "      <td>29</td>\n",
       "      <td>2024</td>\n",
       "      <td>2777.078392</td>\n",
       "      <td>54.382161</td>\n",
       "      <td>2831.460554</td>\n",
       "    </tr>\n",
       "    <tr>\n",
       "      <th>2</th>\n",
       "      <td>female</td>\n",
       "      <td>25_to_29</td>\n",
       "      <td>29</td>\n",
       "      <td>2025</td>\n",
       "      <td>2710.006808</td>\n",
       "      <td>54.089027</td>\n",
       "      <td>2764.095835</td>\n",
       "    </tr>\n",
       "    <tr>\n",
       "      <th>3</th>\n",
       "      <td>female</td>\n",
       "      <td>25_to_29</td>\n",
       "      <td>29</td>\n",
       "      <td>2026</td>\n",
       "      <td>3143.895659</td>\n",
       "      <td>54.954009</td>\n",
       "      <td>3198.849669</td>\n",
       "    </tr>\n",
       "    <tr>\n",
       "      <th>4</th>\n",
       "      <td>female</td>\n",
       "      <td>25_to_29</td>\n",
       "      <td>29</td>\n",
       "      <td>2027</td>\n",
       "      <td>2144.669234</td>\n",
       "      <td>56.634060</td>\n",
       "      <td>2201.303294</td>\n",
       "    </tr>\n",
       "  </tbody>\n",
       "</table>\n",
       "</div>"
      ],
      "text/plain": [
       "      sex       age  input_draw  year          yll        yld         daly\n",
       "0  female  25_to_29          29  2023  1979.294558  53.262302  2032.556860\n",
       "1  female  25_to_29          29  2024  2777.078392  54.382161  2831.460554\n",
       "2  female  25_to_29          29  2025  2710.006808  54.089027  2764.095835\n",
       "3  female  25_to_29          29  2026  3143.895659  54.954009  3198.849669\n",
       "4  female  25_to_29          29  2027  2144.669234  56.634060  2201.303294"
      ]
     },
     "execution_count": 9,
     "metadata": {},
     "output_type": "execute_result"
    }
   ],
   "source": [
    "yll = pd.read_csv(sim_results_dir + 'ylls.csv')\n",
    "yll = yll.rename(columns = {'value':'yll'})\n",
    "yll_total = yll.groupby(['sex', 'age', 'input_draw', 'year']).yll.sum().reset_index()\n",
    "yld = pd.read_csv(sim_results_dir + 'ylds.csv')\n",
    "yld = yld.rename(columns = {'value':'yld'})\n",
    "yld_total = yld.groupby(['sex', 'age', 'input_draw', 'year']).yld.sum().reset_index()\n",
    "daly_total = pd.concat([yll_total, yld_total.yld], axis=1)\n",
    "daly_total['daly'] = daly_total['yll'] + daly_total['yld'] \n",
    "\n",
    "daly_total.head()"
   ]
  },
  {
   "cell_type": "code",
   "execution_count": null,
   "id": "3474a213-75ba-4641-9f7a-0beab4630121",
   "metadata": {},
   "outputs": [
    {
     "data": {
      "text/html": [
       "<div>\n",
       "<style scoped>\n",
       "    .dataframe tbody tr th:only-of-type {\n",
       "        vertical-align: middle;\n",
       "    }\n",
       "\n",
       "    .dataframe tbody tr th {\n",
       "        vertical-align: top;\n",
       "    }\n",
       "\n",
       "    .dataframe thead th {\n",
       "        text-align: right;\n",
       "    }\n",
       "</style>\n",
       "<table border=\"1\" class=\"dataframe\">\n",
       "  <thead>\n",
       "    <tr style=\"text-align: right;\">\n",
       "      <th></th>\n",
       "      <th>year</th>\n",
       "      <th>mean</th>\n",
       "      <th>2.5%</th>\n",
       "      <th>97.5%</th>\n",
       "    </tr>\n",
       "  </thead>\n",
       "  <tbody>\n",
       "    <tr>\n",
       "      <th>0</th>\n",
       "      <td>2023</td>\n",
       "      <td>6021.783868</td>\n",
       "      <td>730.001446</td>\n",
       "      <td>12753.989644</td>\n",
       "    </tr>\n",
       "    <tr>\n",
       "      <th>1</th>\n",
       "      <td>2024</td>\n",
       "      <td>6142.737029</td>\n",
       "      <td>778.221067</td>\n",
       "      <td>12750.880406</td>\n",
       "    </tr>\n",
       "    <tr>\n",
       "      <th>2</th>\n",
       "      <td>2025</td>\n",
       "      <td>6138.349451</td>\n",
       "      <td>836.843407</td>\n",
       "      <td>12786.217359</td>\n",
       "    </tr>\n",
       "    <tr>\n",
       "      <th>3</th>\n",
       "      <td>2026</td>\n",
       "      <td>6193.159716</td>\n",
       "      <td>857.202500</td>\n",
       "      <td>13046.550346</td>\n",
       "    </tr>\n",
       "    <tr>\n",
       "      <th>4</th>\n",
       "      <td>2027</td>\n",
       "      <td>6258.491055</td>\n",
       "      <td>912.951963</td>\n",
       "      <td>13188.227387</td>\n",
       "    </tr>\n",
       "  </tbody>\n",
       "</table>\n",
       "</div>"
      ],
      "text/plain": [
       "   year         mean        2.5%         97.5%\n",
       "0  2023  6021.783868  730.001446  12753.989644\n",
       "1  2024  6142.737029  778.221067  12750.880406\n",
       "2  2025  6138.349451  836.843407  12786.217359\n",
       "3  2026  6193.159716  857.202500  13046.550346\n",
       "4  2027  6258.491055  912.951963  13188.227387"
      ]
     },
     "execution_count": 10,
     "metadata": {},
     "output_type": "execute_result"
    }
   ],
   "source": [
    "daly_sum = (daly_total\n",
    "                .groupby(['year'])\n",
    "                .daly.describe(percentiles=[.025, .975])\n",
    "                .filter(['mean', '2.5%', '97.5%'])\n",
    "                .reset_index())\n",
    "\n",
    "daly_sum.head()"
   ]
  },
  {
   "cell_type": "markdown",
   "id": "a636b7ae-27e1-4d7e-82e4-841b706db361",
   "metadata": {},
   "source": [
    "### All Cause Mortality Graphs"
   ]
  },
  {
   "cell_type": "code",
   "execution_count": null,
   "id": "2a15f1f7-4d7a-462d-92ac-494746448364",
   "metadata": {
    "tags": []
   },
   "outputs": [
    {
     "data": {
      "text/html": [
       "<div>\n",
       "<style scoped>\n",
       "    .dataframe tbody tr th:only-of-type {\n",
       "        vertical-align: middle;\n",
       "    }\n",
       "\n",
       "    .dataframe tbody tr th {\n",
       "        vertical-align: top;\n",
       "    }\n",
       "\n",
       "    .dataframe thead th {\n",
       "        text-align: right;\n",
       "    }\n",
       "</style>\n",
       "<table border=\"1\" class=\"dataframe\">\n",
       "  <thead>\n",
       "    <tr style=\"text-align: right;\">\n",
       "      <th></th>\n",
       "      <th>age</th>\n",
       "      <th>sex</th>\n",
       "      <th>year</th>\n",
       "      <th>mean</th>\n",
       "      <th>2.5%</th>\n",
       "      <th>97.5%</th>\n",
       "    </tr>\n",
       "  </thead>\n",
       "  <tbody>\n",
       "    <tr>\n",
       "      <th>0</th>\n",
       "      <td>25_to_29</td>\n",
       "      <td>female</td>\n",
       "      <td>2023</td>\n",
       "      <td>13.66</td>\n",
       "      <td>0.0</td>\n",
       "      <td>89.800</td>\n",
       "    </tr>\n",
       "    <tr>\n",
       "      <th>1</th>\n",
       "      <td>25_to_29</td>\n",
       "      <td>female</td>\n",
       "      <td>2024</td>\n",
       "      <td>13.64</td>\n",
       "      <td>0.0</td>\n",
       "      <td>75.100</td>\n",
       "    </tr>\n",
       "    <tr>\n",
       "      <th>2</th>\n",
       "      <td>25_to_29</td>\n",
       "      <td>female</td>\n",
       "      <td>2025</td>\n",
       "      <td>12.60</td>\n",
       "      <td>0.0</td>\n",
       "      <td>68.775</td>\n",
       "    </tr>\n",
       "    <tr>\n",
       "      <th>3</th>\n",
       "      <td>25_to_29</td>\n",
       "      <td>female</td>\n",
       "      <td>2026</td>\n",
       "      <td>12.80</td>\n",
       "      <td>0.0</td>\n",
       "      <td>57.150</td>\n",
       "    </tr>\n",
       "    <tr>\n",
       "      <th>4</th>\n",
       "      <td>25_to_29</td>\n",
       "      <td>female</td>\n",
       "      <td>2027</td>\n",
       "      <td>12.28</td>\n",
       "      <td>0.0</td>\n",
       "      <td>49.950</td>\n",
       "    </tr>\n",
       "  </tbody>\n",
       "</table>\n",
       "</div>"
      ],
      "text/plain": [
       "        age     sex  year   mean  2.5%   97.5%\n",
       "0  25_to_29  female  2023  13.66   0.0  89.800\n",
       "1  25_to_29  female  2024  13.64   0.0  75.100\n",
       "2  25_to_29  female  2025  12.60   0.0  68.775\n",
       "3  25_to_29  female  2026  12.80   0.0  57.150\n",
       "4  25_to_29  female  2027  12.28   0.0  49.950"
      ]
     },
     "execution_count": 11,
     "metadata": {},
     "output_type": "execute_result"
    }
   ],
   "source": [
    "result_summary = (deaths\n",
    "                      .groupby(['age', 'sex', 'year'])\n",
    "                      .value.describe(percentiles=[.025, .975])\n",
    "                      .filter(['mean', '2.5%', '97.5%'])\n",
    "                      .reset_index())\n",
    "\n",
    "result_summary.head()"
   ]
  },
  {
   "cell_type": "markdown",
   "id": "7f95de1b-3f07-4a14-8acf-1f97f42f4adb",
   "metadata": {},
   "source": [
    "#### All Cause Mortality Graph with Rate"
   ]
  },
  {
   "cell_type": "code",
   "execution_count": null,
   "id": "d4fab11a-addf-4f4b-8d8a-47c9b260ed9a",
   "metadata": {},
   "outputs": [
    {
     "data": {
      "text/html": [
       "<div>\n",
       "<style scoped>\n",
       "    .dataframe tbody tr th:only-of-type {\n",
       "        vertical-align: middle;\n",
       "    }\n",
       "\n",
       "    .dataframe tbody tr th {\n",
       "        vertical-align: top;\n",
       "    }\n",
       "\n",
       "    .dataframe thead th {\n",
       "        text-align: right;\n",
       "    }\n",
       "</style>\n",
       "<table border=\"1\" class=\"dataframe\">\n",
       "  <thead>\n",
       "    <tr style=\"text-align: right;\">\n",
       "      <th></th>\n",
       "      <th>age</th>\n",
       "      <th>sex</th>\n",
       "      <th>year</th>\n",
       "      <th>input_draw</th>\n",
       "      <th>ptvalue</th>\n",
       "    </tr>\n",
       "  </thead>\n",
       "  <tbody>\n",
       "    <tr>\n",
       "      <th>0</th>\n",
       "      <td>25_to_29</td>\n",
       "      <td>female</td>\n",
       "      <td>2023</td>\n",
       "      <td>29</td>\n",
       "      <td>27441.839836</td>\n",
       "    </tr>\n",
       "    <tr>\n",
       "      <th>1</th>\n",
       "      <td>25_to_29</td>\n",
       "      <td>female</td>\n",
       "      <td>2023</td>\n",
       "      <td>232</td>\n",
       "      <td>27756.911704</td>\n",
       "    </tr>\n",
       "    <tr>\n",
       "      <th>2</th>\n",
       "      <td>25_to_29</td>\n",
       "      <td>female</td>\n",
       "      <td>2023</td>\n",
       "      <td>357</td>\n",
       "      <td>27624.366872</td>\n",
       "    </tr>\n",
       "    <tr>\n",
       "      <th>3</th>\n",
       "      <td>25_to_29</td>\n",
       "      <td>female</td>\n",
       "      <td>2023</td>\n",
       "      <td>394</td>\n",
       "      <td>27463.457906</td>\n",
       "    </tr>\n",
       "    <tr>\n",
       "      <th>4</th>\n",
       "      <td>25_to_29</td>\n",
       "      <td>female</td>\n",
       "      <td>2023</td>\n",
       "      <td>602</td>\n",
       "      <td>27322.097194</td>\n",
       "    </tr>\n",
       "  </tbody>\n",
       "</table>\n",
       "</div>"
      ],
      "text/plain": [
       "        age     sex  year  input_draw       ptvalue\n",
       "0  25_to_29  female  2023          29  27441.839836\n",
       "1  25_to_29  female  2023         232  27756.911704\n",
       "2  25_to_29  female  2023         357  27624.366872\n",
       "3  25_to_29  female  2023         394  27463.457906\n",
       "4  25_to_29  female  2023         602  27322.097194"
      ]
     },
     "execution_count": 12,
     "metadata": {},
     "output_type": "execute_result"
    }
   ],
   "source": [
    "person_time = person_time.rename(columns = {'value':'ptvalue'})\n",
    "per_time_group = person_time.groupby(['age', 'sex', 'year', 'input_draw']).ptvalue.sum().reset_index()\n",
    "\n",
    "per_time_group.head()"
   ]
  },
  {
   "cell_type": "code",
   "execution_count": null,
   "id": "e65d3af0-d47c-47da-bbe4-a09bc76d0a38",
   "metadata": {},
   "outputs": [
    {
     "data": {
      "text/html": [
       "<div>\n",
       "<style scoped>\n",
       "    .dataframe tbody tr th:only-of-type {\n",
       "        vertical-align: middle;\n",
       "    }\n",
       "\n",
       "    .dataframe tbody tr th {\n",
       "        vertical-align: top;\n",
       "    }\n",
       "\n",
       "    .dataframe thead th {\n",
       "        text-align: right;\n",
       "    }\n",
       "</style>\n",
       "<table border=\"1\" class=\"dataframe\">\n",
       "  <thead>\n",
       "    <tr style=\"text-align: right;\">\n",
       "      <th></th>\n",
       "      <th>age</th>\n",
       "      <th>sex</th>\n",
       "      <th>year</th>\n",
       "      <th>mean</th>\n",
       "      <th>2.5%</th>\n",
       "      <th>97.5%</th>\n",
       "    </tr>\n",
       "  </thead>\n",
       "  <tbody>\n",
       "    <tr>\n",
       "      <th>0</th>\n",
       "      <td>25_to_29</td>\n",
       "      <td>female</td>\n",
       "      <td>2023</td>\n",
       "      <td>0.002495</td>\n",
       "      <td>0.000927</td>\n",
       "      <td>0.007163</td>\n",
       "    </tr>\n",
       "    <tr>\n",
       "      <th>1</th>\n",
       "      <td>25_to_29</td>\n",
       "      <td>female</td>\n",
       "      <td>2024</td>\n",
       "      <td>0.002521</td>\n",
       "      <td>0.000891</td>\n",
       "      <td>0.006671</td>\n",
       "    </tr>\n",
       "    <tr>\n",
       "      <th>2</th>\n",
       "      <td>25_to_29</td>\n",
       "      <td>female</td>\n",
       "      <td>2025</td>\n",
       "      <td>0.002355</td>\n",
       "      <td>0.001149</td>\n",
       "      <td>0.006101</td>\n",
       "    </tr>\n",
       "    <tr>\n",
       "      <th>3</th>\n",
       "      <td>25_to_29</td>\n",
       "      <td>female</td>\n",
       "      <td>2026</td>\n",
       "      <td>0.002405</td>\n",
       "      <td>0.000984</td>\n",
       "      <td>0.006695</td>\n",
       "    </tr>\n",
       "    <tr>\n",
       "      <th>4</th>\n",
       "      <td>25_to_29</td>\n",
       "      <td>female</td>\n",
       "      <td>2027</td>\n",
       "      <td>0.002317</td>\n",
       "      <td>0.001009</td>\n",
       "      <td>0.006447</td>\n",
       "    </tr>\n",
       "  </tbody>\n",
       "</table>\n",
       "</div>"
      ],
      "text/plain": [
       "        age     sex  year      mean      2.5%     97.5%\n",
       "0  25_to_29  female  2023  0.002495  0.000927  0.007163\n",
       "1  25_to_29  female  2024  0.002521  0.000891  0.006671\n",
       "2  25_to_29  female  2025  0.002355  0.001149  0.006101\n",
       "3  25_to_29  female  2026  0.002405  0.000984  0.006695\n",
       "4  25_to_29  female  2027  0.002317  0.001009  0.006447"
      ]
     },
     "execution_count": 13,
     "metadata": {},
     "output_type": "execute_result"
    }
   ],
   "source": [
    "results_rate = deaths.groupby(['age', 'sex', 'year', 'input_draw']).value.sum().reset_index()\n",
    "results_rate = pd.concat([results_rate, per_time_group.ptvalue], axis=1)\n",
    "results_rate['mean_rate'] = results_rate['value'] / results_rate['ptvalue']\n",
    "result_summary = (results_rate\n",
    "                      .groupby(['age', 'sex', 'year'])\n",
    "                      .mean_rate.describe(percentiles=[.025, .975])\n",
    "                      .filter(['mean', '2.5%', '97.5%'])\n",
    "                      .reset_index())\n",
    "\n",
    "result_summary.head()"
   ]
  },
  {
   "cell_type": "markdown",
   "id": "84340be2-45b9-49ef-ad17-4eb13eb2e3c8",
   "metadata": {},
   "source": [
    "### Cause Specific Mortality Graphs\n",
    "#### Acute Stroke"
   ]
  },
  {
   "cell_type": "code",
   "execution_count": null,
   "id": "1b9b5ffc-6d6e-4651-8e57-08925c8e5cd6",
   "metadata": {
    "tags": []
   },
   "outputs": [
    {
     "data": {
      "text/html": [
       "<div>\n",
       "<style scoped>\n",
       "    .dataframe tbody tr th:only-of-type {\n",
       "        vertical-align: middle;\n",
       "    }\n",
       "\n",
       "    .dataframe tbody tr th {\n",
       "        vertical-align: top;\n",
       "    }\n",
       "\n",
       "    .dataframe thead th {\n",
       "        text-align: right;\n",
       "    }\n",
       "</style>\n",
       "<table border=\"1\" class=\"dataframe\">\n",
       "  <thead>\n",
       "    <tr style=\"text-align: right;\">\n",
       "      <th></th>\n",
       "      <th>index</th>\n",
       "      <th>age</th>\n",
       "      <th>sex</th>\n",
       "      <th>year</th>\n",
       "      <th>cause</th>\n",
       "      <th>mean</th>\n",
       "      <th>2.5%</th>\n",
       "      <th>97.5%</th>\n",
       "    </tr>\n",
       "  </thead>\n",
       "  <tbody>\n",
       "    <tr>\n",
       "      <th>0</th>\n",
       "      <td>0</td>\n",
       "      <td>25_to_29</td>\n",
       "      <td>female</td>\n",
       "      <td>2023</td>\n",
       "      <td>acute_ischemic_stroke</td>\n",
       "      <td>2.6</td>\n",
       "      <td>0.0</td>\n",
       "      <td>16.725</td>\n",
       "    </tr>\n",
       "    <tr>\n",
       "      <th>1</th>\n",
       "      <td>5</td>\n",
       "      <td>25_to_29</td>\n",
       "      <td>female</td>\n",
       "      <td>2024</td>\n",
       "      <td>acute_ischemic_stroke</td>\n",
       "      <td>3.7</td>\n",
       "      <td>0.0</td>\n",
       "      <td>17.625</td>\n",
       "    </tr>\n",
       "    <tr>\n",
       "      <th>2</th>\n",
       "      <td>10</td>\n",
       "      <td>25_to_29</td>\n",
       "      <td>female</td>\n",
       "      <td>2025</td>\n",
       "      <td>acute_ischemic_stroke</td>\n",
       "      <td>2.4</td>\n",
       "      <td>0.0</td>\n",
       "      <td>13.425</td>\n",
       "    </tr>\n",
       "    <tr>\n",
       "      <th>3</th>\n",
       "      <td>15</td>\n",
       "      <td>25_to_29</td>\n",
       "      <td>female</td>\n",
       "      <td>2026</td>\n",
       "      <td>acute_ischemic_stroke</td>\n",
       "      <td>2.9</td>\n",
       "      <td>0.0</td>\n",
       "      <td>18.950</td>\n",
       "    </tr>\n",
       "    <tr>\n",
       "      <th>4</th>\n",
       "      <td>20</td>\n",
       "      <td>25_to_29</td>\n",
       "      <td>female</td>\n",
       "      <td>2027</td>\n",
       "      <td>acute_ischemic_stroke</td>\n",
       "      <td>2.9</td>\n",
       "      <td>0.0</td>\n",
       "      <td>18.500</td>\n",
       "    </tr>\n",
       "  </tbody>\n",
       "</table>\n",
       "</div>"
      ],
      "text/plain": [
       "   index       age     sex  year                  cause  mean  2.5%   97.5%\n",
       "0      0  25_to_29  female  2023  acute_ischemic_stroke   2.6   0.0  16.725\n",
       "1      5  25_to_29  female  2024  acute_ischemic_stroke   3.7   0.0  17.625\n",
       "2     10  25_to_29  female  2025  acute_ischemic_stroke   2.4   0.0  13.425\n",
       "3     15  25_to_29  female  2026  acute_ischemic_stroke   2.9   0.0  18.950\n",
       "4     20  25_to_29  female  2027  acute_ischemic_stroke   2.9   0.0  18.500"
      ]
     },
     "execution_count": 14,
     "metadata": {},
     "output_type": "execute_result"
    }
   ],
   "source": [
    "deaths_cause = (deaths\n",
    "               .groupby(['age', 'sex', 'year', 'cause'])\n",
    "               .value.describe(percentiles=[.025, .975])\n",
    "               .filter(['mean', '2.5%', '97.5%'])\n",
    "               .reset_index())\n",
    "\n",
    "acute = deaths_cause.loc[(deaths_cause['cause'] == 'acute_ischemic_stroke')].reset_index()\n",
    "\n",
    "acute.head()"
   ]
  },
  {
   "cell_type": "code",
   "execution_count": null,
   "id": "65f2f190-de9f-4c4e-a44f-d863abc4816d",
   "metadata": {},
   "outputs": [
    {
     "data": {
      "text/html": [
       "<div>\n",
       "<style scoped>\n",
       "    .dataframe tbody tr th:only-of-type {\n",
       "        vertical-align: middle;\n",
       "    }\n",
       "\n",
       "    .dataframe tbody tr th {\n",
       "        vertical-align: top;\n",
       "    }\n",
       "\n",
       "    .dataframe thead th {\n",
       "        text-align: right;\n",
       "    }\n",
       "</style>\n",
       "<table border=\"1\" class=\"dataframe\">\n",
       "  <thead>\n",
       "    <tr style=\"text-align: right;\">\n",
       "      <th></th>\n",
       "      <th>index</th>\n",
       "      <th>age</th>\n",
       "      <th>sex</th>\n",
       "      <th>year</th>\n",
       "      <th>input_draw</th>\n",
       "      <th>cause</th>\n",
       "      <th>value</th>\n",
       "    </tr>\n",
       "  </thead>\n",
       "  <tbody>\n",
       "    <tr>\n",
       "      <th>0</th>\n",
       "      <td>0</td>\n",
       "      <td>25_to_29</td>\n",
       "      <td>female</td>\n",
       "      <td>2023</td>\n",
       "      <td>29</td>\n",
       "      <td>acute_ischemic_stroke</td>\n",
       "      <td>2</td>\n",
       "    </tr>\n",
       "    <tr>\n",
       "      <th>1</th>\n",
       "      <td>5</td>\n",
       "      <td>25_to_29</td>\n",
       "      <td>female</td>\n",
       "      <td>2023</td>\n",
       "      <td>232</td>\n",
       "      <td>acute_ischemic_stroke</td>\n",
       "      <td>0</td>\n",
       "    </tr>\n",
       "    <tr>\n",
       "      <th>2</th>\n",
       "      <td>10</td>\n",
       "      <td>25_to_29</td>\n",
       "      <td>female</td>\n",
       "      <td>2023</td>\n",
       "      <td>357</td>\n",
       "      <td>acute_ischemic_stroke</td>\n",
       "      <td>1</td>\n",
       "    </tr>\n",
       "    <tr>\n",
       "      <th>3</th>\n",
       "      <td>15</td>\n",
       "      <td>25_to_29</td>\n",
       "      <td>female</td>\n",
       "      <td>2023</td>\n",
       "      <td>394</td>\n",
       "      <td>acute_ischemic_stroke</td>\n",
       "      <td>0</td>\n",
       "    </tr>\n",
       "    <tr>\n",
       "      <th>4</th>\n",
       "      <td>20</td>\n",
       "      <td>25_to_29</td>\n",
       "      <td>female</td>\n",
       "      <td>2023</td>\n",
       "      <td>602</td>\n",
       "      <td>acute_ischemic_stroke</td>\n",
       "      <td>0</td>\n",
       "    </tr>\n",
       "  </tbody>\n",
       "</table>\n",
       "</div>"
      ],
      "text/plain": [
       "   index       age     sex  year  input_draw                  cause  value\n",
       "0      0  25_to_29  female  2023          29  acute_ischemic_stroke      2\n",
       "1      5  25_to_29  female  2023         232  acute_ischemic_stroke      0\n",
       "2     10  25_to_29  female  2023         357  acute_ischemic_stroke      1\n",
       "3     15  25_to_29  female  2023         394  acute_ischemic_stroke      0\n",
       "4     20  25_to_29  female  2023         602  acute_ischemic_stroke      0"
      ]
     },
     "execution_count": 15,
     "metadata": {},
     "output_type": "execute_result"
    }
   ],
   "source": [
    "death_rate_cause = deaths.groupby(['age', 'sex', 'year', 'input_draw', 'cause']).value.sum().reset_index()\n",
    "acute_rate = death_rate_cause.loc[(death_rate_cause['cause'] == 'acute_ischemic_stroke')].reset_index()\n",
    "acute_rate.head()"
   ]
  },
  {
   "cell_type": "code",
   "execution_count": null,
   "id": "b164d283-8282-4de7-bce6-f614a3e7ad0f",
   "metadata": {},
   "outputs": [
    {
     "ename": "KeyboardInterrupt",
     "evalue": "",
     "output_type": "error",
     "traceback": [
      "\u001b[0;31m---------------------------------------------------------------------------\u001b[0m",
      "\u001b[0;31mKeyboardInterrupt\u001b[0m                         Traceback (most recent call last)",
      "Input \u001b[0;32mIn [16]\u001b[0m, in \u001b[0;36m<cell line: 4>\u001b[0;34m()\u001b[0m\n\u001b[1;32m      1\u001b[0m acute_rate_2 \u001b[38;5;241m=\u001b[39m pd\u001b[38;5;241m.\u001b[39mconcat([acute_rate, per_time_group\u001b[38;5;241m.\u001b[39mptvalue], axis\u001b[38;5;241m=\u001b[39m\u001b[38;5;241m1\u001b[39m)\n\u001b[1;32m      2\u001b[0m acute_rate_2[\u001b[38;5;124m'\u001b[39m\u001b[38;5;124mmean_rate\u001b[39m\u001b[38;5;124m'\u001b[39m] \u001b[38;5;241m=\u001b[39m acute_rate_2[\u001b[38;5;124m'\u001b[39m\u001b[38;5;124mvalue\u001b[39m\u001b[38;5;124m'\u001b[39m] \u001b[38;5;241m/\u001b[39m acute_rate_2[\u001b[38;5;124m'\u001b[39m\u001b[38;5;124mptvalue\u001b[39m\u001b[38;5;124m'\u001b[39m]\n\u001b[0;32m----> 4\u001b[0m acute_rate_summary \u001b[38;5;241m=\u001b[39m (\u001b[43macute_rate_2\u001b[49m\n\u001b[1;32m      5\u001b[0m \u001b[43m                      \u001b[49m\u001b[38;5;241;43m.\u001b[39;49m\u001b[43mgroupby\u001b[49m\u001b[43m(\u001b[49m\u001b[43m[\u001b[49m\u001b[38;5;124;43m'\u001b[39;49m\u001b[38;5;124;43mage\u001b[39;49m\u001b[38;5;124;43m'\u001b[39;49m\u001b[43m,\u001b[49m\u001b[43m \u001b[49m\u001b[38;5;124;43m'\u001b[39;49m\u001b[38;5;124;43msex\u001b[39;49m\u001b[38;5;124;43m'\u001b[39;49m\u001b[43m,\u001b[49m\u001b[43m \u001b[49m\u001b[38;5;124;43m'\u001b[39;49m\u001b[38;5;124;43myear\u001b[39;49m\u001b[38;5;124;43m'\u001b[39;49m\u001b[43m]\u001b[49m\u001b[43m)\u001b[49m\n\u001b[1;32m      6\u001b[0m \u001b[43m                      \u001b[49m\u001b[38;5;241;43m.\u001b[39;49m\u001b[43mmean_rate\u001b[49m\u001b[38;5;241;43m.\u001b[39;49m\u001b[43mdescribe\u001b[49m\u001b[43m(\u001b[49m\u001b[43mpercentiles\u001b[49m\u001b[38;5;241;43m=\u001b[39;49m\u001b[43m[\u001b[49m\u001b[38;5;241;43m.025\u001b[39;49m\u001b[43m,\u001b[49m\u001b[43m \u001b[49m\u001b[38;5;241;43m.975\u001b[39;49m\u001b[43m]\u001b[49m\u001b[43m)\u001b[49m\n\u001b[1;32m      7\u001b[0m                       \u001b[38;5;241m.\u001b[39mfilter([\u001b[38;5;124m'\u001b[39m\u001b[38;5;124mmean\u001b[39m\u001b[38;5;124m'\u001b[39m, \u001b[38;5;124m'\u001b[39m\u001b[38;5;124m2.5\u001b[39m\u001b[38;5;124m%\u001b[39m\u001b[38;5;124m'\u001b[39m, \u001b[38;5;124m'\u001b[39m\u001b[38;5;124m97.5\u001b[39m\u001b[38;5;124m%\u001b[39m\u001b[38;5;124m'\u001b[39m])\n\u001b[1;32m      8\u001b[0m                       \u001b[38;5;241m.\u001b[39mreset_index())\n\u001b[1;32m     10\u001b[0m acute_rate_summary\u001b[38;5;241m.\u001b[39mhead()\n",
      "File \u001b[0;32m~/.conda/envs/vivarium_nih_us_cvd/lib/python3.8/site-packages/pandas/core/groupby/generic.py:588\u001b[0m, in \u001b[0;36mSeriesGroupBy.describe\u001b[0;34m(self, **kwargs)\u001b[0m\n\u001b[1;32m    586\u001b[0m \u001b[38;5;129m@doc\u001b[39m(Series\u001b[38;5;241m.\u001b[39mdescribe)\n\u001b[1;32m    587\u001b[0m \u001b[38;5;28;01mdef\u001b[39;00m \u001b[38;5;21mdescribe\u001b[39m(\u001b[38;5;28mself\u001b[39m, \u001b[38;5;241m*\u001b[39m\u001b[38;5;241m*\u001b[39mkwargs):\n\u001b[0;32m--> 588\u001b[0m     \u001b[38;5;28;01mreturn\u001b[39;00m \u001b[38;5;28;43msuper\u001b[39;49m\u001b[43m(\u001b[49m\u001b[43m)\u001b[49m\u001b[38;5;241;43m.\u001b[39;49m\u001b[43mdescribe\u001b[49m\u001b[43m(\u001b[49m\u001b[38;5;241;43m*\u001b[39;49m\u001b[38;5;241;43m*\u001b[39;49m\u001b[43mkwargs\u001b[49m\u001b[43m)\u001b[49m\n",
      "File \u001b[0;32m~/.conda/envs/vivarium_nih_us_cvd/lib/python3.8/site-packages/pandas/core/groupby/groupby.py:2321\u001b[0m, in \u001b[0;36mGroupBy.describe\u001b[0;34m(self, **kwargs)\u001b[0m\n\u001b[1;32m   2318\u001b[0m \u001b[38;5;129m@doc\u001b[39m(DataFrame\u001b[38;5;241m.\u001b[39mdescribe)\n\u001b[1;32m   2319\u001b[0m \u001b[38;5;28;01mdef\u001b[39;00m \u001b[38;5;21mdescribe\u001b[39m(\u001b[38;5;28mself\u001b[39m, \u001b[38;5;241m*\u001b[39m\u001b[38;5;241m*\u001b[39mkwargs):\n\u001b[1;32m   2320\u001b[0m     \u001b[38;5;28;01mwith\u001b[39;00m \u001b[38;5;28mself\u001b[39m\u001b[38;5;241m.\u001b[39m_group_selection_context():\n\u001b[0;32m-> 2321\u001b[0m         result \u001b[38;5;241m=\u001b[39m \u001b[38;5;28;43mself\u001b[39;49m\u001b[38;5;241;43m.\u001b[39;49m\u001b[43mapply\u001b[49m\u001b[43m(\u001b[49m\u001b[38;5;28;43;01mlambda\u001b[39;49;00m\u001b[43m \u001b[49m\u001b[43mx\u001b[49m\u001b[43m:\u001b[49m\u001b[43m \u001b[49m\u001b[43mx\u001b[49m\u001b[38;5;241;43m.\u001b[39;49m\u001b[43mdescribe\u001b[49m\u001b[43m(\u001b[49m\u001b[38;5;241;43m*\u001b[39;49m\u001b[38;5;241;43m*\u001b[39;49m\u001b[43mkwargs\u001b[49m\u001b[43m)\u001b[49m\u001b[43m)\u001b[49m\n\u001b[1;32m   2322\u001b[0m         \u001b[38;5;28;01mif\u001b[39;00m \u001b[38;5;28mself\u001b[39m\u001b[38;5;241m.\u001b[39maxis \u001b[38;5;241m==\u001b[39m \u001b[38;5;241m1\u001b[39m:\n\u001b[1;32m   2323\u001b[0m             \u001b[38;5;28;01mreturn\u001b[39;00m result\u001b[38;5;241m.\u001b[39mT\n",
      "File \u001b[0;32m~/.conda/envs/vivarium_nih_us_cvd/lib/python3.8/site-packages/pandas/core/groupby/generic.py:244\u001b[0m, in \u001b[0;36mSeriesGroupBy.apply\u001b[0;34m(self, func, *args, **kwargs)\u001b[0m\n\u001b[1;32m    238\u001b[0m \u001b[38;5;129m@Appender\u001b[39m(\n\u001b[1;32m    239\u001b[0m     _apply_docs[\u001b[38;5;124m\"\u001b[39m\u001b[38;5;124mtemplate\u001b[39m\u001b[38;5;124m\"\u001b[39m]\u001b[38;5;241m.\u001b[39mformat(\n\u001b[1;32m    240\u001b[0m         \u001b[38;5;28minput\u001b[39m\u001b[38;5;241m=\u001b[39m\u001b[38;5;124m\"\u001b[39m\u001b[38;5;124mseries\u001b[39m\u001b[38;5;124m\"\u001b[39m, examples\u001b[38;5;241m=\u001b[39m_apply_docs[\u001b[38;5;124m\"\u001b[39m\u001b[38;5;124mseries_examples\u001b[39m\u001b[38;5;124m\"\u001b[39m]\n\u001b[1;32m    241\u001b[0m     )\n\u001b[1;32m    242\u001b[0m )\n\u001b[1;32m    243\u001b[0m \u001b[38;5;28;01mdef\u001b[39;00m \u001b[38;5;21mapply\u001b[39m(\u001b[38;5;28mself\u001b[39m, func, \u001b[38;5;241m*\u001b[39margs, \u001b[38;5;241m*\u001b[39m\u001b[38;5;241m*\u001b[39mkwargs):\n\u001b[0;32m--> 244\u001b[0m     \u001b[38;5;28;01mreturn\u001b[39;00m \u001b[38;5;28;43msuper\u001b[39;49m\u001b[43m(\u001b[49m\u001b[43m)\u001b[49m\u001b[38;5;241;43m.\u001b[39;49m\u001b[43mapply\u001b[49m\u001b[43m(\u001b[49m\u001b[43mfunc\u001b[49m\u001b[43m,\u001b[49m\u001b[43m \u001b[49m\u001b[38;5;241;43m*\u001b[39;49m\u001b[43margs\u001b[49m\u001b[43m,\u001b[49m\u001b[43m \u001b[49m\u001b[38;5;241;43m*\u001b[39;49m\u001b[38;5;241;43m*\u001b[39;49m\u001b[43mkwargs\u001b[49m\u001b[43m)\u001b[49m\n",
      "File \u001b[0;32m~/.conda/envs/vivarium_nih_us_cvd/lib/python3.8/site-packages/pandas/core/groupby/groupby.py:1423\u001b[0m, in \u001b[0;36mGroupBy.apply\u001b[0;34m(self, func, *args, **kwargs)\u001b[0m\n\u001b[1;32m   1421\u001b[0m \u001b[38;5;28;01mwith\u001b[39;00m option_context(\u001b[38;5;124m\"\u001b[39m\u001b[38;5;124mmode.chained_assignment\u001b[39m\u001b[38;5;124m\"\u001b[39m, \u001b[38;5;28;01mNone\u001b[39;00m):\n\u001b[1;32m   1422\u001b[0m     \u001b[38;5;28;01mtry\u001b[39;00m:\n\u001b[0;32m-> 1423\u001b[0m         result \u001b[38;5;241m=\u001b[39m \u001b[38;5;28;43mself\u001b[39;49m\u001b[38;5;241;43m.\u001b[39;49m\u001b[43m_python_apply_general\u001b[49m\u001b[43m(\u001b[49m\u001b[43mf\u001b[49m\u001b[43m,\u001b[49m\u001b[43m \u001b[49m\u001b[38;5;28;43mself\u001b[39;49m\u001b[38;5;241;43m.\u001b[39;49m\u001b[43m_selected_obj\u001b[49m\u001b[43m)\u001b[49m\n\u001b[1;32m   1424\u001b[0m     \u001b[38;5;28;01mexcept\u001b[39;00m \u001b[38;5;167;01mTypeError\u001b[39;00m:\n\u001b[1;32m   1425\u001b[0m         \u001b[38;5;66;03m# gh-20949\u001b[39;00m\n\u001b[1;32m   1426\u001b[0m         \u001b[38;5;66;03m# try again, with .apply acting as a filtering\u001b[39;00m\n\u001b[0;32m   (...)\u001b[0m\n\u001b[1;32m   1430\u001b[0m         \u001b[38;5;66;03m# fails on *some* columns, e.g. a numeric operation\u001b[39;00m\n\u001b[1;32m   1431\u001b[0m         \u001b[38;5;66;03m# on a string grouper column\u001b[39;00m\n\u001b[1;32m   1433\u001b[0m         \u001b[38;5;28;01mwith\u001b[39;00m \u001b[38;5;28mself\u001b[39m\u001b[38;5;241m.\u001b[39m_group_selection_context():\n",
      "File \u001b[0;32m~/.conda/envs/vivarium_nih_us_cvd/lib/python3.8/site-packages/pandas/core/groupby/groupby.py:1464\u001b[0m, in \u001b[0;36mGroupBy._python_apply_general\u001b[0;34m(self, f, data, not_indexed_same)\u001b[0m\n\u001b[1;32m   1438\u001b[0m \u001b[38;5;129m@final\u001b[39m\n\u001b[1;32m   1439\u001b[0m \u001b[38;5;28;01mdef\u001b[39;00m \u001b[38;5;21m_python_apply_general\u001b[39m(\n\u001b[1;32m   1440\u001b[0m     \u001b[38;5;28mself\u001b[39m,\n\u001b[0;32m   (...)\u001b[0m\n\u001b[1;32m   1443\u001b[0m     not_indexed_same: \u001b[38;5;28mbool\u001b[39m \u001b[38;5;241m|\u001b[39m \u001b[38;5;28;01mNone\u001b[39;00m \u001b[38;5;241m=\u001b[39m \u001b[38;5;28;01mNone\u001b[39;00m,\n\u001b[1;32m   1444\u001b[0m ) \u001b[38;5;241m-\u001b[39m\u001b[38;5;241m>\u001b[39m DataFrame \u001b[38;5;241m|\u001b[39m Series:\n\u001b[1;32m   1445\u001b[0m     \u001b[38;5;124;03m\"\"\"\u001b[39;00m\n\u001b[1;32m   1446\u001b[0m \u001b[38;5;124;03m    Apply function f in python space\u001b[39;00m\n\u001b[1;32m   1447\u001b[0m \n\u001b[0;32m   (...)\u001b[0m\n\u001b[1;32m   1462\u001b[0m \u001b[38;5;124;03m        data after applying f\u001b[39;00m\n\u001b[1;32m   1463\u001b[0m \u001b[38;5;124;03m    \"\"\"\u001b[39;00m\n\u001b[0;32m-> 1464\u001b[0m     values, mutated \u001b[38;5;241m=\u001b[39m \u001b[38;5;28;43mself\u001b[39;49m\u001b[38;5;241;43m.\u001b[39;49m\u001b[43mgrouper\u001b[49m\u001b[38;5;241;43m.\u001b[39;49m\u001b[43mapply\u001b[49m\u001b[43m(\u001b[49m\u001b[43mf\u001b[49m\u001b[43m,\u001b[49m\u001b[43m \u001b[49m\u001b[43mdata\u001b[49m\u001b[43m,\u001b[49m\u001b[43m \u001b[49m\u001b[38;5;28;43mself\u001b[39;49m\u001b[38;5;241;43m.\u001b[39;49m\u001b[43maxis\u001b[49m\u001b[43m)\u001b[49m\n\u001b[1;32m   1466\u001b[0m     \u001b[38;5;28;01mif\u001b[39;00m not_indexed_same \u001b[38;5;129;01mis\u001b[39;00m \u001b[38;5;28;01mNone\u001b[39;00m:\n\u001b[1;32m   1467\u001b[0m         not_indexed_same \u001b[38;5;241m=\u001b[39m mutated \u001b[38;5;129;01mor\u001b[39;00m \u001b[38;5;28mself\u001b[39m\u001b[38;5;241m.\u001b[39mmutated\n",
      "File \u001b[0;32m~/.conda/envs/vivarium_nih_us_cvd/lib/python3.8/site-packages/pandas/core/groupby/ops.py:761\u001b[0m, in \u001b[0;36mBaseGrouper.apply\u001b[0;34m(self, f, data, axis)\u001b[0m\n\u001b[1;32m    759\u001b[0m \u001b[38;5;66;03m# group might be modified\u001b[39;00m\n\u001b[1;32m    760\u001b[0m group_axes \u001b[38;5;241m=\u001b[39m group\u001b[38;5;241m.\u001b[39maxes\n\u001b[0;32m--> 761\u001b[0m res \u001b[38;5;241m=\u001b[39m \u001b[43mf\u001b[49m\u001b[43m(\u001b[49m\u001b[43mgroup\u001b[49m\u001b[43m)\u001b[49m\n\u001b[1;32m    762\u001b[0m \u001b[38;5;28;01mif\u001b[39;00m \u001b[38;5;129;01mnot\u001b[39;00m mutated \u001b[38;5;129;01mand\u001b[39;00m \u001b[38;5;129;01mnot\u001b[39;00m _is_indexed_like(res, group_axes, axis):\n\u001b[1;32m    763\u001b[0m     mutated \u001b[38;5;241m=\u001b[39m \u001b[38;5;28;01mTrue\u001b[39;00m\n",
      "File \u001b[0;32m~/.conda/envs/vivarium_nih_us_cvd/lib/python3.8/site-packages/pandas/core/groupby/groupby.py:2321\u001b[0m, in \u001b[0;36mGroupBy.describe.<locals>.<lambda>\u001b[0;34m(x)\u001b[0m\n\u001b[1;32m   2318\u001b[0m \u001b[38;5;129m@doc\u001b[39m(DataFrame\u001b[38;5;241m.\u001b[39mdescribe)\n\u001b[1;32m   2319\u001b[0m \u001b[38;5;28;01mdef\u001b[39;00m \u001b[38;5;21mdescribe\u001b[39m(\u001b[38;5;28mself\u001b[39m, \u001b[38;5;241m*\u001b[39m\u001b[38;5;241m*\u001b[39mkwargs):\n\u001b[1;32m   2320\u001b[0m     \u001b[38;5;28;01mwith\u001b[39;00m \u001b[38;5;28mself\u001b[39m\u001b[38;5;241m.\u001b[39m_group_selection_context():\n\u001b[0;32m-> 2321\u001b[0m         result \u001b[38;5;241m=\u001b[39m \u001b[38;5;28mself\u001b[39m\u001b[38;5;241m.\u001b[39mapply(\u001b[38;5;28;01mlambda\u001b[39;00m x: \u001b[43mx\u001b[49m\u001b[38;5;241;43m.\u001b[39;49m\u001b[43mdescribe\u001b[49m\u001b[43m(\u001b[49m\u001b[38;5;241;43m*\u001b[39;49m\u001b[38;5;241;43m*\u001b[39;49m\u001b[43mkwargs\u001b[49m\u001b[43m)\u001b[49m)\n\u001b[1;32m   2322\u001b[0m         \u001b[38;5;28;01mif\u001b[39;00m \u001b[38;5;28mself\u001b[39m\u001b[38;5;241m.\u001b[39maxis \u001b[38;5;241m==\u001b[39m \u001b[38;5;241m1\u001b[39m:\n\u001b[1;32m   2323\u001b[0m             \u001b[38;5;28;01mreturn\u001b[39;00m result\u001b[38;5;241m.\u001b[39mT\n",
      "File \u001b[0;32m~/.conda/envs/vivarium_nih_us_cvd/lib/python3.8/site-packages/pandas/core/generic.py:10227\u001b[0m, in \u001b[0;36mNDFrame.describe\u001b[0;34m(self, percentiles, include, exclude, datetime_is_numeric)\u001b[0m\n\u001b[1;32m   9978\u001b[0m \u001b[38;5;129m@final\u001b[39m\n\u001b[1;32m   9979\u001b[0m \u001b[38;5;28;01mdef\u001b[39;00m \u001b[38;5;21mdescribe\u001b[39m(\n\u001b[1;32m   9980\u001b[0m     \u001b[38;5;28mself\u001b[39m: NDFrameT,\n\u001b[0;32m   (...)\u001b[0m\n\u001b[1;32m   9984\u001b[0m     datetime_is_numeric\u001b[38;5;241m=\u001b[39m\u001b[38;5;28;01mFalse\u001b[39;00m,\n\u001b[1;32m   9985\u001b[0m ) \u001b[38;5;241m-\u001b[39m\u001b[38;5;241m>\u001b[39m NDFrameT:\n\u001b[1;32m   9986\u001b[0m     \u001b[38;5;124;03m\"\"\"\u001b[39;00m\n\u001b[1;32m   9987\u001b[0m \u001b[38;5;124;03m    Generate descriptive statistics.\u001b[39;00m\n\u001b[1;32m   9988\u001b[0m \n\u001b[0;32m   (...)\u001b[0m\n\u001b[1;32m  10225\u001b[0m \u001b[38;5;124;03m    max            NaN      3.0\u001b[39;00m\n\u001b[1;32m  10226\u001b[0m \u001b[38;5;124;03m    \"\"\"\u001b[39;00m\n\u001b[0;32m> 10227\u001b[0m     \u001b[38;5;28;01mreturn\u001b[39;00m \u001b[43mdescribe_ndframe\u001b[49m\u001b[43m(\u001b[49m\n\u001b[1;32m  10228\u001b[0m \u001b[43m        \u001b[49m\u001b[43mobj\u001b[49m\u001b[38;5;241;43m=\u001b[39;49m\u001b[38;5;28;43mself\u001b[39;49m\u001b[43m,\u001b[49m\n\u001b[1;32m  10229\u001b[0m \u001b[43m        \u001b[49m\u001b[43minclude\u001b[49m\u001b[38;5;241;43m=\u001b[39;49m\u001b[43minclude\u001b[49m\u001b[43m,\u001b[49m\n\u001b[1;32m  10230\u001b[0m \u001b[43m        \u001b[49m\u001b[43mexclude\u001b[49m\u001b[38;5;241;43m=\u001b[39;49m\u001b[43mexclude\u001b[49m\u001b[43m,\u001b[49m\n\u001b[1;32m  10231\u001b[0m \u001b[43m        \u001b[49m\u001b[43mdatetime_is_numeric\u001b[49m\u001b[38;5;241;43m=\u001b[39;49m\u001b[43mdatetime_is_numeric\u001b[49m\u001b[43m,\u001b[49m\n\u001b[1;32m  10232\u001b[0m \u001b[43m        \u001b[49m\u001b[43mpercentiles\u001b[49m\u001b[38;5;241;43m=\u001b[39;49m\u001b[43mpercentiles\u001b[49m\u001b[43m,\u001b[49m\n\u001b[1;32m  10233\u001b[0m \u001b[43m    \u001b[49m\u001b[43m)\u001b[49m\n",
      "File \u001b[0;32m~/.conda/envs/vivarium_nih_us_cvd/lib/python3.8/site-packages/pandas/core/describe.py:94\u001b[0m, in \u001b[0;36mdescribe_ndframe\u001b[0;34m(obj, include, exclude, datetime_is_numeric, percentiles)\u001b[0m\n\u001b[1;32m     86\u001b[0m \u001b[38;5;28;01melse\u001b[39;00m:\n\u001b[1;32m     87\u001b[0m     describer \u001b[38;5;241m=\u001b[39m DataFrameDescriber(\n\u001b[1;32m     88\u001b[0m         obj\u001b[38;5;241m=\u001b[39mcast(\u001b[38;5;124m\"\u001b[39m\u001b[38;5;124mDataFrame\u001b[39m\u001b[38;5;124m\"\u001b[39m, obj),\n\u001b[1;32m     89\u001b[0m         include\u001b[38;5;241m=\u001b[39minclude,\n\u001b[1;32m     90\u001b[0m         exclude\u001b[38;5;241m=\u001b[39mexclude,\n\u001b[1;32m     91\u001b[0m         datetime_is_numeric\u001b[38;5;241m=\u001b[39mdatetime_is_numeric,\n\u001b[1;32m     92\u001b[0m     )\n\u001b[0;32m---> 94\u001b[0m result \u001b[38;5;241m=\u001b[39m \u001b[43mdescriber\u001b[49m\u001b[38;5;241;43m.\u001b[39;49m\u001b[43mdescribe\u001b[49m\u001b[43m(\u001b[49m\u001b[43mpercentiles\u001b[49m\u001b[38;5;241;43m=\u001b[39;49m\u001b[43mpercentiles\u001b[49m\u001b[43m)\u001b[49m\n\u001b[1;32m     95\u001b[0m \u001b[38;5;28;01mreturn\u001b[39;00m cast(NDFrameT, result)\n",
      "File \u001b[0;32m~/.conda/envs/vivarium_nih_us_cvd/lib/python3.8/site-packages/pandas/core/describe.py:134\u001b[0m, in \u001b[0;36mSeriesDescriber.describe\u001b[0;34m(self, percentiles)\u001b[0m\n\u001b[1;32m    129\u001b[0m \u001b[38;5;28;01mdef\u001b[39;00m \u001b[38;5;21mdescribe\u001b[39m(\u001b[38;5;28mself\u001b[39m, percentiles: Sequence[\u001b[38;5;28mfloat\u001b[39m] \u001b[38;5;241m|\u001b[39m np\u001b[38;5;241m.\u001b[39mndarray) \u001b[38;5;241m-\u001b[39m\u001b[38;5;241m>\u001b[39m Series:\n\u001b[1;32m    130\u001b[0m     describe_func \u001b[38;5;241m=\u001b[39m select_describe_func(\n\u001b[1;32m    131\u001b[0m         \u001b[38;5;28mself\u001b[39m\u001b[38;5;241m.\u001b[39mobj,\n\u001b[1;32m    132\u001b[0m         \u001b[38;5;28mself\u001b[39m\u001b[38;5;241m.\u001b[39mdatetime_is_numeric,\n\u001b[1;32m    133\u001b[0m     )\n\u001b[0;32m--> 134\u001b[0m     \u001b[38;5;28;01mreturn\u001b[39;00m \u001b[43mdescribe_func\u001b[49m\u001b[43m(\u001b[49m\u001b[38;5;28;43mself\u001b[39;49m\u001b[38;5;241;43m.\u001b[39;49m\u001b[43mobj\u001b[49m\u001b[43m,\u001b[49m\u001b[43m \u001b[49m\u001b[43mpercentiles\u001b[49m\u001b[43m)\u001b[49m\n",
      "File \u001b[0;32m~/.conda/envs/vivarium_nih_us_cvd/lib/python3.8/site-packages/pandas/core/describe.py:241\u001b[0m, in \u001b[0;36mdescribe_numeric_1d\u001b[0;34m(series, percentiles)\u001b[0m\n\u001b[1;32m    236\u001b[0m formatted_percentiles \u001b[38;5;241m=\u001b[39m format_percentiles(percentiles)  \u001b[38;5;66;03m# type: ignore[arg-type]\u001b[39;00m\n\u001b[1;32m    238\u001b[0m stat_index \u001b[38;5;241m=\u001b[39m [\u001b[38;5;124m\"\u001b[39m\u001b[38;5;124mcount\u001b[39m\u001b[38;5;124m\"\u001b[39m, \u001b[38;5;124m\"\u001b[39m\u001b[38;5;124mmean\u001b[39m\u001b[38;5;124m\"\u001b[39m, \u001b[38;5;124m\"\u001b[39m\u001b[38;5;124mstd\u001b[39m\u001b[38;5;124m\"\u001b[39m, \u001b[38;5;124m\"\u001b[39m\u001b[38;5;124mmin\u001b[39m\u001b[38;5;124m\"\u001b[39m] \u001b[38;5;241m+\u001b[39m formatted_percentiles \u001b[38;5;241m+\u001b[39m [\u001b[38;5;124m\"\u001b[39m\u001b[38;5;124mmax\u001b[39m\u001b[38;5;124m\"\u001b[39m]\n\u001b[1;32m    239\u001b[0m d \u001b[38;5;241m=\u001b[39m (\n\u001b[1;32m    240\u001b[0m     [series\u001b[38;5;241m.\u001b[39mcount(), series\u001b[38;5;241m.\u001b[39mmean(), series\u001b[38;5;241m.\u001b[39mstd(), series\u001b[38;5;241m.\u001b[39mmin()]\n\u001b[0;32m--> 241\u001b[0m     \u001b[38;5;241m+\u001b[39m \u001b[43mseries\u001b[49m\u001b[38;5;241;43m.\u001b[39;49m\u001b[43mquantile\u001b[49m\u001b[43m(\u001b[49m\u001b[43mpercentiles\u001b[49m\u001b[43m)\u001b[49m\u001b[38;5;241m.\u001b[39mtolist()\n\u001b[1;32m    242\u001b[0m     \u001b[38;5;241m+\u001b[39m [series\u001b[38;5;241m.\u001b[39mmax()]\n\u001b[1;32m    243\u001b[0m )\n\u001b[1;32m    244\u001b[0m \u001b[38;5;28;01mreturn\u001b[39;00m Series(d, index\u001b[38;5;241m=\u001b[39mstat_index, name\u001b[38;5;241m=\u001b[39mseries\u001b[38;5;241m.\u001b[39mname)\n",
      "File \u001b[0;32m~/.conda/envs/vivarium_nih_us_cvd/lib/python3.8/site-packages/pandas/core/series.py:2495\u001b[0m, in \u001b[0;36mSeries.quantile\u001b[0;34m(self, q, interpolation)\u001b[0m\n\u001b[1;32m   2491\u001b[0m validate_percentile(q)\n\u001b[1;32m   2493\u001b[0m \u001b[38;5;66;03m# We dispatch to DataFrame so that core.internals only has to worry\u001b[39;00m\n\u001b[1;32m   2494\u001b[0m \u001b[38;5;66;03m#  about 2D cases.\u001b[39;00m\n\u001b[0;32m-> 2495\u001b[0m df \u001b[38;5;241m=\u001b[39m \u001b[38;5;28;43mself\u001b[39;49m\u001b[38;5;241;43m.\u001b[39;49m\u001b[43mto_frame\u001b[49m\u001b[43m(\u001b[49m\u001b[43m)\u001b[49m\n\u001b[1;32m   2497\u001b[0m result \u001b[38;5;241m=\u001b[39m df\u001b[38;5;241m.\u001b[39mquantile(q\u001b[38;5;241m=\u001b[39mq, interpolation\u001b[38;5;241m=\u001b[39minterpolation, numeric_only\u001b[38;5;241m=\u001b[39m\u001b[38;5;28;01mFalse\u001b[39;00m)\n\u001b[1;32m   2498\u001b[0m \u001b[38;5;28;01mif\u001b[39;00m result\u001b[38;5;241m.\u001b[39mndim \u001b[38;5;241m==\u001b[39m \u001b[38;5;241m2\u001b[39m:\n",
      "File \u001b[0;32m~/.conda/envs/vivarium_nih_us_cvd/lib/python3.8/site-packages/pandas/core/series.py:1785\u001b[0m, in \u001b[0;36mSeries.to_frame\u001b[0;34m(self, name)\u001b[0m\n\u001b[1;32m   1783\u001b[0m         columns \u001b[38;5;241m=\u001b[39m default_index(\u001b[38;5;241m1\u001b[39m)\n\u001b[1;32m   1784\u001b[0m     \u001b[38;5;28;01melse\u001b[39;00m:\n\u001b[0;32m-> 1785\u001b[0m         columns \u001b[38;5;241m=\u001b[39m \u001b[43mIndex\u001b[49m\u001b[43m(\u001b[49m\u001b[43m[\u001b[49m\u001b[43mname\u001b[49m\u001b[43m]\u001b[49m\u001b[43m)\u001b[49m\n\u001b[1;32m   1786\u001b[0m \u001b[38;5;28;01melse\u001b[39;00m:\n\u001b[1;32m   1787\u001b[0m     columns \u001b[38;5;241m=\u001b[39m Index([name])\n",
      "File \u001b[0;32m~/.conda/envs/vivarium_nih_us_cvd/lib/python3.8/site-packages/pandas/core/indexes/base.py:523\u001b[0m, in \u001b[0;36mIndex.__new__\u001b[0;34m(cls, data, dtype, copy, name, tupleize_cols, **kwargs)\u001b[0m\n\u001b[1;32m    518\u001b[0m     \u001b[38;5;28;01mif\u001b[39;00m data \u001b[38;5;129;01mand\u001b[39;00m \u001b[38;5;28mall\u001b[39m(\u001b[38;5;28misinstance\u001b[39m(e, \u001b[38;5;28mtuple\u001b[39m) \u001b[38;5;28;01mfor\u001b[39;00m e \u001b[38;5;129;01min\u001b[39;00m data):\n\u001b[1;32m    519\u001b[0m         \u001b[38;5;66;03m# we must be all tuples, otherwise don't construct\u001b[39;00m\n\u001b[1;32m    520\u001b[0m         \u001b[38;5;66;03m# 10697\u001b[39;00m\n\u001b[1;32m    521\u001b[0m         \u001b[38;5;28;01mfrom\u001b[39;00m \u001b[38;5;21;01mpandas\u001b[39;00m\u001b[38;5;21;01m.\u001b[39;00m\u001b[38;5;21;01mcore\u001b[39;00m\u001b[38;5;21;01m.\u001b[39;00m\u001b[38;5;21;01mindexes\u001b[39;00m\u001b[38;5;21;01m.\u001b[39;00m\u001b[38;5;21;01mmulti\u001b[39;00m \u001b[38;5;28;01mimport\u001b[39;00m MultiIndex\n\u001b[0;32m--> 523\u001b[0m         \u001b[38;5;28;01mreturn\u001b[39;00m \u001b[43mMultiIndex\u001b[49m\u001b[38;5;241;43m.\u001b[39;49m\u001b[43mfrom_tuples\u001b[49m\u001b[43m(\u001b[49m\n\u001b[1;32m    524\u001b[0m \u001b[43m            \u001b[49m\u001b[43mdata\u001b[49m\u001b[43m,\u001b[49m\u001b[43m \u001b[49m\u001b[43mnames\u001b[49m\u001b[38;5;241;43m=\u001b[39;49m\u001b[43mname\u001b[49m\u001b[43m \u001b[49m\u001b[38;5;129;43;01mor\u001b[39;49;00m\u001b[43m \u001b[49m\u001b[43mkwargs\u001b[49m\u001b[38;5;241;43m.\u001b[39;49m\u001b[43mget\u001b[49m\u001b[43m(\u001b[49m\u001b[38;5;124;43m\"\u001b[39;49m\u001b[38;5;124;43mnames\u001b[39;49m\u001b[38;5;124;43m\"\u001b[39;49m\u001b[43m)\u001b[49m\n\u001b[1;32m    525\u001b[0m \u001b[43m        \u001b[49m\u001b[43m)\u001b[49m\n\u001b[1;32m    526\u001b[0m \u001b[38;5;66;03m# other iterable of some kind\u001b[39;00m\n\u001b[1;32m    528\u001b[0m subarr \u001b[38;5;241m=\u001b[39m com\u001b[38;5;241m.\u001b[39masarray_tuplesafe(data, dtype\u001b[38;5;241m=\u001b[39m_dtype_obj)\n",
      "File \u001b[0;32m~/.conda/envs/vivarium_nih_us_cvd/lib/python3.8/site-packages/pandas/core/indexes/multi.py:204\u001b[0m, in \u001b[0;36mnames_compat.<locals>.new_meth\u001b[0;34m(self_or_cls, *args, **kwargs)\u001b[0m\n\u001b[1;32m    201\u001b[0m \u001b[38;5;28;01melif\u001b[39;00m \u001b[38;5;124m\"\u001b[39m\u001b[38;5;124mname\u001b[39m\u001b[38;5;124m\"\u001b[39m \u001b[38;5;129;01min\u001b[39;00m kwargs:\n\u001b[1;32m    202\u001b[0m     kwargs[\u001b[38;5;124m\"\u001b[39m\u001b[38;5;124mnames\u001b[39m\u001b[38;5;124m\"\u001b[39m] \u001b[38;5;241m=\u001b[39m kwargs\u001b[38;5;241m.\u001b[39mpop(\u001b[38;5;124m\"\u001b[39m\u001b[38;5;124mname\u001b[39m\u001b[38;5;124m\"\u001b[39m)\n\u001b[0;32m--> 204\u001b[0m \u001b[38;5;28;01mreturn\u001b[39;00m \u001b[43mmeth\u001b[49m\u001b[43m(\u001b[49m\u001b[43mself_or_cls\u001b[49m\u001b[43m,\u001b[49m\u001b[43m \u001b[49m\u001b[38;5;241;43m*\u001b[39;49m\u001b[43margs\u001b[49m\u001b[43m,\u001b[49m\u001b[43m \u001b[49m\u001b[38;5;241;43m*\u001b[39;49m\u001b[38;5;241;43m*\u001b[39;49m\u001b[43mkwargs\u001b[49m\u001b[43m)\u001b[49m\n",
      "File \u001b[0;32m~/.conda/envs/vivarium_nih_us_cvd/lib/python3.8/site-packages/pandas/core/indexes/multi.py:566\u001b[0m, in \u001b[0;36mMultiIndex.from_tuples\u001b[0;34m(cls, tuples, sortorder, names)\u001b[0m\n\u001b[1;32m    563\u001b[0m     arrs \u001b[38;5;241m=\u001b[39m \u001b[38;5;28mzip\u001b[39m(\u001b[38;5;241m*\u001b[39mtuples)\n\u001b[1;32m    564\u001b[0m     arrays \u001b[38;5;241m=\u001b[39m cast(List[Sequence[Hashable]], arrs)\n\u001b[0;32m--> 566\u001b[0m \u001b[38;5;28;01mreturn\u001b[39;00m \u001b[38;5;28;43mcls\u001b[39;49m\u001b[38;5;241;43m.\u001b[39;49m\u001b[43mfrom_arrays\u001b[49m\u001b[43m(\u001b[49m\u001b[43marrays\u001b[49m\u001b[43m,\u001b[49m\u001b[43m \u001b[49m\u001b[43msortorder\u001b[49m\u001b[38;5;241;43m=\u001b[39;49m\u001b[43msortorder\u001b[49m\u001b[43m,\u001b[49m\u001b[43m \u001b[49m\u001b[43mnames\u001b[49m\u001b[38;5;241;43m=\u001b[39;49m\u001b[43mnames\u001b[49m\u001b[43m)\u001b[49m\n",
      "File \u001b[0;32m~/.conda/envs/vivarium_nih_us_cvd/lib/python3.8/site-packages/pandas/core/indexes/multi.py:489\u001b[0m, in \u001b[0;36mMultiIndex.from_arrays\u001b[0;34m(cls, arrays, sortorder, names)\u001b[0m\n\u001b[1;32m    486\u001b[0m     \u001b[38;5;28;01mif\u001b[39;00m \u001b[38;5;28mlen\u001b[39m(arrays[i]) \u001b[38;5;241m!=\u001b[39m \u001b[38;5;28mlen\u001b[39m(arrays[i \u001b[38;5;241m-\u001b[39m \u001b[38;5;241m1\u001b[39m]):\n\u001b[1;32m    487\u001b[0m         \u001b[38;5;28;01mraise\u001b[39;00m \u001b[38;5;167;01mValueError\u001b[39;00m(\u001b[38;5;124m\"\u001b[39m\u001b[38;5;124mall arrays must be same length\u001b[39m\u001b[38;5;124m\"\u001b[39m)\n\u001b[0;32m--> 489\u001b[0m codes, levels \u001b[38;5;241m=\u001b[39m \u001b[43mfactorize_from_iterables\u001b[49m\u001b[43m(\u001b[49m\u001b[43marrays\u001b[49m\u001b[43m)\u001b[49m\n\u001b[1;32m    490\u001b[0m \u001b[38;5;28;01mif\u001b[39;00m names \u001b[38;5;129;01mis\u001b[39;00m lib\u001b[38;5;241m.\u001b[39mno_default:\n\u001b[1;32m    491\u001b[0m     names \u001b[38;5;241m=\u001b[39m [\u001b[38;5;28mgetattr\u001b[39m(arr, \u001b[38;5;124m\"\u001b[39m\u001b[38;5;124mname\u001b[39m\u001b[38;5;124m\"\u001b[39m, \u001b[38;5;28;01mNone\u001b[39;00m) \u001b[38;5;28;01mfor\u001b[39;00m arr \u001b[38;5;129;01min\u001b[39;00m arrays]\n",
      "File \u001b[0;32m~/.conda/envs/vivarium_nih_us_cvd/lib/python3.8/site-packages/pandas/core/arrays/categorical.py:2881\u001b[0m, in \u001b[0;36mfactorize_from_iterables\u001b[0;34m(iterables)\u001b[0m\n\u001b[1;32m   2877\u001b[0m \u001b[38;5;28;01mif\u001b[39;00m \u001b[38;5;28mlen\u001b[39m(iterables) \u001b[38;5;241m==\u001b[39m \u001b[38;5;241m0\u001b[39m:\n\u001b[1;32m   2878\u001b[0m     \u001b[38;5;66;03m# For consistency, it should return two empty lists.\u001b[39;00m\n\u001b[1;32m   2879\u001b[0m     \u001b[38;5;28;01mreturn\u001b[39;00m [], []\n\u001b[0;32m-> 2881\u001b[0m codes, categories \u001b[38;5;241m=\u001b[39m \u001b[38;5;28;43mzip\u001b[39;49m\u001b[43m(\u001b[49m\u001b[38;5;241;43m*\u001b[39;49m\u001b[43m(\u001b[49m\u001b[43mfactorize_from_iterable\u001b[49m\u001b[43m(\u001b[49m\u001b[43mit\u001b[49m\u001b[43m)\u001b[49m\u001b[43m \u001b[49m\u001b[38;5;28;43;01mfor\u001b[39;49;00m\u001b[43m \u001b[49m\u001b[43mit\u001b[49m\u001b[43m \u001b[49m\u001b[38;5;129;43;01min\u001b[39;49;00m\u001b[43m \u001b[49m\u001b[43miterables\u001b[49m\u001b[43m)\u001b[49m\u001b[43m)\u001b[49m\n\u001b[1;32m   2882\u001b[0m \u001b[38;5;28;01mreturn\u001b[39;00m \u001b[38;5;28mlist\u001b[39m(codes), \u001b[38;5;28mlist\u001b[39m(categories)\n",
      "File \u001b[0;32m~/.conda/envs/vivarium_nih_us_cvd/lib/python3.8/site-packages/pandas/core/arrays/categorical.py:2881\u001b[0m, in \u001b[0;36m<genexpr>\u001b[0;34m(.0)\u001b[0m\n\u001b[1;32m   2877\u001b[0m \u001b[38;5;28;01mif\u001b[39;00m \u001b[38;5;28mlen\u001b[39m(iterables) \u001b[38;5;241m==\u001b[39m \u001b[38;5;241m0\u001b[39m:\n\u001b[1;32m   2878\u001b[0m     \u001b[38;5;66;03m# For consistency, it should return two empty lists.\u001b[39;00m\n\u001b[1;32m   2879\u001b[0m     \u001b[38;5;28;01mreturn\u001b[39;00m [], []\n\u001b[0;32m-> 2881\u001b[0m codes, categories \u001b[38;5;241m=\u001b[39m \u001b[38;5;28mzip\u001b[39m(\u001b[38;5;241m*\u001b[39m(\u001b[43mfactorize_from_iterable\u001b[49m\u001b[43m(\u001b[49m\u001b[43mit\u001b[49m\u001b[43m)\u001b[49m \u001b[38;5;28;01mfor\u001b[39;00m it \u001b[38;5;129;01min\u001b[39;00m iterables))\n\u001b[1;32m   2882\u001b[0m \u001b[38;5;28;01mreturn\u001b[39;00m \u001b[38;5;28mlist\u001b[39m(codes), \u001b[38;5;28mlist\u001b[39m(categories)\n",
      "File \u001b[0;32m~/.conda/envs/vivarium_nih_us_cvd/lib/python3.8/site-packages/pandas/core/arrays/categorical.py:2854\u001b[0m, in \u001b[0;36mfactorize_from_iterable\u001b[0;34m(values)\u001b[0m\n\u001b[1;32m   2849\u001b[0m     codes \u001b[38;5;241m=\u001b[39m values\u001b[38;5;241m.\u001b[39mcodes\n\u001b[1;32m   2850\u001b[0m \u001b[38;5;28;01melse\u001b[39;00m:\n\u001b[1;32m   2851\u001b[0m     \u001b[38;5;66;03m# The value of ordered is irrelevant since we don't use cat as such,\u001b[39;00m\n\u001b[1;32m   2852\u001b[0m     \u001b[38;5;66;03m# but only the resulting categories, the order of which is independent\u001b[39;00m\n\u001b[1;32m   2853\u001b[0m     \u001b[38;5;66;03m# from ordered. Set ordered to False as default. See GH #15457\u001b[39;00m\n\u001b[0;32m-> 2854\u001b[0m     cat \u001b[38;5;241m=\u001b[39m \u001b[43mCategorical\u001b[49m\u001b[43m(\u001b[49m\u001b[43mvalues\u001b[49m\u001b[43m,\u001b[49m\u001b[43m \u001b[49m\u001b[43mordered\u001b[49m\u001b[38;5;241;43m=\u001b[39;49m\u001b[38;5;28;43;01mFalse\u001b[39;49;00m\u001b[43m)\u001b[49m\n\u001b[1;32m   2855\u001b[0m     categories \u001b[38;5;241m=\u001b[39m cat\u001b[38;5;241m.\u001b[39mcategories\n\u001b[1;32m   2856\u001b[0m     codes \u001b[38;5;241m=\u001b[39m cat\u001b[38;5;241m.\u001b[39mcodes\n",
      "File \u001b[0;32m~/.conda/envs/vivarium_nih_us_cvd/lib/python3.8/site-packages/pandas/core/arrays/categorical.py:417\u001b[0m, in \u001b[0;36mCategorical.__init__\u001b[0;34m(self, values, categories, ordered, dtype, fastpath, copy)\u001b[0m\n\u001b[1;32m    412\u001b[0m     \u001b[38;5;28;01mif\u001b[39;00m values\u001b[38;5;241m.\u001b[39mndim \u001b[38;5;241m>\u001b[39m \u001b[38;5;241m1\u001b[39m:\n\u001b[1;32m    413\u001b[0m         \u001b[38;5;66;03m# preempt sanitize_array from raising ValueError\u001b[39;00m\n\u001b[1;32m    414\u001b[0m         \u001b[38;5;28;01mraise\u001b[39;00m \u001b[38;5;167;01mNotImplementedError\u001b[39;00m(\n\u001b[1;32m    415\u001b[0m             \u001b[38;5;124m\"\u001b[39m\u001b[38;5;124m> 1 ndim Categorical are not supported at this time\u001b[39m\u001b[38;5;124m\"\u001b[39m\n\u001b[1;32m    416\u001b[0m         )\n\u001b[0;32m--> 417\u001b[0m     values \u001b[38;5;241m=\u001b[39m \u001b[43msanitize_array\u001b[49m\u001b[43m(\u001b[49m\u001b[43mvalues\u001b[49m\u001b[43m,\u001b[49m\u001b[43m \u001b[49m\u001b[38;5;28;43;01mNone\u001b[39;49;00m\u001b[43m)\u001b[49m\n\u001b[1;32m    418\u001b[0m \u001b[38;5;28;01melse\u001b[39;00m:\n\u001b[1;32m    419\u001b[0m     \u001b[38;5;66;03m# i.e. must be a list\u001b[39;00m\n\u001b[1;32m    420\u001b[0m     arr \u001b[38;5;241m=\u001b[39m sanitize_array(values, \u001b[38;5;28;01mNone\u001b[39;00m)\n",
      "File \u001b[0;32m~/.conda/envs/vivarium_nih_us_cvd/lib/python3.8/site-packages/pandas/core/construction.py:570\u001b[0m, in \u001b[0;36msanitize_array\u001b[0;34m(data, index, dtype, copy, raise_cast_failure, allow_2d)\u001b[0m\n\u001b[1;32m    567\u001b[0m             subarr \u001b[38;5;241m=\u001b[39m np\u001b[38;5;241m.\u001b[39marray(data, copy\u001b[38;5;241m=\u001b[39mcopy)\n\u001b[1;32m    568\u001b[0m     \u001b[38;5;28;01melse\u001b[39;00m:\n\u001b[1;32m    569\u001b[0m         \u001b[38;5;66;03m# we will try to copy by-definition here\u001b[39;00m\n\u001b[0;32m--> 570\u001b[0m         subarr \u001b[38;5;241m=\u001b[39m \u001b[43m_try_cast\u001b[49m\u001b[43m(\u001b[49m\u001b[43mdata\u001b[49m\u001b[43m,\u001b[49m\u001b[43m \u001b[49m\u001b[43mdtype\u001b[49m\u001b[43m,\u001b[49m\u001b[43m \u001b[49m\u001b[43mcopy\u001b[49m\u001b[43m,\u001b[49m\u001b[43m \u001b[49m\u001b[43mraise_cast_failure\u001b[49m\u001b[43m)\u001b[49m\n\u001b[1;32m    572\u001b[0m \u001b[38;5;28;01melif\u001b[39;00m \u001b[38;5;28misinstance\u001b[39m(data, ABCExtensionArray):\n\u001b[1;32m    573\u001b[0m     \u001b[38;5;66;03m# it is already ensured above this is not a PandasArray\u001b[39;00m\n\u001b[1;32m    574\u001b[0m     subarr \u001b[38;5;241m=\u001b[39m data\n",
      "File \u001b[0;32m~/.conda/envs/vivarium_nih_us_cvd/lib/python3.8/site-packages/pandas/core/construction.py:731\u001b[0m, in \u001b[0;36m_try_cast\u001b[0;34m(arr, dtype, copy, raise_cast_failure)\u001b[0m\n\u001b[1;32m    728\u001b[0m \u001b[38;5;28;01mif\u001b[39;00m arr\u001b[38;5;241m.\u001b[39mdtype \u001b[38;5;241m!=\u001b[39m \u001b[38;5;28mobject\u001b[39m:\n\u001b[1;32m    729\u001b[0m     \u001b[38;5;28;01mreturn\u001b[39;00m sanitize_to_nanoseconds(arr, copy\u001b[38;5;241m=\u001b[39mcopy)\n\u001b[0;32m--> 731\u001b[0m out \u001b[38;5;241m=\u001b[39m \u001b[43mmaybe_infer_to_datetimelike\u001b[49m\u001b[43m(\u001b[49m\u001b[43marr\u001b[49m\u001b[43m)\u001b[49m\n\u001b[1;32m    732\u001b[0m \u001b[38;5;28;01mif\u001b[39;00m out \u001b[38;5;129;01mis\u001b[39;00m arr \u001b[38;5;129;01mand\u001b[39;00m copy:\n\u001b[1;32m    733\u001b[0m     out \u001b[38;5;241m=\u001b[39m out\u001b[38;5;241m.\u001b[39mcopy()\n",
      "File \u001b[0;32m~/.conda/envs/vivarium_nih_us_cvd/lib/python3.8/site-packages/pandas/core/dtypes/cast.py:1517\u001b[0m, in \u001b[0;36mmaybe_infer_to_datetimelike\u001b[0;34m(value)\u001b[0m\n\u001b[1;32m   1511\u001b[0m     \u001b[38;5;28;01melse\u001b[39;00m:\n\u001b[1;32m   1512\u001b[0m         \u001b[38;5;66;03m# GH#19761 we may have mixed timezones, in which cast 'dta' is\u001b[39;00m\n\u001b[1;32m   1513\u001b[0m         \u001b[38;5;66;03m#  an ndarray[object].  Only 1 test\u001b[39;00m\n\u001b[1;32m   1514\u001b[0m         \u001b[38;5;66;03m#  relies on this behavior, see GH#40111\u001b[39;00m\n\u001b[1;32m   1515\u001b[0m         \u001b[38;5;28;01mreturn\u001b[39;00m dta\u001b[38;5;241m.\u001b[39mreshape(shape)\n\u001b[0;32m-> 1517\u001b[0m \u001b[38;5;28;01mdef\u001b[39;00m \u001b[38;5;21mtry_timedelta\u001b[39m(v: np\u001b[38;5;241m.\u001b[39mndarray) \u001b[38;5;241m-\u001b[39m\u001b[38;5;241m>\u001b[39m np\u001b[38;5;241m.\u001b[39mndarray:\n\u001b[1;32m   1518\u001b[0m     \u001b[38;5;66;03m# safe coerce to timedelta64\u001b[39;00m\n\u001b[1;32m   1519\u001b[0m \n\u001b[1;32m   1520\u001b[0m     \u001b[38;5;66;03m# will try first with a string & object conversion\u001b[39;00m\n\u001b[1;32m   1521\u001b[0m     \u001b[38;5;28;01mtry\u001b[39;00m:\n\u001b[1;32m   1522\u001b[0m         \u001b[38;5;66;03m# bc we know v.dtype == object, this is equivalent to\u001b[39;00m\n\u001b[1;32m   1523\u001b[0m         \u001b[38;5;66;03m#  `np.asarray(to_timedelta(v))`, but using a lower-level API that\u001b[39;00m\n\u001b[1;32m   1524\u001b[0m         \u001b[38;5;66;03m#  does not require a circular import.\u001b[39;00m\n\u001b[1;32m   1525\u001b[0m         td_values \u001b[38;5;241m=\u001b[39m array_to_timedelta64(v)\u001b[38;5;241m.\u001b[39mview(\u001b[38;5;124m\"\u001b[39m\u001b[38;5;124mm8[ns]\u001b[39m\u001b[38;5;124m\"\u001b[39m)\n",
      "\u001b[0;31mKeyboardInterrupt\u001b[0m: "
     ]
    }
   ],
   "source": [
    "acute_rate_2 = pd.concat([acute_rate, per_time_group.ptvalue], axis=1)\n",
    "acute_rate_2['mean_rate'] = acute_rate_2['value'] / acute_rate_2['ptvalue']\n",
    "\n",
    "acute_rate_summary = (acute_rate_2\n",
    "                      .groupby(['age', 'sex', 'year'])\n",
    "                      .mean_rate.describe(percentiles=[.025, .975])\n",
    "                      .filter(['mean', '2.5%', '97.5%'])\n",
    "                      .reset_index())\n",
    "\n",
    "acute_rate_summary.head()"
   ]
  },
  {
   "cell_type": "markdown",
   "id": "df4b6f2e-c85f-4767-ad16-0bee71580de2",
   "metadata": {},
   "source": [
    "#### Chronic Stroke"
   ]
  },
  {
   "cell_type": "code",
   "execution_count": null,
   "id": "fbacf7d1-45bf-45e8-85be-9fc0c03a0cf8",
   "metadata": {},
   "outputs": [],
   "source": [
    "chronic_rate = death_rate_cause.loc[(death_rate_cause['cause'] == 'chronic_ischemic_stroke')].reset_index()\n",
    "chronic_rate = pd.concat([chronic_rate, per_time_group.ptvalue], axis=1)\n",
    "chronic_rate['mean_rate'] = chronic_rate['value'] / chronic_rate['ptvalue']\n",
    "chronic_rate_summ = (chronic_rate\n",
    "                      .groupby(['age', 'sex', 'year'])\n",
    "                      .mean_rate.describe(percentiles=[.025, .975])\n",
    "                      .filter(['mean', '2.5%', '97.5%'])\n",
    "                      .reset_index())\n",
    "\n",
    "chronic_rate_summ"
   ]
  },
  {
   "cell_type": "markdown",
   "id": "501b5937-b61d-4fe0-8ead-7d5d9936a967",
   "metadata": {},
   "source": [
    "#### Acute Myocardial Infarction"
   ]
  },
  {
   "cell_type": "code",
   "execution_count": null,
   "id": "07f98b7a-adde-4cff-abd6-4dba4373df25",
   "metadata": {},
   "outputs": [],
   "source": [
    "death_rate_cause.cause.unique()"
   ]
  },
  {
   "cell_type": "code",
   "execution_count": null,
   "id": "f384906b-8d45-409d-9d70-b997ee2a76d6",
   "metadata": {},
   "outputs": [],
   "source": [
    "acute_MI_rate = death_rate_cause.loc[(death_rate_cause['cause'] == 'acute_myocardial_infarction')].reset_index()\n",
    "acute_MI_rate = pd.concat([acute_MI_rate, per_time_group.ptvalue], axis=1)\n",
    "acute_MI_rate['mean_rate'] = acute_MI_rate['value'] / acute_MI_rate['ptvalue']\n",
    "acute_MI_rate_summ = (acute_MI_rate\n",
    "                      .groupby(['age', 'sex', 'year'])\n",
    "                      .mean_rate.describe(percentiles=[.025, .975])\n",
    "                      .filter(['mean', '2.5%', '97.5%'])\n",
    "                      .reset_index())\n",
    "\n",
    "acute_MI_rate_summ.head()"
   ]
  },
  {
   "cell_type": "markdown",
   "id": "7ee0ca05-a383-4a96-86a8-97a3ddf27158",
   "metadata": {},
   "source": [
    "#### Post Myocaridal Infarction"
   ]
  },
  {
   "cell_type": "code",
   "execution_count": null,
   "id": "fe30ac11-99fd-4697-b5d1-dc4d47b37e68",
   "metadata": {},
   "outputs": [],
   "source": [
    "post_MI_rate = death_rate_cause.loc[(death_rate_cause['cause'] == 'post_myocardial_infarction')].reset_index()\n",
    "post_MI_rate = pd.concat([post_MI_rate, per_time_group.ptvalue], axis=1)\n",
    "post_MI_rate['mean_rate'] = post_MI_rate['value'] / post_MI_rate['ptvalue']\n",
    "post_MI_rate_summ = (post_MI_rate\n",
    "                      .groupby(['age', 'sex', 'year'])\n",
    "                      .mean_rate.describe(percentiles=[.025, .975])\n",
    "                      .filter(['mean', '2.5%', '97.5%'])\n",
    "                      .reset_index())\n",
    "\n",
    "post_MI_rate_summ.head()"
   ]
  },
  {
   "cell_type": "markdown",
   "id": "bef943e5-6545-4413-806a-387e121a656d",
   "metadata": {},
   "source": [
    "### Angina"
   ]
  },
  {
   "cell_type": "code",
   "execution_count": null,
   "id": "47b6fd12-1e30-4546-88ca-99e74d27300e",
   "metadata": {},
   "outputs": [],
   "source": [
    "angina_rate = death_rate_cause.loc[(death_rate_cause['cause'] == 'angina')].reset_index()\n",
    "angina_rate = pd.concat([angina_rate, per_time_group.ptvalue], axis=1)\n",
    "angina_rate['mean_rate'] = angina_rate['value'] / angina_rate['ptvalue']\n",
    "angina_rate_summ = (angina_rate\n",
    "                      .groupby(['age', 'sex', 'year'])\n",
    "                      .mean_rate.describe(percentiles=[.025, .975])\n",
    "                      .filter(['mean', '2.5%', '97.5%'])\n",
    "                      .reset_index())\n",
    "\n",
    "angina_rate_summ.head()"
   ]
  },
  {
   "cell_type": "markdown",
   "id": "cb161126-ff3b-4ca4-96f7-25d8ce095fbe",
   "metadata": {},
   "source": [
    "### Excess Mortality rate"
   ]
  },
  {
   "cell_type": "markdown",
   "id": "5e9501ae-f5a8-4c2c-846c-61df9586b2f8",
   "metadata": {},
   "source": [
    "#### Post Myocardial Infarction"
   ]
  },
  {
   "cell_type": "code",
   "execution_count": null,
   "id": "9a72d765-5090-435c-862e-d0b6917fd5ae",
   "metadata": {},
   "outputs": [],
   "source": [
    "per_time_state = state_person_time.groupby(['age', 'sex', 'year', 'state', 'input_draw']).value.sum().reset_index()\n",
    "per_time_state = per_time_state.rename(columns = {'value':'ptvalue'})\n",
    "per_time_post_MI = per_time_state.loc[(per_time_state['state'] == 'myocardial_infarction_post_myocardial_infarction')].reset_index()\n",
    "\n",
    "post_MI_emr = death_rate_cause.loc[(death_rate_cause['cause'] == 'post_myocardial_infarction')].reset_index()\n",
    "post_MI_emr = pd.concat([post_MI_emr, per_time_post_MI.ptvalue], axis=1)\n",
    "post_MI_emr['mean_rate'] = post_MI_emr['value'] / post_MI_emr['ptvalue']\n",
    "post_MI_emr_summ = (post_MI_emr\n",
    "                      .groupby(['age', 'sex', 'year'])\n",
    "                      .mean_rate.describe(percentiles=[.025, .975])\n",
    "                      .filter(['mean', '2.5%', '97.5%'])\n",
    "                      .reset_index())\n",
    "\n",
    "post_MI_emr_summ.head()"
   ]
  },
  {
   "cell_type": "markdown",
   "id": "27e45b3d-f5af-4bfa-8670-b12790a2739a",
   "metadata": {},
   "source": [
    "### Prevalence "
   ]
  },
  {
   "cell_type": "markdown",
   "id": "91f65874-2f4a-4090-becf-c35a8f45ecfb",
   "metadata": {},
   "source": [
    "#### Chronic + Acute Stroke"
   ]
  },
  {
   "cell_type": "code",
   "execution_count": null,
   "id": "690565be-d92c-4f62-a8f8-3476870ab156",
   "metadata": {
    "tags": []
   },
   "outputs": [],
   "source": [
    "prev_acute = per_time_state.loc[(per_time_state['state'] == 'ischemic_stroke_acute_ischemic_stroke')].reset_index()\n",
    "prev_acute = prev_acute.rename(columns = {'ptvalue':'value'})\n",
    "prev_acute_rate = pd.concat([prev_acute, per_time_group.ptvalue], axis=1)\n",
    "prev_acute_rate['rate']= prev_acute_rate['value'] / prev_acute_rate['ptvalue']\n",
    "prev_acute_rate_sum = (prev_acute_rate\n",
    "                 .groupby(['age', 'sex', 'year'])\n",
    "                 .rate.describe(percentiles=[.025, .975])\n",
    "                 .filter(['mean', '2.5%', '97.5%'])\n",
    "                 .reset_index())\n",
    "\n",
    "prev_acute_rate_sum.head()"
   ]
  },
  {
   "cell_type": "code",
   "execution_count": null,
   "id": "1f5cf0ae-e0c0-46cc-b168-6c962223f8e9",
   "metadata": {},
   "outputs": [],
   "source": [
    "prev_chronic = per_time_state.loc[(per_time_state['state'] == 'ischemic_stroke_chronic_ischemic_stroke')].reset_index()\n",
    "prev_chronic = prev_chronic.rename(columns = {'ptvalue':'value'})\n",
    "prev_chronic_rate = pd.concat([prev_chronic, per_time_group.ptvalue], axis=1)\n",
    "prev_chronic_rate['rate']= prev_chronic_rate['value'] / prev_chronic_rate['ptvalue']\n",
    "prev_chronic_rate_sum = (prev_chronic_rate\n",
    "                 .groupby(['age', 'sex', 'year'])\n",
    "                 .rate.describe(percentiles=[.025, .975])\n",
    "                 .filter(['mean', '2.5%', '97.5%'])\n",
    "                 .reset_index())"
   ]
  },
  {
   "cell_type": "markdown",
   "id": "244cb69d-dff4-4424-910d-5044b0ec602e",
   "metadata": {},
   "source": [
    "#### Myocardial Infarction"
   ]
  },
  {
   "cell_type": "code",
   "execution_count": null,
   "id": "66a15ce9-0a50-4916-9dec-bff9f99e2879",
   "metadata": {},
   "outputs": [],
   "source": [
    "prev_acute_MI = per_time_state.loc[(per_time_state['state'] == 'myocardial_infarction_acute_myocardial_infarction')].reset_index()\n",
    "prev_acute_MI = prev_acute_MI.rename(columns = {'ptvalue':'value'})\n",
    "prev_acute_MI = pd.concat([prev_acute_MI, per_time_group.ptvalue], axis=1)\n",
    "prev_acute_MI['rate']= prev_acute_MI['value'] / prev_acute_MI['ptvalue']\n",
    "prev_acute_MI_summ = (prev_acute_MI\n",
    "                 .groupby(['age', 'sex', 'year'])\n",
    "                 .rate.describe(percentiles=[.025, .975])\n",
    "                 .filter(['mean', '2.5%', '97.5%'])\n",
    "                 .reset_index())\n",
    "prev_acute_MI_summ.head()"
   ]
  },
  {
   "cell_type": "code",
   "execution_count": null,
   "id": "ed4260d8-4dee-4f73-886f-e3b68d0daa16",
   "metadata": {},
   "outputs": [],
   "source": [
    "prev_post_MI = per_time_state.loc[(per_time_state['state'] == 'myocardial_infarction_post_myocardial_infarction')].reset_index()\n",
    "prev_post_MI = prev_post_MI.rename(columns = {'ptvalue':'value'})\n",
    "prev_post_MI = pd.concat([prev_post_MI, per_time_group.ptvalue], axis=1)\n",
    "prev_post_MI['rate']= prev_post_MI['value'] / prev_post_MI['ptvalue']\n",
    "prev_post_MI_summ = (prev_post_MI\n",
    "                 .groupby(['age', 'sex', 'year'])\n",
    "                 .rate.describe(percentiles=[.025, .975])\n",
    "                 .filter(['mean', '2.5%', '97.5%'])\n",
    "                 .reset_index())\n",
    "prev_post_MI_summ.head()"
   ]
  },
  {
   "cell_type": "markdown",
   "id": "d8aea601-91c2-439a-8055-97c4fcf9d23c",
   "metadata": {},
   "source": [
    "### Angina"
   ]
  },
  {
   "cell_type": "code",
   "execution_count": null,
   "id": "756dddb3-e247-4714-850e-2f74ee4144f9",
   "metadata": {},
   "outputs": [],
   "source": [
    "prev_angina = per_time_state.loc[(per_time_state['state'] == 'angina_angina')].reset_index()\n",
    "prev_angina = prev_angina.rename(columns = {'ptvalue':'value'})\n",
    "prev_angina = pd.concat([prev_angina, per_time_group.ptvalue], axis=1)\n",
    "prev_angina['rate']= prev_angina['value'] / prev_angina['ptvalue']\n",
    "prev_angina_summ = (prev_angina\n",
    "                 .groupby(['age', 'sex', 'year'])\n",
    "                 .rate.describe(percentiles=[.025, .975])\n",
    "                 .filter(['mean', '2.5%', '97.5%'])\n",
    "                 .reset_index())\n",
    "prev_angina_summ.head()"
   ]
  },
  {
   "cell_type": "markdown",
   "id": "4dcb81e6-33e5-4b3b-9838-14c69654faa4",
   "metadata": {},
   "source": [
    "### Incidence of First Time Acute Ischemic Stroke"
   ]
  },
  {
   "cell_type": "code",
   "execution_count": null,
   "id": "d959bc56-6820-40e6-8af8-f212ff8bbd87",
   "metadata": {},
   "outputs": [],
   "source": [
    "tran.transition.unique()"
   ]
  },
  {
   "cell_type": "code",
   "execution_count": null,
   "id": "cf0a3f31-7217-4693-b9cd-e6e24db683b5",
   "metadata": {},
   "outputs": [],
   "source": [
    "tran_sum = (tran\n",
    "                 .groupby(['age', 'sex', 'year', 'transition'])\n",
    "                 .value.describe(percentiles=[.025, .975])\n",
    "                 .filter(['mean', '2.5%', '97.5%'])\n",
    "                 .reset_index())\n",
    "\n",
    "tran_sum_stroke = tran_sum.loc[(tran_sum['transition'] == 'ischemic_stroke_susceptible_to_ischemic_stroke_to_acute_ischemic_stroke')].reset_index()\n",
    "tran_sum_stroke.head()"
   ]
  },
  {
   "cell_type": "code",
   "execution_count": null,
   "id": "220b29e4-1846-477d-8fa9-25fb65b023d1",
   "metadata": {},
   "outputs": [],
   "source": [
    "per_time_sus_stroke = per_time_state.loc[(per_time_state['state'] == 'ischemic_stroke_susceptible_to_ischemic_stroke')].reset_index()\n",
    "per_time_sus_stroke.head()"
   ]
  },
  {
   "cell_type": "code",
   "execution_count": null,
   "id": "5f799cd7-62fb-4760-9d3d-4dbc27d62b8a",
   "metadata": {},
   "outputs": [],
   "source": [
    "tran_rate = tran.groupby(['age', 'sex', 'year', 'transition', 'input_draw']).value.sum().reset_index()\n",
    "tran_rate = tran_rate.loc[(tran_rate['transition'] == 'ischemic_stroke_susceptible_to_ischemic_stroke_to_acute_ischemic_stroke')].reset_index()\n",
    "tran_rate = pd.concat([tran_rate, per_time_group.ptvalue], axis=1)\n",
    "tran_rate['rate']= tran_rate['value'] / tran_rate['ptvalue']\n",
    "tran_rate_sum = (tran_rate\n",
    "                 .groupby(['age', 'sex', 'year'])\n",
    "                 .rate.describe(percentiles=[.025, .975])\n",
    "                 .filter(['mean', '2.5%', '97.5%'])\n",
    "                 .reset_index())\n",
    "\n",
    "tran_rate_sum.head()"
   ]
  },
  {
   "cell_type": "markdown",
   "id": "49274f77-106a-4ca0-8791-3b2af2fac681",
   "metadata": {},
   "source": [
    "### Incidence of Acute Myocardial Infraction "
   ]
  },
  {
   "cell_type": "code",
   "execution_count": null,
   "id": "cc5fbe50-89ab-499f-84ae-3f6c4c419de4",
   "metadata": {},
   "outputs": [],
   "source": [
    "state_person_time = pd.read_csv(sim_results_dir + '/state_person_time.csv')\n",
    "person_time = state_person_time.loc[state_person_time['state'].isin([\"myocardial_infarction_acute_myocardial_infarction\", \"myocardial_infarction_post_myocardial_infarction\", \"myocardial_infarction_susceptible_to_myocardial_infarction\"])].reset_index() \n",
    "per_time_sus_MI = person_time.loc[(person_time['state'].isin(['myocardial_infarction_susceptible_to_myocardial_infarction','myocardial_infarction_post_myocardial_infarction']))].reset_index()\n",
    "tran_rate_MI = tran.loc[(tran['transition'].isin(['myocardial_infarction_susceptible_to_myocardial_infarction_to_acute_myocardial_infarction','myocardial_infarction_post_myocardial_infarction_to_acute_myocardial_infarction']))].reset_index()\n",
    "groupby_cols = ['age', 'sex', 'year', 'input_draw']\n",
    "tran_rate_MI_all = tran_rate_MI.groupby(groupby_cols).sum() / per_time_sus_MI.groupby(groupby_cols).sum()\n",
    "tran_MI_summ = (tran_rate_MI_all.groupby([c for c in groupby_cols if c != 'input_draw'])\n",
    "                   .value.describe(percentiles=[0.025, 0.975])\n",
    "                   .filter(['mean', '2.5%', '97.5%']))\n",
    "                 \n",
    "tran_MI_summ.head()"
   ]
  },
  {
   "cell_type": "markdown",
   "id": "3c3ce02f-3cb5-4554-9eff-a26d0a6fa414",
   "metadata": {},
   "source": [
    "### Angina "
   ]
  },
  {
   "cell_type": "code",
   "execution_count": null,
   "id": "a0d81c7e-27c5-4b72-883a-17849e012125",
   "metadata": {},
   "outputs": [],
   "source": [
    "state_person_time = pd.read_csv(sim_results_dir + '/state_person_time.csv')\n",
    "person_time = state_person_time.loc[state_person_time['state'].isin(['angina_susceptible_to_angina'])].reset_index() \n",
    "tran_rate_angina = tran.loc[(tran['transition'].isin(['angina_susceptible_to_angina_to_angina']))].reset_index()\n",
    "groupby_cols = ['age', 'sex', 'year', 'input_draw']\n",
    "tran_rate_angina_all = tran_rate_angina.groupby(groupby_cols).sum() / person_time.groupby(groupby_cols).sum()\n",
    "tran_angina_summ = (tran_rate_angina_all.groupby([c for c in groupby_cols if c != 'input_draw'])\n",
    "                   .value.describe(percentiles=[0.025, 0.975])\n",
    "                   .filter(['mean', '2.5%', '97.5%']))\n",
    "                 \n",
    "tran_angina_summ.head()"
   ]
  },
  {
   "cell_type": "markdown",
   "id": "667a2a22-7ff6-44f7-a4af-d53c09b201b7",
   "metadata": {},
   "source": [
    "### Artifacts"
   ]
  },
  {
   "cell_type": "code",
   "execution_count": null,
   "id": "d57d2a34-e31a-4087-8880-1c6a16458f98",
   "metadata": {},
   "outputs": [],
   "source": [
    "ls /mnt/share/costeffectiveness/artifacts/vivarium_nih_us_cvd/"
   ]
  },
  {
   "cell_type": "code",
   "execution_count": null,
   "id": "543b09fa-ebb2-4743-9e35-f3df9ce97bb3",
   "metadata": {},
   "outputs": [],
   "source": [
    "from vivarium import Artifact\n",
    "\n",
    "#explore the artifact data (note age groups)\n",
    "art = Artifact('/mnt/share/costeffectiveness/artifacts/vivarium_nih_us_cvd/alabama.hdf', filter_terms=['year_start == 2019', 'age_start >=  25'])"
   ]
  },
  {
   "cell_type": "code",
   "execution_count": null,
   "id": "cdbfc486-fa84-4ead-af86-6d0678cbd5ba",
   "metadata": {},
   "outputs": [],
   "source": [
    "art_pop = art.load('population.structure').reset_index()\n",
    "art_pop.head()"
   ]
  },
  {
   "cell_type": "code",
   "execution_count": null,
   "id": "41e28405-6ea6-4252-9f42-e175835a9d9f",
   "metadata": {},
   "outputs": [],
   "source": [
    "art.keys"
   ]
  },
  {
   "cell_type": "code",
   "execution_count": null,
   "id": "f85abb65-9c40-45cd-a297-2316116cf804",
   "metadata": {},
   "outputs": [],
   "source": [
    "art_mort = art.load('sequela.acute_ischemic_stroke.excess_mortality_rate').reset_index()\n",
    "art_mort.head()"
   ]
  },
  {
   "cell_type": "code",
   "execution_count": null,
   "id": "55ad4190-9493-45ef-aea8-119713d9da52",
   "metadata": {},
   "outputs": [],
   "source": [
    "def load_artifact_data(word:str, cause:str, measure:str):\n",
    "    master_art_data = pd.DataFrame()\n",
    "    for i in ['alabama']: #in case there are other countries\n",
    "        \n",
    "        # grab main artifact object\n",
    "        art = Artifact('/mnt/share/costeffectiveness/artifacts/vivarium_nih_us_cvd/' + i + '.hdf', \n",
    "                   filter_terms=['year_start == 2019', 'age_start >=  25']) # << MIGHT WANT TO CHANGE THESE TERMS\n",
    "        \n",
    "        # load requested measure\n",
    "        data = art.load(word + '.' + cause + '.' + measure)\n",
    "        \n",
    "        # collapse to desired percentiles\n",
    "        data = data.apply(pd.DataFrame.describe, percentiles=[0.025, 0.975], axis=1).filter(['mean', '2.5%', '97.5%']).reset_index()\n",
    "        \n",
    "        # formatting (may want to format age as well)\n",
    "        data['location'] = i.capitalize()\n",
    "        data['measure'] = measure\n",
    "        data['sex'] = np.where(data['sex'] == 'Female', 'female', 'male')\n",
    "    \n",
    "   \n",
    "        master_art_data = master_art_data.append(data)\n",
    "        \n",
    "    return master_art_data"
   ]
  },
  {
   "cell_type": "markdown",
   "id": "4b8155db-7eb4-4c9a-b2eb-0cfaa7faa95c",
   "metadata": {},
   "source": [
    "#### All Cause Mortality Rates"
   ]
  },
  {
   "cell_type": "code",
   "execution_count": null,
   "id": "d8246422-6840-4c9e-9b3c-1fa139fd19e0",
   "metadata": {},
   "outputs": [],
   "source": [
    "art_acmr = load_artifact_data('cause', 'all_causes', 'cause_specific_mortality_rate')\n",
    "art_acmr['age_group'] = [f'{int(i)}_to_{int(j) - 1}' for (i,j) in zip(art_acmr.age_start,art_acmr.age_end)]\n",
    "art_acmr.head()"
   ]
  },
  {
   "cell_type": "code",
   "execution_count": null,
   "id": "8b14c1be-b784-44b8-b6b6-fa8fd333a6ac",
   "metadata": {},
   "outputs": [],
   "source": [
    "result_summary_allyears = (results_rate\n",
    "                      .groupby(['age', 'sex'])\n",
    "                      .mean_rate.describe(percentiles=[.025, .975])\n",
    "                      .filter(['mean', '2.5%', '97.5%'])\n",
    "                      .reset_index())\n",
    "\n",
    "result_summary_allyears.head()"
   ]
  },
  {
   "cell_type": "markdown",
   "id": "ee7ea039-556b-4b46-b4c3-b699caee78a8",
   "metadata": {},
   "source": [
    "### Cause Specific Mortality Rates"
   ]
  },
  {
   "cell_type": "markdown",
   "id": "fd0e3559-d2c1-478c-aa6d-878e388862e8",
   "metadata": {},
   "source": [
    "#### Stroke"
   ]
  },
  {
   "cell_type": "code",
   "execution_count": null,
   "id": "d8a51d47-2cea-4c40-ae1a-d2706650debb",
   "metadata": {},
   "outputs": [],
   "source": [
    "art_csmr = load_artifact_data('cause', 'ischemic_stroke', 'cause_specific_mortality_rate') \n",
    "art_csmr['age_group'] = [f'{int(i)}_to_{int(j) - 1}' for (i,j) in zip(art_acmr.age_start,art_acmr.age_end)]\n",
    "art_csmr.head()"
   ]
  },
  {
   "cell_type": "code",
   "execution_count": null,
   "id": "4b2191fa-1ca5-4b80-98ef-e609112d7798",
   "metadata": {},
   "outputs": [],
   "source": [
    "acute_rate_sum_allyear = (acute_rate_2\n",
    "                      .groupby(['age', 'sex'])\n",
    "                      .mean_rate.describe(percentiles=[.025, .975])\n",
    "                      .filter(['mean', '2.5%', '97.5%'])\n",
    "                      .reset_index())"
   ]
  },
  {
   "cell_type": "code",
   "execution_count": null,
   "id": "24f25432-bd97-464c-aaf3-dbb2314b5bb8",
   "metadata": {},
   "outputs": [],
   "source": [
    "chronic_rate_allyear = (chronic_rate\n",
    "                      .groupby(['age', 'sex'])\n",
    "                      .mean_rate.describe(percentiles=[.025, .975])\n",
    "                      .filter(['mean', '2.5%', '97.5%'])\n",
    "                      .reset_index())"
   ]
  },
  {
   "cell_type": "code",
   "execution_count": null,
   "id": "d96b917e-33c0-43a4-b0cf-e556b25801b7",
   "metadata": {},
   "outputs": [],
   "source": [
    "acute_rate_2 = acute_rate_2.rename(columns = {'mean_rate':'acute_rate'})\n",
    "chronic_rate = chronic_rate.rename(columns = {'mean_rate':'chronic_rate'})\n",
    "total_stroke_rate = pd.concat([acute_rate_2, chronic_rate.chronic_rate], axis=1)\n",
    "total_stroke_rate['total_rate'] = total_stroke_rate['acute_rate'] + total_stroke_rate['chronic_rate']"
   ]
  },
  {
   "cell_type": "code",
   "execution_count": null,
   "id": "accd853e-0b93-4da1-865c-1655874da028",
   "metadata": {},
   "outputs": [],
   "source": [
    "total_stroke_rate_allyear = (total_stroke_rate\n",
    "                      .groupby(['age', 'sex'])\n",
    "                      .total_rate.describe(percentiles=[.025, .975])\n",
    "                      .filter(['mean', '2.5%', '97.5%'])\n",
    "                      .reset_index())\n",
    "total_stroke_rate_allyear.head()"
   ]
  },
  {
   "cell_type": "markdown",
   "id": "3845e586-ba20-4ac3-8072-3e233995c5da",
   "metadata": {},
   "source": [
    "#### Myocardial Infarction"
   ]
  },
  {
   "cell_type": "code",
   "execution_count": null,
   "id": "b5350f5b-be6e-480b-ac60-323418c9b61e",
   "metadata": {},
   "outputs": [],
   "source": [
    "art_csmr2 = load_artifact_data('cause', 'myocardial_infarction', 'cause_specific_mortality_rate') \n",
    "art_csmr2['age_group'] = [f'{int(i)}_to_{int(j) - 1}' for (i,j) in zip(art_csmr2.age_start,art_csmr2.age_end)]\n",
    "art_csmr2.head()"
   ]
  },
  {
   "cell_type": "code",
   "execution_count": null,
   "id": "e5646ed2-6173-44f5-8050-f3602c1f4b85",
   "metadata": {},
   "outputs": [],
   "source": [
    "acute_MI_rate_allyear = (acute_MI_rate\n",
    "                      .groupby(['age', 'sex'])\n",
    "                      .mean_rate.describe(percentiles=[.025, .975])\n",
    "                      .filter(['mean', '2.5%', '97.5%'])\n",
    "                      .reset_index())"
   ]
  },
  {
   "cell_type": "code",
   "execution_count": null,
   "id": "8ac468d8-c075-4d36-8e9e-0579645d578c",
   "metadata": {},
   "outputs": [],
   "source": [
    "post_MI_rate_allyear = (post_MI_rate\n",
    "                      .groupby(['age', 'sex'])\n",
    "                      .mean_rate.describe(percentiles=[.025, .975])\n",
    "                      .filter(['mean', '2.5%', '97.5%'])\n",
    "                      .reset_index())"
   ]
  },
  {
   "cell_type": "code",
   "execution_count": null,
   "id": "ae18f790-1390-4924-a3a7-b6bfcff2558d",
   "metadata": {},
   "outputs": [],
   "source": [
    "acute_MI_rate = acute_MI_rate.rename(columns = {'mean_rate':'acute_rate'})\n",
    "post_MI_rate = post_MI_rate.rename(columns = {'mean_rate':'post_rate'})\n",
    "total_MI_rate = pd.concat([acute_MI_rate, post_MI_rate.post_rate], axis=1)\n",
    "total_MI_rate['total_rate'] = total_MI_rate['acute_rate'] + total_MI_rate['post_rate']\n",
    "total_MI_rate_allyear = (total_MI_rate\n",
    "                      .groupby(['age', 'sex'])\n",
    "                      .total_rate.describe(percentiles=[.025, .975])\n",
    "                      .filter(['mean', '2.5%', '97.5%'])\n",
    "                      .reset_index())\n",
    "total_MI_rate_allyear.head()"
   ]
  },
  {
   "cell_type": "markdown",
   "id": "3f4918b3-4859-4fe6-afb4-3fd3a7c2e06f",
   "metadata": {},
   "source": [
    "#### Incidence Rates for Stroke"
   ]
  },
  {
   "cell_type": "code",
   "execution_count": null,
   "id": "2d3c8a87-f368-4197-8316-d941b2f81629",
   "metadata": {},
   "outputs": [],
   "source": [
    "art_inc = load_artifact_data('cause', 'ischemic_stroke', 'incidence_rate')\n",
    "art_inc['age_group'] = [f'{int(i)}_to_{int(j) - 1}' for (i,j) in zip(art_inc.age_start,art_inc.age_end)]\n",
    "art_inc.head()"
   ]
  },
  {
   "cell_type": "code",
   "execution_count": null,
   "id": "09291793-79c9-4627-9301-d544debafaaf",
   "metadata": {},
   "outputs": [],
   "source": [
    "tran_rate_sum_allyear = (tran_rate\n",
    "                 .groupby(['age', 'sex'])\n",
    "                 .rate.describe(percentiles=[.025, .975])\n",
    "                 .filter(['mean', '2.5%', '97.5%'])\n",
    "                 .reset_index())\n",
    "tran_rate_sum_allyear.head()"
   ]
  },
  {
   "cell_type": "markdown",
   "id": "6bf59f41-eaf2-4e35-8ff6-e3f2ae92ab92",
   "metadata": {},
   "source": [
    "#### Incidence Rates for MI"
   ]
  },
  {
   "cell_type": "code",
   "execution_count": null,
   "id": "6888fffe-d4ae-4361-ac12-cac51c25f5d4",
   "metadata": {},
   "outputs": [],
   "source": [
    "art_inc_acute_MI = load_artifact_data('cause', 'myocardial_infarction', 'incidence_rate')\n",
    "art_inc_acute_MI['age_group'] = [f'{int(i)}_to_{int(j) - 1}' for (i,j) in zip(art_inc_acute_MI.age_start,art_inc_acute_MI.age_end)]\n",
    "art_inc_acute_MI.head()"
   ]
  },
  {
   "cell_type": "code",
   "execution_count": null,
   "id": "7d59003e-1903-4769-ae05-32a0fc65b13e",
   "metadata": {},
   "outputs": [],
   "source": [
    "groupby_cols2 = ['age', 'sex', 'input_draw']\n",
    "tran_rate_MI_all = tran_rate_MI.groupby(groupby_cols2).sum() / per_time_sus_MI.groupby(groupby_cols2).sum()\n",
    "tran_MI_summ_allyear = (tran_rate_MI_all.groupby([c for c in groupby_cols2 if c != 'input_draw'])\n",
    "                   .value.describe(percentiles=[0.025, 0.975])\n",
    "                   .filter(['mean', '2.5%', '97.5%']))\n",
    "                 \n",
    "tran_MI_summ_allyear.head()"
   ]
  },
  {
   "cell_type": "markdown",
   "id": "983dd929-84a0-4d64-8d2d-cbe842069a82",
   "metadata": {},
   "source": [
    "### Angina"
   ]
  },
  {
   "cell_type": "code",
   "execution_count": null,
   "id": "a7c2f0a0-567b-41ff-a3cb-df86110b4c28",
   "metadata": {},
   "outputs": [],
   "source": [
    "art_inc_angina = load_artifact_data('cause', 'angina', 'incidence_rate')\n",
    "art_inc_angina['age_group'] = [f'{int(i)}_to_{int(j) - 1}' for (i,j) in zip(art_inc_angina.age_start, art_inc_angina.age_end)]\n",
    "art_inc_angina.head()"
   ]
  },
  {
   "cell_type": "code",
   "execution_count": null,
   "id": "7addbcac-e833-409d-b588-7682d61668ff",
   "metadata": {
    "tags": []
   },
   "outputs": [],
   "source": [
    "groupby_cols = ['age', 'sex']\n",
    "tran_rate_angina_all = tran_rate_angina.groupby(groupby_cols).sum() / person_time.groupby(groupby_cols).sum()\n",
    "tran_angina_summ = (tran_rate_angina_all.groupby([c for c in groupby_cols if c != 'input_draw'])\n",
    "                   .value.describe(percentiles=[0.025, 0.975])\n",
    "                   .filter(['mean', '2.5%', '97.5%']))\n",
    "                 \n",
    "tran_angina_summ.head()"
   ]
  },
  {
   "cell_type": "markdown",
   "id": "16a4992f-fe40-4be8-858a-c6642527c2b7",
   "metadata": {},
   "source": [
    "#### Prevalence Rates"
   ]
  },
  {
   "cell_type": "code",
   "execution_count": null,
   "id": "697bc60f-709b-40eb-b6ad-19f770657833",
   "metadata": {},
   "outputs": [],
   "source": [
    "prev_chronic_rate_sum_allyear = (prev_chronic_rate\n",
    "                 .groupby(['age', 'sex'])\n",
    "                 .rate.describe(percentiles=[.025, .975])\n",
    "                 .filter(['mean', '2.5%', '97.5%'])\n",
    "                 .reset_index())"
   ]
  },
  {
   "cell_type": "code",
   "execution_count": null,
   "id": "a0b4fa49-2bba-4ec5-b80d-90f91b2f7e6d",
   "metadata": {},
   "outputs": [],
   "source": [
    "art_prev = load_artifact_data('sequela', 'chronic_ischemic_stroke', 'prevalence')\n",
    "art_prev['age_group'] = [f'{int(i)}_to_{int(j) - 1}' for (i,j) in zip(art_prev.age_start,art_prev.age_end)]\n",
    "art_prev.head()"
   ]
  },
  {
   "cell_type": "code",
   "execution_count": null,
   "id": "c352e087-d374-4a5b-9250-a328b2933e9f",
   "metadata": {},
   "outputs": [],
   "source": [
    "prev_acute_rate_sum_allyear = (prev_acute_rate\n",
    "                 .groupby(['age', 'sex'])\n",
    "                 .rate.describe(percentiles=[.025, .975])\n",
    "                 .filter(['mean', '2.5%', '97.5%'])\n",
    "                 .reset_index())"
   ]
  },
  {
   "cell_type": "code",
   "execution_count": null,
   "id": "637377aa-14a5-4e83-accc-d09662a4575d",
   "metadata": {},
   "outputs": [],
   "source": [
    "art_prev2 = load_artifact_data('sequela', 'acute_ischemic_stroke', 'prevalence')\n",
    "art_prev2['age_group'] = [f'{int(i)}_to_{int(j) - 1}' for (i,j) in zip(art_prev2.age_start,art_prev2.age_end)]"
   ]
  },
  {
   "cell_type": "markdown",
   "id": "785a5d8c-9e0b-4ac7-b838-8ec21b8a22ff",
   "metadata": {},
   "source": [
    "#### Prevalence of Post MI"
   ]
  },
  {
   "cell_type": "code",
   "execution_count": null,
   "id": "4081d8bc-49e6-4c5f-a838-803673694ecf",
   "metadata": {},
   "outputs": [],
   "source": [
    "art_prev3 = load_artifact_data('cause', 'post_myocardial_infarction', 'prevalence')\n",
    "art_prev3['age_group'] = [f'{int(i)}_to_{int(j) - 1}' for (i,j) in zip(art_prev3.age_start,art_prev3.age_end)]\n",
    "art_prev3.head()"
   ]
  },
  {
   "cell_type": "code",
   "execution_count": null,
   "id": "43fd9075-a373-48a9-b1ec-23436bcc7cf8",
   "metadata": {},
   "outputs": [],
   "source": [
    "prev_post_MI_sum_allyear = (prev_post_MI\n",
    "                 .groupby(['age', 'sex'])\n",
    "                 .rate.describe(percentiles=[.025, .975])\n",
    "                 .filter(['mean', '2.5%', '97.5%'])\n",
    "                 .reset_index())\n",
    "prev_post_MI_sum_allyear.head()"
   ]
  },
  {
   "cell_type": "markdown",
   "id": "12556e2e-284d-47df-a2a3-11fc8e7e6e9f",
   "metadata": {},
   "source": [
    "#### Prevalence of Acute MI"
   ]
  },
  {
   "cell_type": "code",
   "execution_count": null,
   "id": "d87ec4fd-63d6-4a05-9877-13c36ce01880",
   "metadata": {},
   "outputs": [],
   "source": [
    "art_prev4 = load_artifact_data('cause', 'acute_myocardial_infarction', 'prevalence')\n",
    "art_prev4['age_group'] = [f'{int(i)}_to_{int(j) - 1}' for (i,j) in zip(art_prev4.age_start,art_prev4.age_end)]\n",
    "art_prev4.head()"
   ]
  },
  {
   "cell_type": "code",
   "execution_count": null,
   "id": "dfb94a39-d0f8-40a8-847b-70a967c274fe",
   "metadata": {},
   "outputs": [],
   "source": [
    "prev_acute_MI_sum_allyear = (prev_acute_MI\n",
    "                 .groupby(['age', 'sex'])\n",
    "                 .rate.describe(percentiles=[.025, .975])\n",
    "                 .filter(['mean', '2.5%', '97.5%'])\n",
    "                 .reset_index())\n",
    "prev_acute_MI_sum_allyear.head()"
   ]
  },
  {
   "cell_type": "markdown",
   "id": "75dacc89-8ba6-4935-a9a8-30c180e3e1eb",
   "metadata": {},
   "source": [
    "### Angina"
   ]
  },
  {
   "cell_type": "code",
   "execution_count": null,
   "id": "6974849f-dcc8-445a-a423-11a560641d5b",
   "metadata": {},
   "outputs": [],
   "source": [
    "art_prev_angina = load_artifact_data('cause', 'angina', 'prevalence')\n",
    "art_prev_angina['age_group'] = [f'{int(i)}_to_{int(j) - 1}' for (i,j) in zip(art_prev_angina.age_start,art_prev_angina.age_end)]\n",
    "art_prev_angina.head()"
   ]
  },
  {
   "cell_type": "code",
   "execution_count": null,
   "id": "7d1c64f1-e610-4381-92c1-4ac91d1c859f",
   "metadata": {},
   "outputs": [],
   "source": [
    "prev_angina_sum_allyear = (prev_angina\n",
    "                 .groupby(['age', 'sex'])\n",
    "                 .rate.describe(percentiles=[.025, .975])\n",
    "                 .filter(['mean', '2.5%', '97.5%'])\n",
    "                 .reset_index())\n",
    "prev_angina_sum_allyear.head()"
   ]
  },
  {
   "cell_type": "markdown",
   "id": "8f29d1a9-e026-497b-8573-c7cc4457552f",
   "metadata": {},
   "source": [
    "#### Excess Mortality Rate"
   ]
  },
  {
   "cell_type": "markdown",
   "id": "922669c5-cc6a-478c-8ceb-cde0736b7624",
   "metadata": {},
   "source": [
    "#### Acute Stroke"
   ]
  },
  {
   "cell_type": "code",
   "execution_count": null,
   "id": "f1c0ce1d-0c60-49fe-898f-bdd349cd5232",
   "metadata": {},
   "outputs": [],
   "source": [
    "art_emr = load_artifact_data('sequela', 'acute_ischemic_stroke', 'excess_mortality_rate')\n",
    "art_emr['age_group'] = [f'{int(i)}_to_{int(j) - 1}' for (i,j) in zip(art_emr.age_start,art_emr.age_end)]\n",
    "art_emr.head()"
   ]
  },
  {
   "cell_type": "code",
   "execution_count": null,
   "id": "6adcbb63-1ebc-4c8a-880b-696957e8ec2f",
   "metadata": {},
   "outputs": [],
   "source": [
    "prev_acute = per_time_state.loc[(per_time_state['state'] == 'ischemic_stroke_acute_ischemic_stroke')].reset_index()\n",
    "acute_rate_emr = pd.concat([acute_rate, prev_acute.ptvalue], axis=1)\n",
    "acute_rate_emr['mean_rate'] = acute_rate_emr['value'] / acute_rate_emr['ptvalue']\n",
    "\n",
    "acute_rate_sum_allyear = (acute_rate_emr\n",
    "                      .groupby(['age', 'sex'])\n",
    "                      .mean_rate.describe(percentiles=[.025, .975])\n",
    "                      .filter(['mean', '2.5%', '97.5%'])\n",
    "                      .reset_index())\n",
    "\n",
    "acute_rate_sum_allyear.head()"
   ]
  },
  {
   "cell_type": "markdown",
   "id": "0394cb6a-5aba-4199-aa46-a22b2293d405",
   "metadata": {},
   "source": [
    "#### Chronic Stroke"
   ]
  },
  {
   "cell_type": "code",
   "execution_count": null,
   "id": "63764c68-2e93-4ca7-9fc7-1436cbf7c4b7",
   "metadata": {},
   "outputs": [],
   "source": [
    "art_emr2 = load_artifact_data('sequela', 'chronic_ischemic_stroke', 'excess_mortality_rate')\n",
    "art_emr2['age_group'] = [f'{int(i)}_to_{int(j) - 1}' for (i,j) in zip(art_emr2.age_start,art_emr2.age_end)]"
   ]
  },
  {
   "cell_type": "code",
   "execution_count": null,
   "id": "f1d9cb63-3e38-4dfd-ae7a-61a1897c18b5",
   "metadata": {},
   "outputs": [],
   "source": [
    "chronic = per_time_state.loc[(per_time_state['state'] == 'ischemic_stroke_chronic_ischemic_stroke')].reset_index()\n",
    "#chronic = chronic.rename(columns = {'value':'ptvalue'})\n",
    "chronic_rate = death_rate_cause.loc[(death_rate_cause['cause'] == 'chronic_ischemic_stroke')].reset_index()\n",
    "chronic_rate_emr = pd.concat([chronic_rate, chronic.ptvalue], axis=1)\n",
    "chronic_rate_emr['mean_rate'] = chronic_rate_emr['value'] / chronic_rate_emr['ptvalue']\n",
    "chronic_rate_emr_allyear = (chronic_rate_emr\n",
    "                      .groupby(['age', 'sex'])\n",
    "                      .mean_rate.describe(percentiles=[.025, .975])\n",
    "                      .filter(['mean', '2.5%', '97.5%'])\n",
    "                      .reset_index())\n",
    "\n",
    "\n",
    "chronic_rate_emr_allyear.head()"
   ]
  },
  {
   "cell_type": "markdown",
   "id": "54a13130-b4d3-4b43-a58b-fd9eb00344e8",
   "metadata": {},
   "source": [
    "#### Acute MI"
   ]
  },
  {
   "cell_type": "code",
   "execution_count": null,
   "id": "84b35b20-7e3f-4b8c-ab2d-0fb9e86407fc",
   "metadata": {},
   "outputs": [],
   "source": [
    "art_emr_acuteMI = load_artifact_data('cause', 'acute_myocardial_infarction', 'excess_mortality_rate')\n",
    "art_emr_acuteMI['age_group'] = [f'{int(i)}_to_{int(j) - 1}' for (i,j) in zip(art_emr_acuteMI.age_start,art_emr_acuteMI.age_end)]"
   ]
  },
  {
   "cell_type": "code",
   "execution_count": null,
   "id": "46488539-d225-4a6b-92fe-d5bf7fcabc6f",
   "metadata": {},
   "outputs": [],
   "source": [
    "acute_MI_EMR = per_time_state.loc[(per_time_state['state'] == 'myocardial_infarction_acute_myocardial_infarction')].reset_index()\n",
    "acute_MI_emr_rate = death_rate_cause.loc[(death_rate_cause['cause'] == 'acute_myocardial_infarction')].reset_index()\n",
    "acute_MI_emr_rate = pd.concat([acute_MI_emr_rate, acute_MI_EMR.ptvalue], axis=1)\n",
    "acute_MI_emr_rate['mean_rate'] = acute_MI_emr_rate['value'] / acute_MI_emr_rate['ptvalue']\n",
    "acute_MI_emr_rate_allyear = (acute_MI_emr_rate\n",
    "                      .groupby(['age', 'sex'])\n",
    "                      .mean_rate.describe(percentiles=[.025, .975])\n",
    "                      .filter(['mean', '2.5%', '97.5%'])\n",
    "                      .reset_index())\n",
    "\n",
    "\n",
    "acute_MI_emr_rate_allyear.head()"
   ]
  },
  {
   "cell_type": "markdown",
   "id": "a4a7732c-3d73-4174-9f99-45bc2a68acd2",
   "metadata": {},
   "source": [
    "#### Post MI EMR"
   ]
  },
  {
   "cell_type": "code",
   "execution_count": null,
   "id": "521b1136-094f-4f5b-8f98-4321ed063ae5",
   "metadata": {},
   "outputs": [],
   "source": [
    "post_mi_rate_emr_allyear = (post_MI_emr\n",
    "                      .groupby(['age', 'sex'])\n",
    "                      .mean_rate.describe(percentiles=[.025, .975])\n",
    "                      .filter(['mean', '2.5%', '97.5%'])\n",
    "                      .reset_index())\n",
    "\n",
    "\n",
    "post_mi_rate_emr_allyear.head()"
   ]
  },
  {
   "cell_type": "code",
   "execution_count": null,
   "id": "a08414d2-08ac-4556-b7de-6a245283ec1e",
   "metadata": {},
   "outputs": [],
   "source": [
    "art_emr_postMI = load_artifact_data('cause', 'post_myocardial_infarction', 'excess_mortality_rate')\n",
    "art_emr_postMI['age_group'] = [f'{int(i)}_to_{int(j) - 1}' for (i,j) in zip(art_emr_postMI.age_start,art_emr_postMI.age_end)]"
   ]
  },
  {
   "cell_type": "markdown",
   "id": "9378c82d-4d91-45b4-b2aa-d617beeb4175",
   "metadata": {},
   "source": [
    "### Angina EMR"
   ]
  },
  {
   "cell_type": "code",
   "execution_count": null,
   "id": "41675524-e16b-4b34-8e75-d780824b2043",
   "metadata": {},
   "outputs": [],
   "source": [
    "art_emr_angina = load_artifact_data('cause', 'angina', 'excess_mortality_rate')\n",
    "art_emr_angina['age_group'] = [f'{int(i)}_to_{int(j) - 1}' for (i,j) in zip(art_emr_angina.age_start,art_emr_angina.age_end)]\n",
    "art_emr_angina.head()"
   ]
  },
  {
   "cell_type": "code",
   "execution_count": null,
   "id": "2e9f23e9-59b8-4b1e-892a-b980e1deae0a",
   "metadata": {},
   "outputs": [],
   "source": [
    "angina_emr = per_time_state.loc[(per_time_state['state'] == 'angina_angina')].reset_index()\n",
    "angina_death_cause = death_rate_cause.loc[(death_rate_cause['cause'] == 'angina')].reset_index()\n",
    "angina_emr_rate = pd.concat([angina_death_cause, angina_emr.ptvalue], axis=1)\n",
    "angina_emr_rate['mean_rate'] = angina_emr_rate['value'] / angina_emr_rate['ptvalue']\n",
    "angina_emr_rate_allyear = (angina_emr_rate\n",
    "                      .groupby(['age', 'sex'])\n",
    "                      .mean_rate.describe(percentiles=[.025, .975])\n",
    "                      .filter(['mean', '2.5%', '97.5%'])\n",
    "                      .reset_index())\n",
    "\n",
    "\n",
    "angina_emr_rate_allyear.head()"
   ]
  },
  {
   "cell_type": "markdown",
   "id": "64c6a519-4a3a-49e3-81ed-1a4622cab8a5",
   "metadata": {},
   "source": [
    "# GBD Comparison"
   ]
  },
  {
   "cell_type": "markdown",
   "id": "a4e26a8f-0f28-4acb-bbc3-b6fb207c826e",
   "metadata": {},
   "source": [
    "#### All Cause Mortality Rate"
   ]
  },
  {
   "cell_type": "code",
   "execution_count": null,
   "id": "1ce3094c-af0a-42ae-a274-55af0f79832f",
   "metadata": {},
   "outputs": [],
   "source": [
    "from db_queries import get_outputs as go\n",
    "from db_queries import get_ids\n",
    "from get_draws.api import get_draws\n"
   ]
  },
  {
   "cell_type": "code",
   "execution_count": null,
   "id": "42cabc90-6752-484e-8ae0-631d398d51bc",
   "metadata": {},
   "outputs": [],
   "source": [
    "gbd_data = go(\"cause\", gbd_round_id=6, age_group_id=[10,11,12,13,14,15,16,17,18,19,20,30,31,32,33], cause_id=294, measure_id=1, metric_id=3, location_id=523, year_id=2019, sex_id=[1,2], decomp_step='step5')"
   ]
  },
  {
   "cell_type": "code",
   "execution_count": null,
   "id": "7d6f85d3-9bb4-462d-824c-1cb2d6834ab2",
   "metadata": {},
   "outputs": [],
   "source": [
    "gbd_data['age'] = gbd_data.age_group_name.str.replace(' ', '_')\n",
    "gbd_data.head()"
   ]
  },
  {
   "cell_type": "code",
   "execution_count": null,
   "id": "1191e723-eeb4-4831-a377-d91453ecc5a7",
   "metadata": {},
   "outputs": [],
   "source": [
    "for sex in result_summary_allyears.sex.unique():\n",
    "    plt.figure() \n",
    "    subdata = result_summary_allyears.loc[(result_summary_allyears.sex==sex)]\n",
    "    plt.plot(subdata['age'], subdata['mean'], marker='o')\n",
    "    plt.fill_between(subdata['age'], subdata['2.5%'], subdata['97.5%'], alpha=.3)\n",
    "    subdata2 = gbd_data.loc[(gbd_data.sex==sex.capitalize())]\n",
    "    plt.plot(subdata2['age'], subdata2['val'], marker='o')\n",
    "    plt.fill_between(subdata2['age'], subdata2['lower'], subdata2['upper'], alpha=.3)\n",
    "    plt.title(f'All Cause Mortality Rate: {sex}') \n",
    "    plt.xticks(rotation=90) \n",
    "    plt.grid()\n",
    "    plt.legend(['Simulation baseline', 'Sim 95%', 'GBD Baseline', 'GBD 95%']) "
   ]
  },
  {
   "cell_type": "markdown",
   "id": "b3c34e15-22bc-4b1a-bc46-9663a2e196a6",
   "metadata": {},
   "source": [
    "### CSMR for IHD"
   ]
  },
  {
   "cell_type": "code",
   "execution_count": null,
   "id": "5c7e2cc4-7646-4025-9bf4-cfc1e0cb235d",
   "metadata": {},
   "outputs": [],
   "source": [
    "gbd_csmr_ihd = go(\"cause\", gbd_round_id=6, \n",
    "              age_group_id=[10,11,12,13,14,15,16,17,18,19,20,30,31,32,33], \n",
    "              cause_id=493, \n",
    "              measure_id=1, \n",
    "              metric_id=3, \n",
    "              location_id=523, \n",
    "              year_id=2019, \n",
    "              sex_id=[1,2], \n",
    "              decomp_step='step5')\n",
    "gbd_csmr_ihd['age'] = gbd_csmr_ihd.age_group_name.str.replace(' ', '_')\n",
    "#gbd_csmr_ihd.head()"
   ]
  },
  {
   "cell_type": "code",
   "execution_count": null,
   "id": "a6d27a02-f631-4d60-84d1-26e644854237",
   "metadata": {},
   "outputs": [],
   "source": [
    "angina_rate = death_rate_cause.loc[(death_rate_cause['cause'] == 'angina')].reset_index()\n",
    "angina_rate = pd.concat([angina_rate, per_time_group.ptvalue], axis=1)\n",
    "angina_rate['mean_rate'] = angina_rate['value'] / angina_rate['ptvalue']\n",
    "angina_rate.head()"
   ]
  },
  {
   "cell_type": "code",
   "execution_count": null,
   "id": "0009883c-4054-4ef3-83dc-159fc451b4be",
   "metadata": {},
   "outputs": [],
   "source": [
    "#total_MI_rate.head()"
   ]
  },
  {
   "cell_type": "code",
   "execution_count": null,
   "id": "5665a6ea-820c-482a-ab3b-777bba2ff981",
   "metadata": {},
   "outputs": [],
   "source": [
    "total_MI_rate = total_MI_rate.rename(columns = {'total_rate':'mi_total_rate'})\n",
    "angina_rate = angina_rate.rename(columns = {'mean_rate':'angina_rate'})\n",
    "ihd_rate = pd.concat([total_MI_rate, angina_rate.angina_rate], axis=1)\n",
    "ihd_rate['total_rate'] = ihd_rate['mi_total_rate'] + ihd_rate['angina_rate']\n",
    "ihd_rate.head()"
   ]
  },
  {
   "cell_type": "code",
   "execution_count": null,
   "id": "17cb8c43-4cee-4f51-9b1e-331817a2f793",
   "metadata": {},
   "outputs": [],
   "source": [
    "ihd_rate_allyear = (ihd_rate\n",
    "                      .groupby(['age', 'sex'])\n",
    "                      .total_rate.describe(percentiles=[.025, .975])\n",
    "                      .filter(['mean', '2.5%', '97.5%'])\n",
    "                      .reset_index())\n",
    "#ihd_rate_allyear.head()"
   ]
  },
  {
   "cell_type": "code",
   "execution_count": null,
   "id": "1def8430-adaf-4e66-9d1e-a988bf61799e",
   "metadata": {},
   "outputs": [],
   "source": [
    "for sex in ihd_rate_allyear.sex.unique():\n",
    "    plt.figure() \n",
    "    subdata = ihd_rate_allyear.loc[(ihd_rate_allyear.sex==sex)]\n",
    "    plt.plot(subdata['age'], subdata['mean'], marker='o')\n",
    "    plt.fill_between(subdata['age'], subdata['2.5%'], subdata['97.5%'], alpha=.3)\n",
    "    subdata2 = gbd_csmr_ihd.loc[(gbd_csmr_ihd.sex==sex.capitalize())]\n",
    "    plt.plot(subdata2['age'], subdata2['val'], marker='o')\n",
    "    plt.fill_between(subdata2['age'], subdata2['lower'], subdata2['upper'], alpha=.3)\n",
    "    plt.title(f'CSMR: {sex}') \n",
    "    plt.xticks(rotation=90) \n",
    "    plt.grid()\n",
    "    plt.yscale('log')\n",
    "    plt.legend(['Simulation baseline', 'Sim 95%', 'GBD Baseline', 'GBD 95%']) "
   ]
  },
  {
   "cell_type": "markdown",
   "id": "ae86f0c6-ece6-4347-a87c-3070261d50a9",
   "metadata": {},
   "source": [
    "#### Incidence Rate for Stroke"
   ]
  },
  {
   "cell_type": "code",
   "execution_count": null,
   "id": "56fdb404-5db0-4a3d-8520-cbdd0d5b6a29",
   "metadata": {},
   "outputs": [],
   "source": [
    "gbd_incd = go(\"cause\", gbd_round_id=6, age_group_id=[10,11,12,13,14,15,16,17,18,19,20,30,31,32,33], cause_id=495, measure_id=6, metric_id=3, location_id=523, year_id=2019, sex_id=[1,2], decomp_step='step5')"
   ]
  },
  {
   "cell_type": "code",
   "execution_count": null,
   "id": "dc0fb51c-2beb-4865-a686-cfe2b6c42ee0",
   "metadata": {},
   "outputs": [],
   "source": [
    "gbd_incd['age'] = gbd_incd.age_group_name.str.replace(' ', '_')\n",
    "gbd_incd.head()"
   ]
  },
  {
   "cell_type": "code",
   "execution_count": null,
   "id": "14a2f710-92f5-46b9-88a7-0891492a503d",
   "metadata": {},
   "outputs": [],
   "source": [
    "for sex in tran_rate_sum_allyear.sex.unique():\n",
    "    plt.figure() \n",
    "    subdata = tran_rate_sum_allyear.loc[(tran_rate_sum_allyear.sex==sex)]\n",
    "    plt.plot(subdata['age'], subdata['mean'], marker='o')\n",
    "    plt.fill_between(subdata['age'], subdata['2.5%'], subdata['97.5%'], alpha=.3)\n",
    "    subdata2 = gbd_incd.loc[(gbd_incd.sex==sex.capitalize())]\n",
    "    plt.plot(subdata2['age'], subdata2['val'], marker='o')\n",
    "    plt.fill_between(subdata2['age'], subdata2['lower'], subdata2['upper'], alpha=.3)\n",
    "    plt.title(f'Incidence Rate for Stroke: {sex}') \n",
    "    plt.xticks(rotation=90) \n",
    "    plt.grid()\n",
    "    plt.yscale('log')\n",
    "    plt.legend(['Simulation baseline', 'Sim 95%', 'GBD Baseline', 'GBD 95%']) "
   ]
  },
  {
   "cell_type": "markdown",
   "id": "4cd1ee8e-676b-4efa-bed3-7d0d42c727f3",
   "metadata": {},
   "source": [
    "#### Incidence Rate for MI"
   ]
  },
  {
   "cell_type": "code",
   "execution_count": null,
   "id": "89db50f6-a679-40c0-955a-f845fa058228",
   "metadata": {},
   "outputs": [],
   "source": [
    "gbd_incd_MI = go(\"cause\", gbd_round_id=6, age_group_id=[10,11,12,13,14,15,16,17,18,19,20,30,31,32,33], cause_id=493, measure_id=6, metric_id=3, location_id=523, year_id=2019, sex_id=[1,2], decomp_step='step5')\n",
    "gbd_incd_MI['age'] = gbd_incd_MI.age_group_name.str.replace(' ', '_')\n",
    "gbd_incd_MI.head()"
   ]
  },
  {
   "cell_type": "code",
   "execution_count": null,
   "id": "9e71878c-3b1d-4799-8138-16d14372d1f8",
   "metadata": {},
   "outputs": [],
   "source": [
    "for sex in tran_MI_summ_allyear.index.get_level_values('sex').unique():\n",
    "    plt.figure() \n",
    "    subdata = tran_MI_summ_allyear.loc[(tran_MI_summ_allyear.index.get_level_values('sex')==sex)]\n",
    "    plt.plot(subdata.index.get_level_values('age'), subdata['mean'], marker='o')\n",
    "    plt.fill_between(subdata.index.get_level_values('age'), subdata['2.5%'], subdata['97.5%'], alpha=.3)\n",
    "    subdata2 = gbd_incd_MI.loc[(gbd_incd_MI.sex==sex.capitalize())]\n",
    "    plt.plot(subdata2['age'], subdata2['val'], marker='o')\n",
    "    plt.fill_between(subdata2['age'], subdata2['lower'], subdata2['upper'], alpha=.3)\n",
    "    plt.title(f'Incidence for MI: {sex}') \n",
    "    plt.xticks(rotation=90) \n",
    "    plt.grid()\n",
    "    plt.yscale('log')\n",
    "    plt.legend(['Simulation All MI', 'Sim 95%', 'GBD Baseline', 'GBD 95%']) "
   ]
  },
  {
   "cell_type": "markdown",
   "id": "43788fcd-05dd-4b40-a5f0-e574e52f3ef0",
   "metadata": {},
   "source": [
    "#### Incidence for MI based on all person_time "
   ]
  },
  {
   "cell_type": "code",
   "execution_count": null,
   "id": "8546d2bd-beac-4efb-a619-cf015f99dde3",
   "metadata": {},
   "outputs": [],
   "source": [
    "tran_rate_MI_GBD = tran.groupby(['age', 'sex', 'year', 'transition', 'input_draw']).value.sum().reset_index()\n",
    "tran_rate_MI_GBD = tran_rate_MI_GBD.loc[(tran_rate_MI_GBD['transition'].isin(['myocardial_infarction_susceptible_to_myocardial_infarction_to_acute_myocardial_infarction','myocardial_infarction_post_myocardial_infarction_to_acute_myocardial_infarction']))].reset_index()\n",
    "tran_rate_MI_GBD = tran_rate_MI_GBD.groupby(['age', 'sex', 'year', 'input_draw']).value.sum().reset_index()\n",
    "tran_rate_MI_GBD = pd.concat([tran_rate_MI_GBD, per_time_group.ptvalue], axis=1)\n",
    "tran_rate_MI_GBD['rate']= tran_rate_MI_GBD['value'] / tran_rate_MI_GBD['ptvalue']\n",
    "tran_rate_MI_GBD_summ = (tran_rate_MI_GBD\n",
    "                 .groupby(['age', 'sex'])\n",
    "                 .rate.describe(percentiles=[.025, .975])\n",
    "                 .filter(['mean', '2.5%', '97.5%'])\n",
    "                 .reset_index())\n",
    "\n",
    "tran_rate_MI_GBD_summ.head()"
   ]
  },
  {
   "cell_type": "code",
   "execution_count": null,
   "id": "225d4c86-9ad7-4df3-b2ae-109a59b16c37",
   "metadata": {},
   "outputs": [],
   "source": [
    "for sex in tran_rate_MI_GBD_summ.sex.unique():\n",
    "    plt.figure() \n",
    "    subdata = tran_rate_MI_GBD_summ.loc[(tran_rate_MI_GBD_summ.sex==sex)]\n",
    "    plt.plot(subdata['age'], subdata['mean'], marker='o')\n",
    "    plt.fill_between(subdata['age'], subdata['2.5%'], subdata['97.5%'], alpha=.3)\n",
    "    subdata2 = gbd_incd_MI.loc[(gbd_incd_MI.sex==sex.capitalize())]\n",
    "    plt.plot(subdata2['age'], subdata2['val'], marker='o')\n",
    "    plt.fill_between(subdata2['age'], subdata2['lower'], subdata2['upper'], alpha=.3)\n",
    "    plt.title(f'Incidence Rate for MI: {sex}') \n",
    "    plt.xticks(rotation=90) \n",
    "    plt.grid()\n",
    "    plt.yscale('log')\n",
    "    plt.legend(['Simulation baseline', 'Sim 95%', 'GBD Baseline', 'GBD 95%']) "
   ]
  },
  {
   "cell_type": "markdown",
   "id": "410e4dd8-c269-423d-9449-2a2b3ca9a46f",
   "metadata": {},
   "source": [
    "### Incidence for Angina"
   ]
  },
  {
   "cell_type": "code",
   "execution_count": null,
   "id": "c615f252-1423-43c4-9b1f-e66d2d5c2803",
   "metadata": {},
   "outputs": [],
   "source": [
    "angina_inc = get_draws('modelable_entity_id',\n",
    "                1817,\n",
    "                source='epi',\n",
    "                location_id=523,\n",
    "                age_group_id=[10,11,12,13,14,15,16,17,18,19,20,30,31,32,33],\n",
    "                sex_id=[1,2],\n",
    "                measure_id = 6,\n",
    "                year_id=2019,\n",
    "                gbd_round_id=6,\n",
    "                 decomp_step='step4')\n",
    "angina_inc['age_group'] = np.where(angina_inc['age_group_id']==10,'25_to_29',np.where(angina_inc['age_group_id']==11,'30_to_34',np.where(angina_inc['age_group_id']==12,'35_to_39',np.where(angina_inc['age_group_id']==13,'40_to_44',np.where(angina_inc['age_group_id']==14,'45_to_49',np.where(angina_inc['age_group_id']==15,'50_to_54',np.where(angina_inc['age_group_id']==16,'55_to_59',np.where(angina_inc['age_group_id']==17,'60_to_64',np.where(angina_inc['age_group_id']==18,'65_to_69',np.where(angina_inc['age_group_id']==19,'70_to_74',np.where(angina_inc['age_group_id']==20,'75_to_79',np.where(angina_inc['age_group_id']==30,'80_to_84',np.where(angina_inc['age_group_id']==31,'85_to_89',np.where(angina_inc['age_group_id']==32,'90_to_94',np.where(angina_inc['age_group_id']==33,'95_to_100',0)))))))))))))))\n",
    "angina_inc['sex'] = np.where(angina_inc['sex_id']==1,'Male','Female')\n",
    "mean_df = angina_inc.iloc[:,1:1001]\n",
    "angina_inc['mean'] = mean_df.mean(axis=1)\n",
    "angina_inc = angina_inc.sort_values(by=['age_group'])\n",
    "#angina_inc"
   ]
  },
  {
   "cell_type": "code",
   "execution_count": null,
   "id": "161097c0-ab6d-4012-87fc-7276e62d6c85",
   "metadata": {},
   "outputs": [],
   "source": [
    "for sex in tran_angina_summ.index.get_level_values('sex').unique():\n",
    "    plt.figure() \n",
    "    subdata = tran_angina_summ.loc[(tran_angina_summ.index.get_level_values('sex')==sex)]\n",
    "    plt.plot(subdata.index.get_level_values('age'), subdata['mean'], marker='o')\n",
    "    plt.fill_between(subdata.index.get_level_values('age'), subdata['2.5%'], subdata['97.5%'], alpha=.3)\n",
    "    subdata3 = angina_inc.loc[(angina_inc.sex==sex.capitalize())]\n",
    "    plt.plot(subdata3['age_group'], subdata3['mean'], marker='o')\n",
    "    plt.title(f'Incidence for Angina: {sex}') \n",
    "    plt.xticks(rotation=90) \n",
    "    plt.grid()\n",
    "    plt.yscale('log')\n",
    "    plt.legend(['Simulation All MI', 'Sim 95%', 'GBD Baseline']) "
   ]
  },
  {
   "cell_type": "markdown",
   "id": "6914eaac-58ec-4324-855d-af995911ad78",
   "metadata": {},
   "source": [
    "#### DALYs from Stroke"
   ]
  },
  {
   "cell_type": "code",
   "execution_count": null,
   "id": "ffd95fba-1f37-4500-8af0-4faead0ef25c",
   "metadata": {},
   "outputs": [],
   "source": [
    "gbd_daly = go(\"cause\", gbd_round_id=6, age_group_id=[10,11,12,13,14,15,16,17,18,19,20,30,31,32,33], cause_id=495, measure_id=2, metric_id=3, location_id=523, year_id=2019, sex_id=[1,2], decomp_step='step5')"
   ]
  },
  {
   "cell_type": "code",
   "execution_count": null,
   "id": "efc561b2-3483-4713-8bfb-78e797ecc052",
   "metadata": {},
   "outputs": [],
   "source": [
    "gbd_daly['age'] = gbd_daly.age_group_name.str.replace(' ', '_')\n",
    "gbd_daly.head()"
   ]
  },
  {
   "cell_type": "code",
   "execution_count": null,
   "id": "943cfda4-cfab-45ae-8f85-99a1a6dbd826",
   "metadata": {},
   "outputs": [],
   "source": [
    "yll_stroke = yll.loc[yll['cause'].isin([\"acute_ischemic_stroke\", \"chronic_ischemic_stroke\"])].reset_index()\n",
    "yld_stroke = yld.loc[yld['cause_of_disability'].isin([\"acute_ischemic_stroke\", \"chronic_ischemic_stroke\"])].reset_index()\n",
    "yld_stroke = yld_stroke.rename(columns = {'cause_of_disability':'cause'})\n",
    "yld_stroke"
   ]
  },
  {
   "cell_type": "code",
   "execution_count": null,
   "id": "f0f1fa71-0cab-49d5-b96d-d10104708fb0",
   "metadata": {},
   "outputs": [],
   "source": [
    "daly_stroke = yll_stroke.merge(yld_stroke[['yld','sex','age','year','cause', 'input_draw']], on=['sex','age','year','cause', 'input_draw'])\n",
    "daly_stroke['daly'] = daly_stroke['yll'] + daly_stroke['yld']\n",
    "daly_stroke.head()"
   ]
  },
  {
   "cell_type": "code",
   "execution_count": null,
   "id": "751ba0b8-be67-4e3c-a4c9-5636ef7b4582",
   "metadata": {},
   "outputs": [],
   "source": [
    "daly_stroke = daly_stroke.groupby(['age', 'sex', 'year', 'input_draw']).daly.sum().reset_index()\n",
    "daly_stroke_rate = pd.concat([daly_stroke, per_time_group.ptvalue], axis=1)\n",
    "daly_stroke_rate['daly_rate'] = daly_stroke_rate['daly'] / daly_stroke_rate['ptvalue']\n",
    "daly_stroke_sum_allyear = (daly_stroke_rate\n",
    "                .groupby(['age', 'sex'])\n",
    "                .daly_rate.describe(percentiles=[.025, .975])\n",
    "                .filter(['mean', '2.5%', '97.5%'])\n",
    "                .reset_index())\n",
    "\n",
    "daly_stroke_sum_allyear.head()"
   ]
  },
  {
   "cell_type": "code",
   "execution_count": null,
   "id": "5c2e5a2b-807f-4dd7-8c8c-c8cbbbd4bc3b",
   "metadata": {},
   "outputs": [],
   "source": [
    "with PdfPages('daly_stroke_artifact_and_sim_model6.pdf') as pdf:\n",
    "    for sex in daly_stroke_sum_allyear.sex.unique():\n",
    "        plt.figure() \n",
    "        subdata = daly_stroke_sum_allyear.loc[(daly_stroke_sum_allyear.sex==sex)]\n",
    "        plt.plot(subdata['age'], subdata['mean'], marker='o')\n",
    "        plt.fill_between(subdata['age'], subdata['2.5%'], subdata['97.5%'], alpha=.3)\n",
    "        subdata2 = gbd_daly.loc[(gbd_daly.sex==sex.capitalize())]\n",
    "        plt.plot(subdata2['age'], subdata2['val'], marker='o')\n",
    "        plt.fill_between(subdata2['age'], subdata2['lower'], subdata2['upper'], alpha=.3)\n",
    "        plt.title(f'Stroke DALYs: {sex}') \n",
    "        plt.xticks(rotation=90) \n",
    "        plt.grid()\n",
    "        plt.yscale('log')\n",
    "        plt.legend(['Simulation baseline', 'Sim 95%', 'GBD Baseline', 'GBD 95%']) \n",
    "        plt.ylabel('Stroke DALYs in log-scale') \n",
    "        pdf.savefig(bbox_inches='tight')"
   ]
  },
  {
   "cell_type": "markdown",
   "id": "92fc5e23-df4e-42b4-8cdf-87bb0912d37c",
   "metadata": {},
   "source": [
    "#### DALYs from Acute MI"
   ]
  },
  {
   "cell_type": "code",
   "execution_count": null,
   "id": "a34fcf0b-d306-42ff-a4b4-64a38701a6a6",
   "metadata": {},
   "outputs": [],
   "source": [
    "gbd_daly_MI = go(\"cause\", gbd_round_id=6, age_group_id=[10,11,12,13,14,15,16,17,18,19,20,30,31,32,33], cause_id=493, measure_id=2, metric_id=3, location_id=523, year_id=2019, sex_id=[1,2], decomp_step='step5')"
   ]
  },
  {
   "cell_type": "code",
   "execution_count": null,
   "id": "f887fec3-eb7d-4a42-9d93-07a24afe0753",
   "metadata": {},
   "outputs": [],
   "source": [
    "gbd_daly_MI['age'] = gbd_daly_MI.age_group_name.str.replace(' ', '_')\n",
    "gbd_daly_MI.head()"
   ]
  },
  {
   "cell_type": "code",
   "execution_count": null,
   "id": "de781b13-38de-42e1-a237-a2beb8adf739",
   "metadata": {},
   "outputs": [],
   "source": [
    "yll_MI = yll.loc[yll['cause'].isin([\"acute_myocardial_infarction\", \"post_myocardial_infarction\"])].reset_index()\n",
    "yll_MI = yll_MI.groupby(['age', 'sex', 'year', 'input_draw']).yll.sum().reset_index()\n",
    "yld_MI = yld.loc[yld['cause_of_disability'].isin([\"acute_myocardial_infarction\"])].reset_index()\n",
    "len(yll_MI)"
   ]
  },
  {
   "cell_type": "code",
   "execution_count": null,
   "id": "3c9ea3e0-2836-4c21-84ea-bb3061fecd7a",
   "metadata": {},
   "outputs": [],
   "source": [
    "daly_MI = pd.concat([yll_MI, yld_MI.yld], axis=1)\n",
    "daly_MI['daly'] = daly_MI['yll'] + daly_MI['yld']\n",
    "daly_MI.head()"
   ]
  },
  {
   "cell_type": "code",
   "execution_count": null,
   "id": "f032deb3-c4f2-4fbe-8d68-f29eddcc9564",
   "metadata": {},
   "outputs": [],
   "source": [
    "daly_MI = daly_MI.groupby(['age', 'sex', 'year', 'input_draw']).daly.sum().reset_index()\n",
    "daly_MI_rate = pd.concat([daly_MI, per_time_group.ptvalue], axis=1)\n",
    "daly_MI_rate['daly_rate'] = daly_MI_rate['daly'] / daly_MI_rate['ptvalue']\n",
    "daly_MI_rate_allyear = (daly_MI_rate\n",
    "                .groupby(['age', 'sex'])\n",
    "                .daly_rate.describe(percentiles=[.025, .975])\n",
    "                .filter(['mean', '2.5%', '97.5%'])\n",
    "                .reset_index())\n",
    "\n",
    "daly_MI_rate_allyear.head()"
   ]
  },
  {
   "cell_type": "code",
   "execution_count": null,
   "id": "92495026-5313-4fea-af09-604da46fdbb1",
   "metadata": {},
   "outputs": [],
   "source": [
    "for sex in daly_MI_rate_allyear.sex.unique():\n",
    "    plt.figure() \n",
    "    subdata = daly_MI_rate_allyear.loc[(daly_MI_rate_allyear.sex==sex)]\n",
    "    plt.plot(subdata['age'], subdata['mean'], marker='o')\n",
    "    plt.fill_between(subdata['age'], subdata['2.5%'], subdata['97.5%'], alpha=.3)\n",
    "    subdata2 = gbd_daly_MI.loc[(gbd_daly_MI.sex==sex.capitalize())]\n",
    "    plt.plot(subdata2['age'], subdata2['val'], marker='o')\n",
    "    plt.fill_between(subdata2['age'], subdata2['lower'], subdata2['upper'], alpha=.3)\n",
    "    plt.title(f'MI DALYs: {sex}') \n",
    "    plt.xticks(rotation=90) \n",
    "    plt.grid()\n",
    "    plt.yscale('log')\n",
    "    plt.legend(['Simulation baseline', 'Sim 95%', 'GBD Baseline', 'GBD 95%']) "
   ]
  },
  {
   "cell_type": "markdown",
   "id": "0e57c9be-bad5-4689-b9e7-8061e999dcc7",
   "metadata": {},
   "source": [
    "### LDL-C Testing - Total Exposure by age/year"
   ]
  },
  {
   "cell_type": "code",
   "execution_count": null,
   "id": "9df4026f-d594-430b-9d88-3e6b52b310f8",
   "metadata": {},
   "outputs": [],
   "source": [
    "risk_exp = pd.read_csv(sim_results_dir + 'risk_exposure_time.csv')\n",
    "ldl = risk_exp.loc[risk_exp['risk']=='high_ldl_cholesterol']\n",
    "ldl.head()"
   ]
  },
  {
   "cell_type": "code",
   "execution_count": null,
   "id": "91127def-72fd-4d83-8d86-d515898b68e4",
   "metadata": {},
   "outputs": [],
   "source": [
    "ldl_summ = (ldl\n",
    "                .groupby(['age', 'sex', 'year'])\n",
    "                .value.describe(percentiles=[.025, .975])\n",
    "                .filter(['mean', '2.5%', '97.5%'])\n",
    "                .reset_index())\n",
    "#ldl_summ"
   ]
  },
  {
   "cell_type": "code",
   "execution_count": null,
   "id": "5e4830a5-70f5-4439-ad20-9a2e9b7fdcbd",
   "metadata": {},
   "outputs": [],
   "source": [
    "%%capture\n",
    "for sex in ldl_summ.sex.unique():\n",
    "    for year in ldl_summ.year.unique():\n",
    "        plt.figure() \n",
    "        subdata = ldl_summ.loc[(ldl_summ.sex==sex) & (ldl_summ.year==year)]\n",
    "        plt.plot(subdata['age'], subdata['mean'], marker='o')\n",
    "        plt.fill_between(subdata['age'], subdata['2.5%'], subdata['97.5%'], alpha=.3)\n",
    "        plt.title(f'LDL Exposure: {sex} in {year}') \n",
    "        plt.xticks(rotation=90) \n",
    "        plt.ylim(0,100000)\n",
    "        plt.grid()"
   ]
  },
  {
   "cell_type": "code",
   "execution_count": null,
   "id": "3545b0f1-ed1b-4bd1-a1a7-bd80838ddc2a",
   "metadata": {},
   "outputs": [],
   "source": [
    "%%capture\n",
    "for sex in ldl_summ.sex.unique():\n",
    "    for age in ldl_summ.age.unique():\n",
    "        plt.figure() \n",
    "        subdata = ldl_summ.loc[(ldl_summ.sex==sex) & (ldl_summ.age==age)]\n",
    "        plt.plot(subdata['year'], subdata['mean'], marker='o')\n",
    "        plt.fill_between(subdata['year'], subdata['2.5%'], subdata['97.5%'], alpha=.3)\n",
    "        plt.title(f'LDL Exposure: {sex} in {age}') \n",
    "        plt.xticks(rotation=90) \n",
    "        #plt.ylim(0,100000)\n",
    "        plt.grid()"
   ]
  },
  {
   "cell_type": "markdown",
   "id": "b52e685d-21b9-4d94-abe4-f1aa6368f374",
   "metadata": {},
   "source": [
    "The absolute number is definitely changing over time. Let's see if this is due to changes in population structure or something else. "
   ]
  },
  {
   "cell_type": "markdown",
   "id": "72638043-fa83-42ed-957a-81db2d52c09c",
   "metadata": {},
   "source": [
    "### Rates of Exposure by Age/Year"
   ]
  },
  {
   "cell_type": "code",
   "execution_count": null,
   "id": "710e2254-b9dc-4542-be53-30e959ce4f3a",
   "metadata": {},
   "outputs": [],
   "source": [
    "ldl_rate = ldl.groupby(['age','sex','year','input_draw']).value.sum().reset_index()\n",
    "ldl_rate = pd.concat([ldl_rate, per_time_group.ptvalue], axis=1)\n",
    "ldl_rate['ldl_rate'] = ldl_rate['value'] / ldl_rate['ptvalue']\n",
    "ldl_rate_summ = (ldl_rate\n",
    "                .groupby(['age', 'sex', 'year'])\n",
    "                .ldl_rate.describe(percentiles=[.025, .975])\n",
    "                .filter(['mean', '2.5%', '97.5%'])\n",
    "                .reset_index())\n",
    "ldl_rate_summ.head()"
   ]
  },
  {
   "cell_type": "code",
   "execution_count": null,
   "id": "b130eb52-4567-4be6-a598-cfbbefd80065",
   "metadata": {},
   "outputs": [],
   "source": [
    "## Want to think through these. These are now rates - why is it dropping at older age groups? Selection bias \n",
    "## (those with high cholestrol don't live as long?) Something else? \n",
    "\n",
    "%%capture\n",
    "for sex in ldl_rate_summ.sex.unique():\n",
    "    for year in ldl_rate_summ.year.unique():\n",
    "        plt.figure() \n",
    "        subdata = ldl_rate_summ.loc[(ldl_rate_summ.sex==sex) & (ldl_rate_summ.year==year)]\n",
    "        plt.plot(subdata['age'], subdata['mean'], marker='o')\n",
    "        plt.fill_between(subdata['age'], subdata['2.5%'], subdata['97.5%'], alpha=.3)\n",
    "        plt.title(f'LDL Exposure: {sex} in {year}') \n",
    "        plt.xticks(rotation=90) \n",
    "        #plt.ylim(0,100000)\n",
    "        plt.grid()"
   ]
  },
  {
   "cell_type": "code",
   "execution_count": null,
   "id": "0e4feea4-fce4-4f96-8aeb-9936c2798b8a",
   "metadata": {
    "tags": []
   },
   "outputs": [],
   "source": [
    "## These look a bit funny - we should discuss. What is causing changes over time across these groups? \n",
    "## Why is this not 3? \n",
    "\n",
    "#%%capture\n",
    "for sex in ldl_rate_summ.sex.unique():\n",
    "    for age in ldl_rate_summ.age.unique():\n",
    "        plt.figure() \n",
    "        subdata = ldl_rate_summ.loc[(ldl_rate_summ.sex==sex) & (ldl_rate_summ.age==age)]\n",
    "        plt.plot(subdata['year'], subdata['mean'], marker='o')\n",
    "        plt.fill_between(subdata['year'], subdata['2.5%'], subdata['97.5%'], alpha=.3)\n",
    "        plt.title(f'LDL Exposure: {sex} in {age}') \n",
    "        plt.xticks(rotation=90) \n",
    "        #plt.ylim(0,100000)\n",
    "        plt.grid()"
   ]
  },
  {
   "cell_type": "markdown",
   "id": "5cd01cc6-f3c2-4cb9-847a-5d24a65d8a6a",
   "metadata": {},
   "source": [
    "### Within 2023, LDL-C Distribution "
   ]
  },
  {
   "cell_type": "code",
   "execution_count": null,
   "id": "053b91ca-51e5-4c60-8ba0-6d83ed568c12",
   "metadata": {},
   "outputs": [],
   "source": [
    "ldl_2023 = ldl.loc[ldl['year']==2023].reset_index()\n",
    "ldl_2023.head()"
   ]
  },
  {
   "cell_type": "markdown",
   "id": "c0bde8bd-5b7d-41e5-82c6-b799e98fdcdd",
   "metadata": {},
   "source": [
    "### Compare with Artifact \n",
    "'risk_factor.high_ldl_cholesterol.distribution' - just says \"ensemble\"\n",
    "\n",
    "'risk_factor.high_ldl_cholesterol.exposure'\n",
    "\n",
    "'risk_factor.high_ldl_cholesterol.exposure_standard_deviation'\n",
    "\n",
    "'risk_factor.high_ldl_cholesterol.exposure_distribution_weights'- weights of the ensemble dist\n",
    "\n",
    "'risk_factor.high_ldl_cholesterol.relative_risk'\n",
    "\n",
    "'risk_factor.high_ldl_cholesterol.population_attributable_fraction'\n",
    "\n",
    "'risk_factor.high_ldl_cholesterol.tmred' - GBD values, no testing\n",
    "\n",
    "'risk_factor.high_ldl_cholesterol.relative_risk_scalar' - this is just 1"
   ]
  },
  {
   "cell_type": "code",
   "execution_count": null,
   "id": "7593f0cb-f667-4eca-aaef-f718a827935e",
   "metadata": {},
   "outputs": [],
   "source": [
    "ldl_exp = load_artifact_data('risk_factor', 'high_ldl_cholesterol', 'exposure')\n",
    "ldl_exp['age_group'] = [f'{int(i)}_to_{int(j) - 1}' for (i,j) in zip(ldl_exp.age_start,ldl_exp.age_end)]\n",
    "ldl_exp.head()"
   ]
  },
  {
   "cell_type": "code",
   "execution_count": null,
   "id": "5c6211a0-7722-43a2-a127-02cb8d228770",
   "metadata": {},
   "outputs": [],
   "source": [
    "with PdfPages('ldlc_exposure_artifact_and_sim_model6.pdf') as pdf:\n",
    "    for sex in ldl_rate_summ.sex.unique():\n",
    "        plt.figure() \n",
    "        subdata = ldl_rate_summ.loc[(ldl_rate_summ.sex==sex) & (ldl_rate_summ.year==2040)]\n",
    "        plt.plot(subdata['age'], subdata['mean'], marker='o')\n",
    "        plt.fill_between(subdata['age'], subdata['2.5%'], subdata['97.5%'], alpha=.3)\n",
    "        subdata2 = ldl_exp.loc[(ldl_exp.sex==sex) & (ldl_exp.year_end==2020)]\n",
    "        plt.plot(subdata2['age_group'], subdata2['mean'], marker='o')\n",
    "        plt.fill_between(subdata2['age_group'], subdata2['2.5%'], subdata2['97.5%'], alpha=.3)\n",
    "        plt.title(f'LDL Exposure: {sex} in 2023') \n",
    "        plt.xticks(rotation=90) \n",
    "        #plt.ylim(0,100000)\n",
    "        plt.grid()\n",
    "        plt.legend(['Simulation baseline', 'Sim 95%', 'Artifact Baseline', 'Artifact 95%']) \n",
    "        pdf.savefig(bbox_inches='tight')"
   ]
  },
  {
   "cell_type": "markdown",
   "id": "b54f2e9b-e5f2-4f67-bc70-740bff07ba23",
   "metadata": {},
   "source": [
    "### High SBP Risk Factor Testing "
   ]
  },
  {
   "cell_type": "code",
   "execution_count": null,
   "id": "4cabc2c5-c975-4bac-92ba-c8f10f827c0b",
   "metadata": {},
   "outputs": [],
   "source": [
    "sbp = risk_exp.loc[risk_exp['risk']=='high_systolic_blood_pressure']\n",
    "sbp.head()"
   ]
  },
  {
   "cell_type": "code",
   "execution_count": null,
   "id": "c6d99420-8ca7-43a7-862b-b7f90ef16820",
   "metadata": {},
   "outputs": [],
   "source": [
    "sbp_summ = (sbp\n",
    "                .groupby(['age', 'sex', 'year'])\n",
    "                .value.describe(percentiles=[.025, .975])\n",
    "                .filter(['mean', '2.5%', '97.5%'])\n",
    "                .reset_index())\n",
    "#sbp_summ"
   ]
  },
  {
   "cell_type": "code",
   "execution_count": null,
   "id": "7be8d384-6384-440b-ba1a-452e5f401860",
   "metadata": {},
   "outputs": [],
   "source": [
    "%%capture\n",
    "for sex in sbp_summ.sex.unique():\n",
    "    for year in sbp_summ.year.unique():\n",
    "        plt.figure() \n",
    "        subdata = sbp_summ.loc[(sbp_summ.sex==sex) & (sbp_summ.year==year)]\n",
    "        plt.plot(subdata['age'], subdata['mean'], marker='o')\n",
    "        plt.fill_between(subdata['age'], subdata['2.5%'], subdata['97.5%'], alpha=.3)\n",
    "        plt.title(f'SBP Exposure: {sex} in {year}') \n",
    "        plt.xticks(rotation=90) \n",
    "        plt.grid()"
   ]
  },
  {
   "cell_type": "code",
   "execution_count": null,
   "id": "8d800de8-55a0-4637-9a2c-7d6106d8bc87",
   "metadata": {},
   "outputs": [],
   "source": [
    "#Some interesting patterns going on here - since it is not a rate I am not overly concerned but might be worth a look\n",
    "%%capture\n",
    "for sex in sbp_summ.sex.unique():\n",
    "    for age in sbp_summ.age.unique():\n",
    "        plt.figure() \n",
    "        subdata = sbp_summ.loc[(sbp_summ.sex==sex) & (sbp_summ.age==age)]\n",
    "        plt.plot(subdata['year'], subdata['mean'], marker='o')\n",
    "        plt.fill_between(subdata['year'], subdata['2.5%'], subdata['97.5%'], alpha=.3)\n",
    "        plt.title(f'SBP Exposure: {sex} in {age}') \n",
    "        plt.xticks(rotation=90) \n",
    "        plt.grid()"
   ]
  },
  {
   "cell_type": "code",
   "execution_count": null,
   "id": "b9a0e4e2-e86b-4e00-bd4c-830ab0e43c4b",
   "metadata": {},
   "outputs": [],
   "source": [
    "sbp_rate = sbp.groupby(['age','sex','year','input_draw']).value.sum().reset_index()\n",
    "sbp_rate = pd.concat([sbp_rate, per_time_group.ptvalue], axis=1)\n",
    "sbp_rate['ldl_rate'] = sbp_rate['value'] / sbp_rate['ptvalue']\n",
    "sbp_rate_summ = (sbp_rate\n",
    "                .groupby(['age', 'sex', 'year'])\n",
    "                .ldl_rate.describe(percentiles=[.025, .975])\n",
    "                .filter(['mean', '2.5%', '97.5%'])\n",
    "                .reset_index())\n",
    "sbp_rate_summ.head()"
   ]
  },
  {
   "cell_type": "code",
   "execution_count": null,
   "id": "75c8cb21-4573-4176-9fd5-4e0d8009b7dc",
   "metadata": {},
   "outputs": [],
   "source": [
    "%%capture\n",
    "for sex in sbp_rate_summ.sex.unique():\n",
    "    for year in sbp_rate_summ.year.unique():\n",
    "        plt.figure() \n",
    "        subdata = sbp_rate_summ.loc[(sbp_rate_summ.sex==sex) & (sbp_rate_summ.year==year)]\n",
    "        plt.plot(subdata['age'], subdata['mean'], marker='o')\n",
    "        plt.fill_between(subdata['age'], subdata['2.5%'], subdata['97.5%'], alpha=.3)\n",
    "        plt.title(f'SBP Exposure: {sex} in {year}') \n",
    "        plt.xticks(rotation=90) \n",
    "        plt.grid()"
   ]
  },
  {
   "cell_type": "code",
   "execution_count": null,
   "id": "5d1f7075-d4bd-46ff-b039-3212777f1e79",
   "metadata": {},
   "outputs": [],
   "source": [
    "#%%capture\n",
    "for sex in sbp_rate_summ.sex.unique():\n",
    "    for age in sbp_rate_summ.age.unique():\n",
    "        plt.figure() \n",
    "        subdata = sbp_rate_summ.loc[(sbp_rate_summ.sex==sex) & (sbp_rate_summ.age==age)]\n",
    "        plt.plot(subdata['year'], subdata['mean'], marker='o')\n",
    "        plt.fill_between(subdata['year'], subdata['2.5%'], subdata['97.5%'], alpha=.3)\n",
    "        plt.title(f'SBP Exposure: {sex} in {age}') \n",
    "        plt.xticks(rotation=90) \n",
    "        plt.grid()"
   ]
  },
  {
   "cell_type": "markdown",
   "id": "4bb6c997-e997-4ccc-8c2f-083b0452f1c5",
   "metadata": {},
   "source": [
    "Overall this is looking better than expected! There is a slight but definitive downward slope across ages, but not large. This is seen in incidence and prevalence of different causes. "
   ]
  },
  {
   "cell_type": "code",
   "execution_count": null,
   "id": "1a815866-18b3-4816-b084-0397b0e4e176",
   "metadata": {},
   "outputs": [],
   "source": [
    "sbp_exp = load_artifact_data('risk_factor', 'high_systolic_blood_pressure', 'exposure')\n",
    "sbp_exp['age_group'] = [f'{int(i)}_to_{int(j) - 1}' for (i,j) in zip(sbp_exp.age_start,sbp_exp.age_end)]\n",
    "sbp_exp.head()"
   ]
  },
  {
   "cell_type": "code",
   "execution_count": null,
   "id": "1a1f628f-fd37-47c6-a0ca-1f19f2dd50fe",
   "metadata": {},
   "outputs": [],
   "source": [
    "with PdfPages('sbp_exposure_artifact_and_sim_model6.pdf') as pdf:\n",
    "    for sex in sbp_rate_summ.sex.unique():\n",
    "        plt.figure() \n",
    "        subdata = sbp_rate_summ.loc[(sbp_rate_summ.sex==sex) & (sbp_rate_summ.year==2023)]\n",
    "        plt.plot(subdata['age'], subdata['mean'], marker='o')\n",
    "        plt.fill_between(subdata['age'], subdata['2.5%'], subdata['97.5%'], alpha=.3)\n",
    "        subdata2 = sbp_exp.loc[(sbp_exp.sex==sex) & (sbp_exp.year_end==2020)]\n",
    "        plt.plot(subdata2['age_group'], subdata2['mean'], marker='o')\n",
    "        plt.fill_between(subdata2['age_group'], subdata2['2.5%'], subdata2['97.5%'], alpha=.3)\n",
    "        plt.title(f'SBP Exposure: {sex} in 2023') \n",
    "        plt.xticks(rotation=90) \n",
    "        plt.grid()\n",
    "        plt.legend(['Simulation baseline', 'Sim 95%', 'Artifact Baseline', 'Artifact 95%']) \n",
    "        plt.ylabel('SBP value')\n",
    "        pdf.savefig(bbox_inches='tight')"
   ]
  },
  {
   "cell_type": "markdown",
   "id": "2653b003-4125-4837-a532-5dbf55405fce",
   "metadata": {},
   "source": [
    "Similar to the above - we see setting this to 2040 that the simulation exposure is significantly reduced from the artifact. \n",
    "\n",
    "Interestingly though, setting it to 2023 does not show a stunning different result. That indicates that the slope isn't bad, but something about initialization? "
   ]
  },
  {
   "cell_type": "markdown",
   "id": "7e642bc1-d6e5-4d6f-9c3e-8b5ccab927f1",
   "metadata": {},
   "source": [
    "## Healthcare Appointments"
   ]
  },
  {
   "cell_type": "markdown",
   "id": "3e0aa61b-3be4-42b9-bc7a-940301a5091e",
   "metadata": {},
   "source": [
    "### Background Visits Match with Artfifact"
   ]
  },
  {
   "cell_type": "code",
   "execution_count": null,
   "id": "2564663d-7319-4945-9375-b437d0d69efd",
   "metadata": {},
   "outputs": [],
   "source": [
    "visits = pd.read_csv(sim_results_dir + 'healthcare_visits.csv')\n",
    "visits.head()"
   ]
  },
  {
   "cell_type": "code",
   "execution_count": null,
   "id": "fce96bbe-5e06-4195-8417-7dc3922baefb",
   "metadata": {},
   "outputs": [],
   "source": [
    "screening_art = load_artifact_data('healthcare_entity', 'outpatient_visits', 'outpatient_envelope')\n",
    "screening_art['age_group'] = [f'{int(i)}_to_{int(j) - 1}' for (i,j) in zip(screening_art.age_start,screening_art.age_end)]\n",
    "screening_art.head()"
   ]
  },
  {
   "cell_type": "code",
   "execution_count": null,
   "id": "d0500b55-7dcb-4d9a-b8a6-39b700aa72e1",
   "metadata": {},
   "outputs": [],
   "source": [
    "screen = visits.loc[visits['visit_type']=='background'].reset_index()\n",
    "screen_rate = screen.merge(per_time_group[['ptvalue','sex','age','year','input_draw']], on=['sex','age','year','input_draw'])\n",
    "screen_rate['screen_rate'] = screen_rate['value'] / screen_rate['ptvalue']\n",
    "screen_rate_summ = (screen_rate\n",
    "                .groupby(['age', 'sex', 'year'])\n",
    "                .screen_rate.describe(percentiles=[.025, .975])\n",
    "                .filter(['mean', '2.5%', '97.5%'])\n",
    "                .reset_index())\n",
    "screen_rate_summ"
   ]
  },
  {
   "cell_type": "code",
   "execution_count": null,
   "id": "807cc2b7-b338-4fa7-ac74-0e5dea907320",
   "metadata": {},
   "outputs": [],
   "source": [
    "%%capture\n",
    "for sex in screen_rate_summ.sex.unique():\n",
    "    for year in screen_rate_summ.year.unique():\n",
    "        plt.figure() \n",
    "        subdata = screen_rate_summ.loc[(screen_rate_summ.sex==sex) & (screen_rate_summ.year==year)]\n",
    "        plt.plot(subdata['age'], subdata['mean'], marker='o')\n",
    "        plt.fill_between(subdata['age'], subdata['2.5%'], subdata['97.5%'], alpha=.3)\n",
    "        plt.title(f'Screening Visits: {sex} in {year}') \n",
    "        plt.xticks(rotation=90) \n",
    "        plt.grid()"
   ]
  },
  {
   "cell_type": "code",
   "execution_count": null,
   "id": "51383ad4-f29d-471d-8a13-f00dce423de3",
   "metadata": {},
   "outputs": [],
   "source": [
    "%%capture\n",
    "for sex in screen_rate_summ.sex.unique():\n",
    "    for age in screen_rate_summ.age.unique():\n",
    "        plt.figure() \n",
    "        subdata = screen_rate_summ.loc[(screen_rate_summ.sex==sex) & (screen_rate_summ.age==age)]\n",
    "        plt.plot(subdata['year'], subdata['mean'], marker='o')\n",
    "        plt.fill_between(subdata['year'], subdata['2.5%'], subdata['97.5%'], alpha=.3)\n",
    "        plt.title(f'Screening Visits: {sex} in {age}') \n",
    "        plt.xticks(rotation=90) \n",
    "        plt.grid()"
   ]
  },
  {
   "cell_type": "markdown",
   "id": "934f1376-a63e-4fab-aa7b-9982f5756fa4",
   "metadata": {},
   "source": [
    "Since the year over year is looking better than I expected, I think sum over years and compare with the artifact"
   ]
  },
  {
   "cell_type": "code",
   "execution_count": null,
   "id": "8b76344c-9ee5-45c2-b237-b047e4b4d592",
   "metadata": {},
   "outputs": [],
   "source": [
    "screen_rate_summ_allyear = (screen_rate\n",
    "                .groupby(['age', 'sex'])\n",
    "                .screen_rate.describe(percentiles=[.025, .975])\n",
    "                .filter(['mean', '2.5%', '97.5%'])\n",
    "                .reset_index())\n",
    "screen_rate_summ_allyear"
   ]
  },
  {
   "cell_type": "code",
   "execution_count": null,
   "id": "edb35985-50bf-4d25-be2a-66bf4177295e",
   "metadata": {},
   "outputs": [],
   "source": [
    "for sex in screen_rate_summ_allyear.sex.unique():\n",
    "    plt.figure() \n",
    "    subdata = screen_rate_summ_allyear.loc[(screen_rate_summ_allyear.sex==sex)]\n",
    "    plt.plot(subdata['age'], subdata['mean'], marker='o')\n",
    "    plt.fill_between(subdata['age'], subdata['2.5%'], subdata['97.5%'], alpha=.3)\n",
    "    subdata2 = screening_art.loc[(screening_art.sex==sex)]\n",
    "    plt.plot(subdata2['age_group'], subdata2['mean'], marker='o')\n",
    "    plt.fill_between(subdata2['age_group'], subdata2['2.5%'], subdata2['97.5%'], alpha=.3)\n",
    "    plt.title(f'Screening Visits: {sex}') \n",
    "    plt.xticks(rotation=90) \n",
    "    plt.legend(['Simulation baseline', 'Sim 95%', 'Artifact Baseline', 'Artifact 95%'])     \n",
    "    plt.grid()"
   ]
  },
  {
   "cell_type": "code",
   "execution_count": null,
   "id": "359efb67-991b-4658-ac87-1330faf58abe",
   "metadata": {},
   "outputs": [],
   "source": [
    "screen_rate_2023 = screen_rate_summ.loc[screen_rate_summ['year']==2023].reset_index()"
   ]
  },
  {
   "cell_type": "code",
   "execution_count": null,
   "id": "04cb678b-2c7f-4768-a181-2e17538cb596",
   "metadata": {},
   "outputs": [],
   "source": [
    "for sex in screen_rate_2023.sex.unique():\n",
    "    plt.figure() \n",
    "    subdata = screen_rate_2023.loc[(screen_rate_2023.sex==sex)]\n",
    "    plt.plot(subdata['age'], subdata['mean'], marker='o')\n",
    "    plt.fill_between(subdata['age'], subdata['2.5%'], subdata['97.5%'], alpha=.3)\n",
    "    subdata2 = screening_art.loc[(screening_art.sex==sex)]\n",
    "    plt.plot(subdata2['age_group'], subdata2['mean'], marker='o')\n",
    "    plt.fill_between(subdata2['age_group'], subdata2['2.5%'], subdata2['97.5%'], alpha=.3)\n",
    "    plt.title(f'Screening Visits: {sex}') \n",
    "    plt.xticks(rotation=90) \n",
    "    plt.legend(['Simulation baseline', 'Sim 95%', 'Artifact Baseline', 'Artifact 95%'])     \n",
    "    plt.grid()"
   ]
  },
  {
   "cell_type": "markdown",
   "id": "ee2ec7de-b47e-4ce3-9e6c-6ade9c6336cb",
   "metadata": {},
   "source": [
    "This is chronically low. My guess is because follow-up appointments take priority and so there is less opportunity for a screening that the math would indicate. "
   ]
  },
  {
   "cell_type": "markdown",
   "id": "5e730fa9-2c5e-4355-9b79-a5cc9233f501",
   "metadata": {},
   "source": [
    "### Emergency Visits Match Incidence"
   ]
  },
  {
   "cell_type": "code",
   "execution_count": null,
   "id": "bd4e70ed-e2b9-497a-8392-f39850dd842a",
   "metadata": {},
   "outputs": [],
   "source": [
    "emg = visits.loc[visits['visit_type']=='emergency'].reset_index()\n",
    "emg_rate = emg.merge(per_time_group[['ptvalue','sex','age','year','input_draw']], on=['sex','age','year','input_draw'])\n",
    "emg_rate['emg_rate'] = emg_rate['value'] / emg_rate['ptvalue']\n",
    "emg_rate_summ = (emg_rate\n",
    "                .groupby(['age', 'sex', 'year'])\n",
    "                .emg_rate.describe(percentiles=[.025, .975])\n",
    "                .filter(['mean', '2.5%', '97.5%'])\n",
    "                .reset_index())\n",
    "emg_rate_summ"
   ]
  },
  {
   "cell_type": "code",
   "execution_count": null,
   "id": "8c9f03da-222d-444b-9361-a577a2afca54",
   "metadata": {},
   "outputs": [],
   "source": [
    "inc_rate = tran.groupby(['age', 'sex', 'year', 'transition', 'input_draw']).value.sum().reset_index()\n",
    "inc_rate = inc_rate.loc[(inc_rate['transition'].isin(['myocardial_infarction_susceptible_to_myocardial_infarction_to_acute_myocardial_infarction','myocardial_infarction_post_myocardial_infarction_to_acute_myocardial_infarction','ischemic_stroke_susceptible_to_ischemic_stroke_to_acute_ischemic_stroke','ischemic_stroke_chronic_ischemic_stroke_to_acute_ischemic_stroke']))].reset_index()\n",
    "inc_rate = inc_rate.groupby(['age', 'sex', 'year', 'input_draw']).value.sum().reset_index()\n",
    "inc_rate = pd.concat([inc_rate, per_time_group.ptvalue], axis=1)\n",
    "inc_rate['rate']= inc_rate['value'] / inc_rate['ptvalue']\n",
    "inc_rate_summ = (inc_rate\n",
    "                 .groupby(['age', 'sex', 'year'])\n",
    "                 .rate.describe(percentiles=[.025, .975])\n",
    "                 .filter(['mean', '2.5%', '97.5%'])\n",
    "                 .reset_index())\n",
    "\n",
    "inc_rate_summ.head()"
   ]
  },
  {
   "cell_type": "code",
   "execution_count": null,
   "id": "cdc2785c-93c8-4c44-a6fa-c2461aceb10c",
   "metadata": {},
   "outputs": [],
   "source": [
    "%%capture\n",
    "for sex in emg_rate_summ.sex.unique():\n",
    "    for year in emg_rate_summ.year.unique():\n",
    "        plt.figure() \n",
    "        subdata = emg_rate_summ.loc[(emg_rate_summ.sex==sex) & (emg_rate_summ.year==year)]\n",
    "        plt.plot(subdata['age'], subdata['mean'], marker='o')\n",
    "        plt.fill_between(subdata['age'], subdata['2.5%'], subdata['97.5%'], alpha=.3)\n",
    "        subdata2 = inc_rate_summ.loc[(inc_rate_summ.sex==sex) & (inc_rate_summ.year==year)]\n",
    "        plt.plot(subdata2['age'], subdata2['mean'], marker='o')\n",
    "        plt.fill_between(subdata2['age'], subdata2['2.5%'], subdata2['97.5%'], alpha=.3)\n",
    "        plt.title(f'Emergency Visits Compared with Incidence of MI and Stroke: {sex} in {year}') \n",
    "        plt.xticks(rotation=90) \n",
    "        plt.legend(['Emergency Visits baseline', 'Sim 95%', 'Incidence of MI and Stroke', '95%'])\n",
    "        plt.grid()"
   ]
  },
  {
   "cell_type": "markdown",
   "id": "ff6c6bdb-6e6d-407e-8997-ef0bd6904722",
   "metadata": {},
   "source": [
    "### Look at Follow-ups "
   ]
  },
  {
   "cell_type": "code",
   "execution_count": null,
   "id": "0adb97f5-61a2-414d-b18e-6b794151570a",
   "metadata": {},
   "outputs": [],
   "source": [
    "followup = visits.loc[visits['visit_type']=='scheduled'].reset_index()\n",
    "followup_rate = followup.merge(per_time_group[['ptvalue','sex','age','year','input_draw']], on=['sex','age','year','input_draw'])\n",
    "followup_rate['followup_rate'] = followup_rate['value'] / followup_rate['ptvalue']\n",
    "followup_rate_summ = (followup_rate\n",
    "                .groupby(['age', 'sex', 'year'])\n",
    "                .followup_rate.describe(percentiles=[.025, .975])\n",
    "                .filter(['mean', '2.5%', '97.5%'])\n",
    "                .reset_index())\n",
    "followup_rate_summ"
   ]
  },
  {
   "cell_type": "code",
   "execution_count": null,
   "id": "f048f5b9-cd26-4a79-aa41-611842fbf405",
   "metadata": {},
   "outputs": [],
   "source": [
    "%%capture\n",
    "for sex in followup_rate_summ.sex.unique():\n",
    "    for year in followup_rate_summ.year.unique():\n",
    "        plt.figure() \n",
    "        subdata = followup_rate_summ.loc[(followup_rate_summ.sex==sex) & (followup_rate_summ.year==year)]\n",
    "        plt.plot(subdata['age'], subdata['mean'], marker='o')\n",
    "        plt.fill_between(subdata['age'], subdata['2.5%'], subdata['97.5%'], alpha=.3)\n",
    "        plt.title(f'Follow-up Visits: {sex} in {year}') \n",
    "        plt.xticks(rotation=90) \n",
    "        plt.grid()"
   ]
  },
  {
   "cell_type": "code",
   "execution_count": null,
   "id": "6c1eb992-6828-458f-9dbc-6c8fe0100c5d",
   "metadata": {},
   "outputs": [],
   "source": [
    "%%capture\n",
    "for sex in followup_rate_summ.sex.unique():\n",
    "    for age in followup_rate_summ.age.unique():\n",
    "        plt.figure() \n",
    "        subdata = followup_rate_summ.loc[(followup_rate_summ.sex==sex) & (followup_rate_summ.age==age)]\n",
    "        plt.plot(subdata['year'], subdata['mean'], marker='o')\n",
    "        plt.fill_between(subdata['year'], subdata['2.5%'], subdata['97.5%'], alpha=.3)\n",
    "        plt.title(f'Follow-up Visits: {sex} in {age}') \n",
    "        plt.xticks(rotation=90) \n",
    "        plt.grid()"
   ]
  },
  {
   "cell_type": "markdown",
   "id": "04ac2bc7-2f81-4343-a369-7b7398a22762",
   "metadata": {},
   "source": [
    "Follow-up visits decrease over time for younger groups. Why is this? Lost to follow-up by missed appointments I suppose? "
   ]
  },
  {
   "cell_type": "markdown",
   "id": "68d3ca7e-e613-453b-8970-554ebcf05bb9",
   "metadata": {},
   "source": [
    "## SBP Medications"
   ]
  },
  {
   "cell_type": "code",
   "execution_count": null,
   "id": "5d996177-e07d-482d-8048-a6238ca08c55",
   "metadata": {},
   "outputs": [],
   "source": [
    "meds = pd.read_csv(sim_results_dir + 'sbp_medication_person_time.csv')\n",
    "meds.head()"
   ]
  },
  {
   "cell_type": "code",
   "execution_count": null,
   "id": "f392e1df-143a-4173-b78f-fdd85f2e212d",
   "metadata": {},
   "outputs": [],
   "source": [
    "meds_adherent = meds.loc[meds['medication_adherence_level']=='adherent'].reset_index()\n",
    "meds_adherent_rate = meds_adherent.merge(per_time_group[['ptvalue','sex','age','year','input_draw']], on=['sex','age','year','input_draw'])\n",
    "meds_adherent_rate['meds_adherent_rate'] = meds_adherent_rate['value'] / meds_adherent_rate['ptvalue']\n",
    "meds_adherent_rate_summ = (meds_adherent_rate\n",
    "                .groupby(['age', 'sex', 'year', 'sbp_medication'])\n",
    "                .meds_adherent_rate.describe(percentiles=[.025, .975])\n",
    "                .filter(['mean', '2.5%', '97.5%'])\n",
    "                .reset_index())\n",
    "meds_adherent_rate_summ"
   ]
  },
  {
   "cell_type": "code",
   "execution_count": null,
   "id": "76bddfe5-2922-49ae-b76f-23433bed414c",
   "metadata": {},
   "outputs": [],
   "source": [
    "%%capture\n",
    "for sex in meds_adherent_rate_summ.sex.unique():\n",
    "    for age in meds_adherent_rate_summ.age.unique():\n",
    "        plt.figure() \n",
    "        no_trt = meds_adherent_rate_summ.loc[(meds_adherent_rate_summ.sex==sex) & (meds_adherent_rate_summ.age==age) & (meds_adherent_rate_summ.sbp_medication=='no_treatment')]\n",
    "        plt.plot(no_trt['year'], no_trt['mean'], marker='o')\n",
    "        plt.fill_between(no_trt['year'], no_trt['2.5%'], no_trt['97.5%'], alpha=.3)\n",
    "        one_half = meds_adherent_rate_summ.loc[(meds_adherent_rate_summ.sex==sex) & (meds_adherent_rate_summ.age==age) & (meds_adherent_rate_summ.sbp_medication=='one_drug_half_dose_efficacy')]\n",
    "        plt.plot(one_half['year'], one_half['mean'], marker='o')\n",
    "        plt.fill_between(one_half['year'], one_half['2.5%'], one_half['97.5%'], alpha=.3)\n",
    "        one_std = meds_adherent_rate_summ.loc[(meds_adherent_rate_summ.sex==sex) & (meds_adherent_rate_summ.age==age) & (meds_adherent_rate_summ.sbp_medication=='one_drug_std_dose_efficacy')]\n",
    "        plt.plot(one_std['year'], one_std['mean'], marker='o')\n",
    "        plt.fill_between(one_std['year'], one_std['2.5%'], one_std['97.5%'], alpha=.3)\n",
    "        two_half = meds_adherent_rate_summ.loc[(meds_adherent_rate_summ.sex==sex) & (meds_adherent_rate_summ.age==age) & (meds_adherent_rate_summ.sbp_medication=='two_drug_half_dose_efficacy')]\n",
    "        plt.plot(two_half['year'], two_half['mean'], marker='o')\n",
    "        plt.fill_between(two_half['year'], two_half['2.5%'], two_half['97.5%'], alpha=.3)\n",
    "        two_std = meds_adherent_rate_summ.loc[(meds_adherent_rate_summ.sex==sex) & (meds_adherent_rate_summ.age==age) & (meds_adherent_rate_summ.sbp_medication=='two_drug_std_dose_efficacy')]\n",
    "        plt.plot(two_std['year'], two_std['mean'], marker='o')\n",
    "        plt.fill_between(two_std['year'], two_std['2.5%'], two_std['97.5%'], alpha=.3)\n",
    "        three_half = meds_adherent_rate_summ.loc[(meds_adherent_rate_summ.sex==sex) & (meds_adherent_rate_summ.age==age) & (meds_adherent_rate_summ.sbp_medication=='three_drug_half_dose_efficacy')]\n",
    "        plt.plot(three_half['year'], three_half['mean'], marker='o')\n",
    "        plt.fill_between(three_half['year'], three_half['2.5%'], three_half['97.5%'], alpha=.3)\n",
    "        three_std = meds_adherent_rate_summ.loc[(meds_adherent_rate_summ.sex==sex) & (meds_adherent_rate_summ.age==age) & (meds_adherent_rate_summ.sbp_medication=='three_drug_std_dose_efficacy')]\n",
    "        plt.plot(three_std['year'], three_std['mean'], marker='o')\n",
    "        plt.fill_between(three_std['year'], three_std['2.5%'], three_std['97.5%'], alpha=.3)\n",
    "        plt.title(f'Medications: {sex} in {age}') \n",
    "        plt.xticks(rotation=90)\n",
    "        plt.legend(['No Treatment', '95%', 'One Drug at Half Dose', '95%', 'One Drug at Std Dose','95%','Two Drug at Half Dose', '95%','Two Drug at Std Dose', '95%','Three Drug at Half Dose', '95%','Three Drug at Std Dose', '95%'],loc='center left', bbox_to_anchor=(1, 0.5))\n",
    "        plt.grid()"
   ]
  },
  {
   "cell_type": "code",
   "execution_count": null,
   "id": "ebc78d7d-2d4e-44ab-8e90-fc1dcdd22e8a",
   "metadata": {},
   "outputs": [],
   "source": [
    "%%capture\n",
    "for sex in meds_adherent_rate_summ.sex.unique():\n",
    "    for year in meds_adherent_rate_summ.year.unique():\n",
    "        plt.figure() \n",
    "        no_trt = meds_adherent_rate_summ.loc[(meds_adherent_rate_summ.sex==sex) & (meds_adherent_rate_summ.year==year) & (meds_adherent_rate_summ.sbp_medication=='no_treatment')]\n",
    "        plt.plot(no_trt['age'], no_trt['mean'], marker='o')\n",
    "        plt.fill_between(no_trt['age'], no_trt['2.5%'], no_trt['97.5%'], alpha=.3)\n",
    "        one_half = meds_adherent_rate_summ.loc[(meds_adherent_rate_summ.sex==sex) & (meds_adherent_rate_summ.year==year) & (meds_adherent_rate_summ.sbp_medication=='one_drug_half_dose_efficacy')]\n",
    "        plt.plot(one_half['age'], one_half['mean'], marker='o')\n",
    "        plt.fill_between(one_half['age'], one_half['2.5%'], one_half['97.5%'], alpha=.3)\n",
    "        one_std = meds_adherent_rate_summ.loc[(meds_adherent_rate_summ.sex==sex) & (meds_adherent_rate_summ.year==year) & (meds_adherent_rate_summ.sbp_medication=='one_drug_std_dose_efficacy')]\n",
    "        plt.plot(one_std['age'], one_std['mean'], marker='o')\n",
    "        plt.fill_between(one_std['age'], one_std['2.5%'], one_std['97.5%'], alpha=.3)\n",
    "        two_half = meds_adherent_rate_summ.loc[(meds_adherent_rate_summ.sex==sex) & (meds_adherent_rate_summ.year==year) & (meds_adherent_rate_summ.sbp_medication=='two_drug_half_dose_efficacy')]\n",
    "        plt.plot(two_half['age'], two_half['mean'], marker='o')\n",
    "        plt.fill_between(two_half['age'], two_half['2.5%'], two_half['97.5%'], alpha=.3)\n",
    "        two_std = meds_adherent_rate_summ.loc[(meds_adherent_rate_summ.sex==sex) & (meds_adherent_rate_summ.year==year) & (meds_adherent_rate_summ.sbp_medication=='two_drug_std_dose_efficacy')]\n",
    "        plt.plot(two_std['age'], two_std['mean'], marker='o')\n",
    "        plt.fill_between(two_std['age'], two_std['2.5%'], two_std['97.5%'], alpha=.3)\n",
    "        three_half = meds_adherent_rate_summ.loc[(meds_adherent_rate_summ.sex==sex) & (meds_adherent_rate_summ.year==year) & (meds_adherent_rate_summ.sbp_medication=='three_drug_half_dose_efficacy')]\n",
    "        plt.plot(three_half['age'], three_half['mean'], marker='o')\n",
    "        plt.fill_between(three_half['age'], three_half['2.5%'], three_half['97.5%'], alpha=.3)\n",
    "        three_std = meds_adherent_rate_summ.loc[(meds_adherent_rate_summ.sex==sex) & (meds_adherent_rate_summ.year==year) & (meds_adherent_rate_summ.sbp_medication=='three_drug_std_dose_efficacy')]\n",
    "        plt.plot(three_std['age'], three_std['mean'], marker='o')\n",
    "        plt.fill_between(three_std['age'], three_std['2.5%'], three_std['97.5%'], alpha=.3)\n",
    "        plt.title(f'Medications: {sex} in {year}') \n",
    "        plt.xticks(rotation=90)\n",
    "        plt.legend(['No Treatment', '95%', 'One Drug at Half Dose', '95%', 'One Drug at Std Dose','95%','Two Drug at Half Dose', '95%','Two Drug at Std Dose', '95%','Three Drug at Half Dose', '95%','Three Drug at Std Dose', '95%'],loc='center left', bbox_to_anchor=(1, 0.5))\n",
    "        plt.grid()"
   ]
  },
  {
   "cell_type": "markdown",
   "id": "863d5943-6830-4b81-b46e-eab4a6f2caa3",
   "metadata": {},
   "source": [
    "## LDL-C Medications"
   ]
  },
  {
   "cell_type": "code",
   "execution_count": null,
   "id": "c5263daa-4aff-4e63-92ab-5e4fcbb79a86",
   "metadata": {},
   "outputs": [],
   "source": [
    "ldl_meds = pd.read_csv(sim_results_dir + 'ldlc_medication_person_time.csv')\n",
    "ldl_meds.head()"
   ]
  },
  {
   "cell_type": "code",
   "execution_count": null,
   "id": "7a2252ce-d6c9-4b77-bda4-ec5532e9818e",
   "metadata": {},
   "outputs": [],
   "source": [
    "meds_adherent = ldl_meds.loc[ldl_meds['medication_adherence_level']=='adherent'].reset_index()\n",
    "meds_adherent_rate = meds_adherent.merge(per_time_group[['ptvalue','sex','age','year','input_draw']], on=['sex','age','year','input_draw'])\n",
    "meds_adherent_rate['meds_adherent_rate'] = meds_adherent_rate['value'] / meds_adherent_rate['ptvalue']\n",
    "meds_adherent_rate_summ = (meds_adherent_rate\n",
    "                .groupby(['age', 'sex', 'year', 'ldlc_medication'])\n",
    "                .meds_adherent_rate.describe(percentiles=[.025, .975])\n",
    "                .filter(['mean', '2.5%', '97.5%'])\n",
    "                .reset_index())\n",
    "meds_adherent_rate_summ"
   ]
  },
  {
   "cell_type": "code",
   "execution_count": null,
   "id": "ec8f473b-29b0-4ea6-9325-fbaf38d37e46",
   "metadata": {},
   "outputs": [],
   "source": [
    "#%%capture\n",
    "for sex in meds_adherent_rate_summ.sex.unique():\n",
    "    for age in meds_adherent_rate_summ.age.unique():\n",
    "        plt.figure() \n",
    "        no_trt = meds_adherent_rate_summ.loc[(meds_adherent_rate_summ.sex==sex) & (meds_adherent_rate_summ.age==age) & (meds_adherent_rate_summ.ldlc_medication=='no_treatment')]\n",
    "        plt.plot(no_trt['year'], no_trt['mean'], marker='o')\n",
    "        plt.fill_between(no_trt['year'], no_trt['2.5%'], no_trt['97.5%'], alpha=.3)\n",
    "        one_half = meds_adherent_rate_summ.loc[(meds_adherent_rate_summ.sex==sex) & (meds_adherent_rate_summ.age==age) & (meds_adherent_rate_summ.ldlc_medication=='low_intensity')]\n",
    "        plt.plot(one_half['year'], one_half['mean'], marker='o')\n",
    "        plt.fill_between(one_half['year'], one_half['2.5%'], one_half['97.5%'], alpha=.3)\n",
    "        one_std = meds_adherent_rate_summ.loc[(meds_adherent_rate_summ.sex==sex) & (meds_adherent_rate_summ.age==age) & (meds_adherent_rate_summ.ldlc_medication=='medium_intensity')]\n",
    "        plt.plot(one_std['year'], one_std['mean'], marker='o')\n",
    "        plt.fill_between(one_std['year'], one_std['2.5%'], one_std['97.5%'], alpha=.3)\n",
    "        two_half = meds_adherent_rate_summ.loc[(meds_adherent_rate_summ.sex==sex) & (meds_adherent_rate_summ.age==age) & (meds_adherent_rate_summ.ldlc_medication=='high_intensity')]\n",
    "        plt.plot(two_half['year'], two_half['mean'], marker='o')\n",
    "        plt.fill_between(two_half['year'], two_half['2.5%'], two_half['97.5%'], alpha=.3)\n",
    "        two_std = meds_adherent_rate_summ.loc[(meds_adherent_rate_summ.sex==sex) & (meds_adherent_rate_summ.age==age) & (meds_adherent_rate_summ.ldlc_medication=='low_med_with_eze')]\n",
    "        plt.plot(two_std['year'], two_std['mean'], marker='o')\n",
    "        plt.fill_between(two_std['year'], two_std['2.5%'], two_std['97.5%'], alpha=.3)\n",
    "        three_half = meds_adherent_rate_summ.loc[(meds_adherent_rate_summ.sex==sex) & (meds_adherent_rate_summ.age==age) & (meds_adherent_rate_summ.ldlc_medication=='high_with_eze')]\n",
    "        plt.plot(three_half['year'], three_half['mean'], marker='o')\n",
    "        plt.fill_between(three_half['year'], three_half['2.5%'], three_half['97.5%'], alpha=.3)\n",
    "        plt.title(f'Medications: {sex} in {age}') \n",
    "        plt.xticks(rotation=90)\n",
    "        plt.legend(['No Treatment', '95%', 'Low Intensity', '95%', 'Medium Intensity','95%','High Intensity', '95%','Low/Med Intensity with Eze', '95%','High Intensity with Eze', '95%'],loc='center left', bbox_to_anchor=(1, 0.5))\n",
    "        plt.grid()"
   ]
  },
  {
   "cell_type": "code",
   "execution_count": null,
   "id": "65b635e9-8034-494e-a564-1764aef72c46",
   "metadata": {},
   "outputs": [],
   "source": [
    "#%%capture\n",
    "for sex in meds_adherent_rate_summ.sex.unique():\n",
    "    for year in meds_adherent_rate_summ.year.unique():\n",
    "        plt.figure() \n",
    "        no_trt = meds_adherent_rate_summ.loc[(meds_adherent_rate_summ.sex==sex) & (meds_adherent_rate_summ.year==year) & (meds_adherent_rate_summ.ldlc_medication=='no_treatment')]\n",
    "        plt.plot(no_trt['age'], no_trt['mean'], marker='o')\n",
    "        plt.fill_between(no_trt['age'], no_trt['2.5%'], no_trt['97.5%'], alpha=.3)\n",
    "        one_half = meds_adherent_rate_summ.loc[(meds_adherent_rate_summ.sex==sex) & (meds_adherent_rate_summ.year==year) & (meds_adherent_rate_summ.ldlc_medication=='low_intensity')]\n",
    "        plt.plot(one_half['age'], one_half['mean'], marker='o')\n",
    "        plt.fill_between(one_half['age'], one_half['2.5%'], one_half['97.5%'], alpha=.3)\n",
    "        one_std = meds_adherent_rate_summ.loc[(meds_adherent_rate_summ.sex==sex) & (meds_adherent_rate_summ.year==year) & (meds_adherent_rate_summ.ldlc_medication=='medium_intensity')]\n",
    "        plt.plot(one_std['age'], one_std['mean'], marker='o')\n",
    "        plt.fill_between(one_std['age'], one_std['2.5%'], one_std['97.5%'], alpha=.3)\n",
    "        two_half = meds_adherent_rate_summ.loc[(meds_adherent_rate_summ.sex==sex) & (meds_adherent_rate_summ.year==year) & (meds_adherent_rate_summ.ldlc_medication=='high_intensity')]\n",
    "        plt.plot(two_half['age'], two_half['mean'], marker='o')\n",
    "        plt.fill_between(two_half['age'], two_half['2.5%'], two_half['97.5%'], alpha=.3)\n",
    "        two_std = meds_adherent_rate_summ.loc[(meds_adherent_rate_summ.sex==sex) & (meds_adherent_rate_summ.year==year) & (meds_adherent_rate_summ.ldlc_medication=='low_med_with_eze')]\n",
    "        plt.plot(two_std['age'], two_std['mean'], marker='o')\n",
    "        plt.fill_between(two_std['age'], two_std['2.5%'], two_std['97.5%'], alpha=.3)\n",
    "        three_half = meds_adherent_rate_summ.loc[(meds_adherent_rate_summ.sex==sex) & (meds_adherent_rate_summ.year==year) & (meds_adherent_rate_summ.ldlc_medication=='high_with_eze')]\n",
    "        plt.plot(three_half['age'], three_half['mean'], marker='o')\n",
    "        plt.fill_between(three_half['age'], three_half['2.5%'], three_half['97.5%'], alpha=.3)\n",
    "        plt.title(f'Medications: {sex} in {year}') \n",
    "        plt.xticks(rotation=90)\n",
    "        plt.legend(['No Treatment', '95%', 'Low Intensity', '95%', 'Medium Intensity','95%','High Intensity', '95%','Low/Med Intensity with Eze', '95%','High Intensity with Eze', '95%'],loc='center left', bbox_to_anchor=(1, 0.5))\n",
    "        plt.grid()"
   ]
  },
  {
   "cell_type": "code",
   "execution_count": null,
   "id": "06041995-cb63-4028-bbb6-c3222ccbe273",
   "metadata": {},
   "outputs": [],
   "source": []
  },
  {
   "cell_type": "code",
   "execution_count": null,
   "id": "12e7da90-1878-477b-8b1c-514c99b3326b",
   "metadata": {},
   "outputs": [],
   "source": []
  }
 ],
 "metadata": {
  "kernelspec": {
   "display_name": "Python 3 (ipykernel)",
   "language": "python",
   "name": "python3"
  },
  "language_info": {
   "codemirror_mode": {
    "name": "ipython",
    "version": 3
   },
   "file_extension": ".py",
   "mimetype": "text/x-python",
   "name": "python",
   "nbconvert_exporter": "python",
   "pygments_lexer": "ipython3",
   "version": "3.8.13"
  }
 },
 "nbformat": 4,
 "nbformat_minor": 5
}
