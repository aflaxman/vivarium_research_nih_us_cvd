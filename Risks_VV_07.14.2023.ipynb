{
 "cells": [
  {
   "cell_type": "markdown",
   "id": "d495a449-fceb-4ebd-945e-3832cb447616",
   "metadata": {},
   "source": [
    "### Loading Packages and Data"
   ]
  },
  {
   "cell_type": "code",
   "execution_count": 1,
   "id": "cd3d6483-2cb2-49a5-a8a1-19b34851e8e5",
   "metadata": {
    "tags": []
   },
   "outputs": [],
   "source": [
    "%matplotlib inline\n",
    "import matplotlib.pyplot as plt\n",
    "import numpy as np\n",
    "import pandas as pd\n",
    "pd.set_option('display.max_rows', 8)\n",
    "\n",
    "#import xarray as xr\n",
    "import warnings\n",
    "warnings.filterwarnings('ignore')\n",
    "from matplotlib.backends.backend_pdf import PdfPages\n",
    "\n",
    "from db_queries import get_outputs as go\n",
    "from db_queries import get_ids\n",
    "from get_draws.api import get_draws"
   ]
  },
  {
   "cell_type": "code",
   "execution_count": 2,
   "id": "836af9e8-96d1-458f-848b-ca8de78678ae",
   "metadata": {
    "tags": []
   },
   "outputs": [],
   "source": [
    "ls /mnt/team/simulation_science/priv/engineering/vivarium_nih_us_cvd/no_upper_exposure_limits/alabama/2023_07_13_10_32_43/count_data"
   ]
  },
  {
   "cell_type": "code",
   "execution_count": 3,
   "id": "535b5cea-d455-4dd7-ad39-9b67b4e2bd22",
   "metadata": {},
   "outputs": [],
   "source": [
    "sim_results_dir = '/mnt/team/simulation_science/priv/engineering/vivarium_nih_us_cvd/no_upper_exposure_limits/alabama/2023_07_13_10_32_43/count_data'"
   ]
  },
  {
   "cell_type": "markdown",
   "id": "ab3edd18-0f87-42ec-83e1-bcaefda5dde7",
   "metadata": {},
   "source": [
    "## Checking Stability of Risks over Time"
   ]
  },
  {
   "cell_type": "code",
   "execution_count": 4,
   "id": "809644b4-e08c-4104-859b-0c53076eb503",
   "metadata": {},
   "outputs": [],
   "source": [
    "state_person_time = pd.read_csv(sim_results_dir + '/state_person_time.csv')\n",
    "person_time = state_person_time.loc[state_person_time['state'].isin([\"ischemic_stroke_acute_ischemic_stroke\", \"ischemic_stroke_chronic_ischemic_stroke\", \"ischemic_stroke_susceptible_to_ischemic_stroke\"])].reset_index() \n",
    "person_time = person_time.loc[person_time.scenario == 'baseline']\n",
    "person_time = person_time.rename(columns = {'value':'ptvalue'})\n",
    "per_time_group = person_time.groupby(['age', 'sex', 'year','input_draw']).ptvalue.sum().reset_index()\n",
    "per_time_group.head()"
   ]
  },
  {
   "cell_type": "code",
   "execution_count": 5,
   "id": "fb089704-768c-42a4-9a34-ba5d23cc9b61",
   "metadata": {},
   "outputs": [],
   "source": [
    "%%capture\n",
    "for sex in per_time_group.sex.unique():\n",
    "    for age in per_time_group.age.unique():\n",
    "        plt.figure() \n",
    "        subdata = per_time_group.loc[(per_time_group.sex==sex) & (per_time_group.age==age)]\n",
    "        plt.plot(subdata['year'], subdata['ptvalue'], marker='o')\n",
    "        #plt.fill_between(subdata['year'], subdata['2.5%'], subdata['97.5%'], alpha=.3)\n",
    "        plt.title(f'Person Time: {sex} in {age}') \n",
    "        plt.xticks(rotation=90) \n",
    "        #plt.ylim(0,300000)\n",
    "        plt.grid()"
   ]
  },
  {
   "cell_type": "markdown",
   "id": "1296263c-f950-4200-8109-bd7d089d8874",
   "metadata": {},
   "source": [
    "### BMI"
   ]
  },
  {
   "cell_type": "code",
   "execution_count": 6,
   "id": "a371a89a-7de9-475f-a6fd-1ce258b5213d",
   "metadata": {},
   "outputs": [],
   "source": [
    "risk_exp = pd.read_csv(sim_results_dir + '/risk_exposure_time.csv')\n",
    "risk_exp.head()"
   ]
  },
  {
   "cell_type": "code",
   "execution_count": 7,
   "id": "bf0332c3-ae3a-41e0-baca-6feb388b97c3",
   "metadata": {},
   "outputs": [],
   "source": [
    "bmi_exp = risk_exp.loc[(risk_exp['risk']=='high_body_mass_index_in_adults') & (risk_exp['scenario']=='baseline')]\n",
    "bmi_exp.head()"
   ]
  },
  {
   "cell_type": "code",
   "execution_count": 8,
   "id": "9a8425b9-8b1b-48f1-83f1-a710c88d2adc",
   "metadata": {},
   "outputs": [],
   "source": [
    "bmi_exp_summ = (bmi_exp\n",
    "                .groupby(['age', 'sex', 'year'])\n",
    "                .value.describe(percentiles=[.025, .975])\n",
    "                .filter(['mean', '2.5%', '97.5%'])\n",
    "                .reset_index())\n",
    "bmi_exp_summ.head()"
   ]
  },
  {
   "cell_type": "code",
   "execution_count": 9,
   "id": "e916d24a-caae-4f5f-84eb-980920375fbe",
   "metadata": {},
   "outputs": [],
   "source": [
    "%%capture\n",
    "for sex in bmi_exp_summ.sex.unique():\n",
    "    for age in bmi_exp_summ.age.unique():\n",
    "        plt.figure() \n",
    "        subdata = bmi_exp_summ.loc[(bmi_exp_summ.sex==sex) & (bmi_exp_summ.age==age)]\n",
    "        plt.plot(subdata['year'], subdata['mean'], marker='o')\n",
    "        plt.fill_between(subdata['year'], subdata['2.5%'], subdata['97.5%'], alpha=.3)\n",
    "        plt.title(f'BMI Exposure: {sex} in {age}') \n",
    "        plt.xticks(rotation=90) \n",
    "        #plt.ylim(0,100000)\n",
    "        plt.grid()"
   ]
  },
  {
   "cell_type": "code",
   "execution_count": 10,
   "id": "0827b596-3b1c-4d67-83fc-c3ee93a0a08e",
   "metadata": {},
   "outputs": [],
   "source": [
    "bmi_exp_rate = bmi_exp.groupby(['age','sex','year','input_draw']).value.sum().reset_index()\n",
    "bmi_exp_rate = pd.concat([bmi_exp_rate, per_time_group.ptvalue], axis=1)\n",
    "bmi_exp_rate['bmi_rate'] = bmi_exp_rate['value'] / bmi_exp_rate['ptvalue']\n",
    "#bmi_exp_rate_summ = (bmi_exp_rate\n",
    "#                .groupby(['age', 'sex', 'year','input_draw'])\n",
    "#                .bmi_rate.describe(percentiles=[.025,0.5, .975])\n",
    "#                .filter(['mean', '50%','2.5%', '97.5%'])\n",
    "#                .reset_index())\n",
    "bmi_exp_rate.head()"
   ]
  },
  {
   "cell_type": "code",
   "execution_count": 11,
   "id": "018f8cfa",
   "metadata": {},
   "outputs": [],
   "source": [
    "for draw in bmi_exp_rate_summ.input_draw.unique():\n",
    "    #plt.figure() \n",
    "    subdata = bmi_exp_rate_summ.loc[(bmi_exp_rate_summ.sex=='female') & (bmi_exp_rate_summ.age=='85_to_89') & (bmi_exp_rate_summ.input_draw==draw)]\n",
    "    plt.plot(subdata['year'], subdata['mean'], marker='o', label=draw)\n",
    "    #plt.fill_between(subdata['year'], subdata['2.5%'], subdata['97.5%'], alpha=.3)\n",
    "    #plt.title(f'BMI Exposure: {sex} in {age}') \n",
    "    plt.xticks(rotation=90) \n",
    "    plt.ylim(20,33)\n",
    "    plt.grid()\n",
    "    plt.legend()"
   ]
  },
  {
   "cell_type": "code",
   "execution_count": null,
   "id": "bbe84821",
   "metadata": {},
   "outputs": [],
   "source": [
    "bmi_exp_rate_summ = (bmi_exp_rate\n",
    "                .groupby(['age', 'sex', 'year'])\n",
    "                .bmi_rate.describe(percentiles=[.025,0.5, .975])\n",
    "                .filter(['mean', '50%','2.5%', '97.5%'])\n",
    "                .reset_index())\n",
    "bmi_exp_rate_summ.head()"
   ]
  },
  {
   "cell_type": "code",
   "execution_count": null,
   "id": "ad7bb27c-4e6c-4e63-a68b-244ab9c3e5ae",
   "metadata": {},
   "outputs": [],
   "source": [
    "#%%capture\n",
    "for sex in bmi_exp_rate_summ.sex.unique():\n",
    "    for age in bmi_exp_rate_summ.age.unique():\n",
    "        plt.figure() \n",
    "        subdata = bmi_exp_rate_summ.loc[(bmi_exp_rate_summ.sex==sex) & (bmi_exp_rate_summ.age==age)]\n",
    "        plt.plot(subdata['year'], subdata['mean'], marker='o')\n",
    "        plt.fill_between(subdata['year'], subdata['2.5%'], subdata['97.5%'], alpha=.3)\n",
    "        plt.title(f'BMI Exposure: {sex} in {age}') \n",
    "        plt.xticks(rotation=90) \n",
    "        plt.ylim(20,33)\n",
    "        plt.grid()"
   ]
  },
  {
   "cell_type": "markdown",
   "id": "d02d73b5-b093-46a2-8a29-49f6a5a6ded2",
   "metadata": {},
   "source": [
    "Older people are getting lower BMI's overtime - that is bad "
   ]
  },
  {
   "cell_type": "markdown",
   "id": "b1c91ce6-f69b-41f4-870a-ec96f9f34a98",
   "metadata": {},
   "source": [
    "### SBP "
   ]
  },
  {
   "cell_type": "code",
   "execution_count": null,
   "id": "8ba9a934-31e5-47ce-b84f-e82fc9167663",
   "metadata": {},
   "outputs": [],
   "source": [
    "sbp_exp = risk_exp.loc[risk_exp['risk']=='high_systolic_blood_pressure']\n",
    "sbp_exp_rate = sbp_exp.groupby(['age','sex','year','input_draw']).value.sum().reset_index()\n",
    "sbp_exp_rate = pd.concat([sbp_exp_rate, per_time_group.ptvalue], axis=1)\n",
    "sbp_exp_rate['sbp_rate'] = sbp_exp_rate['value'] / sbp_exp_rate['ptvalue']\n",
    "sbp_exp_rate_summ = (sbp_exp_rate\n",
    "                .groupby(['age', 'sex', 'year','input_draw'])\n",
    "                .sbp_rate.describe(percentiles=[.025, .975])\n",
    "                .filter(['mean','50%', '2.5%', '97.5%'])\n",
    "                .reset_index())\n",
    "sbp_exp_rate_summ.head()"
   ]
  },
  {
   "cell_type": "code",
   "execution_count": null,
   "id": "3df6a5c0",
   "metadata": {},
   "outputs": [],
   "source": [
    "for draw in sbp_exp_rate_summ.input_draw.unique():\n",
    "    #plt.figure() \n",
    "    subdata = sbp_exp_rate_summ.loc[(sbp_exp_rate_summ.sex=='female') & (sbp_exp_rate_summ.age=='85_to_89') & (sbp_exp_rate_summ.input_draw==draw)]\n",
    "    plt.plot(subdata['year'], subdata['mean'], marker='o', label=draw)\n",
    "    #plt.fill_between(subdata['year'], subdata['2.5%'], subdata['97.5%'], alpha=.3)\n",
    "    plt.title(f'SBP Exposure: female 85-90 by draw') \n",
    "    plt.xticks(rotation=90) \n",
    "    #plt.ylim(20,33)\n",
    "    plt.grid()\n",
    "    plt.legend()"
   ]
  },
  {
   "cell_type": "code",
   "execution_count": null,
   "id": "5006899c",
   "metadata": {},
   "outputs": [],
   "source": [
    "sbp_exp_rate_summ = (sbp_exp_rate\n",
    "                .groupby(['age', 'sex', 'year'])\n",
    "                .sbp_rate.describe(percentiles=[.025, .975])\n",
    "                .filter(['mean','50%', '2.5%', '97.5%'])\n",
    "                .reset_index())\n",
    "sbp_exp_rate_summ.head()"
   ]
  },
  {
   "cell_type": "code",
   "execution_count": null,
   "id": "a4b071c9-24ac-4a75-9883-eba71237d1d3",
   "metadata": {},
   "outputs": [],
   "source": [
    "#%%capture\n",
    "for sex in sbp_exp_rate_summ.sex.unique():\n",
    "    for age in sbp_exp_rate_summ.age.unique():\n",
    "        plt.figure() \n",
    "        subdata = sbp_exp_rate_summ.loc[(sbp_exp_rate_summ.sex==sex) & (sbp_exp_rate_summ.age==age)]\n",
    "        plt.plot(subdata['year'], subdata['50%'], marker='o')\n",
    "        plt.fill_between(subdata['year'], subdata['2.5%'], subdata['97.5%'], alpha=.3)\n",
    "        plt.title(f'SBP Exposure: {sex} in {age}') \n",
    "        plt.xticks(rotation=90) \n",
    "        #plt.ylim(0,100000)\n",
    "        plt.grid()"
   ]
  },
  {
   "cell_type": "markdown",
   "id": "a99b8bf7-e366-4139-8895-d11a9585a851",
   "metadata": {},
   "source": [
    "This one is decreasing over time as well... "
   ]
  },
  {
   "cell_type": "markdown",
   "id": "837529ce-edd2-4f42-ad2e-226e75c16a73",
   "metadata": {},
   "source": [
    "### LDL-C"
   ]
  },
  {
   "cell_type": "code",
   "execution_count": null,
   "id": "18d16019-55f8-41b8-b4f6-792a506ebcf1",
   "metadata": {},
   "outputs": [],
   "source": [
    "ldl_exp = risk_exp.loc[risk_exp['risk']=='high_ldl_cholesterol']\n",
    "ldl_exp_rate = ldl_exp.groupby(['age','sex','year','input_draw']).value.sum().reset_index()\n",
    "ldl_exp_rate = pd.concat([ldl_exp_rate, per_time_group.ptvalue], axis=1)\n",
    "ldl_exp_rate['ldl_rate'] = ldl_exp_rate['value'] / ldl_exp_rate['ptvalue']\n",
    "ldl_exp_rate_summ = (ldl_exp_rate\n",
    "                .groupby(['age', 'sex', 'year'])\n",
    "                .ldl_rate.describe(percentiles=[.025, .975])\n",
    "                .filter(['mean', '2.5%', '97.5%'])\n",
    "                .reset_index())\n",
    "ldl_exp_rate_summ.head()"
   ]
  },
  {
   "cell_type": "code",
   "execution_count": null,
   "id": "37bf8aec-9a3a-4eae-9f24-3b6065258283",
   "metadata": {},
   "outputs": [],
   "source": [
    "#%%capture\n",
    "for sex in ldl_exp_rate_summ.sex.unique():\n",
    "    for age in ldl_exp_rate_summ.age.unique():\n",
    "        plt.figure() \n",
    "        subdata = ldl_exp_rate_summ.loc[(ldl_exp_rate_summ.sex==sex) & (ldl_exp_rate_summ.age==age)]\n",
    "        plt.plot(subdata['year'], subdata['mean'], marker='o')\n",
    "        plt.fill_between(subdata['year'], subdata['2.5%'], subdata['97.5%'], alpha=.3)\n",
    "        plt.title(f'LDL-C Exposure: {sex} in {age}') \n",
    "        plt.xticks(rotation=90) \n",
    "        #plt.ylim(0,100000)\n",
    "        plt.grid()"
   ]
  },
  {
   "cell_type": "markdown",
   "id": "e2009ab6-aea5-49dc-a9fb-b39df7520d66",
   "metadata": {},
   "source": [
    "LDL-C increases in some age groups but decreases in the oldest age groups "
   ]
  },
  {
   "cell_type": "markdown",
   "id": "d92baa6f-5240-42d5-8124-b3453973eaf1",
   "metadata": {},
   "source": [
    "### FPG"
   ]
  },
  {
   "cell_type": "code",
   "execution_count": null,
   "id": "9c64345a-f2b5-4e2b-a500-6d542d0e61d7",
   "metadata": {},
   "outputs": [],
   "source": [
    "fpg_exp = risk_exp.loc[risk_exp['risk']=='high_fasting_plasma_glucose']\n",
    "fpg_exp_rate = fpg_exp.groupby(['age','sex','year','input_draw']).value.sum().reset_index()\n",
    "fpg_exp_rate = pd.concat([fpg_exp_rate, per_time_group.ptvalue], axis=1)\n",
    "fpg_exp_rate['fpg_rate'] = fpg_exp_rate['value'] / fpg_exp_rate['ptvalue']\n",
    "fpg_exp_rate_summ = (fpg_exp_rate\n",
    "                .groupby(['age', 'sex', 'year'])\n",
    "                .fpg_rate.describe(percentiles=[.025, .975])\n",
    "                .filter(['mean', '2.5%', '97.5%'])\n",
    "                .reset_index())\n",
    "fpg_exp_rate_summ.head()"
   ]
  },
  {
   "cell_type": "code",
   "execution_count": null,
   "id": "b57f700b-6a06-4a3e-980d-c285f908ba35",
   "metadata": {},
   "outputs": [],
   "source": [
    "%%capture\n",
    "for sex in fpg_exp_rate_summ.sex.unique():\n",
    "    for age in fpg_exp_rate_summ.age.unique():\n",
    "        plt.figure() \n",
    "        subdata = fpg_exp_rate_summ.loc[(fpg_exp_rate_summ.sex==sex) & (fpg_exp_rate_summ.age==age)]\n",
    "        plt.plot(subdata['year'], subdata['mean'], marker='o')\n",
    "        plt.fill_between(subdata['year'], subdata['2.5%'], subdata['97.5%'], alpha=.3)\n",
    "        plt.title(f'FPG Exposure: {sex} in {age}') \n",
    "        plt.xticks(rotation=90) \n",
    "        #plt.ylim(0,100000)\n",
    "        plt.grid()"
   ]
  },
  {
   "cell_type": "markdown",
   "id": "2c344f38-1c72-4878-a6d1-8ec22434b7d0",
   "metadata": {},
   "source": [
    "Even more interestingly, this one looks good and very stable over time "
   ]
  },
  {
   "cell_type": "markdown",
   "id": "667a2a22-7ff6-44f7-a4af-d53c09b201b7",
   "metadata": {},
   "source": [
    "## Comparison to Artifacts"
   ]
  },
  {
   "cell_type": "code",
   "execution_count": null,
   "id": "d57d2a34-e31a-4087-8880-1c6a16458f98",
   "metadata": {},
   "outputs": [],
   "source": [
    "ls /mnt/team/simulation_science/costeffectiveness/artifacts/vivarium_nih_us_cvd/"
   ]
  },
  {
   "cell_type": "code",
   "execution_count": null,
   "id": "543b09fa-ebb2-4743-9e35-f3df9ce97bb3",
   "metadata": {},
   "outputs": [],
   "source": [
    "from vivarium import Artifact\n",
    "\n",
    "#explore the artifact data (note age groups)\n",
    "art = Artifact('/mnt/team/simulation_science/costeffectiveness/artifacts/vivarium_nih_us_cvd/alabama.hdf', filter_terms=['year_start == 2019', 'age_start >=  25'])"
   ]
  },
  {
   "cell_type": "code",
   "execution_count": null,
   "id": "cdbfc486-fa84-4ead-af86-6d0678cbd5ba",
   "metadata": {},
   "outputs": [],
   "source": [
    "art_pop = art.load('population.structure').reset_index()\n",
    "art_pop.head()"
   ]
  },
  {
   "cell_type": "code",
   "execution_count": null,
   "id": "41e28405-6ea6-4252-9f42-e175835a9d9f",
   "metadata": {},
   "outputs": [],
   "source": [
    "#art.keys"
   ]
  },
  {
   "cell_type": "code",
   "execution_count": null,
   "id": "55ad4190-9493-45ef-aea8-119713d9da52",
   "metadata": {},
   "outputs": [],
   "source": [
    "def load_artifact_data(word:str, cause:str, measure:str):\n",
    "    master_art_data = pd.DataFrame()\n",
    "    for i in ['alabama']: #in case there are other countries\n",
    "        \n",
    "        # grab main artifact object\n",
    "        art = Artifact('/mnt/team/simulation_science/costeffectiveness/artifacts/vivarium_nih_us_cvd/' + i + '.hdf', \n",
    "                   filter_terms=['year_start == 2019', 'age_start >=  25']) # << MIGHT WANT TO CHANGE THESE TERMS\n",
    "        \n",
    "        # load requested measure\n",
    "        data = art.load(word + '.' + cause + '.' + measure)\n",
    "        data = data[['draw_29','draw_232','draw_357','draw_394','draw_602','draw_629','draw_650','draw_680','draw_829','draw_946']]\n",
    "\n",
    "        # collapse to desired percentiles\n",
    "        #data = data.apply(pd.DataFrame.describe, percentiles=[0.025, 0.5, 0.975], axis=1).filter(['mean', '50%', '2.5%', '97.5%']).reset_index()\n",
    "        \n",
    "        # formatting (may want to format age as well)\n",
    "        data['location'] = i.capitalize()\n",
    "        data['measure'] = measure\n",
    "        #data['sex'] = np.where(data['sex'] == 'Female', 'female', 'male')\n",
    "    \n",
    "   \n",
    "        master_art_data = master_art_data.append(data)\n",
    "        \n",
    "    return master_art_data"
   ]
  },
  {
   "cell_type": "code",
   "execution_count": null,
   "id": "6b354fd6",
   "metadata": {},
   "outputs": [],
   "source": [
    "bmi_exp_rate.input_draw.unique()"
   ]
  },
  {
   "cell_type": "markdown",
   "id": "fc0d576d-1c64-42d0-b9d9-0916a7c772e0",
   "metadata": {},
   "source": [
    "### BMI"
   ]
  },
  {
   "cell_type": "code",
   "execution_count": null,
   "id": "76587dee-40c3-49d5-9abb-aa62b40ae243",
   "metadata": {},
   "outputs": [],
   "source": [
    "bmi_art = load_artifact_data('risk_factor', 'high_body_mass_index_in_adults', 'exposure')\n",
    "bmi_art.reset_index(inplace=True)\n",
    "bmi_art['age_group'] = [f'{int(i)}_to_{int(j) - 1}' for (i,j) in zip(bmi_art.age_start,bmi_art.age_end)]\n",
    "bmi_art['sex'] = np.where(bmi_art['sex'] == 'Female', 'female', 'male')\n",
    "bmi_art#.head()"
   ]
  },
  {
   "cell_type": "code",
   "execution_count": null,
   "id": "51a599b9-87d1-49b3-a2be-f59242487d86",
   "metadata": {},
   "outputs": [],
   "source": [
    "for sex in bmi_exp_rate_summ.sex.unique():\n",
    "    plt.figure() \n",
    "    subdata = bmi_exp_rate_summ.loc[(bmi_exp_rate_summ.sex==sex) & (bmi_exp_rate_summ.year==2021)]\n",
    "    plt.plot(subdata['age'], subdata['50%'], marker='o')\n",
    "    plt.fill_between(subdata['age'], subdata['2.5%'], subdata['97.5%'], alpha=.3)\n",
    "    subdata2 = bmi_art.loc[(bmi_art.sex==sex) & (bmi_art.year_end==2020)]\n",
    "    plt.plot(subdata2['age_group'], subdata2['50%'], marker='o')\n",
    "    plt.fill_between(subdata2['age_group'], subdata2['2.5%'], subdata2['97.5%'], alpha=.3)\n",
    "    plt.title(f'BMI Exposure: {sex} in 2021') \n",
    "    plt.xticks(rotation=90) \n",
    "    #plt.ylim(0,100000)\n",
    "    plt.grid()\n",
    "    plt.legend(['Simulation baseline', 'Sim 95%', 'Artifact Baseline', 'Artifact 95%']) "
   ]
  },
  {
   "cell_type": "code",
   "execution_count": null,
   "id": "51a6f4e4",
   "metadata": {},
   "outputs": [],
   "source": [
    "for sex in bmi_exp_rate.sex.unique():\n",
    "    for draw in bmi_exp_rate.input_draw.unique():\n",
    "        plt.figure() \n",
    "        subdata = bmi_exp_rate.loc[(bmi_exp_rate.input_draw==draw) & (bmi_exp_rate.sex==sex) & (bmi_exp_rate.year==2021)]\n",
    "        plt.plot(subdata['age'], subdata['bmi_rate'], marker='o')\n",
    "        subdata2 = bmi_art.loc[(bmi_art.sex==sex) & (bmi_art.year_end==2020)]\n",
    "        string = 'draw_'+ str(draw)\n",
    "        plt.plot(subdata2['age_group'], subdata2[string], marker='o')\n",
    "        plt.title(f'BMI Exposure: {sex} and {draw} in 2021') \n",
    "        plt.xticks(rotation=90) \n",
    "        #plt.ylim(0,100000)\n",
    "        plt.grid()\n",
    "        plt.legend(['Simulation', 'Artifact']) "
   ]
  },
  {
   "cell_type": "code",
   "execution_count": null,
   "id": "4f54ec91",
   "metadata": {},
   "outputs": [],
   "source": [
    "bmi_art.loc[(bmi_art.sex==sex) & (bmi_art.year_end==2020)]"
   ]
  },
  {
   "cell_type": "code",
   "execution_count": null,
   "id": "259dc639-79ba-48f5-91a3-1bff237b6538",
   "metadata": {},
   "outputs": [],
   "source": [
    "for sex in bmi_exp_rate_summ.sex.unique():\n",
    "    plt.figure() \n",
    "    subdata = bmi_exp_rate_summ.loc[(bmi_exp_rate_summ.sex==sex) & (bmi_exp_rate_summ.year==2040)]\n",
    "    plt.plot(subdata['age'], subdata['50%'], marker='o')\n",
    "    plt.fill_between(subdata['age'], subdata['2.5%'], subdata['97.5%'], alpha=.3)\n",
    "    subdata2 = bmi_art.loc[(bmi_art.sex==sex) & (bmi_art.year_end==2020)]\n",
    "    plt.plot(subdata2['age_group'], subdata2['50%'], marker='o')\n",
    "    plt.fill_between(subdata2['age_group'], subdata2['2.5%'], subdata2['97.5%'], alpha=.3)\n",
    "    plt.title(f'BMI Exposure: {sex} in 2040') \n",
    "    plt.xticks(rotation=90) \n",
    "    #plt.ylim(0,100000)\n",
    "    plt.grid()\n",
    "    plt.legend(['Simulation baseline', 'Sim 95%', 'Artifact Baseline', 'Artifact 95%']) "
   ]
  },
  {
   "cell_type": "markdown",
   "id": "7b6930bf-d922-4f75-8484-2c6b6f42a9ab",
   "metadata": {},
   "source": [
    "### SBP"
   ]
  },
  {
   "cell_type": "code",
   "execution_count": null,
   "id": "1be4a5c3-c108-4962-8260-56596e362db4",
   "metadata": {},
   "outputs": [],
   "source": [
    "sbp_art = load_artifact_data('risk_factor', 'high_systolic_blood_pressure', 'exposure')\n",
    "sbp_art['age_group'] = [f'{int(i)}_to_{int(j) - 1}' for (i,j) in zip(sbp_art.age_start,sbp_art.age_end)]\n",
    "sbp_art.head()"
   ]
  },
  {
   "cell_type": "code",
   "execution_count": null,
   "id": "cb120829-ee15-4713-9aad-6580b6798003",
   "metadata": {},
   "outputs": [],
   "source": [
    "#Can we stratify by medication coverage? \n",
    "\n",
    "for sex in sbp_exp_rate_summ.sex.unique():\n",
    "    plt.figure() \n",
    "    subdata = sbp_exp_rate_summ.loc[(sbp_exp_rate_summ.sex==sex) & (sbp_exp_rate_summ.year==2021)]\n",
    "    plt.plot(subdata['age'], subdata['50%'], marker='o')\n",
    "    plt.fill_between(subdata['age'], subdata['2.5%'], subdata['97.5%'], alpha=.3)\n",
    "    subdata2 = sbp_art.loc[(sbp_art.sex==sex) & (sbp_art.year_end==2020)]\n",
    "    plt.plot(subdata2['age_group'], subdata2['mean'], marker='o')\n",
    "    plt.fill_between(subdata2['age_group'], subdata2['2.5%'], subdata2['97.5%'], alpha=.3)\n",
    "    plt.title(f'SBP Exposure: {sex} in 2021')\n",
    "    plt.xticks(rotation=90) \n",
    "    #plt.ylim(0,100000)\n",
    "    plt.grid()\n",
    "    plt.legend(['Simulation baseline', 'Sim 95%', 'Artifact Baseline', 'Artifact 95%']) "
   ]
  },
  {
   "cell_type": "code",
   "execution_count": null,
   "id": "a1056156-f825-45d2-b7e0-ec89d654f2ac",
   "metadata": {},
   "outputs": [],
   "source": [
    "for sex in sbp_exp_rate_summ.sex.unique():\n",
    "    plt.figure() \n",
    "    subdata = sbp_exp_rate_summ.loc[(sbp_exp_rate_summ.sex==sex) & (sbp_exp_rate_summ.year==2040)]\n",
    "    plt.plot(subdata['age'], subdata['mean'], marker='o')\n",
    "    plt.fill_between(subdata['age'], subdata['2.5%'], subdata['97.5%'], alpha=.3)\n",
    "    subdata2 = sbp_art.loc[(sbp_art.sex==sex) & (sbp_art.year_end==2020)]\n",
    "    plt.plot(subdata2['age_group'], subdata2['mean'], marker='o')\n",
    "    plt.fill_between(subdata2['age_group'], subdata2['2.5%'], subdata2['97.5%'], alpha=.3)\n",
    "    plt.title(f'SBP Exposure: {sex} in 2040') \n",
    "    plt.xticks(rotation=90) \n",
    "    #plt.ylim(0,100000)\n",
    "    plt.grid()\n",
    "    plt.legend(['Simulation baseline', 'Sim 95%', 'Artifact Baseline', 'Artifact 95%']) "
   ]
  },
  {
   "cell_type": "markdown",
   "id": "cc48d554-7f40-4ed0-a43e-0e912ebccbb9",
   "metadata": {},
   "source": [
    "### LDL-C"
   ]
  },
  {
   "cell_type": "code",
   "execution_count": null,
   "id": "19832cb9-971e-4b33-afb6-211e59abada3",
   "metadata": {},
   "outputs": [],
   "source": [
    "ldl_art = load_artifact_data('risk_factor', 'high_ldl_cholesterol', 'exposure')\n",
    "ldl_art['age_group'] = [f'{int(i)}_to_{int(j) - 1}' for (i,j) in zip(ldl_art.age_start,ldl_art.age_end)]\n",
    "ldl_art.head()"
   ]
  },
  {
   "cell_type": "code",
   "execution_count": null,
   "id": "05665207-ec63-46d3-94a1-954bed95081d",
   "metadata": {},
   "outputs": [],
   "source": [
    "for sex in ldl_exp_rate_summ.sex.unique():\n",
    "    plt.figure() \n",
    "    subdata = ldl_exp_rate_summ.loc[(ldl_exp_rate_summ.sex==sex) & (ldl_exp_rate_summ.year==2023)]\n",
    "    plt.plot(subdata['age'], subdata['mean'], marker='o')\n",
    "    plt.fill_between(subdata['age'], subdata['2.5%'], subdata['97.5%'], alpha=.3)\n",
    "    subdata2 = ldl_art.loc[(ldl_art.sex==sex) & (ldl_art.year_end==2020)]\n",
    "    plt.plot(subdata2['age_group'], subdata2['mean'], marker='o')\n",
    "    plt.fill_between(subdata2['age_group'], subdata2['2.5%'], subdata2['97.5%'], alpha=.3)\n",
    "    plt.title(f'LDL-C Exposure: {sex} in 2023') \n",
    "    plt.xticks(rotation=90) \n",
    "    #plt.ylim(0,100000)\n",
    "    plt.grid()\n",
    "    plt.legend(['Simulation baseline', 'Sim 95%', 'Artifact Baseline', 'Artifact 95%']) "
   ]
  },
  {
   "cell_type": "code",
   "execution_count": null,
   "id": "f9c5d925-7804-43ba-ad0e-cb44233e9115",
   "metadata": {},
   "outputs": [],
   "source": [
    "for sex in ldl_exp_rate_summ.sex.unique():\n",
    "    plt.figure() \n",
    "    subdata = ldl_exp_rate_summ.loc[(ldl_exp_rate_summ.sex==sex) & (ldl_exp_rate_summ.year==2040)]\n",
    "    plt.plot(subdata['age'], subdata['mean'], marker='o')\n",
    "    plt.fill_between(subdata['age'], subdata['2.5%'], subdata['97.5%'], alpha=.3)\n",
    "    subdata2 = ldl_art.loc[(ldl_art.sex==sex) & (ldl_art.year_end==2020)]\n",
    "    plt.plot(subdata2['age_group'], subdata2['mean'], marker='o')\n",
    "    plt.fill_between(subdata2['age_group'], subdata2['2.5%'], subdata2['97.5%'], alpha=.3)\n",
    "    plt.title(f'LDL-C Exposure: {sex} in 2040') \n",
    "    plt.xticks(rotation=90) \n",
    "    #plt.ylim(0,100000)\n",
    "    plt.grid()\n",
    "    plt.legend(['Simulation baseline', 'Sim 95%', 'Artifact Baseline', 'Artifact 95%']) "
   ]
  },
  {
   "cell_type": "markdown",
   "id": "1bf1c065-d133-4482-96da-f9f7bfdd0618",
   "metadata": {},
   "source": [
    "### FPG"
   ]
  },
  {
   "cell_type": "code",
   "execution_count": null,
   "id": "6c8ed903-21bd-41f3-b58d-62a79c0fe652",
   "metadata": {},
   "outputs": [],
   "source": [
    "fpg_art = load_artifact_data('risk_factor', 'high_fasting_plasma_glucose', 'exposure')\n",
    "fpg_art['age_group'] = [f'{int(i)}_to_{int(j) - 1}' for (i,j) in zip(fpg_art.age_start,fpg_art.age_end)]\n",
    "fpg_art.head()"
   ]
  },
  {
   "cell_type": "code",
   "execution_count": null,
   "id": "ef9facca-98f1-4f2b-8b44-cbcb51e41fde",
   "metadata": {},
   "outputs": [],
   "source": [
    "for sex in fpg_exp_rate_summ.sex.unique():\n",
    "    plt.figure() \n",
    "    subdata = fpg_exp_rate_summ.loc[(fpg_exp_rate_summ.sex==sex) & (fpg_exp_rate_summ.year==2023)]\n",
    "    plt.plot(subdata['age'], subdata['mean'], marker='o')\n",
    "    plt.fill_between(subdata['age'], subdata['2.5%'], subdata['97.5%'], alpha=.3)\n",
    "    subdata2 = fpg_art.loc[(fpg_art.sex==sex) & (fpg_art.year_end==2020)]\n",
    "    plt.plot(subdata2['age_group'], subdata2['mean'], marker='o')\n",
    "    plt.fill_between(subdata2['age_group'], subdata2['2.5%'], subdata2['97.5%'], alpha=.3)\n",
    "    plt.title(f'FPG Exposure: {sex} in 2023')\n",
    "    plt.xticks(rotation=90) \n",
    "    #plt.ylim(0,100000)\n",
    "    plt.grid()\n",
    "    plt.legend(['Simulation baseline', 'Sim 95%', 'Artifact Baseline', 'Artifact 95%']) "
   ]
  },
  {
   "cell_type": "code",
   "execution_count": null,
   "id": "e41c1683-f5d4-4bc5-a246-ed72affb9f4e",
   "metadata": {},
   "outputs": [],
   "source": [
    "for sex in fpg_exp_rate_summ.sex.unique():\n",
    "    plt.figure() \n",
    "    subdata = fpg_exp_rate_summ.loc[(fpg_exp_rate_summ.sex==sex) & (fpg_exp_rate_summ.year==2040)]\n",
    "    plt.plot(subdata['age'], subdata['mean'], marker='o')\n",
    "    plt.fill_between(subdata['age'], subdata['2.5%'], subdata['97.5%'], alpha=.3)\n",
    "    subdata2 = fpg_art.loc[(fpg_art.sex==sex) & (fpg_art.year_end==2020)]\n",
    "    plt.plot(subdata2['age_group'], subdata2['mean'], marker='o')\n",
    "    plt.fill_between(subdata2['age_group'], subdata2['2.5%'], subdata2['97.5%'], alpha=.3)\n",
    "    plt.title(f'FPG Exposure: {sex} in 2040') \n",
    "    plt.xticks(rotation=90) \n",
    "    #plt.ylim(0,100000)\n",
    "    plt.grid()\n",
    "    plt.legend(['Simulation baseline', 'Sim 95%', 'Artifact Baseline', 'Artifact 95%']) "
   ]
  },
  {
   "cell_type": "markdown",
   "id": "22f73b1b-87b4-4290-9c26-8c55517a8a74",
   "metadata": {},
   "source": [
    "Very interestingly (and almost worse overall) FPG is working great while the other 3 are looking bad"
   ]
  },
  {
   "cell_type": "code",
   "execution_count": null,
   "id": "0da232fa-332f-4bf1-af62-7ee76808299a",
   "metadata": {},
   "outputs": [],
   "source": []
  }
 ],
 "metadata": {
  "kernelspec": {
   "display_name": "Python 3 (ipykernel)",
   "language": "python",
   "name": "python3"
  },
  "language_info": {
   "codemirror_mode": {
    "name": "ipython",
    "version": 3
   },
   "file_extension": ".py",
   "mimetype": "text/x-python",
   "name": "python",
   "nbconvert_exporter": "python",
   "pygments_lexer": "ipython3",
   "version": "3.8.16"
  }
 },
 "nbformat": 4,
 "nbformat_minor": 5
}
