{
 "cells": [
  {
   "cell_type": "code",
   "execution_count": 1,
   "id": "11db1f55",
   "metadata": {},
   "outputs": [
    {
     "name": "stdout",
     "output_type": "stream",
     "text": [
      "Wed Aug  2 06:32:24 PDT 2023\r\n"
     ]
    }
   ],
   "source": [
    "import numpy as np, matplotlib.pyplot as plt, pandas as pd\n",
    "from vivarium import Artifact\n",
    "\n",
    "#pd.set_option('display.max_rows', 8)\n",
    "!date\n",
    "\n",
    "%load_ext autoreload\n",
    "%autoreload 2"
   ]
  },
  {
   "cell_type": "markdown",
   "id": "306fe3c0",
   "metadata": {},
   "source": [
    "# Vivarium Artifact Exploration\n",
    "\n",
    "Creating an automated way to test some of the PAf artifacts for general errors or issues. "
   ]
  },
  {
   "cell_type": "code",
   "execution_count": 2,
   "id": "b86e7bf0",
   "metadata": {},
   "outputs": [],
   "source": [
    "locations_1 = ['alabama','alaska','arizona','arkansas','california','colorado','connecticut','delaware',\n",
    "             'district_of_columbia','florida','georgia','hawaii','idaho','illinois','indiana','iowa',\n",
    "            'kansas','kentucky','louisiana','maine','maryland','massachusetts','michigan','minnesota','mississippi']\n",
    "\n",
    "locations_2 = ['missouri','montana','nebraska','nevada','new_hampshire','new_jersey','new_mexico','new_york',\n",
    "             'north_carolina','north_dakota','ohio','oklahoma','oregon','pennsylvania','rhode_island']\n",
    "\n",
    "locations_3 = ['south_carolina','south_dakota','tennessee','texas','utah','vermont','virginia','washington',\n",
    "             'west_virginia','wisconsin','wyoming']\n",
    "\n",
    "risks = ['high_systolic_blood_pressure', 'high_ldl_cholesterol', 'high_body_mass_index_in_adults']\n",
    "\n",
    "outcomes = ['acute_myocardial_infarction', 'post_myocardial_infarction_to_acute_myocardial_infarction', 'acute_ischemic_stroke','chronic_ischemic_stroke_to_acute_ischemic_stroke','heart_failure_from_ischemic_heart_disease','heart_failure_residual']\n",
    "\n",
    "ages = [25.0, 30.0, 35.0, 40.0, 45.0, 50.0, 55.0, 60.0, 65.0, 70.0, 75.0, 80.0, 85.0, 90.0, 95.0]\n",
    "\n",
    "sexes = ['Female', 'Male']"
   ]
  },
  {
   "cell_type": "code",
   "execution_count": 3,
   "id": "d1340099",
   "metadata": {},
   "outputs": [],
   "source": [
    "def load_artifact_data(locations):\n",
    "    master_art_data = pd.DataFrame()\n",
    "    for i in locations:\n",
    "        for j in risks:\n",
    "            art = Artifact('/mnt/team/simulation_science/costeffectiveness/artifacts/vivarium_nih_us_cvd/51-locations/v2-20230721/' + i + '.hdf', \n",
    "                       filter_terms=['year_start == 2019', 'age_start >=  25']) # << MIGHT WANT TO CHANGE THESE TERMS\n",
    "        \n",
    "            data = art.load('risk_factor.' + j + '.population_attributable_fraction')\n",
    "                \n",
    "            # formatting (may want to format age as well)\n",
    "            data['location'] = i\n",
    "            data['risk'] = j\n",
    "   \n",
    "            master_art_data = master_art_data.append(data)\n",
    "        \n",
    "    return master_art_data"
   ]
  },
  {
   "cell_type": "markdown",
   "id": "650add39",
   "metadata": {},
   "source": [
    "## Load Artifact Data"
   ]
  },
  {
   "cell_type": "code",
   "execution_count": 4,
   "id": "018c25b9",
   "metadata": {
    "scrolled": true
   },
   "outputs": [
    {
     "name": "stderr",
     "output_type": "stream",
     "text": [
      "/tmp/ipykernel_941308/1976528359.py:14: FutureWarning: The frame.append method is deprecated and will be removed from pandas in a future version. Use pandas.concat instead.\n",
      "  master_art_data = master_art_data.append(data)\n",
      "/tmp/ipykernel_941308/1976528359.py:14: FutureWarning: The frame.append method is deprecated and will be removed from pandas in a future version. Use pandas.concat instead.\n",
      "  master_art_data = master_art_data.append(data)\n",
      "/tmp/ipykernel_941308/1976528359.py:14: FutureWarning: The frame.append method is deprecated and will be removed from pandas in a future version. Use pandas.concat instead.\n",
      "  master_art_data = master_art_data.append(data)\n",
      "/tmp/ipykernel_941308/1976528359.py:14: FutureWarning: The frame.append method is deprecated and will be removed from pandas in a future version. Use pandas.concat instead.\n",
      "  master_art_data = master_art_data.append(data)\n",
      "/tmp/ipykernel_941308/1976528359.py:14: FutureWarning: The frame.append method is deprecated and will be removed from pandas in a future version. Use pandas.concat instead.\n",
      "  master_art_data = master_art_data.append(data)\n",
      "/tmp/ipykernel_941308/1976528359.py:14: FutureWarning: The frame.append method is deprecated and will be removed from pandas in a future version. Use pandas.concat instead.\n",
      "  master_art_data = master_art_data.append(data)\n",
      "/tmp/ipykernel_941308/1976528359.py:14: FutureWarning: The frame.append method is deprecated and will be removed from pandas in a future version. Use pandas.concat instead.\n",
      "  master_art_data = master_art_data.append(data)\n",
      "/tmp/ipykernel_941308/1976528359.py:14: FutureWarning: The frame.append method is deprecated and will be removed from pandas in a future version. Use pandas.concat instead.\n",
      "  master_art_data = master_art_data.append(data)\n",
      "/tmp/ipykernel_941308/1976528359.py:14: FutureWarning: The frame.append method is deprecated and will be removed from pandas in a future version. Use pandas.concat instead.\n",
      "  master_art_data = master_art_data.append(data)\n",
      "/tmp/ipykernel_941308/1976528359.py:14: FutureWarning: The frame.append method is deprecated and will be removed from pandas in a future version. Use pandas.concat instead.\n",
      "  master_art_data = master_art_data.append(data)\n",
      "/tmp/ipykernel_941308/1976528359.py:14: FutureWarning: The frame.append method is deprecated and will be removed from pandas in a future version. Use pandas.concat instead.\n",
      "  master_art_data = master_art_data.append(data)\n",
      "/tmp/ipykernel_941308/1976528359.py:14: FutureWarning: The frame.append method is deprecated and will be removed from pandas in a future version. Use pandas.concat instead.\n",
      "  master_art_data = master_art_data.append(data)\n",
      "/tmp/ipykernel_941308/1976528359.py:14: FutureWarning: The frame.append method is deprecated and will be removed from pandas in a future version. Use pandas.concat instead.\n",
      "  master_art_data = master_art_data.append(data)\n",
      "/tmp/ipykernel_941308/1976528359.py:14: FutureWarning: The frame.append method is deprecated and will be removed from pandas in a future version. Use pandas.concat instead.\n",
      "  master_art_data = master_art_data.append(data)\n",
      "/tmp/ipykernel_941308/1976528359.py:14: FutureWarning: The frame.append method is deprecated and will be removed from pandas in a future version. Use pandas.concat instead.\n",
      "  master_art_data = master_art_data.append(data)\n",
      "/tmp/ipykernel_941308/1976528359.py:14: FutureWarning: The frame.append method is deprecated and will be removed from pandas in a future version. Use pandas.concat instead.\n",
      "  master_art_data = master_art_data.append(data)\n",
      "/tmp/ipykernel_941308/1976528359.py:14: FutureWarning: The frame.append method is deprecated and will be removed from pandas in a future version. Use pandas.concat instead.\n",
      "  master_art_data = master_art_data.append(data)\n",
      "/tmp/ipykernel_941308/1976528359.py:14: FutureWarning: The frame.append method is deprecated and will be removed from pandas in a future version. Use pandas.concat instead.\n",
      "  master_art_data = master_art_data.append(data)\n",
      "/tmp/ipykernel_941308/1976528359.py:14: FutureWarning: The frame.append method is deprecated and will be removed from pandas in a future version. Use pandas.concat instead.\n",
      "  master_art_data = master_art_data.append(data)\n",
      "/tmp/ipykernel_941308/1976528359.py:14: FutureWarning: The frame.append method is deprecated and will be removed from pandas in a future version. Use pandas.concat instead.\n",
      "  master_art_data = master_art_data.append(data)\n",
      "/tmp/ipykernel_941308/1976528359.py:14: FutureWarning: The frame.append method is deprecated and will be removed from pandas in a future version. Use pandas.concat instead.\n",
      "  master_art_data = master_art_data.append(data)\n",
      "/tmp/ipykernel_941308/1976528359.py:14: FutureWarning: The frame.append method is deprecated and will be removed from pandas in a future version. Use pandas.concat instead.\n",
      "  master_art_data = master_art_data.append(data)\n",
      "/tmp/ipykernel_941308/1976528359.py:14: FutureWarning: The frame.append method is deprecated and will be removed from pandas in a future version. Use pandas.concat instead.\n",
      "  master_art_data = master_art_data.append(data)\n",
      "/tmp/ipykernel_941308/1976528359.py:14: FutureWarning: The frame.append method is deprecated and will be removed from pandas in a future version. Use pandas.concat instead.\n",
      "  master_art_data = master_art_data.append(data)\n",
      "/tmp/ipykernel_941308/1976528359.py:14: FutureWarning: The frame.append method is deprecated and will be removed from pandas in a future version. Use pandas.concat instead.\n",
      "  master_art_data = master_art_data.append(data)\n",
      "/tmp/ipykernel_941308/1976528359.py:14: FutureWarning: The frame.append method is deprecated and will be removed from pandas in a future version. Use pandas.concat instead.\n",
      "  master_art_data = master_art_data.append(data)\n",
      "/tmp/ipykernel_941308/1976528359.py:14: FutureWarning: The frame.append method is deprecated and will be removed from pandas in a future version. Use pandas.concat instead.\n",
      "  master_art_data = master_art_data.append(data)\n",
      "/tmp/ipykernel_941308/1976528359.py:14: FutureWarning: The frame.append method is deprecated and will be removed from pandas in a future version. Use pandas.concat instead.\n",
      "  master_art_data = master_art_data.append(data)\n",
      "/tmp/ipykernel_941308/1976528359.py:14: FutureWarning: The frame.append method is deprecated and will be removed from pandas in a future version. Use pandas.concat instead.\n",
      "  master_art_data = master_art_data.append(data)\n",
      "/tmp/ipykernel_941308/1976528359.py:14: FutureWarning: The frame.append method is deprecated and will be removed from pandas in a future version. Use pandas.concat instead.\n",
      "  master_art_data = master_art_data.append(data)\n",
      "/tmp/ipykernel_941308/1976528359.py:14: FutureWarning: The frame.append method is deprecated and will be removed from pandas in a future version. Use pandas.concat instead.\n",
      "  master_art_data = master_art_data.append(data)\n",
      "/tmp/ipykernel_941308/1976528359.py:14: FutureWarning: The frame.append method is deprecated and will be removed from pandas in a future version. Use pandas.concat instead.\n",
      "  master_art_data = master_art_data.append(data)\n",
      "/tmp/ipykernel_941308/1976528359.py:14: FutureWarning: The frame.append method is deprecated and will be removed from pandas in a future version. Use pandas.concat instead.\n",
      "  master_art_data = master_art_data.append(data)\n",
      "/tmp/ipykernel_941308/1976528359.py:14: FutureWarning: The frame.append method is deprecated and will be removed from pandas in a future version. Use pandas.concat instead.\n",
      "  master_art_data = master_art_data.append(data)\n",
      "/tmp/ipykernel_941308/1976528359.py:14: FutureWarning: The frame.append method is deprecated and will be removed from pandas in a future version. Use pandas.concat instead.\n",
      "  master_art_data = master_art_data.append(data)\n",
      "/tmp/ipykernel_941308/1976528359.py:14: FutureWarning: The frame.append method is deprecated and will be removed from pandas in a future version. Use pandas.concat instead.\n",
      "  master_art_data = master_art_data.append(data)\n",
      "/tmp/ipykernel_941308/1976528359.py:14: FutureWarning: The frame.append method is deprecated and will be removed from pandas in a future version. Use pandas.concat instead.\n",
      "  master_art_data = master_art_data.append(data)\n"
     ]
    },
    {
     "name": "stderr",
     "output_type": "stream",
     "text": [
      "/tmp/ipykernel_941308/1976528359.py:14: FutureWarning: The frame.append method is deprecated and will be removed from pandas in a future version. Use pandas.concat instead.\n",
      "  master_art_data = master_art_data.append(data)\n",
      "/tmp/ipykernel_941308/1976528359.py:14: FutureWarning: The frame.append method is deprecated and will be removed from pandas in a future version. Use pandas.concat instead.\n",
      "  master_art_data = master_art_data.append(data)\n",
      "/tmp/ipykernel_941308/1976528359.py:14: FutureWarning: The frame.append method is deprecated and will be removed from pandas in a future version. Use pandas.concat instead.\n",
      "  master_art_data = master_art_data.append(data)\n",
      "/tmp/ipykernel_941308/1976528359.py:14: FutureWarning: The frame.append method is deprecated and will be removed from pandas in a future version. Use pandas.concat instead.\n",
      "  master_art_data = master_art_data.append(data)\n",
      "/tmp/ipykernel_941308/1976528359.py:14: FutureWarning: The frame.append method is deprecated and will be removed from pandas in a future version. Use pandas.concat instead.\n",
      "  master_art_data = master_art_data.append(data)\n",
      "/tmp/ipykernel_941308/1976528359.py:14: FutureWarning: The frame.append method is deprecated and will be removed from pandas in a future version. Use pandas.concat instead.\n",
      "  master_art_data = master_art_data.append(data)\n",
      "/tmp/ipykernel_941308/1976528359.py:14: FutureWarning: The frame.append method is deprecated and will be removed from pandas in a future version. Use pandas.concat instead.\n",
      "  master_art_data = master_art_data.append(data)\n",
      "/tmp/ipykernel_941308/1976528359.py:14: FutureWarning: The frame.append method is deprecated and will be removed from pandas in a future version. Use pandas.concat instead.\n",
      "  master_art_data = master_art_data.append(data)\n",
      "/tmp/ipykernel_941308/1976528359.py:14: FutureWarning: The frame.append method is deprecated and will be removed from pandas in a future version. Use pandas.concat instead.\n",
      "  master_art_data = master_art_data.append(data)\n",
      "/tmp/ipykernel_941308/1976528359.py:14: FutureWarning: The frame.append method is deprecated and will be removed from pandas in a future version. Use pandas.concat instead.\n",
      "  master_art_data = master_art_data.append(data)\n",
      "/tmp/ipykernel_941308/1976528359.py:14: FutureWarning: The frame.append method is deprecated and will be removed from pandas in a future version. Use pandas.concat instead.\n",
      "  master_art_data = master_art_data.append(data)\n",
      "/tmp/ipykernel_941308/1976528359.py:14: FutureWarning: The frame.append method is deprecated and will be removed from pandas in a future version. Use pandas.concat instead.\n",
      "  master_art_data = master_art_data.append(data)\n",
      "/tmp/ipykernel_941308/1976528359.py:14: FutureWarning: The frame.append method is deprecated and will be removed from pandas in a future version. Use pandas.concat instead.\n",
      "  master_art_data = master_art_data.append(data)\n",
      "/tmp/ipykernel_941308/1976528359.py:14: FutureWarning: The frame.append method is deprecated and will be removed from pandas in a future version. Use pandas.concat instead.\n",
      "  master_art_data = master_art_data.append(data)\n",
      "/tmp/ipykernel_941308/1976528359.py:14: FutureWarning: The frame.append method is deprecated and will be removed from pandas in a future version. Use pandas.concat instead.\n",
      "  master_art_data = master_art_data.append(data)\n",
      "/tmp/ipykernel_941308/1976528359.py:14: FutureWarning: The frame.append method is deprecated and will be removed from pandas in a future version. Use pandas.concat instead.\n",
      "  master_art_data = master_art_data.append(data)\n",
      "/tmp/ipykernel_941308/1976528359.py:14: FutureWarning: The frame.append method is deprecated and will be removed from pandas in a future version. Use pandas.concat instead.\n",
      "  master_art_data = master_art_data.append(data)\n",
      "/tmp/ipykernel_941308/1976528359.py:14: FutureWarning: The frame.append method is deprecated and will be removed from pandas in a future version. Use pandas.concat instead.\n",
      "  master_art_data = master_art_data.append(data)\n",
      "/tmp/ipykernel_941308/1976528359.py:14: FutureWarning: The frame.append method is deprecated and will be removed from pandas in a future version. Use pandas.concat instead.\n",
      "  master_art_data = master_art_data.append(data)\n",
      "/tmp/ipykernel_941308/1976528359.py:14: FutureWarning: The frame.append method is deprecated and will be removed from pandas in a future version. Use pandas.concat instead.\n",
      "  master_art_data = master_art_data.append(data)\n",
      "/tmp/ipykernel_941308/1976528359.py:14: FutureWarning: The frame.append method is deprecated and will be removed from pandas in a future version. Use pandas.concat instead.\n",
      "  master_art_data = master_art_data.append(data)\n",
      "/tmp/ipykernel_941308/1976528359.py:14: FutureWarning: The frame.append method is deprecated and will be removed from pandas in a future version. Use pandas.concat instead.\n",
      "  master_art_data = master_art_data.append(data)\n",
      "/tmp/ipykernel_941308/1976528359.py:14: FutureWarning: The frame.append method is deprecated and will be removed from pandas in a future version. Use pandas.concat instead.\n",
      "  master_art_data = master_art_data.append(data)\n",
      "/tmp/ipykernel_941308/1976528359.py:14: FutureWarning: The frame.append method is deprecated and will be removed from pandas in a future version. Use pandas.concat instead.\n",
      "  master_art_data = master_art_data.append(data)\n",
      "/tmp/ipykernel_941308/1976528359.py:14: FutureWarning: The frame.append method is deprecated and will be removed from pandas in a future version. Use pandas.concat instead.\n",
      "  master_art_data = master_art_data.append(data)\n",
      "/tmp/ipykernel_941308/1976528359.py:14: FutureWarning: The frame.append method is deprecated and will be removed from pandas in a future version. Use pandas.concat instead.\n",
      "  master_art_data = master_art_data.append(data)\n",
      "/tmp/ipykernel_941308/1976528359.py:14: FutureWarning: The frame.append method is deprecated and will be removed from pandas in a future version. Use pandas.concat instead.\n",
      "  master_art_data = master_art_data.append(data)\n",
      "/tmp/ipykernel_941308/1976528359.py:14: FutureWarning: The frame.append method is deprecated and will be removed from pandas in a future version. Use pandas.concat instead.\n",
      "  master_art_data = master_art_data.append(data)\n",
      "/tmp/ipykernel_941308/1976528359.py:14: FutureWarning: The frame.append method is deprecated and will be removed from pandas in a future version. Use pandas.concat instead.\n",
      "  master_art_data = master_art_data.append(data)\n",
      "/tmp/ipykernel_941308/1976528359.py:14: FutureWarning: The frame.append method is deprecated and will be removed from pandas in a future version. Use pandas.concat instead.\n",
      "  master_art_data = master_art_data.append(data)\n",
      "/tmp/ipykernel_941308/1976528359.py:14: FutureWarning: The frame.append method is deprecated and will be removed from pandas in a future version. Use pandas.concat instead.\n",
      "  master_art_data = master_art_data.append(data)\n",
      "/tmp/ipykernel_941308/1976528359.py:14: FutureWarning: The frame.append method is deprecated and will be removed from pandas in a future version. Use pandas.concat instead.\n",
      "  master_art_data = master_art_data.append(data)\n",
      "/tmp/ipykernel_941308/1976528359.py:14: FutureWarning: The frame.append method is deprecated and will be removed from pandas in a future version. Use pandas.concat instead.\n",
      "  master_art_data = master_art_data.append(data)\n",
      "/tmp/ipykernel_941308/1976528359.py:14: FutureWarning: The frame.append method is deprecated and will be removed from pandas in a future version. Use pandas.concat instead.\n",
      "  master_art_data = master_art_data.append(data)\n",
      "/tmp/ipykernel_941308/1976528359.py:14: FutureWarning: The frame.append method is deprecated and will be removed from pandas in a future version. Use pandas.concat instead.\n",
      "  master_art_data = master_art_data.append(data)\n",
      "/tmp/ipykernel_941308/1976528359.py:14: FutureWarning: The frame.append method is deprecated and will be removed from pandas in a future version. Use pandas.concat instead.\n",
      "  master_art_data = master_art_data.append(data)\n",
      "/tmp/ipykernel_941308/1976528359.py:14: FutureWarning: The frame.append method is deprecated and will be removed from pandas in a future version. Use pandas.concat instead.\n",
      "  master_art_data = master_art_data.append(data)\n"
     ]
    },
    {
     "name": "stderr",
     "output_type": "stream",
     "text": [
      "/tmp/ipykernel_941308/1976528359.py:14: FutureWarning: The frame.append method is deprecated and will be removed from pandas in a future version. Use pandas.concat instead.\n",
      "  master_art_data = master_art_data.append(data)\n"
     ]
    }
   ],
   "source": [
    "PAF_Values_1 = load_artifact_data(locations_1)"
   ]
  },
  {
   "cell_type": "code",
   "execution_count": 4,
   "id": "644f856b",
   "metadata": {
    "scrolled": true
   },
   "outputs": [
    {
     "name": "stderr",
     "output_type": "stream",
     "text": [
      "/tmp/ipykernel_1164942/1976528359.py:14: FutureWarning: The frame.append method is deprecated and will be removed from pandas in a future version. Use pandas.concat instead.\n",
      "  master_art_data = master_art_data.append(data)\n",
      "/tmp/ipykernel_1164942/1976528359.py:14: FutureWarning: The frame.append method is deprecated and will be removed from pandas in a future version. Use pandas.concat instead.\n",
      "  master_art_data = master_art_data.append(data)\n",
      "/tmp/ipykernel_1164942/1976528359.py:14: FutureWarning: The frame.append method is deprecated and will be removed from pandas in a future version. Use pandas.concat instead.\n",
      "  master_art_data = master_art_data.append(data)\n",
      "/tmp/ipykernel_1164942/1976528359.py:14: FutureWarning: The frame.append method is deprecated and will be removed from pandas in a future version. Use pandas.concat instead.\n",
      "  master_art_data = master_art_data.append(data)\n",
      "/tmp/ipykernel_1164942/1976528359.py:14: FutureWarning: The frame.append method is deprecated and will be removed from pandas in a future version. Use pandas.concat instead.\n",
      "  master_art_data = master_art_data.append(data)\n",
      "/tmp/ipykernel_1164942/1976528359.py:14: FutureWarning: The frame.append method is deprecated and will be removed from pandas in a future version. Use pandas.concat instead.\n",
      "  master_art_data = master_art_data.append(data)\n",
      "/tmp/ipykernel_1164942/1976528359.py:14: FutureWarning: The frame.append method is deprecated and will be removed from pandas in a future version. Use pandas.concat instead.\n",
      "  master_art_data = master_art_data.append(data)\n",
      "/tmp/ipykernel_1164942/1976528359.py:14: FutureWarning: The frame.append method is deprecated and will be removed from pandas in a future version. Use pandas.concat instead.\n",
      "  master_art_data = master_art_data.append(data)\n",
      "/tmp/ipykernel_1164942/1976528359.py:14: FutureWarning: The frame.append method is deprecated and will be removed from pandas in a future version. Use pandas.concat instead.\n",
      "  master_art_data = master_art_data.append(data)\n",
      "/tmp/ipykernel_1164942/1976528359.py:14: FutureWarning: The frame.append method is deprecated and will be removed from pandas in a future version. Use pandas.concat instead.\n",
      "  master_art_data = master_art_data.append(data)\n",
      "/tmp/ipykernel_1164942/1976528359.py:14: FutureWarning: The frame.append method is deprecated and will be removed from pandas in a future version. Use pandas.concat instead.\n",
      "  master_art_data = master_art_data.append(data)\n",
      "/tmp/ipykernel_1164942/1976528359.py:14: FutureWarning: The frame.append method is deprecated and will be removed from pandas in a future version. Use pandas.concat instead.\n",
      "  master_art_data = master_art_data.append(data)\n",
      "/tmp/ipykernel_1164942/1976528359.py:14: FutureWarning: The frame.append method is deprecated and will be removed from pandas in a future version. Use pandas.concat instead.\n",
      "  master_art_data = master_art_data.append(data)\n",
      "/tmp/ipykernel_1164942/1976528359.py:14: FutureWarning: The frame.append method is deprecated and will be removed from pandas in a future version. Use pandas.concat instead.\n",
      "  master_art_data = master_art_data.append(data)\n",
      "/tmp/ipykernel_1164942/1976528359.py:14: FutureWarning: The frame.append method is deprecated and will be removed from pandas in a future version. Use pandas.concat instead.\n",
      "  master_art_data = master_art_data.append(data)\n",
      "/tmp/ipykernel_1164942/1976528359.py:14: FutureWarning: The frame.append method is deprecated and will be removed from pandas in a future version. Use pandas.concat instead.\n",
      "  master_art_data = master_art_data.append(data)\n",
      "/tmp/ipykernel_1164942/1976528359.py:14: FutureWarning: The frame.append method is deprecated and will be removed from pandas in a future version. Use pandas.concat instead.\n",
      "  master_art_data = master_art_data.append(data)\n",
      "/tmp/ipykernel_1164942/1976528359.py:14: FutureWarning: The frame.append method is deprecated and will be removed from pandas in a future version. Use pandas.concat instead.\n",
      "  master_art_data = master_art_data.append(data)\n",
      "/tmp/ipykernel_1164942/1976528359.py:14: FutureWarning: The frame.append method is deprecated and will be removed from pandas in a future version. Use pandas.concat instead.\n",
      "  master_art_data = master_art_data.append(data)\n",
      "/tmp/ipykernel_1164942/1976528359.py:14: FutureWarning: The frame.append method is deprecated and will be removed from pandas in a future version. Use pandas.concat instead.\n",
      "  master_art_data = master_art_data.append(data)\n",
      "/tmp/ipykernel_1164942/1976528359.py:14: FutureWarning: The frame.append method is deprecated and will be removed from pandas in a future version. Use pandas.concat instead.\n",
      "  master_art_data = master_art_data.append(data)\n",
      "/tmp/ipykernel_1164942/1976528359.py:14: FutureWarning: The frame.append method is deprecated and will be removed from pandas in a future version. Use pandas.concat instead.\n",
      "  master_art_data = master_art_data.append(data)\n",
      "/tmp/ipykernel_1164942/1976528359.py:14: FutureWarning: The frame.append method is deprecated and will be removed from pandas in a future version. Use pandas.concat instead.\n",
      "  master_art_data = master_art_data.append(data)\n",
      "/tmp/ipykernel_1164942/1976528359.py:14: FutureWarning: The frame.append method is deprecated and will be removed from pandas in a future version. Use pandas.concat instead.\n",
      "  master_art_data = master_art_data.append(data)\n",
      "/tmp/ipykernel_1164942/1976528359.py:14: FutureWarning: The frame.append method is deprecated and will be removed from pandas in a future version. Use pandas.concat instead.\n",
      "  master_art_data = master_art_data.append(data)\n",
      "/tmp/ipykernel_1164942/1976528359.py:14: FutureWarning: The frame.append method is deprecated and will be removed from pandas in a future version. Use pandas.concat instead.\n",
      "  master_art_data = master_art_data.append(data)\n",
      "/tmp/ipykernel_1164942/1976528359.py:14: FutureWarning: The frame.append method is deprecated and will be removed from pandas in a future version. Use pandas.concat instead.\n",
      "  master_art_data = master_art_data.append(data)\n",
      "/tmp/ipykernel_1164942/1976528359.py:14: FutureWarning: The frame.append method is deprecated and will be removed from pandas in a future version. Use pandas.concat instead.\n",
      "  master_art_data = master_art_data.append(data)\n",
      "/tmp/ipykernel_1164942/1976528359.py:14: FutureWarning: The frame.append method is deprecated and will be removed from pandas in a future version. Use pandas.concat instead.\n",
      "  master_art_data = master_art_data.append(data)\n",
      "/tmp/ipykernel_1164942/1976528359.py:14: FutureWarning: The frame.append method is deprecated and will be removed from pandas in a future version. Use pandas.concat instead.\n",
      "  master_art_data = master_art_data.append(data)\n",
      "/tmp/ipykernel_1164942/1976528359.py:14: FutureWarning: The frame.append method is deprecated and will be removed from pandas in a future version. Use pandas.concat instead.\n",
      "  master_art_data = master_art_data.append(data)\n",
      "/tmp/ipykernel_1164942/1976528359.py:14: FutureWarning: The frame.append method is deprecated and will be removed from pandas in a future version. Use pandas.concat instead.\n",
      "  master_art_data = master_art_data.append(data)\n",
      "/tmp/ipykernel_1164942/1976528359.py:14: FutureWarning: The frame.append method is deprecated and will be removed from pandas in a future version. Use pandas.concat instead.\n",
      "  master_art_data = master_art_data.append(data)\n",
      "/tmp/ipykernel_1164942/1976528359.py:14: FutureWarning: The frame.append method is deprecated and will be removed from pandas in a future version. Use pandas.concat instead.\n",
      "  master_art_data = master_art_data.append(data)\n",
      "/tmp/ipykernel_1164942/1976528359.py:14: FutureWarning: The frame.append method is deprecated and will be removed from pandas in a future version. Use pandas.concat instead.\n",
      "  master_art_data = master_art_data.append(data)\n",
      "/tmp/ipykernel_1164942/1976528359.py:14: FutureWarning: The frame.append method is deprecated and will be removed from pandas in a future version. Use pandas.concat instead.\n",
      "  master_art_data = master_art_data.append(data)\n",
      "/tmp/ipykernel_1164942/1976528359.py:14: FutureWarning: The frame.append method is deprecated and will be removed from pandas in a future version. Use pandas.concat instead.\n",
      "  master_art_data = master_art_data.append(data)\n"
     ]
    },
    {
     "name": "stderr",
     "output_type": "stream",
     "text": [
      "/tmp/ipykernel_1164942/1976528359.py:14: FutureWarning: The frame.append method is deprecated and will be removed from pandas in a future version. Use pandas.concat instead.\n",
      "  master_art_data = master_art_data.append(data)\n",
      "/tmp/ipykernel_1164942/1976528359.py:14: FutureWarning: The frame.append method is deprecated and will be removed from pandas in a future version. Use pandas.concat instead.\n",
      "  master_art_data = master_art_data.append(data)\n",
      "/tmp/ipykernel_1164942/1976528359.py:14: FutureWarning: The frame.append method is deprecated and will be removed from pandas in a future version. Use pandas.concat instead.\n",
      "  master_art_data = master_art_data.append(data)\n",
      "/tmp/ipykernel_1164942/1976528359.py:14: FutureWarning: The frame.append method is deprecated and will be removed from pandas in a future version. Use pandas.concat instead.\n",
      "  master_art_data = master_art_data.append(data)\n",
      "/tmp/ipykernel_1164942/1976528359.py:14: FutureWarning: The frame.append method is deprecated and will be removed from pandas in a future version. Use pandas.concat instead.\n",
      "  master_art_data = master_art_data.append(data)\n",
      "/tmp/ipykernel_1164942/1976528359.py:14: FutureWarning: The frame.append method is deprecated and will be removed from pandas in a future version. Use pandas.concat instead.\n",
      "  master_art_data = master_art_data.append(data)\n",
      "/tmp/ipykernel_1164942/1976528359.py:14: FutureWarning: The frame.append method is deprecated and will be removed from pandas in a future version. Use pandas.concat instead.\n",
      "  master_art_data = master_art_data.append(data)\n",
      "/tmp/ipykernel_1164942/1976528359.py:14: FutureWarning: The frame.append method is deprecated and will be removed from pandas in a future version. Use pandas.concat instead.\n",
      "  master_art_data = master_art_data.append(data)\n"
     ]
    }
   ],
   "source": [
    "PAF_Values_2 = load_artifact_data(locations_2)"
   ]
  },
  {
   "cell_type": "code",
   "execution_count": 5,
   "id": "2486a7c1",
   "metadata": {
    "scrolled": true
   },
   "outputs": [
    {
     "name": "stderr",
     "output_type": "stream",
     "text": [
      "/tmp/ipykernel_1164942/1976528359.py:14: FutureWarning: The frame.append method is deprecated and will be removed from pandas in a future version. Use pandas.concat instead.\n",
      "  master_art_data = master_art_data.append(data)\n",
      "/tmp/ipykernel_1164942/1976528359.py:14: FutureWarning: The frame.append method is deprecated and will be removed from pandas in a future version. Use pandas.concat instead.\n",
      "  master_art_data = master_art_data.append(data)\n",
      "/tmp/ipykernel_1164942/1976528359.py:14: FutureWarning: The frame.append method is deprecated and will be removed from pandas in a future version. Use pandas.concat instead.\n",
      "  master_art_data = master_art_data.append(data)\n",
      "/tmp/ipykernel_1164942/1976528359.py:14: FutureWarning: The frame.append method is deprecated and will be removed from pandas in a future version. Use pandas.concat instead.\n",
      "  master_art_data = master_art_data.append(data)\n",
      "/tmp/ipykernel_1164942/1976528359.py:14: FutureWarning: The frame.append method is deprecated and will be removed from pandas in a future version. Use pandas.concat instead.\n",
      "  master_art_data = master_art_data.append(data)\n",
      "/tmp/ipykernel_1164942/1976528359.py:14: FutureWarning: The frame.append method is deprecated and will be removed from pandas in a future version. Use pandas.concat instead.\n",
      "  master_art_data = master_art_data.append(data)\n",
      "/tmp/ipykernel_1164942/1976528359.py:14: FutureWarning: The frame.append method is deprecated and will be removed from pandas in a future version. Use pandas.concat instead.\n",
      "  master_art_data = master_art_data.append(data)\n",
      "/tmp/ipykernel_1164942/1976528359.py:14: FutureWarning: The frame.append method is deprecated and will be removed from pandas in a future version. Use pandas.concat instead.\n",
      "  master_art_data = master_art_data.append(data)\n",
      "/tmp/ipykernel_1164942/1976528359.py:14: FutureWarning: The frame.append method is deprecated and will be removed from pandas in a future version. Use pandas.concat instead.\n",
      "  master_art_data = master_art_data.append(data)\n",
      "/tmp/ipykernel_1164942/1976528359.py:14: FutureWarning: The frame.append method is deprecated and will be removed from pandas in a future version. Use pandas.concat instead.\n",
      "  master_art_data = master_art_data.append(data)\n",
      "/tmp/ipykernel_1164942/1976528359.py:14: FutureWarning: The frame.append method is deprecated and will be removed from pandas in a future version. Use pandas.concat instead.\n",
      "  master_art_data = master_art_data.append(data)\n",
      "/tmp/ipykernel_1164942/1976528359.py:14: FutureWarning: The frame.append method is deprecated and will be removed from pandas in a future version. Use pandas.concat instead.\n",
      "  master_art_data = master_art_data.append(data)\n",
      "/tmp/ipykernel_1164942/1976528359.py:14: FutureWarning: The frame.append method is deprecated and will be removed from pandas in a future version. Use pandas.concat instead.\n",
      "  master_art_data = master_art_data.append(data)\n",
      "/tmp/ipykernel_1164942/1976528359.py:14: FutureWarning: The frame.append method is deprecated and will be removed from pandas in a future version. Use pandas.concat instead.\n",
      "  master_art_data = master_art_data.append(data)\n",
      "/tmp/ipykernel_1164942/1976528359.py:14: FutureWarning: The frame.append method is deprecated and will be removed from pandas in a future version. Use pandas.concat instead.\n",
      "  master_art_data = master_art_data.append(data)\n",
      "/tmp/ipykernel_1164942/1976528359.py:14: FutureWarning: The frame.append method is deprecated and will be removed from pandas in a future version. Use pandas.concat instead.\n",
      "  master_art_data = master_art_data.append(data)\n",
      "/tmp/ipykernel_1164942/1976528359.py:14: FutureWarning: The frame.append method is deprecated and will be removed from pandas in a future version. Use pandas.concat instead.\n",
      "  master_art_data = master_art_data.append(data)\n",
      "/tmp/ipykernel_1164942/1976528359.py:14: FutureWarning: The frame.append method is deprecated and will be removed from pandas in a future version. Use pandas.concat instead.\n",
      "  master_art_data = master_art_data.append(data)\n",
      "/tmp/ipykernel_1164942/1976528359.py:14: FutureWarning: The frame.append method is deprecated and will be removed from pandas in a future version. Use pandas.concat instead.\n",
      "  master_art_data = master_art_data.append(data)\n",
      "/tmp/ipykernel_1164942/1976528359.py:14: FutureWarning: The frame.append method is deprecated and will be removed from pandas in a future version. Use pandas.concat instead.\n",
      "  master_art_data = master_art_data.append(data)\n",
      "/tmp/ipykernel_1164942/1976528359.py:14: FutureWarning: The frame.append method is deprecated and will be removed from pandas in a future version. Use pandas.concat instead.\n",
      "  master_art_data = master_art_data.append(data)\n",
      "/tmp/ipykernel_1164942/1976528359.py:14: FutureWarning: The frame.append method is deprecated and will be removed from pandas in a future version. Use pandas.concat instead.\n",
      "  master_art_data = master_art_data.append(data)\n",
      "/tmp/ipykernel_1164942/1976528359.py:14: FutureWarning: The frame.append method is deprecated and will be removed from pandas in a future version. Use pandas.concat instead.\n",
      "  master_art_data = master_art_data.append(data)\n",
      "/tmp/ipykernel_1164942/1976528359.py:14: FutureWarning: The frame.append method is deprecated and will be removed from pandas in a future version. Use pandas.concat instead.\n",
      "  master_art_data = master_art_data.append(data)\n",
      "/tmp/ipykernel_1164942/1976528359.py:14: FutureWarning: The frame.append method is deprecated and will be removed from pandas in a future version. Use pandas.concat instead.\n",
      "  master_art_data = master_art_data.append(data)\n",
      "/tmp/ipykernel_1164942/1976528359.py:14: FutureWarning: The frame.append method is deprecated and will be removed from pandas in a future version. Use pandas.concat instead.\n",
      "  master_art_data = master_art_data.append(data)\n",
      "/tmp/ipykernel_1164942/1976528359.py:14: FutureWarning: The frame.append method is deprecated and will be removed from pandas in a future version. Use pandas.concat instead.\n",
      "  master_art_data = master_art_data.append(data)\n",
      "/tmp/ipykernel_1164942/1976528359.py:14: FutureWarning: The frame.append method is deprecated and will be removed from pandas in a future version. Use pandas.concat instead.\n",
      "  master_art_data = master_art_data.append(data)\n",
      "/tmp/ipykernel_1164942/1976528359.py:14: FutureWarning: The frame.append method is deprecated and will be removed from pandas in a future version. Use pandas.concat instead.\n",
      "  master_art_data = master_art_data.append(data)\n",
      "/tmp/ipykernel_1164942/1976528359.py:14: FutureWarning: The frame.append method is deprecated and will be removed from pandas in a future version. Use pandas.concat instead.\n",
      "  master_art_data = master_art_data.append(data)\n",
      "/tmp/ipykernel_1164942/1976528359.py:14: FutureWarning: The frame.append method is deprecated and will be removed from pandas in a future version. Use pandas.concat instead.\n",
      "  master_art_data = master_art_data.append(data)\n",
      "/tmp/ipykernel_1164942/1976528359.py:14: FutureWarning: The frame.append method is deprecated and will be removed from pandas in a future version. Use pandas.concat instead.\n",
      "  master_art_data = master_art_data.append(data)\n",
      "/tmp/ipykernel_1164942/1976528359.py:14: FutureWarning: The frame.append method is deprecated and will be removed from pandas in a future version. Use pandas.concat instead.\n",
      "  master_art_data = master_art_data.append(data)\n"
     ]
    }
   ],
   "source": [
    "PAF_Values_3 = load_artifact_data(locations_3)"
   ]
  },
  {
   "cell_type": "markdown",
   "id": "9aa9f103",
   "metadata": {},
   "source": [
    "### Test for Zero Values"
   ]
  },
  {
   "cell_type": "code",
   "execution_count": 6,
   "id": "3f931ef3",
   "metadata": {},
   "outputs": [],
   "source": [
    "def test_zero(pafs, draws, locations):\n",
    "    zero_values = pd.DataFrame()\n",
    "    pafs.reset_index(inplace=True)\n",
    "    for draw in draws: \n",
    "        for i in locations: \n",
    "            for j in risks: \n",
    "                for k in outcomes: \n",
    "                    for m in ages: \n",
    "                        for n in sexes: \n",
    "                            subdata = pafs.loc[(pafs.location == i) & (pafs.risk == j) & (pafs.affected_entity == k) & (pafs.age_start == m) & (pafs.sex == n)]\n",
    "                            loc = i\n",
    "                            risk = j\n",
    "                            outcome = k\n",
    "                            age = m\n",
    "                            sex = n\n",
    "                            draw = draw\n",
    "                            if not subdata.loc[subdata[draw] == 0].empty:\n",
    "                                zero_values_temp = pd.DataFrame([loc,risk,outcome,age,sex,draw]).transpose()\n",
    "                                zero_values = pd.concat([zero_values,zero_values_temp], ignore_index=True)\n",
    "    zero_values.rename(columns={0:'location',1:'risk',2:'outcome',3:'age',4:'sex',5:'draw'}, inplace=True)\n",
    "    return zero_values"
   ]
  },
  {
   "cell_type": "code",
   "execution_count": 7,
   "id": "7d1f7c5d",
   "metadata": {},
   "outputs": [
    {
     "ename": "NameError",
     "evalue": "name 'PAF_Values_1' is not defined",
     "output_type": "error",
     "traceback": [
      "\u001b[0;31m---------------------------------------------------------------------------\u001b[0m",
      "\u001b[0;31mNameError\u001b[0m                                 Traceback (most recent call last)",
      "Cell \u001b[0;32mIn[7], line 1\u001b[0m\n\u001b[0;32m----> 1\u001b[0m draw_test \u001b[38;5;241m=\u001b[39m \u001b[38;5;28mlist\u001b[39m(\u001b[43mPAF_Values_1\u001b[49m\u001b[38;5;241m.\u001b[39mcolumns)\n",
      "\u001b[0;31mNameError\u001b[0m: name 'PAF_Values_1' is not defined"
     ]
    }
   ],
   "source": [
    "draw_test = list(PAF_Values_1.columns)"
   ]
  },
  {
   "cell_type": "code",
   "execution_count": 11,
   "id": "7f8dbca0",
   "metadata": {},
   "outputs": [],
   "source": [
    "paf_zeros_1 = test_zero(PAF_Values_1, draw_test, locations_1)"
   ]
  },
  {
   "cell_type": "code",
   "execution_count": 12,
   "id": "d93abec4",
   "metadata": {},
   "outputs": [
    {
     "data": {
      "text/html": [
       "<div>\n",
       "<style scoped>\n",
       "    .dataframe tbody tr th:only-of-type {\n",
       "        vertical-align: middle;\n",
       "    }\n",
       "\n",
       "    .dataframe tbody tr th {\n",
       "        vertical-align: top;\n",
       "    }\n",
       "\n",
       "    .dataframe thead th {\n",
       "        text-align: right;\n",
       "    }\n",
       "</style>\n",
       "<table border=\"1\" class=\"dataframe\">\n",
       "  <thead>\n",
       "    <tr style=\"text-align: right;\">\n",
       "      <th></th>\n",
       "      <th>location</th>\n",
       "      <th>risk</th>\n",
       "      <th>outcome</th>\n",
       "      <th>age</th>\n",
       "      <th>sex</th>\n",
       "      <th>draw</th>\n",
       "    </tr>\n",
       "  </thead>\n",
       "  <tbody>\n",
       "    <tr>\n",
       "      <th>0</th>\n",
       "      <td>hawaii</td>\n",
       "      <td>high_body_mass_index_in_adults</td>\n",
       "      <td>acute_ischemic_stroke</td>\n",
       "      <td>80.0</td>\n",
       "      <td>Female</td>\n",
       "      <td>draw_0</td>\n",
       "    </tr>\n",
       "    <tr>\n",
       "      <th>1</th>\n",
       "      <td>hawaii</td>\n",
       "      <td>high_body_mass_index_in_adults</td>\n",
       "      <td>acute_ischemic_stroke</td>\n",
       "      <td>80.0</td>\n",
       "      <td>Male</td>\n",
       "      <td>draw_0</td>\n",
       "    </tr>\n",
       "    <tr>\n",
       "      <th>2</th>\n",
       "      <td>hawaii</td>\n",
       "      <td>high_body_mass_index_in_adults</td>\n",
       "      <td>acute_ischemic_stroke</td>\n",
       "      <td>85.0</td>\n",
       "      <td>Female</td>\n",
       "      <td>draw_0</td>\n",
       "    </tr>\n",
       "    <tr>\n",
       "      <th>3</th>\n",
       "      <td>hawaii</td>\n",
       "      <td>high_body_mass_index_in_adults</td>\n",
       "      <td>acute_ischemic_stroke</td>\n",
       "      <td>85.0</td>\n",
       "      <td>Male</td>\n",
       "      <td>draw_0</td>\n",
       "    </tr>\n",
       "    <tr>\n",
       "      <th>4</th>\n",
       "      <td>hawaii</td>\n",
       "      <td>high_body_mass_index_in_adults</td>\n",
       "      <td>acute_ischemic_stroke</td>\n",
       "      <td>90.0</td>\n",
       "      <td>Female</td>\n",
       "      <td>draw_0</td>\n",
       "    </tr>\n",
       "  </tbody>\n",
       "</table>\n",
       "</div>"
      ],
      "text/plain": [
       "  location                            risk                outcome   age  \\\n",
       "0   hawaii  high_body_mass_index_in_adults  acute_ischemic_stroke  80.0   \n",
       "1   hawaii  high_body_mass_index_in_adults  acute_ischemic_stroke  80.0   \n",
       "2   hawaii  high_body_mass_index_in_adults  acute_ischemic_stroke  85.0   \n",
       "3   hawaii  high_body_mass_index_in_adults  acute_ischemic_stroke  85.0   \n",
       "4   hawaii  high_body_mass_index_in_adults  acute_ischemic_stroke  90.0   \n",
       "\n",
       "      sex    draw  \n",
       "0  Female  draw_0  \n",
       "1    Male  draw_0  \n",
       "2  Female  draw_0  \n",
       "3    Male  draw_0  \n",
       "4  Female  draw_0  "
      ]
     },
     "execution_count": 12,
     "metadata": {},
     "output_type": "execute_result"
    }
   ],
   "source": [
    "paf_zeros_1.head()"
   ]
  },
  {
   "cell_type": "code",
   "execution_count": null,
   "id": "35be4beb",
   "metadata": {},
   "outputs": [],
   "source": [
    "paf_zeros_2 = test_zero(PAF_Values_2, draw_test, locations_2)"
   ]
  },
  {
   "cell_type": "code",
   "execution_count": null,
   "id": "ca19d23b",
   "metadata": {},
   "outputs": [],
   "source": [
    "paf_zeros_3 = test_zero(PAF_Values_3, draw_test, locations_3)"
   ]
  },
  {
   "cell_type": "code",
   "execution_count": null,
   "id": "04313ec2",
   "metadata": {},
   "outputs": [],
   "source": [
    "paf_zeros_1.to_csv('/ihme/homes/lutzes/paf_zero_values_1.csv')"
   ]
  },
  {
   "cell_type": "code",
   "execution_count": null,
   "id": "8b002f1c",
   "metadata": {},
   "outputs": [],
   "source": [
    "paf_zeros_2.to_csv('/ihme/homes/lutzes/paf_zero_values_2.csv')"
   ]
  },
  {
   "cell_type": "code",
   "execution_count": null,
   "id": "11874007",
   "metadata": {},
   "outputs": [],
   "source": [
    "paf_zeros_3.to_csv('/ihme/homes/lutzes/paf_zero_values_3.csv')"
   ]
  },
  {
   "cell_type": "markdown",
   "id": "ac05c4b9",
   "metadata": {},
   "source": [
    "### Test to See if Means Match"
   ]
  },
  {
   "cell_type": "code",
   "execution_count": null,
   "id": "1831e552",
   "metadata": {},
   "outputs": [],
   "source": [
    "def test_mean_match(draws):\n",
    "    for draw in draws: \n",
    "        for i in locations: \n",
    "            for j in risks: \n",
    "                subdata = pafs.loc[(pafs.location == i) & (pafs.risk == j)]\n",
    "                loc = i\n",
    "                risk = j\n",
    "                if (subdata['draw_0'].mean() == subdata[draw].mean()):\n",
    "                    print(loc,risk,draw)"
   ]
  },
  {
   "cell_type": "code",
   "execution_count": null,
   "id": "16189f4b",
   "metadata": {},
   "outputs": [],
   "source": [
    "draw_test = ['draw_3','draw_13','draw_331','draw_687','draw_999']"
   ]
  },
  {
   "cell_type": "code",
   "execution_count": null,
   "id": "ea1babd7",
   "metadata": {},
   "outputs": [],
   "source": [
    "test_mean_match(draw_test)"
   ]
  },
  {
   "cell_type": "markdown",
   "id": "b3b12324",
   "metadata": {},
   "source": [
    "### Test for Correct Affected Entities"
   ]
  },
  {
   "cell_type": "code",
   "execution_count": null,
   "id": "0aaca0c4",
   "metadata": {},
   "outputs": [],
   "source": [
    "def test_entities(draws):\n",
    "    for draw in draws: \n",
    "        for i in locations: \n",
    "            for j in risks: \n",
    "                subdata = pafs.loc[(pafs.location == i) & (pafs.risk == j)]\n",
    "                loc = i\n",
    "                risk = j\n",
    "                affected_entities = subdata.reset_index()['affected_entity'].unique()\n",
    "                if (risk == 'high_systolic_blood_pressure') | (risk == 'high_ldl_cholesterol'):\n",
    "                    if not np.array_equiv(affected_entities, test_ent_ldl_sbp):\n",
    "                        print(loc,risk,draw)\n",
    "                if (risk == 'high_body_mass_index_in_adults'):\n",
    "                    if not np.array_equiv(affected_entities, test_ent_bmi):\n",
    "                        print(loc,risk,draw)"
   ]
  },
  {
   "cell_type": "code",
   "execution_count": null,
   "id": "07076781",
   "metadata": {},
   "outputs": [],
   "source": [
    "draw_test = ['draw_0','draw_13','draw_331','draw_687','draw_999']\n",
    "test_ent_bmi = ['acute_myocardial_infarction','post_myocardial_infarction_to_acute_myocardial_infarction','acute_ischemic_stroke','chronic_ischemic_stroke_to_acute_ischemic_stroke','heart_failure_from_ischemic_heart_disease','heart_failure_residual']\n",
    "test_ent_sbp_cat = ['heart_failure_from_ischemic_heart_disease','heart_failure_residual']\n",
    "test_ent_ldl_sbp = ['acute_myocardial_infarction','post_myocardial_infarction_to_acute_myocardial_infarction','acute_ischemic_stroke','chronic_ischemic_stroke_to_acute_ischemic_stroke']"
   ]
  },
  {
   "cell_type": "code",
   "execution_count": null,
   "id": "5315a201",
   "metadata": {},
   "outputs": [],
   "source": [
    "test_entities(draw_test)"
   ]
  },
  {
   "cell_type": "markdown",
   "id": "1a419327",
   "metadata": {},
   "source": [
    "## Checking Old PAFs vs New "
   ]
  },
  {
   "cell_type": "code",
   "execution_count": null,
   "id": "d4d11138",
   "metadata": {},
   "outputs": [],
   "source": [
    "def load_old_artifact_data():\n",
    "    master_art_data = pd.DataFrame()\n",
    "    for i in locations:\n",
    "        for j in risks:\n",
    "            art = Artifact('/mnt/team/simulation_science/costeffectiveness/artifacts/vivarium_nih_us_cvd/' + i + '.hdf', \n",
    "                       filter_terms=['year_start == 2019', 'age_start >=  25']) # << MIGHT WANT TO CHANGE THESE TERMS\n",
    "        \n",
    "            data = art.load('risk_factor.' + j + '.population_attributable_fraction')\n",
    "                \n",
    "            # formatting (may want to format age as well)\n",
    "            data['location'] = i\n",
    "            data['risk'] = j\n",
    "   \n",
    "            master_art_data = master_art_data.append(data)\n",
    "        \n",
    "    return master_art_data"
   ]
  },
  {
   "cell_type": "code",
   "execution_count": null,
   "id": "f39e8369",
   "metadata": {
    "scrolled": true
   },
   "outputs": [],
   "source": [
    "old_pafs = load_old_artifact_data()\n",
    "old_pafs.head()"
   ]
  },
  {
   "cell_type": "code",
   "execution_count": null,
   "id": "bb2c83fd",
   "metadata": {},
   "outputs": [],
   "source": [
    "for j in risks: \n",
    "    plt.figure()\n",
    "    subdata1 = pafs.loc[(pafs.location == 'alabama') & (pafs.risk == j)]\n",
    "    subdata2 = old_pafs.loc[(old_pafs.location == 'alabama') & (old_pafs.risk == j)]\n",
    "    plt.scatter(subdata1['draw_729'], subdata2['draw_729'], c = 'blue')\n",
    "    plt.ylim(0,1)\n",
    "    plt.xlim(0,1)\n",
    "    plt.plot([0,1],[0,1])\n",
    "    plt.title(f'PAFs Compared for {j}')"
   ]
  },
  {
   "cell_type": "markdown",
   "id": "01ab513a",
   "metadata": {},
   "source": [
    "I have tried ~10 draws in the above code and am not seeing any type of consistent pattern between draws. "
   ]
  },
  {
   "cell_type": "code",
   "execution_count": null,
   "id": "d823958e",
   "metadata": {},
   "outputs": [],
   "source": []
  },
  {
   "cell_type": "code",
   "execution_count": null,
   "id": "74724510",
   "metadata": {},
   "outputs": [],
   "source": []
  },
  {
   "cell_type": "code",
   "execution_count": null,
   "id": "1e2ebe0a",
   "metadata": {},
   "outputs": [],
   "source": []
  }
 ],
 "metadata": {
  "kernelspec": {
   "display_name": "Python 3 (ipykernel)",
   "language": "python",
   "name": "python3"
  },
  "language_info": {
   "codemirror_mode": {
    "name": "ipython",
    "version": 3
   },
   "file_extension": ".py",
   "mimetype": "text/x-python",
   "name": "python",
   "nbconvert_exporter": "python",
   "pygments_lexer": "ipython3",
   "version": "3.8.16"
  }
 },
 "nbformat": 4,
 "nbformat_minor": 5
}
