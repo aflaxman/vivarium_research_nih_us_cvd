{
 "cells": [
  {
   "cell_type": "markdown",
   "id": "d495a449-fceb-4ebd-945e-3832cb447616",
   "metadata": {},
   "source": [
    "### Loading Packages and Data"
   ]
  },
  {
   "cell_type": "code",
   "execution_count": 2,
   "id": "cd3d6483-2cb2-49a5-a8a1-19b34851e8e5",
   "metadata": {},
   "outputs": [],
   "source": [
    "%matplotlib inline\n",
    "import matplotlib.pyplot as plt\n",
    "import numpy as np\n",
    "import pandas as pd\n",
    "pd.set_option('display.max_rows', 8)\n",
    "\n",
    "#import xarray as xr\n",
    "import warnings\n",
    "warnings.filterwarnings('ignore')\n",
    "from matplotlib.backends.backend_pdf import PdfPages"
   ]
  },
  {
   "cell_type": "code",
   "execution_count": 3,
   "id": "836af9e8-96d1-458f-848b-ca8de78678ae",
   "metadata": {},
   "outputs": [
    {
     "name": "stdout",
     "output_type": "stream",
     "text": [
      "\u001b[0m\u001b[01;34m__pycache__\u001b[0m/   keyspace.yaml             output.hdf\n",
      "branches.yaml  \u001b[01;34mlogs\u001b[0m/                     requirements.txt\n",
      "\u001b[01;34mcount_data\u001b[0m/    model_specification.yaml  settings.py\n"
     ]
    }
   ],
   "source": [
    "ls /share/costeffectiveness/results/vivarium_nih_us_cvd/model_1/nih_us_cvd/alabama/2022_07_29_16_19_31/"
   ]
  },
  {
   "cell_type": "code",
   "execution_count": 4,
   "id": "4a393696-a5cc-486d-8223-6891216ccb93",
   "metadata": {},
   "outputs": [
    {
     "name": "stdout",
     "output_type": "stream",
     "text": [
      "deaths.csv      population.hdf         transition_count.csv  ylds.hdf\n",
      "deaths.hdf      state_person_time.csv  transition_count.hdf  ylls.csv\n",
      "population.csv  state_person_time.hdf  ylds.csv              ylls.hdf\n"
     ]
    }
   ],
   "source": [
    "ls /share/costeffectiveness/results/vivarium_nih_us_cvd/model_1/nih_us_cvd/alabama/2022_07_29_16_19_31/count_data/"
   ]
  },
  {
   "cell_type": "code",
   "execution_count": 5,
   "id": "535b5cea-d455-4dd7-ad39-9b67b4e2bd22",
   "metadata": {},
   "outputs": [],
   "source": [
    "sim_results_dir = '/share/costeffectiveness/results/vivarium_nih_us_cvd/model_1/nih_us_cvd/alabama/2022_07_29_16_19_31/count_data/'"
   ]
  },
  {
   "cell_type": "markdown",
   "id": "2b062c32-c56b-49f3-800e-16f396bf1bbb",
   "metadata": {},
   "source": [
    "### Exploring Data"
   ]
  },
  {
   "cell_type": "code",
   "execution_count": 6,
   "id": "6e5566eb-e2a6-448c-bef5-620af9e496e4",
   "metadata": {},
   "outputs": [],
   "source": [
    "deaths = pd.read_csv(sim_results_dir + 'deaths.csv')"
   ]
  },
  {
   "cell_type": "code",
   "execution_count": 7,
   "id": "655db441-b4d5-4bca-bded-af3e7e12ea10",
   "metadata": {},
   "outputs": [
    {
     "data": {
      "text/html": [
       "<div>\n",
       "<style scoped>\n",
       "    .dataframe tbody tr th:only-of-type {\n",
       "        vertical-align: middle;\n",
       "    }\n",
       "\n",
       "    .dataframe tbody tr th {\n",
       "        vertical-align: top;\n",
       "    }\n",
       "\n",
       "    .dataframe thead th {\n",
       "        text-align: right;\n",
       "    }\n",
       "</style>\n",
       "<table border=\"1\" class=\"dataframe\">\n",
       "  <thead>\n",
       "    <tr style=\"text-align: right;\">\n",
       "      <th></th>\n",
       "      <th>Unnamed: 0</th>\n",
       "      <th>sex</th>\n",
       "      <th>year</th>\n",
       "      <th>cause</th>\n",
       "      <th>measure</th>\n",
       "      <th>input_draw</th>\n",
       "      <th>scenario</th>\n",
       "      <th>age</th>\n",
       "      <th>value</th>\n",
       "    </tr>\n",
       "  </thead>\n",
       "  <tbody>\n",
       "    <tr>\n",
       "      <th>0</th>\n",
       "      <td>0</td>\n",
       "      <td>female</td>\n",
       "      <td>2023</td>\n",
       "      <td>acute_ischemic_stroke</td>\n",
       "      <td>deaths</td>\n",
       "      <td>29</td>\n",
       "      <td>baseline</td>\n",
       "      <td>25_to_29</td>\n",
       "      <td>0</td>\n",
       "    </tr>\n",
       "    <tr>\n",
       "      <th>1</th>\n",
       "      <td>1</td>\n",
       "      <td>female</td>\n",
       "      <td>2023</td>\n",
       "      <td>acute_ischemic_stroke</td>\n",
       "      <td>deaths</td>\n",
       "      <td>29</td>\n",
       "      <td>baseline</td>\n",
       "      <td>30_to_34</td>\n",
       "      <td>0</td>\n",
       "    </tr>\n",
       "    <tr>\n",
       "      <th>2</th>\n",
       "      <td>2</td>\n",
       "      <td>female</td>\n",
       "      <td>2023</td>\n",
       "      <td>acute_ischemic_stroke</td>\n",
       "      <td>deaths</td>\n",
       "      <td>29</td>\n",
       "      <td>baseline</td>\n",
       "      <td>35_to_39</td>\n",
       "      <td>0</td>\n",
       "    </tr>\n",
       "    <tr>\n",
       "      <th>3</th>\n",
       "      <td>3</td>\n",
       "      <td>female</td>\n",
       "      <td>2023</td>\n",
       "      <td>acute_ischemic_stroke</td>\n",
       "      <td>deaths</td>\n",
       "      <td>29</td>\n",
       "      <td>baseline</td>\n",
       "      <td>40_to_44</td>\n",
       "      <td>0</td>\n",
       "    </tr>\n",
       "    <tr>\n",
       "      <th>4</th>\n",
       "      <td>4</td>\n",
       "      <td>female</td>\n",
       "      <td>2023</td>\n",
       "      <td>acute_ischemic_stroke</td>\n",
       "      <td>deaths</td>\n",
       "      <td>29</td>\n",
       "      <td>baseline</td>\n",
       "      <td>45_to_49</td>\n",
       "      <td>0</td>\n",
       "    </tr>\n",
       "  </tbody>\n",
       "</table>\n",
       "</div>"
      ],
      "text/plain": [
       "   Unnamed: 0     sex  year                  cause measure  input_draw  \\\n",
       "0           0  female  2023  acute_ischemic_stroke  deaths          29   \n",
       "1           1  female  2023  acute_ischemic_stroke  deaths          29   \n",
       "2           2  female  2023  acute_ischemic_stroke  deaths          29   \n",
       "3           3  female  2023  acute_ischemic_stroke  deaths          29   \n",
       "4           4  female  2023  acute_ischemic_stroke  deaths          29   \n",
       "\n",
       "   scenario       age  value  \n",
       "0  baseline  25_to_29      0  \n",
       "1  baseline  30_to_34      0  \n",
       "2  baseline  35_to_39      0  \n",
       "3  baseline  40_to_44      0  \n",
       "4  baseline  45_to_49      0  "
      ]
     },
     "execution_count": 7,
     "metadata": {},
     "output_type": "execute_result"
    }
   ],
   "source": [
    "deaths.head()"
   ]
  },
  {
   "cell_type": "code",
   "execution_count": 8,
   "id": "1030e574-54c0-4952-acab-e2db909b4608",
   "metadata": {},
   "outputs": [
    {
     "data": {
      "text/plain": [
       "array([2023, 2024, 2025, 2026, 2027, 2028, 2029, 2030, 2031, 2032, 2033,\n",
       "       2034, 2035, 2036, 2037, 2038, 2039, 2040])"
      ]
     },
     "execution_count": 8,
     "metadata": {},
     "output_type": "execute_result"
    }
   ],
   "source": [
    "deaths.year.unique()"
   ]
  },
  {
   "cell_type": "code",
   "execution_count": 9,
   "id": "5d6826e9-ada7-40fa-82a5-c790d4eadc94",
   "metadata": {},
   "outputs": [
    {
     "data": {
      "text/plain": [
       "array(['acute_ischemic_stroke', 'chronic_ischemic_stroke', 'other_causes'],\n",
       "      dtype=object)"
      ]
     },
     "execution_count": 9,
     "metadata": {},
     "output_type": "execute_result"
    }
   ],
   "source": [
    "deaths.cause.unique()"
   ]
  },
  {
   "cell_type": "code",
   "execution_count": 10,
   "id": "38e070b7-4b24-4076-b2fc-aefed1e5c6f3",
   "metadata": {},
   "outputs": [
    {
     "data": {
      "text/plain": [
       "array(['female', 'male'], dtype=object)"
      ]
     },
     "execution_count": 10,
     "metadata": {},
     "output_type": "execute_result"
    }
   ],
   "source": [
    "deaths.sex.unique()"
   ]
  },
  {
   "cell_type": "code",
   "execution_count": 11,
   "id": "ee49198c-8189-4532-8383-a10a31ce2cb4",
   "metadata": {},
   "outputs": [
    {
     "data": {
      "text/plain": [
       "10"
      ]
     },
     "execution_count": 11,
     "metadata": {},
     "output_type": "execute_result"
    }
   ],
   "source": [
    "deaths.input_draw.nunique()"
   ]
  },
  {
   "cell_type": "code",
   "execution_count": 12,
   "id": "685fae48-dcf8-4d8f-a41b-0298bb3ba084",
   "metadata": {},
   "outputs": [],
   "source": [
    "pop = pd.read_csv(sim_results_dir + 'population.csv')"
   ]
  },
  {
   "cell_type": "code",
   "execution_count": 13,
   "id": "5c46efe8-6b94-45d0-9fd4-ceef8befef8a",
   "metadata": {},
   "outputs": [
    {
     "data": {
      "text/html": [
       "<div>\n",
       "<style scoped>\n",
       "    .dataframe tbody tr th:only-of-type {\n",
       "        vertical-align: middle;\n",
       "    }\n",
       "\n",
       "    .dataframe tbody tr th {\n",
       "        vertical-align: top;\n",
       "    }\n",
       "\n",
       "    .dataframe thead th {\n",
       "        text-align: right;\n",
       "    }\n",
       "</style>\n",
       "<table border=\"1\" class=\"dataframe\">\n",
       "  <thead>\n",
       "    <tr style=\"text-align: right;\">\n",
       "      <th></th>\n",
       "      <th>Unnamed: 0</th>\n",
       "      <th>measure</th>\n",
       "      <th>input_draw</th>\n",
       "      <th>scenario</th>\n",
       "      <th>value</th>\n",
       "    </tr>\n",
       "  </thead>\n",
       "  <tbody>\n",
       "    <tr>\n",
       "      <th>0</th>\n",
       "      <td>0</td>\n",
       "      <td>total_population</td>\n",
       "      <td>29</td>\n",
       "      <td>baseline</td>\n",
       "      <td>750000</td>\n",
       "    </tr>\n",
       "    <tr>\n",
       "      <th>1</th>\n",
       "      <td>1</td>\n",
       "      <td>total_population</td>\n",
       "      <td>232</td>\n",
       "      <td>baseline</td>\n",
       "      <td>750000</td>\n",
       "    </tr>\n",
       "    <tr>\n",
       "      <th>2</th>\n",
       "      <td>2</td>\n",
       "      <td>total_population</td>\n",
       "      <td>357</td>\n",
       "      <td>baseline</td>\n",
       "      <td>750000</td>\n",
       "    </tr>\n",
       "    <tr>\n",
       "      <th>3</th>\n",
       "      <td>3</td>\n",
       "      <td>total_population</td>\n",
       "      <td>394</td>\n",
       "      <td>baseline</td>\n",
       "      <td>750000</td>\n",
       "    </tr>\n",
       "    <tr>\n",
       "      <th>4</th>\n",
       "      <td>4</td>\n",
       "      <td>total_population</td>\n",
       "      <td>602</td>\n",
       "      <td>baseline</td>\n",
       "      <td>750000</td>\n",
       "    </tr>\n",
       "  </tbody>\n",
       "</table>\n",
       "</div>"
      ],
      "text/plain": [
       "   Unnamed: 0           measure  input_draw  scenario   value\n",
       "0           0  total_population          29  baseline  750000\n",
       "1           1  total_population         232  baseline  750000\n",
       "2           2  total_population         357  baseline  750000\n",
       "3           3  total_population         394  baseline  750000\n",
       "4           4  total_population         602  baseline  750000"
      ]
     },
     "execution_count": 13,
     "metadata": {},
     "output_type": "execute_result"
    }
   ],
   "source": [
    "pop.head()"
   ]
  },
  {
   "cell_type": "code",
   "execution_count": 14,
   "id": "2a6e7a90-fe07-4279-a21a-6a6ae56eee53",
   "metadata": {},
   "outputs": [
    {
     "data": {
      "text/plain": [
       "122"
      ]
     },
     "execution_count": 14,
     "metadata": {},
     "output_type": "execute_result"
    }
   ],
   "source": [
    "pop.loc[pop.measure==\"total_population_untracked\"].value.sum()"
   ]
  },
  {
   "cell_type": "code",
   "execution_count": 15,
   "id": "3aa9e0e0-fac5-44b9-8f2d-a7a46820aa07",
   "metadata": {},
   "outputs": [
    {
     "data": {
      "text/plain": [
       "array(['total_population', 'total_population_dead',\n",
       "       'total_population_living', 'total_population_tracked',\n",
       "       'total_population_untracked'], dtype=object)"
      ]
     },
     "execution_count": 15,
     "metadata": {},
     "output_type": "execute_result"
    }
   ],
   "source": [
    "pop.measure.unique()"
   ]
  },
  {
   "cell_type": "code",
   "execution_count": 16,
   "id": "309d253c-286a-4385-ac3e-3ee5afdd63d9",
   "metadata": {},
   "outputs": [],
   "source": [
    "tran = pd.read_csv(sim_results_dir + 'transition_count.csv')"
   ]
  },
  {
   "cell_type": "code",
   "execution_count": 17,
   "id": "d6771f81-19b6-4b60-8711-5e9147e56926",
   "metadata": {},
   "outputs": [
    {
     "data": {
      "text/html": [
       "<div>\n",
       "<style scoped>\n",
       "    .dataframe tbody tr th:only-of-type {\n",
       "        vertical-align: middle;\n",
       "    }\n",
       "\n",
       "    .dataframe tbody tr th {\n",
       "        vertical-align: top;\n",
       "    }\n",
       "\n",
       "    .dataframe thead th {\n",
       "        text-align: right;\n",
       "    }\n",
       "</style>\n",
       "<table border=\"1\" class=\"dataframe\">\n",
       "  <thead>\n",
       "    <tr style=\"text-align: right;\">\n",
       "      <th></th>\n",
       "      <th>Unnamed: 0</th>\n",
       "      <th>sex</th>\n",
       "      <th>year</th>\n",
       "      <th>measure</th>\n",
       "      <th>input_draw</th>\n",
       "      <th>scenario</th>\n",
       "      <th>age</th>\n",
       "      <th>transition</th>\n",
       "      <th>disease</th>\n",
       "      <th>value</th>\n",
       "    </tr>\n",
       "  </thead>\n",
       "  <tbody>\n",
       "    <tr>\n",
       "      <th>0</th>\n",
       "      <td>0</td>\n",
       "      <td>female</td>\n",
       "      <td>2023</td>\n",
       "      <td>transition_count</td>\n",
       "      <td>29</td>\n",
       "      <td>baseline</td>\n",
       "      <td>25_to_29</td>\n",
       "      <td>acute_ischemic_stroke_to_chronic_ischemic_stroke</td>\n",
       "      <td>ischemic_stroke</td>\n",
       "      <td>5</td>\n",
       "    </tr>\n",
       "    <tr>\n",
       "      <th>1</th>\n",
       "      <td>1</td>\n",
       "      <td>female</td>\n",
       "      <td>2023</td>\n",
       "      <td>transition_count</td>\n",
       "      <td>29</td>\n",
       "      <td>baseline</td>\n",
       "      <td>30_to_34</td>\n",
       "      <td>acute_ischemic_stroke_to_chronic_ischemic_stroke</td>\n",
       "      <td>ischemic_stroke</td>\n",
       "      <td>3</td>\n",
       "    </tr>\n",
       "    <tr>\n",
       "      <th>2</th>\n",
       "      <td>2</td>\n",
       "      <td>female</td>\n",
       "      <td>2023</td>\n",
       "      <td>transition_count</td>\n",
       "      <td>29</td>\n",
       "      <td>baseline</td>\n",
       "      <td>35_to_39</td>\n",
       "      <td>acute_ischemic_stroke_to_chronic_ischemic_stroke</td>\n",
       "      <td>ischemic_stroke</td>\n",
       "      <td>7</td>\n",
       "    </tr>\n",
       "    <tr>\n",
       "      <th>3</th>\n",
       "      <td>3</td>\n",
       "      <td>female</td>\n",
       "      <td>2023</td>\n",
       "      <td>transition_count</td>\n",
       "      <td>29</td>\n",
       "      <td>baseline</td>\n",
       "      <td>40_to_44</td>\n",
       "      <td>acute_ischemic_stroke_to_chronic_ischemic_stroke</td>\n",
       "      <td>ischemic_stroke</td>\n",
       "      <td>11</td>\n",
       "    </tr>\n",
       "    <tr>\n",
       "      <th>4</th>\n",
       "      <td>4</td>\n",
       "      <td>female</td>\n",
       "      <td>2023</td>\n",
       "      <td>transition_count</td>\n",
       "      <td>29</td>\n",
       "      <td>baseline</td>\n",
       "      <td>45_to_49</td>\n",
       "      <td>acute_ischemic_stroke_to_chronic_ischemic_stroke</td>\n",
       "      <td>ischemic_stroke</td>\n",
       "      <td>23</td>\n",
       "    </tr>\n",
       "  </tbody>\n",
       "</table>\n",
       "</div>"
      ],
      "text/plain": [
       "   Unnamed: 0     sex  year           measure  input_draw  scenario       age  \\\n",
       "0           0  female  2023  transition_count          29  baseline  25_to_29   \n",
       "1           1  female  2023  transition_count          29  baseline  30_to_34   \n",
       "2           2  female  2023  transition_count          29  baseline  35_to_39   \n",
       "3           3  female  2023  transition_count          29  baseline  40_to_44   \n",
       "4           4  female  2023  transition_count          29  baseline  45_to_49   \n",
       "\n",
       "                                         transition          disease  value  \n",
       "0  acute_ischemic_stroke_to_chronic_ischemic_stroke  ischemic_stroke      5  \n",
       "1  acute_ischemic_stroke_to_chronic_ischemic_stroke  ischemic_stroke      3  \n",
       "2  acute_ischemic_stroke_to_chronic_ischemic_stroke  ischemic_stroke      7  \n",
       "3  acute_ischemic_stroke_to_chronic_ischemic_stroke  ischemic_stroke     11  \n",
       "4  acute_ischemic_stroke_to_chronic_ischemic_stroke  ischemic_stroke     23  "
      ]
     },
     "execution_count": 17,
     "metadata": {},
     "output_type": "execute_result"
    }
   ],
   "source": [
    "tran.head()"
   ]
  },
  {
   "cell_type": "code",
   "execution_count": 18,
   "id": "0b9032c0-8ba1-48c4-9860-c1c72212cc98",
   "metadata": {},
   "outputs": [
    {
     "data": {
      "text/plain": [
       "array(['acute_ischemic_stroke_to_chronic_ischemic_stroke',\n",
       "       'chronic_ischemic_stroke_to_acute_ischemic_stroke',\n",
       "       'susceptible_to_ischemic_stroke_to_acute_ischemic_stroke'],\n",
       "      dtype=object)"
      ]
     },
     "execution_count": 18,
     "metadata": {},
     "output_type": "execute_result"
    }
   ],
   "source": [
    "tran.transition.unique()"
   ]
  },
  {
   "cell_type": "markdown",
   "id": "a636b7ae-27e1-4d7e-82e4-841b706db361",
   "metadata": {},
   "source": [
    "### All Cause Mortality Graphs"
   ]
  },
  {
   "cell_type": "code",
   "execution_count": 19,
   "id": "2a15f1f7-4d7a-462d-92ac-494746448364",
   "metadata": {
    "tags": []
   },
   "outputs": [
    {
     "data": {
      "text/html": [
       "<div>\n",
       "<style scoped>\n",
       "    .dataframe tbody tr th:only-of-type {\n",
       "        vertical-align: middle;\n",
       "    }\n",
       "\n",
       "    .dataframe tbody tr th {\n",
       "        vertical-align: top;\n",
       "    }\n",
       "\n",
       "    .dataframe thead th {\n",
       "        text-align: right;\n",
       "    }\n",
       "</style>\n",
       "<table border=\"1\" class=\"dataframe\">\n",
       "  <thead>\n",
       "    <tr style=\"text-align: right;\">\n",
       "      <th></th>\n",
       "      <th>age</th>\n",
       "      <th>sex</th>\n",
       "      <th>year</th>\n",
       "      <th>mean</th>\n",
       "      <th>2.5%</th>\n",
       "      <th>97.5%</th>\n",
       "    </tr>\n",
       "  </thead>\n",
       "  <tbody>\n",
       "    <tr>\n",
       "      <th>0</th>\n",
       "      <td>25_to_29</td>\n",
       "      <td>female</td>\n",
       "      <td>2023</td>\n",
       "      <td>9.866667</td>\n",
       "      <td>0.0</td>\n",
       "      <td>36.100</td>\n",
       "    </tr>\n",
       "    <tr>\n",
       "      <th>1</th>\n",
       "      <td>25_to_29</td>\n",
       "      <td>female</td>\n",
       "      <td>2024</td>\n",
       "      <td>7.866667</td>\n",
       "      <td>0.0</td>\n",
       "      <td>28.825</td>\n",
       "    </tr>\n",
       "    <tr>\n",
       "      <th>2</th>\n",
       "      <td>25_to_29</td>\n",
       "      <td>female</td>\n",
       "      <td>2025</td>\n",
       "      <td>8.566667</td>\n",
       "      <td>0.0</td>\n",
       "      <td>29.550</td>\n",
       "    </tr>\n",
       "    <tr>\n",
       "      <th>3</th>\n",
       "      <td>25_to_29</td>\n",
       "      <td>female</td>\n",
       "      <td>2026</td>\n",
       "      <td>8.100000</td>\n",
       "      <td>0.0</td>\n",
       "      <td>32.100</td>\n",
       "    </tr>\n",
       "    <tr>\n",
       "      <th>4</th>\n",
       "      <td>25_to_29</td>\n",
       "      <td>female</td>\n",
       "      <td>2027</td>\n",
       "      <td>8.666667</td>\n",
       "      <td>0.0</td>\n",
       "      <td>30.000</td>\n",
       "    </tr>\n",
       "  </tbody>\n",
       "</table>\n",
       "</div>"
      ],
      "text/plain": [
       "        age     sex  year      mean  2.5%   97.5%\n",
       "0  25_to_29  female  2023  9.866667   0.0  36.100\n",
       "1  25_to_29  female  2024  7.866667   0.0  28.825\n",
       "2  25_to_29  female  2025  8.566667   0.0  29.550\n",
       "3  25_to_29  female  2026  8.100000   0.0  32.100\n",
       "4  25_to_29  female  2027  8.666667   0.0  30.000"
      ]
     },
     "execution_count": 19,
     "metadata": {},
     "output_type": "execute_result"
    }
   ],
   "source": [
    "result_summary = (deaths\n",
    "                      .groupby(['age', 'sex', 'year'])\n",
    "                      .value.describe(percentiles=[.025, .975])\n",
    "                      .filter(['mean', '2.5%', '97.5%'])\n",
    "                      .reset_index())\n",
    "\n",
    "result_summary.head()"
   ]
  },
  {
   "cell_type": "code",
   "execution_count": 20,
   "id": "b381a15a-52e5-44ed-84f0-77744e16380c",
   "metadata": {
    "tags": []
   },
   "outputs": [
    {
     "data": {
      "text/plain": [
       "<matplotlib.collections.PolyCollection at 0x7fba84958700>"
      ]
     },
     "execution_count": 20,
     "metadata": {},
     "output_type": "execute_result"
    },
    {
     "data": {
      "image/png": "[encoded data removed]",
      "text/plain": [
       "<Figure size 432x288 with 1 Axes>"
      ]
     },
     "metadata": {
      "needs_background": "light"
     },
     "output_type": "display_data"
    }
   ],
   "source": [
    "plt.plot(result_summary['age'], result_summary['mean'], marker='o')\n",
    "plt.fill_between(result_summary['age'], result_summary['2.5%'], result_summary['97.5%'], alpha=.3)"
   ]
  },
  {
   "cell_type": "code",
   "execution_count": 21,
   "id": "f1433d23-08e3-47ce-af89-366c0d7132cd",
   "metadata": {},
   "outputs": [
    {
     "data": {
      "text/html": [
       "<div>\n",
       "<style scoped>\n",
       "    .dataframe tbody tr th:only-of-type {\n",
       "        vertical-align: middle;\n",
       "    }\n",
       "\n",
       "    .dataframe tbody tr th {\n",
       "        vertical-align: top;\n",
       "    }\n",
       "\n",
       "    .dataframe thead th {\n",
       "        text-align: right;\n",
       "    }\n",
       "</style>\n",
       "<table border=\"1\" class=\"dataframe\">\n",
       "  <thead>\n",
       "    <tr style=\"text-align: right;\">\n",
       "      <th></th>\n",
       "      <th>age</th>\n",
       "      <th>sex</th>\n",
       "      <th>year</th>\n",
       "      <th>mean</th>\n",
       "      <th>2.5%</th>\n",
       "      <th>97.5%</th>\n",
       "    </tr>\n",
       "  </thead>\n",
       "  <tbody>\n",
       "    <tr>\n",
       "      <th>0</th>\n",
       "      <td>25_to_29</td>\n",
       "      <td>female</td>\n",
       "      <td>2023</td>\n",
       "      <td>9.866667</td>\n",
       "      <td>0.0</td>\n",
       "      <td>36.100</td>\n",
       "    </tr>\n",
       "    <tr>\n",
       "      <th>36</th>\n",
       "      <td>30_to_34</td>\n",
       "      <td>female</td>\n",
       "      <td>2023</td>\n",
       "      <td>13.800000</td>\n",
       "      <td>0.0</td>\n",
       "      <td>50.825</td>\n",
       "    </tr>\n",
       "    <tr>\n",
       "      <th>72</th>\n",
       "      <td>35_to_39</td>\n",
       "      <td>female</td>\n",
       "      <td>2023</td>\n",
       "      <td>15.766667</td>\n",
       "      <td>0.0</td>\n",
       "      <td>59.825</td>\n",
       "    </tr>\n",
       "    <tr>\n",
       "      <th>108</th>\n",
       "      <td>40_to_44</td>\n",
       "      <td>female</td>\n",
       "      <td>2023</td>\n",
       "      <td>23.800000</td>\n",
       "      <td>0.0</td>\n",
       "      <td>82.025</td>\n",
       "    </tr>\n",
       "    <tr>\n",
       "      <th>144</th>\n",
       "      <td>45_to_49</td>\n",
       "      <td>female</td>\n",
       "      <td>2023</td>\n",
       "      <td>33.866667</td>\n",
       "      <td>0.0</td>\n",
       "      <td>117.275</td>\n",
       "    </tr>\n",
       "  </tbody>\n",
       "</table>\n",
       "</div>"
      ],
      "text/plain": [
       "          age     sex  year       mean  2.5%    97.5%\n",
       "0    25_to_29  female  2023   9.866667   0.0   36.100\n",
       "36   30_to_34  female  2023  13.800000   0.0   50.825\n",
       "72   35_to_39  female  2023  15.766667   0.0   59.825\n",
       "108  40_to_44  female  2023  23.800000   0.0   82.025\n",
       "144  45_to_49  female  2023  33.866667   0.0  117.275"
      ]
     },
     "execution_count": 21,
     "metadata": {},
     "output_type": "execute_result"
    }
   ],
   "source": [
    "female_2023 = result_summary.loc[(result_summary['sex']=='female') & (result_summary['year']==2023)]\n",
    "female_2023.head()"
   ]
  },
  {
   "cell_type": "code",
   "execution_count": 22,
   "id": "74ecda2a-bad3-4cf5-b5e8-74d1043201ba",
   "metadata": {},
   "outputs": [
    {
     "data": {
      "text/plain": [
       "<matplotlib.collections.PolyCollection at 0x7fba848db430>"
      ]
     },
     "execution_count": 22,
     "metadata": {},
     "output_type": "execute_result"
    },
    {
     "data": {
      "image/png": "[encoded data removed]",
      "text/plain": [
       "<Figure size 432x288 with 1 Axes>"
      ]
     },
     "metadata": {
      "needs_background": "light"
     },
     "output_type": "display_data"
    }
   ],
   "source": [
    "plt.plot(female_2023['age'], female_2023['mean'], marker='o')\n",
    "plt.fill_between(female_2023['age'], female_2023['2.5%'], female_2023['97.5%'], alpha=.3)"
   ]
  },
  {
   "cell_type": "markdown",
   "id": "7f95de1b-3f07-4a14-8acf-1f97f42f4adb",
   "metadata": {},
   "source": [
    "#### All Cause Mortality Graph with Rate"
   ]
  },
  {
   "cell_type": "code",
   "execution_count": 104,
   "id": "d4fab11a-addf-4f4b-8d8a-47c9b260ed9a",
   "metadata": {},
   "outputs": [
    {
     "data": {
      "text/html": [
       "<div>\n",
       "<style scoped>\n",
       "    .dataframe tbody tr th:only-of-type {\n",
       "        vertical-align: middle;\n",
       "    }\n",
       "\n",
       "    .dataframe tbody tr th {\n",
       "        vertical-align: top;\n",
       "    }\n",
       "\n",
       "    .dataframe thead th {\n",
       "        text-align: right;\n",
       "    }\n",
       "</style>\n",
       "<table border=\"1\" class=\"dataframe\">\n",
       "  <thead>\n",
       "    <tr style=\"text-align: right;\">\n",
       "      <th></th>\n",
       "      <th>age</th>\n",
       "      <th>sex</th>\n",
       "      <th>year</th>\n",
       "      <th>input_draw</th>\n",
       "      <th>ptvalue</th>\n",
       "    </tr>\n",
       "  </thead>\n",
       "  <tbody>\n",
       "    <tr>\n",
       "      <th>0</th>\n",
       "      <td>25_to_29</td>\n",
       "      <td>female</td>\n",
       "      <td>2023</td>\n",
       "      <td>29</td>\n",
       "      <td>29969.774127</td>\n",
       "    </tr>\n",
       "    <tr>\n",
       "      <th>1</th>\n",
       "      <td>25_to_29</td>\n",
       "      <td>female</td>\n",
       "      <td>2023</td>\n",
       "      <td>232</td>\n",
       "      <td>30072.344969</td>\n",
       "    </tr>\n",
       "    <tr>\n",
       "      <th>2</th>\n",
       "      <td>25_to_29</td>\n",
       "      <td>female</td>\n",
       "      <td>2023</td>\n",
       "      <td>357</td>\n",
       "      <td>30068.971937</td>\n",
       "    </tr>\n",
       "    <tr>\n",
       "      <th>3</th>\n",
       "      <td>25_to_29</td>\n",
       "      <td>female</td>\n",
       "      <td>2023</td>\n",
       "      <td>394</td>\n",
       "      <td>30343.567420</td>\n",
       "    </tr>\n",
       "    <tr>\n",
       "      <th>4</th>\n",
       "      <td>25_to_29</td>\n",
       "      <td>female</td>\n",
       "      <td>2023</td>\n",
       "      <td>602</td>\n",
       "      <td>30302.017796</td>\n",
       "    </tr>\n",
       "  </tbody>\n",
       "</table>\n",
       "</div>"
      ],
      "text/plain": [
       "        age     sex  year  input_draw       ptvalue\n",
       "0  25_to_29  female  2023          29  29969.774127\n",
       "1  25_to_29  female  2023         232  30072.344969\n",
       "2  25_to_29  female  2023         357  30068.971937\n",
       "3  25_to_29  female  2023         394  30343.567420\n",
       "4  25_to_29  female  2023         602  30302.017796"
      ]
     },
     "execution_count": 104,
     "metadata": {},
     "output_type": "execute_result"
    }
   ],
   "source": [
    "per_time = pd.read_csv(sim_results_dir + 'state_person_time.csv')\n",
    "per_time = per_time.rename(columns = {'value':'ptvalue'})\n",
    "per_time = per_time.groupby(['age', 'sex', 'year', 'input_draw']).ptvalue.sum().reset_index()\n",
    "\n",
    "per_time.head()"
   ]
  },
  {
   "cell_type": "code",
   "execution_count": 108,
   "id": "e65d3af0-d47c-47da-bbe4-a09bc76d0a38",
   "metadata": {},
   "outputs": [
    {
     "name": "stdout",
     "output_type": "stream",
     "text": [
      "5400\n"
     ]
    }
   ],
   "source": [
    "results_rate = deaths.groupby(['age', 'sex', 'year', 'input_draw']).value.sum().reset_index()\n",
    "print(len(per_time))"
   ]
  },
  {
   "cell_type": "code",
   "execution_count": 111,
   "id": "fcf44fd9-3894-41f5-be0c-6dbd4d13d695",
   "metadata": {},
   "outputs": [
    {
     "data": {
      "text/html": [
       "<div>\n",
       "<style scoped>\n",
       "    .dataframe tbody tr th:only-of-type {\n",
       "        vertical-align: middle;\n",
       "    }\n",
       "\n",
       "    .dataframe tbody tr th {\n",
       "        vertical-align: top;\n",
       "    }\n",
       "\n",
       "    .dataframe thead th {\n",
       "        text-align: right;\n",
       "    }\n",
       "</style>\n",
       "<table border=\"1\" class=\"dataframe\">\n",
       "  <thead>\n",
       "    <tr style=\"text-align: right;\">\n",
       "      <th></th>\n",
       "      <th>age</th>\n",
       "      <th>sex</th>\n",
       "      <th>year</th>\n",
       "      <th>input_draw</th>\n",
       "      <th>value</th>\n",
       "      <th>ptvalue</th>\n",
       "    </tr>\n",
       "  </thead>\n",
       "  <tbody>\n",
       "    <tr>\n",
       "      <th>0</th>\n",
       "      <td>25_to_29</td>\n",
       "      <td>female</td>\n",
       "      <td>2023</td>\n",
       "      <td>29</td>\n",
       "      <td>31</td>\n",
       "      <td>29969.774127</td>\n",
       "    </tr>\n",
       "    <tr>\n",
       "      <th>1</th>\n",
       "      <td>25_to_29</td>\n",
       "      <td>female</td>\n",
       "      <td>2023</td>\n",
       "      <td>232</td>\n",
       "      <td>34</td>\n",
       "      <td>30072.344969</td>\n",
       "    </tr>\n",
       "    <tr>\n",
       "      <th>2</th>\n",
       "      <td>25_to_29</td>\n",
       "      <td>female</td>\n",
       "      <td>2023</td>\n",
       "      <td>357</td>\n",
       "      <td>26</td>\n",
       "      <td>30068.971937</td>\n",
       "    </tr>\n",
       "    <tr>\n",
       "      <th>3</th>\n",
       "      <td>25_to_29</td>\n",
       "      <td>female</td>\n",
       "      <td>2023</td>\n",
       "      <td>394</td>\n",
       "      <td>25</td>\n",
       "      <td>30343.567420</td>\n",
       "    </tr>\n",
       "    <tr>\n",
       "      <th>4</th>\n",
       "      <td>25_to_29</td>\n",
       "      <td>female</td>\n",
       "      <td>2023</td>\n",
       "      <td>602</td>\n",
       "      <td>25</td>\n",
       "      <td>30302.017796</td>\n",
       "    </tr>\n",
       "  </tbody>\n",
       "</table>\n",
       "</div>"
      ],
      "text/plain": [
       "        age     sex  year  input_draw  value       ptvalue\n",
       "0  25_to_29  female  2023          29     31  29969.774127\n",
       "1  25_to_29  female  2023         232     34  30072.344969\n",
       "2  25_to_29  female  2023         357     26  30068.971937\n",
       "3  25_to_29  female  2023         394     25  30343.567420\n",
       "4  25_to_29  female  2023         602     25  30302.017796"
      ]
     },
     "execution_count": 111,
     "metadata": {},
     "output_type": "execute_result"
    }
   ],
   "source": [
    "results_rate = pd.concat([results_rate, per_time.ptvalue], axis=1)\n",
    "results_rate.head()"
   ]
  },
  {
   "cell_type": "code",
   "execution_count": 114,
   "id": "66dc9f55-de54-4596-a088-13baa3d01330",
   "metadata": {},
   "outputs": [
    {
     "data": {
      "text/html": [
       "<div>\n",
       "<style scoped>\n",
       "    .dataframe tbody tr th:only-of-type {\n",
       "        vertical-align: middle;\n",
       "    }\n",
       "\n",
       "    .dataframe tbody tr th {\n",
       "        vertical-align: top;\n",
       "    }\n",
       "\n",
       "    .dataframe thead th {\n",
       "        text-align: right;\n",
       "    }\n",
       "</style>\n",
       "<table border=\"1\" class=\"dataframe\">\n",
       "  <thead>\n",
       "    <tr style=\"text-align: right;\">\n",
       "      <th></th>\n",
       "      <th>age</th>\n",
       "      <th>sex</th>\n",
       "      <th>year</th>\n",
       "      <th>input_draw</th>\n",
       "      <th>value</th>\n",
       "      <th>ptvalue</th>\n",
       "      <th>mean_rate</th>\n",
       "    </tr>\n",
       "  </thead>\n",
       "  <tbody>\n",
       "    <tr>\n",
       "      <th>0</th>\n",
       "      <td>25_to_29</td>\n",
       "      <td>female</td>\n",
       "      <td>2023</td>\n",
       "      <td>29</td>\n",
       "      <td>31</td>\n",
       "      <td>29969.774127</td>\n",
       "      <td>0.001034</td>\n",
       "    </tr>\n",
       "    <tr>\n",
       "      <th>1</th>\n",
       "      <td>25_to_29</td>\n",
       "      <td>female</td>\n",
       "      <td>2023</td>\n",
       "      <td>232</td>\n",
       "      <td>34</td>\n",
       "      <td>30072.344969</td>\n",
       "      <td>0.001131</td>\n",
       "    </tr>\n",
       "    <tr>\n",
       "      <th>2</th>\n",
       "      <td>25_to_29</td>\n",
       "      <td>female</td>\n",
       "      <td>2023</td>\n",
       "      <td>357</td>\n",
       "      <td>26</td>\n",
       "      <td>30068.971937</td>\n",
       "      <td>0.000865</td>\n",
       "    </tr>\n",
       "    <tr>\n",
       "      <th>3</th>\n",
       "      <td>25_to_29</td>\n",
       "      <td>female</td>\n",
       "      <td>2023</td>\n",
       "      <td>394</td>\n",
       "      <td>25</td>\n",
       "      <td>30343.567420</td>\n",
       "      <td>0.000824</td>\n",
       "    </tr>\n",
       "    <tr>\n",
       "      <th>4</th>\n",
       "      <td>25_to_29</td>\n",
       "      <td>female</td>\n",
       "      <td>2023</td>\n",
       "      <td>602</td>\n",
       "      <td>25</td>\n",
       "      <td>30302.017796</td>\n",
       "      <td>0.000825</td>\n",
       "    </tr>\n",
       "  </tbody>\n",
       "</table>\n",
       "</div>"
      ],
      "text/plain": [
       "        age     sex  year  input_draw  value       ptvalue  mean_rate\n",
       "0  25_to_29  female  2023          29     31  29969.774127   0.001034\n",
       "1  25_to_29  female  2023         232     34  30072.344969   0.001131\n",
       "2  25_to_29  female  2023         357     26  30068.971937   0.000865\n",
       "3  25_to_29  female  2023         394     25  30343.567420   0.000824\n",
       "4  25_to_29  female  2023         602     25  30302.017796   0.000825"
      ]
     },
     "execution_count": 114,
     "metadata": {},
     "output_type": "execute_result"
    }
   ],
   "source": [
    "results_rate['mean_rate'] = results_rate['value'] / results_rate['ptvalue']\n",
    "results_rate.head()"
   ]
  },
  {
   "cell_type": "code",
   "execution_count": 115,
   "id": "eedafa77-a5ce-4747-bed0-ccf2766096c0",
   "metadata": {},
   "outputs": [
    {
     "data": {
      "text/html": [
       "<div>\n",
       "<style scoped>\n",
       "    .dataframe tbody tr th:only-of-type {\n",
       "        vertical-align: middle;\n",
       "    }\n",
       "\n",
       "    .dataframe tbody tr th {\n",
       "        vertical-align: top;\n",
       "    }\n",
       "\n",
       "    .dataframe thead th {\n",
       "        text-align: right;\n",
       "    }\n",
       "</style>\n",
       "<table border=\"1\" class=\"dataframe\">\n",
       "  <thead>\n",
       "    <tr style=\"text-align: right;\">\n",
       "      <th></th>\n",
       "      <th>age</th>\n",
       "      <th>sex</th>\n",
       "      <th>year</th>\n",
       "      <th>mean</th>\n",
       "      <th>2.5%</th>\n",
       "      <th>97.5%</th>\n",
       "    </tr>\n",
       "  </thead>\n",
       "  <tbody>\n",
       "    <tr>\n",
       "      <th>0</th>\n",
       "      <td>25_to_29</td>\n",
       "      <td>female</td>\n",
       "      <td>2023</td>\n",
       "      <td>0.000981</td>\n",
       "      <td>0.000824</td>\n",
       "      <td>0.001259</td>\n",
       "    </tr>\n",
       "    <tr>\n",
       "      <th>1</th>\n",
       "      <td>25_to_29</td>\n",
       "      <td>female</td>\n",
       "      <td>2024</td>\n",
       "      <td>0.000848</td>\n",
       "      <td>0.000550</td>\n",
       "      <td>0.001099</td>\n",
       "    </tr>\n",
       "    <tr>\n",
       "      <th>2</th>\n",
       "      <td>25_to_29</td>\n",
       "      <td>female</td>\n",
       "      <td>2025</td>\n",
       "      <td>0.000932</td>\n",
       "      <td>0.000752</td>\n",
       "      <td>0.001101</td>\n",
       "    </tr>\n",
       "    <tr>\n",
       "      <th>3</th>\n",
       "      <td>25_to_29</td>\n",
       "      <td>female</td>\n",
       "      <td>2026</td>\n",
       "      <td>0.000892</td>\n",
       "      <td>0.000534</td>\n",
       "      <td>0.001246</td>\n",
       "    </tr>\n",
       "    <tr>\n",
       "      <th>4</th>\n",
       "      <td>25_to_29</td>\n",
       "      <td>female</td>\n",
       "      <td>2027</td>\n",
       "      <td>0.000965</td>\n",
       "      <td>0.000590</td>\n",
       "      <td>0.001114</td>\n",
       "    </tr>\n",
       "  </tbody>\n",
       "</table>\n",
       "</div>"
      ],
      "text/plain": [
       "        age     sex  year      mean      2.5%     97.5%\n",
       "0  25_to_29  female  2023  0.000981  0.000824  0.001259\n",
       "1  25_to_29  female  2024  0.000848  0.000550  0.001099\n",
       "2  25_to_29  female  2025  0.000932  0.000752  0.001101\n",
       "3  25_to_29  female  2026  0.000892  0.000534  0.001246\n",
       "4  25_to_29  female  2027  0.000965  0.000590  0.001114"
      ]
     },
     "execution_count": 115,
     "metadata": {},
     "output_type": "execute_result"
    }
   ],
   "source": [
    "result_summary = (results_rate\n",
    "                      .groupby(['age', 'sex', 'year'])\n",
    "                      .mean_rate.describe(percentiles=[.025, .975])\n",
    "                      .filter(['mean', '2.5%', '97.5%'])\n",
    "                      .reset_index())\n",
    "\n",
    "result_summary.head()"
   ]
  },
  {
   "cell_type": "code",
   "execution_count": 116,
   "id": "3bced4be-72a3-481f-9a9d-2a8576d6b690",
   "metadata": {},
   "outputs": [
    {
     "data": {
      "text/plain": [
       "<matplotlib.collections.PolyCollection at 0x7fba75434250>"
      ]
     },
     "execution_count": 116,
     "metadata": {},
     "output_type": "execute_result"
    },
    {
     "data": {
      "image/png": "[encoded data removed]",
      "text/plain": [
       "<Figure size 432x288 with 1 Axes>"
      ]
     },
     "metadata": {
      "needs_background": "light"
     },
     "output_type": "display_data"
    }
   ],
   "source": [
    "plt.plot(result_summary['age'], result_summary['mean'], marker='o')\n",
    "plt.fill_between(result_summary['age'], result_summary['2.5%'], result_summary['97.5%'], alpha=.3)"
   ]
  },
  {
   "cell_type": "code",
   "execution_count": 118,
   "id": "3f792e38-a60b-4c14-a7c5-6889bd043d55",
   "metadata": {},
   "outputs": [
    {
     "data": {
      "text/html": [
       "<div>\n",
       "<style scoped>\n",
       "    .dataframe tbody tr th:only-of-type {\n",
       "        vertical-align: middle;\n",
       "    }\n",
       "\n",
       "    .dataframe tbody tr th {\n",
       "        vertical-align: top;\n",
       "    }\n",
       "\n",
       "    .dataframe thead th {\n",
       "        text-align: right;\n",
       "    }\n",
       "</style>\n",
       "<table border=\"1\" class=\"dataframe\">\n",
       "  <thead>\n",
       "    <tr style=\"text-align: right;\">\n",
       "      <th></th>\n",
       "      <th>age</th>\n",
       "      <th>sex</th>\n",
       "      <th>year</th>\n",
       "      <th>mean</th>\n",
       "      <th>2.5%</th>\n",
       "      <th>97.5%</th>\n",
       "    </tr>\n",
       "  </thead>\n",
       "  <tbody>\n",
       "    <tr>\n",
       "      <th>32</th>\n",
       "      <td>25_to_29</td>\n",
       "      <td>male</td>\n",
       "      <td>2037</td>\n",
       "      <td>0.001997</td>\n",
       "      <td>0.001588</td>\n",
       "      <td>0.002416</td>\n",
       "    </tr>\n",
       "    <tr>\n",
       "      <th>68</th>\n",
       "      <td>30_to_34</td>\n",
       "      <td>male</td>\n",
       "      <td>2037</td>\n",
       "      <td>0.002415</td>\n",
       "      <td>0.001617</td>\n",
       "      <td>0.002899</td>\n",
       "    </tr>\n",
       "    <tr>\n",
       "      <th>104</th>\n",
       "      <td>35_to_39</td>\n",
       "      <td>male</td>\n",
       "      <td>2037</td>\n",
       "      <td>0.002947</td>\n",
       "      <td>0.002434</td>\n",
       "      <td>0.003421</td>\n",
       "    </tr>\n",
       "    <tr>\n",
       "      <th>140</th>\n",
       "      <td>40_to_44</td>\n",
       "      <td>male</td>\n",
       "      <td>2037</td>\n",
       "      <td>0.003693</td>\n",
       "      <td>0.002977</td>\n",
       "      <td>0.004238</td>\n",
       "    </tr>\n",
       "    <tr>\n",
       "      <th>176</th>\n",
       "      <td>45_to_49</td>\n",
       "      <td>male</td>\n",
       "      <td>2037</td>\n",
       "      <td>0.005454</td>\n",
       "      <td>0.004200</td>\n",
       "      <td>0.006572</td>\n",
       "    </tr>\n",
       "  </tbody>\n",
       "</table>\n",
       "</div>"
      ],
      "text/plain": [
       "          age   sex  year      mean      2.5%     97.5%\n",
       "32   25_to_29  male  2037  0.001997  0.001588  0.002416\n",
       "68   30_to_34  male  2037  0.002415  0.001617  0.002899\n",
       "104  35_to_39  male  2037  0.002947  0.002434  0.003421\n",
       "140  40_to_44  male  2037  0.003693  0.002977  0.004238\n",
       "176  45_to_49  male  2037  0.005454  0.004200  0.006572"
      ]
     },
     "execution_count": 118,
     "metadata": {},
     "output_type": "execute_result"
    }
   ],
   "source": [
    "male_2037 = result_summary.loc[(result_summary['sex']=='male') & (result_summary['year']==2037)]\n",
    "male_2037.head()"
   ]
  },
  {
   "cell_type": "code",
   "execution_count": 119,
   "id": "50e31707-8e63-4c8d-9305-65f2df8bf2bd",
   "metadata": {},
   "outputs": [
    {
     "data": {
      "text/plain": [
       "<matplotlib.collections.PolyCollection at 0x7fba75424e20>"
      ]
     },
     "execution_count": 119,
     "metadata": {},
     "output_type": "execute_result"
    },
    {
     "data": {
      "image/png": "[encoded data removed]",
      "text/plain": [
       "<Figure size 432x288 with 1 Axes>"
      ]
     },
     "metadata": {
      "needs_background": "light"
     },
     "output_type": "display_data"
    }
   ],
   "source": [
    "plt.plot(male_2037['age'], male_2037['mean'], marker='o')\n",
    "plt.fill_between(male_2037['age'], male_2037['2.5%'], male_2037['97.5%'], alpha=.3)"
   ]
  },
  {
   "cell_type": "markdown",
   "id": "84340be2-45b9-49ef-ad17-4eb13eb2e3c8",
   "metadata": {},
   "source": [
    "### Cause Specific Mortality Graphs\n",
    "#### Acute Stroke"
   ]
  },
  {
   "cell_type": "code",
   "execution_count": 29,
   "id": "1b9b5ffc-6d6e-4651-8e57-08925c8e5cd6",
   "metadata": {
    "tags": []
   },
   "outputs": [
    {
     "data": {
      "text/html": [
       "<div>\n",
       "<style scoped>\n",
       "    .dataframe tbody tr th:only-of-type {\n",
       "        vertical-align: middle;\n",
       "    }\n",
       "\n",
       "    .dataframe tbody tr th {\n",
       "        vertical-align: top;\n",
       "    }\n",
       "\n",
       "    .dataframe thead th {\n",
       "        text-align: right;\n",
       "    }\n",
       "</style>\n",
       "<table border=\"1\" class=\"dataframe\">\n",
       "  <thead>\n",
       "    <tr style=\"text-align: right;\">\n",
       "      <th></th>\n",
       "      <th>index</th>\n",
       "      <th>age</th>\n",
       "      <th>sex</th>\n",
       "      <th>year</th>\n",
       "      <th>cause</th>\n",
       "      <th>mean</th>\n",
       "      <th>2.5%</th>\n",
       "      <th>97.5%</th>\n",
       "    </tr>\n",
       "  </thead>\n",
       "  <tbody>\n",
       "    <tr>\n",
       "      <th>0</th>\n",
       "      <td>0</td>\n",
       "      <td>25_to_29</td>\n",
       "      <td>female</td>\n",
       "      <td>2023</td>\n",
       "      <td>acute_ischemic_stroke</td>\n",
       "      <td>0.1</td>\n",
       "      <td>0.0</td>\n",
       "      <td>0.775</td>\n",
       "    </tr>\n",
       "    <tr>\n",
       "      <th>1</th>\n",
       "      <td>3</td>\n",
       "      <td>25_to_29</td>\n",
       "      <td>female</td>\n",
       "      <td>2024</td>\n",
       "      <td>acute_ischemic_stroke</td>\n",
       "      <td>0.2</td>\n",
       "      <td>0.0</td>\n",
       "      <td>1.000</td>\n",
       "    </tr>\n",
       "    <tr>\n",
       "      <th>2</th>\n",
       "      <td>6</td>\n",
       "      <td>25_to_29</td>\n",
       "      <td>female</td>\n",
       "      <td>2025</td>\n",
       "      <td>acute_ischemic_stroke</td>\n",
       "      <td>0.0</td>\n",
       "      <td>0.0</td>\n",
       "      <td>0.000</td>\n",
       "    </tr>\n",
       "    <tr>\n",
       "      <th>3</th>\n",
       "      <td>9</td>\n",
       "      <td>25_to_29</td>\n",
       "      <td>female</td>\n",
       "      <td>2026</td>\n",
       "      <td>acute_ischemic_stroke</td>\n",
       "      <td>0.1</td>\n",
       "      <td>0.0</td>\n",
       "      <td>0.775</td>\n",
       "    </tr>\n",
       "    <tr>\n",
       "      <th>4</th>\n",
       "      <td>12</td>\n",
       "      <td>25_to_29</td>\n",
       "      <td>female</td>\n",
       "      <td>2027</td>\n",
       "      <td>acute_ischemic_stroke</td>\n",
       "      <td>0.1</td>\n",
       "      <td>0.0</td>\n",
       "      <td>0.775</td>\n",
       "    </tr>\n",
       "  </tbody>\n",
       "</table>\n",
       "</div>"
      ],
      "text/plain": [
       "   index       age     sex  year                  cause  mean  2.5%  97.5%\n",
       "0      0  25_to_29  female  2023  acute_ischemic_stroke   0.1   0.0  0.775\n",
       "1      3  25_to_29  female  2024  acute_ischemic_stroke   0.2   0.0  1.000\n",
       "2      6  25_to_29  female  2025  acute_ischemic_stroke   0.0   0.0  0.000\n",
       "3      9  25_to_29  female  2026  acute_ischemic_stroke   0.1   0.0  0.775\n",
       "4     12  25_to_29  female  2027  acute_ischemic_stroke   0.1   0.0  0.775"
      ]
     },
     "execution_count": 29,
     "metadata": {},
     "output_type": "execute_result"
    }
   ],
   "source": [
    "working = (deaths\n",
    "               .groupby(['age', 'sex', 'year', 'cause'])\n",
    "               .value.describe(percentiles=[.025, .975])\n",
    "               .filter(['mean', '2.5%', '97.5%'])\n",
    "               .reset_index())\n",
    "\n",
    "acute = working.loc[(working['cause'] == 'acute_ischemic_stroke')].reset_index()\n",
    "\n",
    "acute.head()"
   ]
  },
  {
   "cell_type": "code",
   "execution_count": 30,
   "id": "713ba02e-8b04-4f27-a08d-2f7dd93adf5c",
   "metadata": {
    "tags": []
   },
   "outputs": [
    {
     "data": {
      "text/plain": [
       "<matplotlib.collections.PolyCollection at 0x7fba825b7430>"
      ]
     },
     "execution_count": 30,
     "metadata": {},
     "output_type": "execute_result"
    },
    {
     "data": {
      "image/png": "[encoded data removed]",
      "text/plain": [
       "<Figure size 432x288 with 1 Axes>"
      ]
     },
     "metadata": {
      "needs_background": "light"
     },
     "output_type": "display_data"
    }
   ],
   "source": [
    "plt.plot(acute['age'], acute['mean'], marker='o')\n",
    "plt.fill_between(acute['age'], acute['2.5%'], acute['97.5%'], alpha=.3)"
   ]
  },
  {
   "cell_type": "code",
   "execution_count": 31,
   "id": "79b0a9df-db23-424b-a93e-cfa2b13ec3cc",
   "metadata": {},
   "outputs": [
    {
     "data": {
      "text/html": [
       "<div>\n",
       "<style scoped>\n",
       "    .dataframe tbody tr th:only-of-type {\n",
       "        vertical-align: middle;\n",
       "    }\n",
       "\n",
       "    .dataframe tbody tr th {\n",
       "        vertical-align: top;\n",
       "    }\n",
       "\n",
       "    .dataframe thead th {\n",
       "        text-align: right;\n",
       "    }\n",
       "</style>\n",
       "<table border=\"1\" class=\"dataframe\">\n",
       "  <thead>\n",
       "    <tr style=\"text-align: right;\">\n",
       "      <th></th>\n",
       "      <th>index</th>\n",
       "      <th>age</th>\n",
       "      <th>sex</th>\n",
       "      <th>year</th>\n",
       "      <th>cause</th>\n",
       "      <th>mean</th>\n",
       "      <th>2.5%</th>\n",
       "      <th>97.5%</th>\n",
       "    </tr>\n",
       "  </thead>\n",
       "  <tbody>\n",
       "    <tr>\n",
       "      <th>0</th>\n",
       "      <td>0</td>\n",
       "      <td>25_to_29</td>\n",
       "      <td>female</td>\n",
       "      <td>2023</td>\n",
       "      <td>acute_ischemic_stroke</td>\n",
       "      <td>0.1</td>\n",
       "      <td>0.0</td>\n",
       "      <td>0.775</td>\n",
       "    </tr>\n",
       "    <tr>\n",
       "      <th>36</th>\n",
       "      <td>108</td>\n",
       "      <td>30_to_34</td>\n",
       "      <td>female</td>\n",
       "      <td>2023</td>\n",
       "      <td>acute_ischemic_stroke</td>\n",
       "      <td>0.0</td>\n",
       "      <td>0.0</td>\n",
       "      <td>0.000</td>\n",
       "    </tr>\n",
       "    <tr>\n",
       "      <th>72</th>\n",
       "      <td>216</td>\n",
       "      <td>35_to_39</td>\n",
       "      <td>female</td>\n",
       "      <td>2023</td>\n",
       "      <td>acute_ischemic_stroke</td>\n",
       "      <td>0.1</td>\n",
       "      <td>0.0</td>\n",
       "      <td>0.775</td>\n",
       "    </tr>\n",
       "    <tr>\n",
       "      <th>108</th>\n",
       "      <td>324</td>\n",
       "      <td>40_to_44</td>\n",
       "      <td>female</td>\n",
       "      <td>2023</td>\n",
       "      <td>acute_ischemic_stroke</td>\n",
       "      <td>0.1</td>\n",
       "      <td>0.0</td>\n",
       "      <td>0.775</td>\n",
       "    </tr>\n",
       "    <tr>\n",
       "      <th>144</th>\n",
       "      <td>432</td>\n",
       "      <td>45_to_49</td>\n",
       "      <td>female</td>\n",
       "      <td>2023</td>\n",
       "      <td>acute_ischemic_stroke</td>\n",
       "      <td>0.2</td>\n",
       "      <td>0.0</td>\n",
       "      <td>1.000</td>\n",
       "    </tr>\n",
       "  </tbody>\n",
       "</table>\n",
       "</div>"
      ],
      "text/plain": [
       "     index       age     sex  year                  cause  mean  2.5%  97.5%\n",
       "0        0  25_to_29  female  2023  acute_ischemic_stroke   0.1   0.0  0.775\n",
       "36     108  30_to_34  female  2023  acute_ischemic_stroke   0.0   0.0  0.000\n",
       "72     216  35_to_39  female  2023  acute_ischemic_stroke   0.1   0.0  0.775\n",
       "108    324  40_to_44  female  2023  acute_ischemic_stroke   0.1   0.0  0.775\n",
       "144    432  45_to_49  female  2023  acute_ischemic_stroke   0.2   0.0  1.000"
      ]
     },
     "execution_count": 31,
     "metadata": {},
     "output_type": "execute_result"
    }
   ],
   "source": [
    "female_2023_acute = acute.loc[(acute['sex']=='female') & (acute['year']==2023)]\n",
    "female_2023_acute.head()"
   ]
  },
  {
   "cell_type": "code",
   "execution_count": 32,
   "id": "177cf263-7296-4854-8f56-fec741277ef7",
   "metadata": {},
   "outputs": [
    {
     "data": {
      "text/plain": [
       "<matplotlib.collections.PolyCollection at 0x7fba8258c4c0>"
      ]
     },
     "execution_count": 32,
     "metadata": {},
     "output_type": "execute_result"
    },
    {
     "data": {
      "image/png": "[encoded data removed]",
      "text/plain": [
       "<Figure size 432x288 with 1 Axes>"
      ]
     },
     "metadata": {
      "needs_background": "light"
     },
     "output_type": "display_data"
    }
   ],
   "source": [
    "plt.plot(female_2023_acute['age'], female_2023_acute['mean'], marker='o')\n",
    "plt.fill_between(female_2023_acute['age'], female_2023_acute['2.5%'], female_2023_acute['97.5%'], alpha=.3)"
   ]
  },
  {
   "cell_type": "code",
   "execution_count": 178,
   "id": "65f2f190-de9f-4c4e-a44f-d863abc4816d",
   "metadata": {},
   "outputs": [
    {
     "data": {
      "text/html": [
       "<div>\n",
       "<style scoped>\n",
       "    .dataframe tbody tr th:only-of-type {\n",
       "        vertical-align: middle;\n",
       "    }\n",
       "\n",
       "    .dataframe tbody tr th {\n",
       "        vertical-align: top;\n",
       "    }\n",
       "\n",
       "    .dataframe thead th {\n",
       "        text-align: right;\n",
       "    }\n",
       "</style>\n",
       "<table border=\"1\" class=\"dataframe\">\n",
       "  <thead>\n",
       "    <tr style=\"text-align: right;\">\n",
       "      <th></th>\n",
       "      <th>index</th>\n",
       "      <th>age</th>\n",
       "      <th>sex</th>\n",
       "      <th>year</th>\n",
       "      <th>input_draw</th>\n",
       "      <th>cause</th>\n",
       "      <th>value</th>\n",
       "    </tr>\n",
       "  </thead>\n",
       "  <tbody>\n",
       "    <tr>\n",
       "      <th>0</th>\n",
       "      <td>0</td>\n",
       "      <td>25_to_29</td>\n",
       "      <td>female</td>\n",
       "      <td>2023</td>\n",
       "      <td>29</td>\n",
       "      <td>acute_ischemic_stroke</td>\n",
       "      <td>0</td>\n",
       "    </tr>\n",
       "    <tr>\n",
       "      <th>1</th>\n",
       "      <td>3</td>\n",
       "      <td>25_to_29</td>\n",
       "      <td>female</td>\n",
       "      <td>2023</td>\n",
       "      <td>232</td>\n",
       "      <td>acute_ischemic_stroke</td>\n",
       "      <td>0</td>\n",
       "    </tr>\n",
       "    <tr>\n",
       "      <th>2</th>\n",
       "      <td>6</td>\n",
       "      <td>25_to_29</td>\n",
       "      <td>female</td>\n",
       "      <td>2023</td>\n",
       "      <td>357</td>\n",
       "      <td>acute_ischemic_stroke</td>\n",
       "      <td>0</td>\n",
       "    </tr>\n",
       "    <tr>\n",
       "      <th>3</th>\n",
       "      <td>9</td>\n",
       "      <td>25_to_29</td>\n",
       "      <td>female</td>\n",
       "      <td>2023</td>\n",
       "      <td>394</td>\n",
       "      <td>acute_ischemic_stroke</td>\n",
       "      <td>0</td>\n",
       "    </tr>\n",
       "    <tr>\n",
       "      <th>4</th>\n",
       "      <td>12</td>\n",
       "      <td>25_to_29</td>\n",
       "      <td>female</td>\n",
       "      <td>2023</td>\n",
       "      <td>602</td>\n",
       "      <td>acute_ischemic_stroke</td>\n",
       "      <td>0</td>\n",
       "    </tr>\n",
       "  </tbody>\n",
       "</table>\n",
       "</div>"
      ],
      "text/plain": [
       "   index       age     sex  year  input_draw                  cause  value\n",
       "0      0  25_to_29  female  2023          29  acute_ischemic_stroke      0\n",
       "1      3  25_to_29  female  2023         232  acute_ischemic_stroke      0\n",
       "2      6  25_to_29  female  2023         357  acute_ischemic_stroke      0\n",
       "3      9  25_to_29  female  2023         394  acute_ischemic_stroke      0\n",
       "4     12  25_to_29  female  2023         602  acute_ischemic_stroke      0"
      ]
     },
     "execution_count": 178,
     "metadata": {},
     "output_type": "execute_result"
    }
   ],
   "source": [
    "death_rate = deaths.groupby(['age', 'sex', 'year', 'input_draw', 'cause']).value.sum().reset_index()\n",
    "acute_rate = death_rate.loc[(death_rate['cause'] == 'acute_ischemic_stroke')].reset_index()\n",
    "acute_rate.head()"
   ]
  },
  {
   "cell_type": "code",
   "execution_count": 129,
   "id": "b03501b3-b9e9-4c7d-a414-9a7cdba455be",
   "metadata": {},
   "outputs": [
    {
     "data": {
      "text/plain": [
       "5400"
      ]
     },
     "execution_count": 129,
     "metadata": {},
     "output_type": "execute_result"
    }
   ],
   "source": [
    "per_time.ptvalue.head()\n",
    "len(per_time.ptvalue)"
   ]
  },
  {
   "cell_type": "code",
   "execution_count": 138,
   "id": "b164d283-8282-4de7-bce6-f614a3e7ad0f",
   "metadata": {},
   "outputs": [
    {
     "data": {
      "text/html": [
       "<div>\n",
       "<style scoped>\n",
       "    .dataframe tbody tr th:only-of-type {\n",
       "        vertical-align: middle;\n",
       "    }\n",
       "\n",
       "    .dataframe tbody tr th {\n",
       "        vertical-align: top;\n",
       "    }\n",
       "\n",
       "    .dataframe thead th {\n",
       "        text-align: right;\n",
       "    }\n",
       "</style>\n",
       "<table border=\"1\" class=\"dataframe\">\n",
       "  <thead>\n",
       "    <tr style=\"text-align: right;\">\n",
       "      <th></th>\n",
       "      <th>age</th>\n",
       "      <th>sex</th>\n",
       "      <th>year</th>\n",
       "      <th>mean</th>\n",
       "      <th>2.5%</th>\n",
       "      <th>97.5%</th>\n",
       "    </tr>\n",
       "  </thead>\n",
       "  <tbody>\n",
       "    <tr>\n",
       "      <th>0</th>\n",
       "      <td>25_to_29</td>\n",
       "      <td>female</td>\n",
       "      <td>2023</td>\n",
       "      <td>0.000003</td>\n",
       "      <td>0.0</td>\n",
       "      <td>0.000026</td>\n",
       "    </tr>\n",
       "    <tr>\n",
       "      <th>1</th>\n",
       "      <td>25_to_29</td>\n",
       "      <td>female</td>\n",
       "      <td>2024</td>\n",
       "      <td>0.000007</td>\n",
       "      <td>0.0</td>\n",
       "      <td>0.000036</td>\n",
       "    </tr>\n",
       "    <tr>\n",
       "      <th>2</th>\n",
       "      <td>25_to_29</td>\n",
       "      <td>female</td>\n",
       "      <td>2025</td>\n",
       "      <td>0.000000</td>\n",
       "      <td>0.0</td>\n",
       "      <td>0.000000</td>\n",
       "    </tr>\n",
       "    <tr>\n",
       "      <th>3</th>\n",
       "      <td>25_to_29</td>\n",
       "      <td>female</td>\n",
       "      <td>2026</td>\n",
       "      <td>0.000004</td>\n",
       "      <td>0.0</td>\n",
       "      <td>0.000029</td>\n",
       "    </tr>\n",
       "    <tr>\n",
       "      <th>4</th>\n",
       "      <td>25_to_29</td>\n",
       "      <td>female</td>\n",
       "      <td>2027</td>\n",
       "      <td>0.000004</td>\n",
       "      <td>0.0</td>\n",
       "      <td>0.000029</td>\n",
       "    </tr>\n",
       "  </tbody>\n",
       "</table>\n",
       "</div>"
      ],
      "text/plain": [
       "        age     sex  year      mean  2.5%     97.5%\n",
       "0  25_to_29  female  2023  0.000003   0.0  0.000026\n",
       "1  25_to_29  female  2024  0.000007   0.0  0.000036\n",
       "2  25_to_29  female  2025  0.000000   0.0  0.000000\n",
       "3  25_to_29  female  2026  0.000004   0.0  0.000029\n",
       "4  25_to_29  female  2027  0.000004   0.0  0.000029"
      ]
     },
     "execution_count": 138,
     "metadata": {},
     "output_type": "execute_result"
    }
   ],
   "source": [
    "acute_rate_2 = pd.concat([acute_rate, per_time.ptvalue], axis=1)\n",
    "acute_rate_2['mean_rate'] = acute_rate_2['value'] / acute_rate_2['ptvalue']\n",
    "acute_rate_summary = (acute_rate_2\n",
    "                      .groupby(['age', 'sex', 'year'])\n",
    "                      .mean_rate.describe(percentiles=[.025, .975])\n",
    "                      .filter(['mean', '2.5%', '97.5%'])\n",
    "                      .reset_index())\n",
    "\n",
    "acute_rate_summary.head()"
   ]
  },
  {
   "cell_type": "code",
   "execution_count": 140,
   "id": "881d3df5-f6d1-4428-be24-6b57901bb1e2",
   "metadata": {},
   "outputs": [
    {
     "data": {
      "text/plain": [
       "<matplotlib.collections.PolyCollection at 0x7fba74e8a640>"
      ]
     },
     "execution_count": 140,
     "metadata": {},
     "output_type": "execute_result"
    },
    {
     "data": {
      "image/png": "[encoded data removed]",
      "text/plain": [
       "<Figure size 432x288 with 1 Axes>"
      ]
     },
     "metadata": {
      "needs_background": "light"
     },
     "output_type": "display_data"
    }
   ],
   "source": [
    "plt.plot(acute_rate_summary['age'], acute_rate_summary['mean'], marker='o')\n",
    "plt.fill_between(acute_rate_summary['age'], acute_rate_summary['2.5%'], acute_rate_summary['97.5%'], alpha=.3)"
   ]
  },
  {
   "cell_type": "code",
   "execution_count": 143,
   "id": "2d0d6d2f-e020-438e-a05b-eb8cd1506c9b",
   "metadata": {},
   "outputs": [
    {
     "data": {
      "text/html": [
       "<div>\n",
       "<style scoped>\n",
       "    .dataframe tbody tr th:only-of-type {\n",
       "        vertical-align: middle;\n",
       "    }\n",
       "\n",
       "    .dataframe tbody tr th {\n",
       "        vertical-align: top;\n",
       "    }\n",
       "\n",
       "    .dataframe thead th {\n",
       "        text-align: right;\n",
       "    }\n",
       "</style>\n",
       "<table border=\"1\" class=\"dataframe\">\n",
       "  <thead>\n",
       "    <tr style=\"text-align: right;\">\n",
       "      <th></th>\n",
       "      <th>age</th>\n",
       "      <th>sex</th>\n",
       "      <th>year</th>\n",
       "      <th>mean</th>\n",
       "      <th>2.5%</th>\n",
       "      <th>97.5%</th>\n",
       "    </tr>\n",
       "  </thead>\n",
       "  <tbody>\n",
       "    <tr>\n",
       "      <th>23</th>\n",
       "      <td>25_to_29</td>\n",
       "      <td>male</td>\n",
       "      <td>2028</td>\n",
       "      <td>0.000000</td>\n",
       "      <td>0.0</td>\n",
       "      <td>0.000000</td>\n",
       "    </tr>\n",
       "    <tr>\n",
       "      <th>59</th>\n",
       "      <td>30_to_34</td>\n",
       "      <td>male</td>\n",
       "      <td>2028</td>\n",
       "      <td>0.000007</td>\n",
       "      <td>0.0</td>\n",
       "      <td>0.000036</td>\n",
       "    </tr>\n",
       "    <tr>\n",
       "      <th>95</th>\n",
       "      <td>35_to_39</td>\n",
       "      <td>male</td>\n",
       "      <td>2028</td>\n",
       "      <td>0.000004</td>\n",
       "      <td>0.0</td>\n",
       "      <td>0.000030</td>\n",
       "    </tr>\n",
       "    <tr>\n",
       "      <th>131</th>\n",
       "      <td>40_to_44</td>\n",
       "      <td>male</td>\n",
       "      <td>2028</td>\n",
       "      <td>0.000004</td>\n",
       "      <td>0.0</td>\n",
       "      <td>0.000031</td>\n",
       "    </tr>\n",
       "    <tr>\n",
       "      <th>167</th>\n",
       "      <td>45_to_49</td>\n",
       "      <td>male</td>\n",
       "      <td>2028</td>\n",
       "      <td>0.000013</td>\n",
       "      <td>0.0</td>\n",
       "      <td>0.000076</td>\n",
       "    </tr>\n",
       "  </tbody>\n",
       "</table>\n",
       "</div>"
      ],
      "text/plain": [
       "          age   sex  year      mean  2.5%     97.5%\n",
       "23   25_to_29  male  2028  0.000000   0.0  0.000000\n",
       "59   30_to_34  male  2028  0.000007   0.0  0.000036\n",
       "95   35_to_39  male  2028  0.000004   0.0  0.000030\n",
       "131  40_to_44  male  2028  0.000004   0.0  0.000031\n",
       "167  45_to_49  male  2028  0.000013   0.0  0.000076"
      ]
     },
     "execution_count": 143,
     "metadata": {},
     "output_type": "execute_result"
    }
   ],
   "source": [
    "male_2028_acute_rate = acute_rate_summary.loc[(acute_rate_summary['sex']=='male') & (acute_rate_summary['year']==2028)]\n",
    "male_2028_acute_rate.head()"
   ]
  },
  {
   "cell_type": "code",
   "execution_count": 144,
   "id": "dd581e3a-de48-45f5-995c-f4d0196cf5b1",
   "metadata": {},
   "outputs": [
    {
     "data": {
      "text/plain": [
       "<matplotlib.collections.PolyCollection at 0x7fba74e747f0>"
      ]
     },
     "execution_count": 144,
     "metadata": {},
     "output_type": "execute_result"
    },
    {
     "data": {
      "image/png": "[encoded data removed]",
      "text/plain": [
       "<Figure size 432x288 with 1 Axes>"
      ]
     },
     "metadata": {
      "needs_background": "light"
     },
     "output_type": "display_data"
    }
   ],
   "source": [
    "plt.plot(male_2028_acute_rate['age'], male_2028_acute_rate['mean'], marker='o')\n",
    "plt.fill_between(male_2028_acute_rate['age'], male_2028_acute_rate['2.5%'], male_2028_acute_rate['97.5%'], alpha=.3)"
   ]
  },
  {
   "cell_type": "markdown",
   "id": "df4b6f2e-c85f-4767-ad16-0bee71580de2",
   "metadata": {},
   "source": [
    "#### Chronic Stroke"
   ]
  },
  {
   "cell_type": "code",
   "execution_count": 186,
   "id": "fbacf7d1-45bf-45e8-85be-9fc0c03a0cf8",
   "metadata": {},
   "outputs": [
    {
     "data": {
      "text/html": [
       "<div>\n",
       "<style scoped>\n",
       "    .dataframe tbody tr th:only-of-type {\n",
       "        vertical-align: middle;\n",
       "    }\n",
       "\n",
       "    .dataframe tbody tr th {\n",
       "        vertical-align: top;\n",
       "    }\n",
       "\n",
       "    .dataframe thead th {\n",
       "        text-align: right;\n",
       "    }\n",
       "</style>\n",
       "<table border=\"1\" class=\"dataframe\">\n",
       "  <thead>\n",
       "    <tr style=\"text-align: right;\">\n",
       "      <th></th>\n",
       "      <th>age</th>\n",
       "      <th>sex</th>\n",
       "      <th>year</th>\n",
       "      <th>mean</th>\n",
       "      <th>2.5%</th>\n",
       "      <th>97.5%</th>\n",
       "    </tr>\n",
       "  </thead>\n",
       "  <tbody>\n",
       "    <tr>\n",
       "      <th>0</th>\n",
       "      <td>25_to_29</td>\n",
       "      <td>female</td>\n",
       "      <td>2023</td>\n",
       "      <td>0.0</td>\n",
       "      <td>0.0</td>\n",
       "      <td>0.0</td>\n",
       "    </tr>\n",
       "    <tr>\n",
       "      <th>1</th>\n",
       "      <td>25_to_29</td>\n",
       "      <td>female</td>\n",
       "      <td>2024</td>\n",
       "      <td>0.0</td>\n",
       "      <td>0.0</td>\n",
       "      <td>0.0</td>\n",
       "    </tr>\n",
       "    <tr>\n",
       "      <th>2</th>\n",
       "      <td>25_to_29</td>\n",
       "      <td>female</td>\n",
       "      <td>2025</td>\n",
       "      <td>0.0</td>\n",
       "      <td>0.0</td>\n",
       "      <td>0.0</td>\n",
       "    </tr>\n",
       "    <tr>\n",
       "      <th>3</th>\n",
       "      <td>25_to_29</td>\n",
       "      <td>female</td>\n",
       "      <td>2026</td>\n",
       "      <td>0.0</td>\n",
       "      <td>0.0</td>\n",
       "      <td>0.0</td>\n",
       "    </tr>\n",
       "    <tr>\n",
       "      <th>4</th>\n",
       "      <td>25_to_29</td>\n",
       "      <td>female</td>\n",
       "      <td>2027</td>\n",
       "      <td>0.0</td>\n",
       "      <td>0.0</td>\n",
       "      <td>0.0</td>\n",
       "    </tr>\n",
       "  </tbody>\n",
       "</table>\n",
       "</div>"
      ],
      "text/plain": [
       "        age     sex  year  mean  2.5%  97.5%\n",
       "0  25_to_29  female  2023   0.0   0.0    0.0\n",
       "1  25_to_29  female  2024   0.0   0.0    0.0\n",
       "2  25_to_29  female  2025   0.0   0.0    0.0\n",
       "3  25_to_29  female  2026   0.0   0.0    0.0\n",
       "4  25_to_29  female  2027   0.0   0.0    0.0"
      ]
     },
     "execution_count": 186,
     "metadata": {},
     "output_type": "execute_result"
    }
   ],
   "source": [
    "chronic_rate = death_rate.loc[(death_rate['cause'] == 'chronic_ischemic_stroke')].reset_index()\n",
    "chronic_rate = pd.concat([chronic_rate, per_time.ptvalue], axis=1)\n",
    "chronic_rate['mean_rate'] = chronic_rate['value'] / chronic_rate['ptvalue']\n",
    "chronic_rate = (chronic_rate\n",
    "                      .groupby(['age', 'sex', 'year'])\n",
    "                      .mean_rate.describe(percentiles=[.025, .975])\n",
    "                      .filter(['mean', '2.5%', '97.5%'])\n",
    "                      .reset_index())\n",
    "\n",
    "chronic_rate.head()"
   ]
  },
  {
   "cell_type": "code",
   "execution_count": 187,
   "id": "115bd93f-8ca4-48ff-9616-b0812d7b335b",
   "metadata": {},
   "outputs": [
    {
     "data": {
      "text/plain": [
       "<matplotlib.collections.PolyCollection at 0x7fba742d7ac0>"
      ]
     },
     "execution_count": 187,
     "metadata": {},
     "output_type": "execute_result"
    },
    {
     "data": {
      "image/png": "[encoded data removed]",
      "text/plain": [
       "<Figure size 432x288 with 1 Axes>"
      ]
     },
     "metadata": {
      "needs_background": "light"
     },
     "output_type": "display_data"
    }
   ],
   "source": [
    "plt.plot(chronic_rate['age'], chronic_rate['mean'], marker='o')\n",
    "plt.fill_between(chronic_rate['age'], chronic_rate['2.5%'], chronic_rate['97.5%'], alpha=.3)"
   ]
  },
  {
   "cell_type": "code",
   "execution_count": 188,
   "id": "cf3022a5-ceda-4f2a-9732-9cb9252e6a82",
   "metadata": {},
   "outputs": [
    {
     "data": {
      "text/html": [
       "<div>\n",
       "<style scoped>\n",
       "    .dataframe tbody tr th:only-of-type {\n",
       "        vertical-align: middle;\n",
       "    }\n",
       "\n",
       "    .dataframe tbody tr th {\n",
       "        vertical-align: top;\n",
       "    }\n",
       "\n",
       "    .dataframe thead th {\n",
       "        text-align: right;\n",
       "    }\n",
       "</style>\n",
       "<table border=\"1\" class=\"dataframe\">\n",
       "  <thead>\n",
       "    <tr style=\"text-align: right;\">\n",
       "      <th></th>\n",
       "      <th>age</th>\n",
       "      <th>sex</th>\n",
       "      <th>year</th>\n",
       "      <th>mean</th>\n",
       "      <th>2.5%</th>\n",
       "      <th>97.5%</th>\n",
       "    </tr>\n",
       "  </thead>\n",
       "  <tbody>\n",
       "    <tr>\n",
       "      <th>35</th>\n",
       "      <td>25_to_29</td>\n",
       "      <td>male</td>\n",
       "      <td>2040</td>\n",
       "      <td>0.0</td>\n",
       "      <td>0.0</td>\n",
       "      <td>0.0</td>\n",
       "    </tr>\n",
       "    <tr>\n",
       "      <th>71</th>\n",
       "      <td>30_to_34</td>\n",
       "      <td>male</td>\n",
       "      <td>2040</td>\n",
       "      <td>0.0</td>\n",
       "      <td>0.0</td>\n",
       "      <td>0.0</td>\n",
       "    </tr>\n",
       "    <tr>\n",
       "      <th>107</th>\n",
       "      <td>35_to_39</td>\n",
       "      <td>male</td>\n",
       "      <td>2040</td>\n",
       "      <td>0.0</td>\n",
       "      <td>0.0</td>\n",
       "      <td>0.0</td>\n",
       "    </tr>\n",
       "    <tr>\n",
       "      <th>143</th>\n",
       "      <td>40_to_44</td>\n",
       "      <td>male</td>\n",
       "      <td>2040</td>\n",
       "      <td>0.0</td>\n",
       "      <td>0.0</td>\n",
       "      <td>0.0</td>\n",
       "    </tr>\n",
       "    <tr>\n",
       "      <th>179</th>\n",
       "      <td>45_to_49</td>\n",
       "      <td>male</td>\n",
       "      <td>2040</td>\n",
       "      <td>0.0</td>\n",
       "      <td>0.0</td>\n",
       "      <td>0.0</td>\n",
       "    </tr>\n",
       "  </tbody>\n",
       "</table>\n",
       "</div>"
      ],
      "text/plain": [
       "          age   sex  year  mean  2.5%  97.5%\n",
       "35   25_to_29  male  2040   0.0   0.0    0.0\n",
       "71   30_to_34  male  2040   0.0   0.0    0.0\n",
       "107  35_to_39  male  2040   0.0   0.0    0.0\n",
       "143  40_to_44  male  2040   0.0   0.0    0.0\n",
       "179  45_to_49  male  2040   0.0   0.0    0.0"
      ]
     },
     "execution_count": 188,
     "metadata": {},
     "output_type": "execute_result"
    }
   ],
   "source": [
    "male_2040_chronic_rate = chronic_rate.loc[(chronic_rate['sex']=='male') & (chronic_rate['year']==2040)]\n",
    "male_2040_chronic_rate.head()"
   ]
  },
  {
   "cell_type": "code",
   "execution_count": 189,
   "id": "eeca30e0-17f3-4f38-9509-0fa4a80b8d38",
   "metadata": {},
   "outputs": [
    {
     "data": {
      "text/plain": [
       "<matplotlib.collections.PolyCollection at 0x7fba74314d00>"
      ]
     },
     "execution_count": 189,
     "metadata": {},
     "output_type": "execute_result"
    },
    {
     "data": {
      "image/png": "[encoded data removed]",
      "text/plain": [
       "<Figure size 432x288 with 1 Axes>"
      ]
     },
     "metadata": {
      "needs_background": "light"
     },
     "output_type": "display_data"
    }
   ],
   "source": [
    "plt.plot(male_2040_chronic_rate['age'], male_2040_chronic_rate['mean'], marker='o')\n",
    "plt.fill_between(male_2040_chronic_rate['age'], male_2040_chronic_rate['2.5%'], male_2040_chronic_rate['97.5%'], alpha=.3)"
   ]
  },
  {
   "cell_type": "markdown",
   "id": "27e45b3d-f5af-4bfa-8670-b12790a2739a",
   "metadata": {},
   "source": [
    "### Prevalence"
   ]
  },
  {
   "cell_type": "code",
   "execution_count": 37,
   "id": "690565be-d92c-4f62-a8f8-3476870ab156",
   "metadata": {},
   "outputs": [
    {
     "data": {
      "text/html": [
       "<div>\n",
       "<style scoped>\n",
       "    .dataframe tbody tr th:only-of-type {\n",
       "        vertical-align: middle;\n",
       "    }\n",
       "\n",
       "    .dataframe tbody tr th {\n",
       "        vertical-align: top;\n",
       "    }\n",
       "\n",
       "    .dataframe thead th {\n",
       "        text-align: right;\n",
       "    }\n",
       "</style>\n",
       "<table border=\"1\" class=\"dataframe\">\n",
       "  <thead>\n",
       "    <tr style=\"text-align: right;\">\n",
       "      <th></th>\n",
       "      <th>age</th>\n",
       "      <th>sex</th>\n",
       "      <th>year</th>\n",
       "      <th>state</th>\n",
       "      <th>mean</th>\n",
       "      <th>2.5%</th>\n",
       "      <th>97.5%</th>\n",
       "    </tr>\n",
       "  </thead>\n",
       "  <tbody>\n",
       "    <tr>\n",
       "      <th>0</th>\n",
       "      <td>25_to_29</td>\n",
       "      <td>female</td>\n",
       "      <td>2023</td>\n",
       "      <td>acute_ischemic_stroke</td>\n",
       "      <td>0.260643</td>\n",
       "      <td>0.076660</td>\n",
       "      <td>0.638193</td>\n",
       "    </tr>\n",
       "    <tr>\n",
       "      <th>1</th>\n",
       "      <td>25_to_29</td>\n",
       "      <td>female</td>\n",
       "      <td>2023</td>\n",
       "      <td>chronic_ischemic_stroke</td>\n",
       "      <td>154.469541</td>\n",
       "      <td>134.576318</td>\n",
       "      <td>171.244627</td>\n",
       "    </tr>\n",
       "    <tr>\n",
       "      <th>2</th>\n",
       "      <td>25_to_29</td>\n",
       "      <td>female</td>\n",
       "      <td>2023</td>\n",
       "      <td>susceptible_to_ischemic_stroke</td>\n",
       "      <td>30029.093498</td>\n",
       "      <td>29832.296235</td>\n",
       "      <td>30171.767009</td>\n",
       "    </tr>\n",
       "    <tr>\n",
       "      <th>3</th>\n",
       "      <td>25_to_29</td>\n",
       "      <td>female</td>\n",
       "      <td>2024</td>\n",
       "      <td>acute_ischemic_stroke</td>\n",
       "      <td>0.360301</td>\n",
       "      <td>0.076660</td>\n",
       "      <td>0.808761</td>\n",
       "    </tr>\n",
       "    <tr>\n",
       "      <th>4</th>\n",
       "      <td>25_to_29</td>\n",
       "      <td>female</td>\n",
       "      <td>2024</td>\n",
       "      <td>chronic_ischemic_stroke</td>\n",
       "      <td>141.851335</td>\n",
       "      <td>123.769199</td>\n",
       "      <td>165.742368</td>\n",
       "    </tr>\n",
       "  </tbody>\n",
       "</table>\n",
       "</div>"
      ],
      "text/plain": [
       "        age     sex  year                           state          mean  \\\n",
       "0  25_to_29  female  2023           acute_ischemic_stroke      0.260643   \n",
       "1  25_to_29  female  2023         chronic_ischemic_stroke    154.469541   \n",
       "2  25_to_29  female  2023  susceptible_to_ischemic_stroke  30029.093498   \n",
       "3  25_to_29  female  2024           acute_ischemic_stroke      0.360301   \n",
       "4  25_to_29  female  2024         chronic_ischemic_stroke    141.851335   \n",
       "\n",
       "           2.5%         97.5%  \n",
       "0      0.076660      0.638193  \n",
       "1    134.576318    171.244627  \n",
       "2  29832.296235  30171.767009  \n",
       "3      0.076660      0.808761  \n",
       "4    123.769199    165.742368  "
      ]
     },
     "execution_count": 37,
     "metadata": {},
     "output_type": "execute_result"
    }
   ],
   "source": [
    "prev = (per_time\n",
    "            .groupby(['age', 'sex', 'year', 'state'])\n",
    "            .value.describe(percentiles=[.025, .975])\n",
    "            .filter(['mean', '2.5%', '97.5%'])\n",
    "            .reset_index())\n",
    "\n",
    "prev.head()"
   ]
  },
  {
   "cell_type": "code",
   "execution_count": 38,
   "id": "c1a93b2d-f85d-45ad-8622-0fce661cb210",
   "metadata": {},
   "outputs": [
    {
     "data": {
      "text/html": [
       "<div>\n",
       "<style scoped>\n",
       "    .dataframe tbody tr th:only-of-type {\n",
       "        vertical-align: middle;\n",
       "    }\n",
       "\n",
       "    .dataframe tbody tr th {\n",
       "        vertical-align: top;\n",
       "    }\n",
       "\n",
       "    .dataframe thead tr th {\n",
       "        text-align: left;\n",
       "    }\n",
       "\n",
       "    .dataframe thead tr:last-of-type th {\n",
       "        text-align: right;\n",
       "    }\n",
       "</style>\n",
       "<table border=\"1\" class=\"dataframe\">\n",
       "  <thead>\n",
       "    <tr>\n",
       "      <th></th>\n",
       "      <th></th>\n",
       "      <th></th>\n",
       "      <th colspan=\"3\" halign=\"left\">mean</th>\n",
       "      <th colspan=\"3\" halign=\"left\">2.5%</th>\n",
       "      <th colspan=\"3\" halign=\"left\">97.5%</th>\n",
       "    </tr>\n",
       "    <tr>\n",
       "      <th></th>\n",
       "      <th></th>\n",
       "      <th>state</th>\n",
       "      <th>acute_ischemic_stroke</th>\n",
       "      <th>chronic_ischemic_stroke</th>\n",
       "      <th>susceptible_to_ischemic_stroke</th>\n",
       "      <th>acute_ischemic_stroke</th>\n",
       "      <th>chronic_ischemic_stroke</th>\n",
       "      <th>susceptible_to_ischemic_stroke</th>\n",
       "      <th>acute_ischemic_stroke</th>\n",
       "      <th>chronic_ischemic_stroke</th>\n",
       "      <th>susceptible_to_ischemic_stroke</th>\n",
       "    </tr>\n",
       "    <tr>\n",
       "      <th>age</th>\n",
       "      <th>sex</th>\n",
       "      <th>year</th>\n",
       "      <th></th>\n",
       "      <th></th>\n",
       "      <th></th>\n",
       "      <th></th>\n",
       "      <th></th>\n",
       "      <th></th>\n",
       "      <th></th>\n",
       "      <th></th>\n",
       "      <th></th>\n",
       "    </tr>\n",
       "  </thead>\n",
       "  <tbody>\n",
       "    <tr>\n",
       "      <th rowspan=\"5\" valign=\"top\">25_to_29</th>\n",
       "      <th rowspan=\"5\" valign=\"top\">female</th>\n",
       "      <th>2023</th>\n",
       "      <td>0.260643</td>\n",
       "      <td>154.469541</td>\n",
       "      <td>30029.093498</td>\n",
       "      <td>0.076660</td>\n",
       "      <td>134.576318</td>\n",
       "      <td>29832.296235</td>\n",
       "      <td>0.638193</td>\n",
       "      <td>171.244627</td>\n",
       "      <td>30171.767009</td>\n",
       "    </tr>\n",
       "    <tr>\n",
       "      <th>2024</th>\n",
       "      <td>0.360301</td>\n",
       "      <td>141.851335</td>\n",
       "      <td>27698.619576</td>\n",
       "      <td>0.076660</td>\n",
       "      <td>123.769199</td>\n",
       "      <td>27410.507050</td>\n",
       "      <td>0.808761</td>\n",
       "      <td>165.742368</td>\n",
       "      <td>27892.611088</td>\n",
       "    </tr>\n",
       "    <tr>\n",
       "      <th>2025</th>\n",
       "      <td>0.237645</td>\n",
       "      <td>140.279808</td>\n",
       "      <td>27424.269405</td>\n",
       "      <td>0.017248</td>\n",
       "      <td>115.181383</td>\n",
       "      <td>26996.264203</td>\n",
       "      <td>0.502122</td>\n",
       "      <td>169.464203</td>\n",
       "      <td>27757.751129</td>\n",
       "    </tr>\n",
       "    <tr>\n",
       "      <th>2026</th>\n",
       "      <td>0.260643</td>\n",
       "      <td>134.783299</td>\n",
       "      <td>27104.935250</td>\n",
       "      <td>0.076660</td>\n",
       "      <td>102.461602</td>\n",
       "      <td>26784.755921</td>\n",
       "      <td>0.519370</td>\n",
       "      <td>154.532786</td>\n",
       "      <td>27392.652977</td>\n",
       "    </tr>\n",
       "    <tr>\n",
       "      <th>2027</th>\n",
       "      <td>0.222313</td>\n",
       "      <td>128.267214</td>\n",
       "      <td>26812.547023</td>\n",
       "      <td>0.000000</td>\n",
       "      <td>97.402053</td>\n",
       "      <td>26625.452977</td>\n",
       "      <td>0.732101</td>\n",
       "      <td>143.054894</td>\n",
       "      <td>26998.450924</td>\n",
       "    </tr>\n",
       "  </tbody>\n",
       "</table>\n",
       "</div>"
      ],
      "text/plain": [
       "                                      mean                          \\\n",
       "state                acute_ischemic_stroke chronic_ischemic_stroke   \n",
       "age      sex    year                                                 \n",
       "25_to_29 female 2023              0.260643              154.469541   \n",
       "                2024              0.360301              141.851335   \n",
       "                2025              0.237645              140.279808   \n",
       "                2026              0.260643              134.783299   \n",
       "                2027              0.222313              128.267214   \n",
       "\n",
       "                                                                     2.5%  \\\n",
       "state                susceptible_to_ischemic_stroke acute_ischemic_stroke   \n",
       "age      sex    year                                                        \n",
       "25_to_29 female 2023                   30029.093498              0.076660   \n",
       "                2024                   27698.619576              0.076660   \n",
       "                2025                   27424.269405              0.017248   \n",
       "                2026                   27104.935250              0.076660   \n",
       "                2027                   26812.547023              0.000000   \n",
       "\n",
       "                                                                             \\\n",
       "state                chronic_ischemic_stroke susceptible_to_ischemic_stroke   \n",
       "age      sex    year                                                          \n",
       "25_to_29 female 2023              134.576318                   29832.296235   \n",
       "                2024              123.769199                   27410.507050   \n",
       "                2025              115.181383                   26996.264203   \n",
       "                2026              102.461602                   26784.755921   \n",
       "                2027               97.402053                   26625.452977   \n",
       "\n",
       "                                     97.5%                          \\\n",
       "state                acute_ischemic_stroke chronic_ischemic_stroke   \n",
       "age      sex    year                                                 \n",
       "25_to_29 female 2023              0.638193              171.244627   \n",
       "                2024              0.808761              165.742368   \n",
       "                2025              0.502122              169.464203   \n",
       "                2026              0.519370              154.532786   \n",
       "                2027              0.732101              143.054894   \n",
       "\n",
       "                                                     \n",
       "state                susceptible_to_ischemic_stroke  \n",
       "age      sex    year                                 \n",
       "25_to_29 female 2023                   30171.767009  \n",
       "                2024                   27892.611088  \n",
       "                2025                   27757.751129  \n",
       "                2026                   27392.652977  \n",
       "                2027                   26998.450924  "
      ]
     },
     "execution_count": 38,
     "metadata": {},
     "output_type": "execute_result"
    }
   ],
   "source": [
    "prev_pivot = pd.pivot(prev, \n",
    "columns = 'state',\n",
    "index = ['age', 'sex', 'year'],\n",
    "values = ['mean', '2.5%', '97.5%'])\n",
    "prev_pivot.head()"
   ]
  },
  {
   "cell_type": "markdown",
   "id": "4dcb81e6-33e5-4b3b-9838-14c69654faa4",
   "metadata": {},
   "source": [
    "### Incidence of First Time Acute Ischemic Stroke"
   ]
  },
  {
   "cell_type": "code",
   "execution_count": 39,
   "id": "cf0a3f31-7217-4693-b9cd-e6e24db683b5",
   "metadata": {},
   "outputs": [
    {
     "data": {
      "text/html": [
       "<div>\n",
       "<style scoped>\n",
       "    .dataframe tbody tr th:only-of-type {\n",
       "        vertical-align: middle;\n",
       "    }\n",
       "\n",
       "    .dataframe tbody tr th {\n",
       "        vertical-align: top;\n",
       "    }\n",
       "\n",
       "    .dataframe thead th {\n",
       "        text-align: right;\n",
       "    }\n",
       "</style>\n",
       "<table border=\"1\" class=\"dataframe\">\n",
       "  <thead>\n",
       "    <tr style=\"text-align: right;\">\n",
       "      <th></th>\n",
       "      <th>index</th>\n",
       "      <th>age</th>\n",
       "      <th>sex</th>\n",
       "      <th>year</th>\n",
       "      <th>transition</th>\n",
       "      <th>mean</th>\n",
       "      <th>2.5%</th>\n",
       "      <th>97.5%</th>\n",
       "    </tr>\n",
       "  </thead>\n",
       "  <tbody>\n",
       "    <tr>\n",
       "      <th>0</th>\n",
       "      <td>2</td>\n",
       "      <td>25_to_29</td>\n",
       "      <td>female</td>\n",
       "      <td>2023</td>\n",
       "      <td>susceptible_to_ischemic_stroke_to_acute_ischem...</td>\n",
       "      <td>3.4</td>\n",
       "      <td>1.000</td>\n",
       "      <td>8.325</td>\n",
       "    </tr>\n",
       "    <tr>\n",
       "      <th>1</th>\n",
       "      <td>5</td>\n",
       "      <td>25_to_29</td>\n",
       "      <td>female</td>\n",
       "      <td>2024</td>\n",
       "      <td>susceptible_to_ischemic_stroke_to_acute_ischem...</td>\n",
       "      <td>5.0</td>\n",
       "      <td>1.000</td>\n",
       "      <td>9.550</td>\n",
       "    </tr>\n",
       "    <tr>\n",
       "      <th>2</th>\n",
       "      <td>8</td>\n",
       "      <td>25_to_29</td>\n",
       "      <td>female</td>\n",
       "      <td>2025</td>\n",
       "      <td>susceptible_to_ischemic_stroke_to_acute_ischem...</td>\n",
       "      <td>3.0</td>\n",
       "      <td>0.225</td>\n",
       "      <td>6.775</td>\n",
       "    </tr>\n",
       "    <tr>\n",
       "      <th>3</th>\n",
       "      <td>11</td>\n",
       "      <td>25_to_29</td>\n",
       "      <td>female</td>\n",
       "      <td>2026</td>\n",
       "      <td>susceptible_to_ischemic_stroke_to_acute_ischem...</td>\n",
       "      <td>3.3</td>\n",
       "      <td>1.000</td>\n",
       "      <td>6.775</td>\n",
       "    </tr>\n",
       "    <tr>\n",
       "      <th>4</th>\n",
       "      <td>14</td>\n",
       "      <td>25_to_29</td>\n",
       "      <td>female</td>\n",
       "      <td>2027</td>\n",
       "      <td>susceptible_to_ischemic_stroke_to_acute_ischem...</td>\n",
       "      <td>3.1</td>\n",
       "      <td>0.000</td>\n",
       "      <td>10.325</td>\n",
       "    </tr>\n",
       "  </tbody>\n",
       "</table>\n",
       "</div>"
      ],
      "text/plain": [
       "   index       age     sex  year  \\\n",
       "0      2  25_to_29  female  2023   \n",
       "1      5  25_to_29  female  2024   \n",
       "2      8  25_to_29  female  2025   \n",
       "3     11  25_to_29  female  2026   \n",
       "4     14  25_to_29  female  2027   \n",
       "\n",
       "                                          transition  mean   2.5%   97.5%  \n",
       "0  susceptible_to_ischemic_stroke_to_acute_ischem...   3.4  1.000   8.325  \n",
       "1  susceptible_to_ischemic_stroke_to_acute_ischem...   5.0  1.000   9.550  \n",
       "2  susceptible_to_ischemic_stroke_to_acute_ischem...   3.0  0.225   6.775  \n",
       "3  susceptible_to_ischemic_stroke_to_acute_ischem...   3.3  1.000   6.775  \n",
       "4  susceptible_to_ischemic_stroke_to_acute_ischem...   3.1  0.000  10.325  "
      ]
     },
     "execution_count": 39,
     "metadata": {},
     "output_type": "execute_result"
    }
   ],
   "source": [
    "tran_sum = (tran\n",
    "                 .groupby(['age', 'sex', 'year', 'transition'])\n",
    "                 .value.describe(percentiles=[.025, .975])\n",
    "                 .filter(['mean', '2.5%', '97.5%'])\n",
    "                 .reset_index())\n",
    "\n",
    "tran_sum = tran_sum.loc[(tran_sum['transition'] == 'susceptible_to_ischemic_stroke_to_acute_ischemic_stroke')].reset_index()\n",
    "tran_sum.head()"
   ]
  },
  {
   "cell_type": "code",
   "execution_count": 42,
   "id": "8ecdcf6f-0741-41b0-b527-8563d754ccb8",
   "metadata": {},
   "outputs": [
    {
     "data": {
      "text/plain": [
       "<matplotlib.collections.PolyCollection at 0x7fba7eacf640>"
      ]
     },
     "execution_count": 42,
     "metadata": {},
     "output_type": "execute_result"
    },
    {
     "data": {
      "image/png": "[encoded data removed]",
      "text/plain": [
       "<Figure size 432x288 with 1 Axes>"
      ]
     },
     "metadata": {
      "needs_background": "light"
     },
     "output_type": "display_data"
    }
   ],
   "source": [
    "plt.plot(tran_sum['age'], tran_sum['mean'], marker='o')\n",
    "plt.fill_between(tran_sum['age'], tran_sum['2.5%'], tran_sum['97.5%'], alpha=.3)"
   ]
  },
  {
   "cell_type": "code",
   "execution_count": 43,
   "id": "220b29e4-1846-477d-8fa9-25fb65b023d1",
   "metadata": {},
   "outputs": [
    {
     "data": {
      "text/html": [
       "<div>\n",
       "<style scoped>\n",
       "    .dataframe tbody tr th:only-of-type {\n",
       "        vertical-align: middle;\n",
       "    }\n",
       "\n",
       "    .dataframe tbody tr th {\n",
       "        vertical-align: top;\n",
       "    }\n",
       "\n",
       "    .dataframe thead th {\n",
       "        text-align: right;\n",
       "    }\n",
       "</style>\n",
       "<table border=\"1\" class=\"dataframe\">\n",
       "  <thead>\n",
       "    <tr style=\"text-align: right;\">\n",
       "      <th></th>\n",
       "      <th>index</th>\n",
       "      <th>Unnamed: 0</th>\n",
       "      <th>sex</th>\n",
       "      <th>year</th>\n",
       "      <th>measure</th>\n",
       "      <th>input_draw</th>\n",
       "      <th>scenario</th>\n",
       "      <th>age</th>\n",
       "      <th>state</th>\n",
       "      <th>disease</th>\n",
       "      <th>value</th>\n",
       "    </tr>\n",
       "  </thead>\n",
       "  <tbody>\n",
       "    <tr>\n",
       "      <th>0</th>\n",
       "      <td>30</td>\n",
       "      <td>30</td>\n",
       "      <td>female</td>\n",
       "      <td>2023</td>\n",
       "      <td>state_person_time</td>\n",
       "      <td>29</td>\n",
       "      <td>baseline</td>\n",
       "      <td>25_to_29</td>\n",
       "      <td>susceptible_to_ischemic_stroke</td>\n",
       "      <td>ischemic_stroke</td>\n",
       "      <td>29808.941821</td>\n",
       "    </tr>\n",
       "    <tr>\n",
       "      <th>1</th>\n",
       "      <td>31</td>\n",
       "      <td>31</td>\n",
       "      <td>female</td>\n",
       "      <td>2023</td>\n",
       "      <td>state_person_time</td>\n",
       "      <td>29</td>\n",
       "      <td>baseline</td>\n",
       "      <td>30_to_34</td>\n",
       "      <td>susceptible_to_ischemic_stroke</td>\n",
       "      <td>ischemic_stroke</td>\n",
       "      <td>28718.225873</td>\n",
       "    </tr>\n",
       "    <tr>\n",
       "      <th>2</th>\n",
       "      <td>32</td>\n",
       "      <td>32</td>\n",
       "      <td>female</td>\n",
       "      <td>2023</td>\n",
       "      <td>state_person_time</td>\n",
       "      <td>29</td>\n",
       "      <td>baseline</td>\n",
       "      <td>35_to_39</td>\n",
       "      <td>susceptible_to_ischemic_stroke</td>\n",
       "      <td>ischemic_stroke</td>\n",
       "      <td>28277.585216</td>\n",
       "    </tr>\n",
       "    <tr>\n",
       "      <th>3</th>\n",
       "      <td>33</td>\n",
       "      <td>33</td>\n",
       "      <td>female</td>\n",
       "      <td>2023</td>\n",
       "      <td>state_person_time</td>\n",
       "      <td>29</td>\n",
       "      <td>baseline</td>\n",
       "      <td>40_to_44</td>\n",
       "      <td>susceptible_to_ischemic_stroke</td>\n",
       "      <td>ischemic_stroke</td>\n",
       "      <td>26599.118412</td>\n",
       "    </tr>\n",
       "    <tr>\n",
       "      <th>4</th>\n",
       "      <td>34</td>\n",
       "      <td>34</td>\n",
       "      <td>female</td>\n",
       "      <td>2023</td>\n",
       "      <td>state_person_time</td>\n",
       "      <td>29</td>\n",
       "      <td>baseline</td>\n",
       "      <td>45_to_49</td>\n",
       "      <td>susceptible_to_ischemic_stroke</td>\n",
       "      <td>ischemic_stroke</td>\n",
       "      <td>27581.590691</td>\n",
       "    </tr>\n",
       "  </tbody>\n",
       "</table>\n",
       "</div>"
      ],
      "text/plain": [
       "   index  Unnamed: 0     sex  year            measure  input_draw  scenario  \\\n",
       "0     30          30  female  2023  state_person_time          29  baseline   \n",
       "1     31          31  female  2023  state_person_time          29  baseline   \n",
       "2     32          32  female  2023  state_person_time          29  baseline   \n",
       "3     33          33  female  2023  state_person_time          29  baseline   \n",
       "4     34          34  female  2023  state_person_time          29  baseline   \n",
       "\n",
       "        age                           state          disease         value  \n",
       "0  25_to_29  susceptible_to_ischemic_stroke  ischemic_stroke  29808.941821  \n",
       "1  30_to_34  susceptible_to_ischemic_stroke  ischemic_stroke  28718.225873  \n",
       "2  35_to_39  susceptible_to_ischemic_stroke  ischemic_stroke  28277.585216  \n",
       "3  40_to_44  susceptible_to_ischemic_stroke  ischemic_stroke  26599.118412  \n",
       "4  45_to_49  susceptible_to_ischemic_stroke  ischemic_stroke  27581.590691  "
      ]
     },
     "execution_count": 43,
     "metadata": {},
     "output_type": "execute_result"
    }
   ],
   "source": [
    "per_time_inc = per_time.loc[(per_time['state'] == 'susceptible_to_ischemic_stroke')].reset_index()\n",
    "per_time_inc.head()"
   ]
  },
  {
   "cell_type": "code",
   "execution_count": 157,
   "id": "b2ccb854-ce1d-454b-b01a-8ef22c4ba3ef",
   "metadata": {},
   "outputs": [
    {
     "data": {
      "text/html": [
       "<div>\n",
       "<style scoped>\n",
       "    .dataframe tbody tr th:only-of-type {\n",
       "        vertical-align: middle;\n",
       "    }\n",
       "\n",
       "    .dataframe tbody tr th {\n",
       "        vertical-align: top;\n",
       "    }\n",
       "\n",
       "    .dataframe thead th {\n",
       "        text-align: right;\n",
       "    }\n",
       "</style>\n",
       "<table border=\"1\" class=\"dataframe\">\n",
       "  <thead>\n",
       "    <tr style=\"text-align: right;\">\n",
       "      <th></th>\n",
       "      <th>age</th>\n",
       "      <th>sex</th>\n",
       "      <th>year</th>\n",
       "      <th>input_draw</th>\n",
       "      <th>ptvalue</th>\n",
       "    </tr>\n",
       "  </thead>\n",
       "  <tbody>\n",
       "    <tr>\n",
       "      <th>0</th>\n",
       "      <td>25_to_29</td>\n",
       "      <td>female</td>\n",
       "      <td>2023</td>\n",
       "      <td>29</td>\n",
       "      <td>29969.774127</td>\n",
       "    </tr>\n",
       "    <tr>\n",
       "      <th>1</th>\n",
       "      <td>25_to_29</td>\n",
       "      <td>female</td>\n",
       "      <td>2023</td>\n",
       "      <td>232</td>\n",
       "      <td>30072.344969</td>\n",
       "    </tr>\n",
       "    <tr>\n",
       "      <th>2</th>\n",
       "      <td>25_to_29</td>\n",
       "      <td>female</td>\n",
       "      <td>2023</td>\n",
       "      <td>357</td>\n",
       "      <td>30068.971937</td>\n",
       "    </tr>\n",
       "    <tr>\n",
       "      <th>3</th>\n",
       "      <td>25_to_29</td>\n",
       "      <td>female</td>\n",
       "      <td>2023</td>\n",
       "      <td>394</td>\n",
       "      <td>30343.567420</td>\n",
       "    </tr>\n",
       "    <tr>\n",
       "      <th>4</th>\n",
       "      <td>25_to_29</td>\n",
       "      <td>female</td>\n",
       "      <td>2023</td>\n",
       "      <td>602</td>\n",
       "      <td>30302.017796</td>\n",
       "    </tr>\n",
       "  </tbody>\n",
       "</table>\n",
       "</div>"
      ],
      "text/plain": [
       "        age     sex  year  input_draw       ptvalue\n",
       "0  25_to_29  female  2023          29  29969.774127\n",
       "1  25_to_29  female  2023         232  30072.344969\n",
       "2  25_to_29  female  2023         357  30068.971937\n",
       "3  25_to_29  female  2023         394  30343.567420\n",
       "4  25_to_29  female  2023         602  30302.017796"
      ]
     },
     "execution_count": 157,
     "metadata": {},
     "output_type": "execute_result"
    }
   ],
   "source": [
    "per_time_inc = (per_time.groupby(['age', 'sex', 'year', 'input_draw']).ptvalue.sum().reset_index())\n",
    "\n",
    "per_time_inc.head()"
   ]
  },
  {
   "cell_type": "code",
   "execution_count": 168,
   "id": "5f799cd7-62fb-4760-9d3d-4dbc27d62b8a",
   "metadata": {},
   "outputs": [
    {
     "data": {
      "text/html": [
       "<div>\n",
       "<style scoped>\n",
       "    .dataframe tbody tr th:only-of-type {\n",
       "        vertical-align: middle;\n",
       "    }\n",
       "\n",
       "    .dataframe tbody tr th {\n",
       "        vertical-align: top;\n",
       "    }\n",
       "\n",
       "    .dataframe thead th {\n",
       "        text-align: right;\n",
       "    }\n",
       "</style>\n",
       "<table border=\"1\" class=\"dataframe\">\n",
       "  <thead>\n",
       "    <tr style=\"text-align: right;\">\n",
       "      <th></th>\n",
       "      <th>age</th>\n",
       "      <th>sex</th>\n",
       "      <th>year</th>\n",
       "      <th>mean</th>\n",
       "      <th>2.5%</th>\n",
       "      <th>97.5%</th>\n",
       "    </tr>\n",
       "  </thead>\n",
       "  <tbody>\n",
       "    <tr>\n",
       "      <th>0</th>\n",
       "      <td>25_to_29</td>\n",
       "      <td>female</td>\n",
       "      <td>2023</td>\n",
       "      <td>0.000113</td>\n",
       "      <td>0.000033</td>\n",
       "      <td>0.000276</td>\n",
       "    </tr>\n",
       "    <tr>\n",
       "      <th>1</th>\n",
       "      <td>25_to_29</td>\n",
       "      <td>female</td>\n",
       "      <td>2024</td>\n",
       "      <td>0.000180</td>\n",
       "      <td>0.000036</td>\n",
       "      <td>0.000344</td>\n",
       "    </tr>\n",
       "    <tr>\n",
       "      <th>2</th>\n",
       "      <td>25_to_29</td>\n",
       "      <td>female</td>\n",
       "      <td>2025</td>\n",
       "      <td>0.000109</td>\n",
       "      <td>0.000008</td>\n",
       "      <td>0.000245</td>\n",
       "    </tr>\n",
       "    <tr>\n",
       "      <th>3</th>\n",
       "      <td>25_to_29</td>\n",
       "      <td>female</td>\n",
       "      <td>2026</td>\n",
       "      <td>0.000121</td>\n",
       "      <td>0.000036</td>\n",
       "      <td>0.000249</td>\n",
       "    </tr>\n",
       "    <tr>\n",
       "      <th>4</th>\n",
       "      <td>25_to_29</td>\n",
       "      <td>female</td>\n",
       "      <td>2027</td>\n",
       "      <td>0.000115</td>\n",
       "      <td>0.000000</td>\n",
       "      <td>0.000384</td>\n",
       "    </tr>\n",
       "  </tbody>\n",
       "</table>\n",
       "</div>"
      ],
      "text/plain": [
       "        age     sex  year      mean      2.5%     97.5%\n",
       "0  25_to_29  female  2023  0.000113  0.000033  0.000276\n",
       "1  25_to_29  female  2024  0.000180  0.000036  0.000344\n",
       "2  25_to_29  female  2025  0.000109  0.000008  0.000245\n",
       "3  25_to_29  female  2026  0.000121  0.000036  0.000249\n",
       "4  25_to_29  female  2027  0.000115  0.000000  0.000384"
      ]
     },
     "execution_count": 168,
     "metadata": {},
     "output_type": "execute_result"
    }
   ],
   "source": [
    "tran = tran.groupby(['age', 'sex', 'year', 'transition', 'input_draw']).value.sum().reset_index()\n",
    "tran = tran.loc[(tran['transition'] == 'susceptible_to_ischemic_stroke_to_acute_ischemic_stroke')].reset_index()\n",
    "tran_rate = pd.concat([tran, per_time_inc.ptvalue], axis=1)\n",
    "tran_rate['rate']= tran_rate['value'] / tran_rate['ptvalue']\n",
    "tran_rate = (tran_rate\n",
    "                 .groupby(['age', 'sex', 'year'])\n",
    "                 .rate.describe(percentiles=[.025, .975])\n",
    "                 .filter(['mean', '2.5%', '97.5%'])\n",
    "                 .reset_index())\n",
    "\n",
    "tran_rate.head()"
   ]
  },
  {
   "cell_type": "code",
   "execution_count": 169,
   "id": "1e4293b9-5734-49ed-8fea-1611cdf1e5dd",
   "metadata": {},
   "outputs": [
    {
     "data": {
      "text/plain": [
       "<matplotlib.collections.PolyCollection at 0x7fba74516f10>"
      ]
     },
     "execution_count": 169,
     "metadata": {},
     "output_type": "execute_result"
    },
    {
     "data": {
      "image/png": "[encoded data removed]",
      "text/plain": [
       "<Figure size 432x288 with 1 Axes>"
      ]
     },
     "metadata": {
      "needs_background": "light"
     },
     "output_type": "display_data"
    }
   ],
   "source": [
    "plt.plot(tran_rate['age'], tran_rate['mean'], marker='o')\n",
    "plt.fill_between(tran_rate['age'], tran_rate['2.5%'], tran_rate['97.5%'], alpha=.3)"
   ]
  },
  {
   "cell_type": "code",
   "execution_count": 170,
   "id": "bfd91aee-2bd9-456b-8534-332de2b5a56c",
   "metadata": {},
   "outputs": [
    {
     "data": {
      "text/html": [
       "<div>\n",
       "<style scoped>\n",
       "    .dataframe tbody tr th:only-of-type {\n",
       "        vertical-align: middle;\n",
       "    }\n",
       "\n",
       "    .dataframe tbody tr th {\n",
       "        vertical-align: top;\n",
       "    }\n",
       "\n",
       "    .dataframe thead th {\n",
       "        text-align: right;\n",
       "    }\n",
       "</style>\n",
       "<table border=\"1\" class=\"dataframe\">\n",
       "  <thead>\n",
       "    <tr style=\"text-align: right;\">\n",
       "      <th></th>\n",
       "      <th>age</th>\n",
       "      <th>sex</th>\n",
       "      <th>year</th>\n",
       "      <th>mean</th>\n",
       "      <th>2.5%</th>\n",
       "      <th>97.5%</th>\n",
       "    </tr>\n",
       "  </thead>\n",
       "  <tbody>\n",
       "    <tr>\n",
       "      <th>17</th>\n",
       "      <td>25_to_29</td>\n",
       "      <td>female</td>\n",
       "      <td>2040</td>\n",
       "      <td>0.000115</td>\n",
       "      <td>0.000009</td>\n",
       "      <td>0.000230</td>\n",
       "    </tr>\n",
       "    <tr>\n",
       "      <th>53</th>\n",
       "      <td>30_to_34</td>\n",
       "      <td>female</td>\n",
       "      <td>2040</td>\n",
       "      <td>0.000161</td>\n",
       "      <td>0.000038</td>\n",
       "      <td>0.000375</td>\n",
       "    </tr>\n",
       "    <tr>\n",
       "      <th>89</th>\n",
       "      <td>35_to_39</td>\n",
       "      <td>female</td>\n",
       "      <td>2040</td>\n",
       "      <td>0.000217</td>\n",
       "      <td>0.000076</td>\n",
       "      <td>0.000372</td>\n",
       "    </tr>\n",
       "    <tr>\n",
       "      <th>125</th>\n",
       "      <td>40_to_44</td>\n",
       "      <td>female</td>\n",
       "      <td>2040</td>\n",
       "      <td>0.000386</td>\n",
       "      <td>0.000267</td>\n",
       "      <td>0.000620</td>\n",
       "    </tr>\n",
       "    <tr>\n",
       "      <th>161</th>\n",
       "      <td>45_to_49</td>\n",
       "      <td>female</td>\n",
       "      <td>2040</td>\n",
       "      <td>0.000508</td>\n",
       "      <td>0.000281</td>\n",
       "      <td>0.000705</td>\n",
       "    </tr>\n",
       "  </tbody>\n",
       "</table>\n",
       "</div>"
      ],
      "text/plain": [
       "          age     sex  year      mean      2.5%     97.5%\n",
       "17   25_to_29  female  2040  0.000115  0.000009  0.000230\n",
       "53   30_to_34  female  2040  0.000161  0.000038  0.000375\n",
       "89   35_to_39  female  2040  0.000217  0.000076  0.000372\n",
       "125  40_to_44  female  2040  0.000386  0.000267  0.000620\n",
       "161  45_to_49  female  2040  0.000508  0.000281  0.000705"
      ]
     },
     "execution_count": 170,
     "metadata": {},
     "output_type": "execute_result"
    }
   ],
   "source": [
    "female_2040_tran_rate = tran_rate.loc[(tran_rate['sex']=='female') & (tran_rate['year']==2040)]\n",
    "female_2040_tran_rate.head()"
   ]
  },
  {
   "cell_type": "code",
   "execution_count": 171,
   "id": "09a8d28d-1e80-426b-b32f-e246a0a6e919",
   "metadata": {},
   "outputs": [
    {
     "data": {
      "text/plain": [
       "<matplotlib.collections.PolyCollection at 0x7fba744e8460>"
      ]
     },
     "execution_count": 171,
     "metadata": {},
     "output_type": "execute_result"
    },
    {
     "data": {
      "image/png": "[encoded data removed]",
      "text/plain": [
       "<Figure size 432x288 with 1 Axes>"
      ]
     },
     "metadata": {
      "needs_background": "light"
     },
     "output_type": "display_data"
    }
   ],
   "source": [
    "plt.plot(female_2040_tran_rate['age'], female_2040_tran_rate['mean'], marker='o')\n",
    "plt.fill_between(female_2040_tran_rate['age'], female_2040_tran_rate['2.5%'], female_2040_tran_rate['97.5%'], alpha=.3)"
   ]
  },
  {
   "cell_type": "code",
   "execution_count": 173,
   "id": "fc41b805-1c5f-4397-a4e7-26c8f5df6734",
   "metadata": {},
   "outputs": [
    {
     "data": {
      "text/html": [
       "<div>\n",
       "<style scoped>\n",
       "    .dataframe tbody tr th:only-of-type {\n",
       "        vertical-align: middle;\n",
       "    }\n",
       "\n",
       "    .dataframe tbody tr th {\n",
       "        vertical-align: top;\n",
       "    }\n",
       "\n",
       "    .dataframe thead th {\n",
       "        text-align: right;\n",
       "    }\n",
       "</style>\n",
       "<table border=\"1\" class=\"dataframe\">\n",
       "  <thead>\n",
       "    <tr style=\"text-align: right;\">\n",
       "      <th></th>\n",
       "      <th>age</th>\n",
       "      <th>sex</th>\n",
       "      <th>year</th>\n",
       "      <th>mean</th>\n",
       "      <th>2.5%</th>\n",
       "      <th>97.5%</th>\n",
       "    </tr>\n",
       "  </thead>\n",
       "  <tbody>\n",
       "    <tr>\n",
       "      <th>252</th>\n",
       "      <td>60_to_64</td>\n",
       "      <td>female</td>\n",
       "      <td>2023</td>\n",
       "      <td>0.002265</td>\n",
       "      <td>0.001860</td>\n",
       "      <td>0.002610</td>\n",
       "    </tr>\n",
       "    <tr>\n",
       "      <th>253</th>\n",
       "      <td>60_to_64</td>\n",
       "      <td>female</td>\n",
       "      <td>2024</td>\n",
       "      <td>0.001993</td>\n",
       "      <td>0.001544</td>\n",
       "      <td>0.002785</td>\n",
       "    </tr>\n",
       "    <tr>\n",
       "      <th>254</th>\n",
       "      <td>60_to_64</td>\n",
       "      <td>female</td>\n",
       "      <td>2025</td>\n",
       "      <td>0.002022</td>\n",
       "      <td>0.001662</td>\n",
       "      <td>0.002552</td>\n",
       "    </tr>\n",
       "    <tr>\n",
       "      <th>255</th>\n",
       "      <td>60_to_64</td>\n",
       "      <td>female</td>\n",
       "      <td>2026</td>\n",
       "      <td>0.001989</td>\n",
       "      <td>0.001407</td>\n",
       "      <td>0.002487</td>\n",
       "    </tr>\n",
       "    <tr>\n",
       "      <th>256</th>\n",
       "      <td>60_to_64</td>\n",
       "      <td>female</td>\n",
       "      <td>2027</td>\n",
       "      <td>0.002124</td>\n",
       "      <td>0.001863</td>\n",
       "      <td>0.002452</td>\n",
       "    </tr>\n",
       "  </tbody>\n",
       "</table>\n",
       "</div>"
      ],
      "text/plain": [
       "          age     sex  year      mean      2.5%     97.5%\n",
       "252  60_to_64  female  2023  0.002265  0.001860  0.002610\n",
       "253  60_to_64  female  2024  0.001993  0.001544  0.002785\n",
       "254  60_to_64  female  2025  0.002022  0.001662  0.002552\n",
       "255  60_to_64  female  2026  0.001989  0.001407  0.002487\n",
       "256  60_to_64  female  2027  0.002124  0.001863  0.002452"
      ]
     },
     "execution_count": 173,
     "metadata": {},
     "output_type": "execute_result"
    }
   ],
   "source": [
    "female_6064_tran_rate = tran_rate.loc[(tran_rate['sex']=='female') & (tran_rate['age']=='60_to_64')]\n",
    "female_6064_tran_rate.head()"
   ]
  },
  {
   "cell_type": "code",
   "execution_count": 175,
   "id": "9f3f3921-f190-46c4-8311-74f2e3d9ed92",
   "metadata": {},
   "outputs": [
    {
     "data": {
      "text/plain": [
       "<matplotlib.collections.PolyCollection at 0x7fba74476f70>"
      ]
     },
     "execution_count": 175,
     "metadata": {},
     "output_type": "execute_result"
    },
    {
     "data": {
      "image/png": "[encoded data removed]",
      "text/plain": [
       "<Figure size 432x288 with 1 Axes>"
      ]
     },
     "metadata": {
      "needs_background": "light"
     },
     "output_type": "display_data"
    }
   ],
   "source": [
    "plt.plot(female_6064_tran_rate['year'], female_6064_tran_rate['mean'], marker='o')\n",
    "plt.fill_between(female_6064_tran_rate['year'], female_6064_tran_rate['2.5%'], female_6064_tran_rate['97.5%'], alpha=.3)"
   ]
  },
  {
   "cell_type": "markdown",
   "id": "667a2a22-7ff6-44f7-a4af-d53c09b201b7",
   "metadata": {},
   "source": [
    "### Artifacts"
   ]
  },
  {
   "cell_type": "code",
   "execution_count": 190,
   "id": "d57d2a34-e31a-4087-8880-1c6a16458f98",
   "metadata": {},
   "outputs": [
    {
     "name": "stdout",
     "output_type": "stream",
     "text": [
      "alabama.hdf\n"
     ]
    }
   ],
   "source": [
    "ls /mnt/share/costeffectiveness/artifacts/vivarium_nih_us_cvd/"
   ]
  },
  {
   "cell_type": "code",
   "execution_count": 191,
   "id": "543b09fa-ebb2-4743-9e35-f3df9ce97bb3",
   "metadata": {},
   "outputs": [],
   "source": [
    "from vivarium import Artifact\n",
    "\n",
    "#explore the artifact data (note age groups)\n",
    "art = Artifact('/mnt/share/costeffectiveness/artifacts/vivarium_nih_us_cvd/alabama.hdf', filter_terms=['year_start == 2019', 'age_start >=  25'])"
   ]
  },
  {
   "cell_type": "code",
   "execution_count": 192,
   "id": "cdbfc486-fa84-4ead-af86-6d0678cbd5ba",
   "metadata": {},
   "outputs": [
    {
     "data": {
      "text/html": [
       "<div>\n",
       "<style scoped>\n",
       "    .dataframe tbody tr th:only-of-type {\n",
       "        vertical-align: middle;\n",
       "    }\n",
       "\n",
       "    .dataframe tbody tr th {\n",
       "        vertical-align: top;\n",
       "    }\n",
       "\n",
       "    .dataframe thead th {\n",
       "        text-align: right;\n",
       "    }\n",
       "</style>\n",
       "<table border=\"1\" class=\"dataframe\">\n",
       "  <thead>\n",
       "    <tr style=\"text-align: right;\">\n",
       "      <th></th>\n",
       "      <th>location</th>\n",
       "      <th>sex</th>\n",
       "      <th>age_start</th>\n",
       "      <th>age_end</th>\n",
       "      <th>year_start</th>\n",
       "      <th>year_end</th>\n",
       "      <th>value</th>\n",
       "    </tr>\n",
       "  </thead>\n",
       "  <tbody>\n",
       "    <tr>\n",
       "      <th>0</th>\n",
       "      <td>Alabama</td>\n",
       "      <td>Female</td>\n",
       "      <td>25.0</td>\n",
       "      <td>30.0</td>\n",
       "      <td>2019</td>\n",
       "      <td>2020</td>\n",
       "      <td>171101.787730</td>\n",
       "    </tr>\n",
       "    <tr>\n",
       "      <th>1</th>\n",
       "      <td>Alabama</td>\n",
       "      <td>Female</td>\n",
       "      <td>30.0</td>\n",
       "      <td>35.0</td>\n",
       "      <td>2019</td>\n",
       "      <td>2020</td>\n",
       "      <td>162707.127245</td>\n",
       "    </tr>\n",
       "    <tr>\n",
       "      <th>2</th>\n",
       "      <td>Alabama</td>\n",
       "      <td>Female</td>\n",
       "      <td>35.0</td>\n",
       "      <td>40.0</td>\n",
       "      <td>2019</td>\n",
       "      <td>2020</td>\n",
       "      <td>160738.561697</td>\n",
       "    </tr>\n",
       "    <tr>\n",
       "      <th>3</th>\n",
       "      <td>Alabama</td>\n",
       "      <td>Female</td>\n",
       "      <td>40.0</td>\n",
       "      <td>45.0</td>\n",
       "      <td>2019</td>\n",
       "      <td>2020</td>\n",
       "      <td>151811.937430</td>\n",
       "    </tr>\n",
       "    <tr>\n",
       "      <th>...</th>\n",
       "      <td>...</td>\n",
       "      <td>...</td>\n",
       "      <td>...</td>\n",
       "      <td>...</td>\n",
       "      <td>...</td>\n",
       "      <td>...</td>\n",
       "      <td>...</td>\n",
       "    </tr>\n",
       "    <tr>\n",
       "      <th>26</th>\n",
       "      <td>Alabama</td>\n",
       "      <td>Male</td>\n",
       "      <td>80.0</td>\n",
       "      <td>85.0</td>\n",
       "      <td>2019</td>\n",
       "      <td>2020</td>\n",
       "      <td>39717.256293</td>\n",
       "    </tr>\n",
       "    <tr>\n",
       "      <th>27</th>\n",
       "      <td>Alabama</td>\n",
       "      <td>Male</td>\n",
       "      <td>85.0</td>\n",
       "      <td>90.0</td>\n",
       "      <td>2019</td>\n",
       "      <td>2020</td>\n",
       "      <td>20451.497955</td>\n",
       "    </tr>\n",
       "    <tr>\n",
       "      <th>28</th>\n",
       "      <td>Alabama</td>\n",
       "      <td>Male</td>\n",
       "      <td>90.0</td>\n",
       "      <td>95.0</td>\n",
       "      <td>2019</td>\n",
       "      <td>2020</td>\n",
       "      <td>8076.996387</td>\n",
       "    </tr>\n",
       "    <tr>\n",
       "      <th>29</th>\n",
       "      <td>Alabama</td>\n",
       "      <td>Male</td>\n",
       "      <td>95.0</td>\n",
       "      <td>125.0</td>\n",
       "      <td>2019</td>\n",
       "      <td>2020</td>\n",
       "      <td>2550.613480</td>\n",
       "    </tr>\n",
       "  </tbody>\n",
       "</table>\n",
       "<p>30 rows × 7 columns</p>\n",
       "</div>"
      ],
      "text/plain": [
       "   location     sex  age_start  age_end  year_start  year_end          value\n",
       "0   Alabama  Female       25.0     30.0        2019      2020  171101.787730\n",
       "1   Alabama  Female       30.0     35.0        2019      2020  162707.127245\n",
       "2   Alabama  Female       35.0     40.0        2019      2020  160738.561697\n",
       "3   Alabama  Female       40.0     45.0        2019      2020  151811.937430\n",
       "..      ...     ...        ...      ...         ...       ...            ...\n",
       "26  Alabama    Male       80.0     85.0        2019      2020   39717.256293\n",
       "27  Alabama    Male       85.0     90.0        2019      2020   20451.497955\n",
       "28  Alabama    Male       90.0     95.0        2019      2020    8076.996387\n",
       "29  Alabama    Male       95.0    125.0        2019      2020    2550.613480\n",
       "\n",
       "[30 rows x 7 columns]"
      ]
     },
     "execution_count": 192,
     "metadata": {},
     "output_type": "execute_result"
    }
   ],
   "source": [
    "art_pop = art.load('population.structure').reset_index()\n",
    "art_pop"
   ]
  },
  {
   "cell_type": "code",
   "execution_count": 193,
   "id": "41e28405-6ea6-4252-9f42-e175835a9d9f",
   "metadata": {},
   "outputs": [
    {
     "data": {
      "text/plain": [
       "['metadata.keyspace',\n",
       " 'metadata.locations',\n",
       " 'population.location',\n",
       " 'population.structure',\n",
       " 'population.age_bins',\n",
       " 'population.demographic_dimensions',\n",
       " 'population.theoretical_minimum_risk_life_expectancy',\n",
       " 'cause.all_causes.cause_specific_mortality_rate',\n",
       " 'sequela.acute_ischemic_stroke.prevalence',\n",
       " 'sequela.chronic_ischemic_stroke.prevalence',\n",
       " 'cause.ischemic_stroke.incidence_rate',\n",
       " 'sequela.acute_ischemic_stroke.disability_weight',\n",
       " 'sequela.chronic_ischemic_stroke.disability_weight',\n",
       " 'sequela.acute_ischemic_stroke.excess_mortality_rate',\n",
       " 'sequela.chronic_ischemic_stroke.excess_mortality_rate',\n",
       " 'cause.ischemic_stroke.cause_specific_mortality_rate',\n",
       " 'cause.ischemic_stroke.restrictions',\n",
       " 'cause.acute_myocardial_infarction.prevalence',\n",
       " 'cause.post_myocardial_infarction.prevalence',\n",
       " 'cause.acute_myocardial_infarction.incidence_rate',\n",
       " 'cause.post_myocardial_infarction.incidence_rate',\n",
       " 'cause.acute_myocardial_infarction.disability_weight',\n",
       " 'cause.post_myocardial_infarction.disability_weight',\n",
       " 'cause.acute_myocardial_infarction.excess_mortality_rate',\n",
       " 'cause.post_myocardial_infarction.excess_mortality_rate',\n",
       " 'cause.myocardial_infarction.cause_specific_mortality_rate',\n",
       " 'cause.myocardial_infarction.restrictions']"
      ]
     },
     "execution_count": 193,
     "metadata": {},
     "output_type": "execute_result"
    }
   ],
   "source": [
    "art.keys"
   ]
  },
  {
   "cell_type": "code",
   "execution_count": 218,
   "id": "f85abb65-9c40-45cd-a297-2316116cf804",
   "metadata": {},
   "outputs": [
    {
     "data": {
      "text/html": [
       "<div>\n",
       "<style scoped>\n",
       "    .dataframe tbody tr th:only-of-type {\n",
       "        vertical-align: middle;\n",
       "    }\n",
       "\n",
       "    .dataframe tbody tr th {\n",
       "        vertical-align: top;\n",
       "    }\n",
       "\n",
       "    .dataframe thead th {\n",
       "        text-align: right;\n",
       "    }\n",
       "</style>\n",
       "<table border=\"1\" class=\"dataframe\">\n",
       "  <thead>\n",
       "    <tr style=\"text-align: right;\">\n",
       "      <th></th>\n",
       "      <th>sex</th>\n",
       "      <th>age_start</th>\n",
       "      <th>age_end</th>\n",
       "      <th>year_start</th>\n",
       "      <th>year_end</th>\n",
       "      <th>draw_0</th>\n",
       "      <th>draw_1</th>\n",
       "      <th>draw_2</th>\n",
       "      <th>draw_3</th>\n",
       "      <th>draw_4</th>\n",
       "      <th>...</th>\n",
       "      <th>draw_990</th>\n",
       "      <th>draw_991</th>\n",
       "      <th>draw_992</th>\n",
       "      <th>draw_993</th>\n",
       "      <th>draw_994</th>\n",
       "      <th>draw_995</th>\n",
       "      <th>draw_996</th>\n",
       "      <th>draw_997</th>\n",
       "      <th>draw_998</th>\n",
       "      <th>draw_999</th>\n",
       "    </tr>\n",
       "  </thead>\n",
       "  <tbody>\n",
       "    <tr>\n",
       "      <th>0</th>\n",
       "      <td>Female</td>\n",
       "      <td>25.0</td>\n",
       "      <td>30.0</td>\n",
       "      <td>2019</td>\n",
       "      <td>2020</td>\n",
       "      <td>0.31588</td>\n",
       "      <td>0.40003</td>\n",
       "      <td>0.32045</td>\n",
       "      <td>0.38893</td>\n",
       "      <td>0.24140</td>\n",
       "      <td>...</td>\n",
       "      <td>0.27915</td>\n",
       "      <td>0.29902</td>\n",
       "      <td>0.33340</td>\n",
       "      <td>0.28170</td>\n",
       "      <td>0.45043</td>\n",
       "      <td>0.26388</td>\n",
       "      <td>0.31837</td>\n",
       "      <td>0.28815</td>\n",
       "      <td>0.23798</td>\n",
       "      <td>0.20685</td>\n",
       "    </tr>\n",
       "    <tr>\n",
       "      <th>1</th>\n",
       "      <td>Female</td>\n",
       "      <td>30.0</td>\n",
       "      <td>35.0</td>\n",
       "      <td>2019</td>\n",
       "      <td>2020</td>\n",
       "      <td>0.30193</td>\n",
       "      <td>0.33175</td>\n",
       "      <td>0.28828</td>\n",
       "      <td>0.37140</td>\n",
       "      <td>0.24475</td>\n",
       "      <td>...</td>\n",
       "      <td>0.27680</td>\n",
       "      <td>0.29742</td>\n",
       "      <td>0.35445</td>\n",
       "      <td>0.23455</td>\n",
       "      <td>0.42553</td>\n",
       "      <td>0.22783</td>\n",
       "      <td>0.26775</td>\n",
       "      <td>0.28548</td>\n",
       "      <td>0.25033</td>\n",
       "      <td>0.25325</td>\n",
       "    </tr>\n",
       "    <tr>\n",
       "      <th>2</th>\n",
       "      <td>Female</td>\n",
       "      <td>35.0</td>\n",
       "      <td>40.0</td>\n",
       "      <td>2019</td>\n",
       "      <td>2020</td>\n",
       "      <td>0.28018</td>\n",
       "      <td>0.29485</td>\n",
       "      <td>0.27522</td>\n",
       "      <td>0.29580</td>\n",
       "      <td>0.32445</td>\n",
       "      <td>...</td>\n",
       "      <td>0.29240</td>\n",
       "      <td>0.29728</td>\n",
       "      <td>0.32355</td>\n",
       "      <td>0.24025</td>\n",
       "      <td>0.35158</td>\n",
       "      <td>0.27568</td>\n",
       "      <td>0.30525</td>\n",
       "      <td>0.40163</td>\n",
       "      <td>0.30818</td>\n",
       "      <td>0.44195</td>\n",
       "    </tr>\n",
       "    <tr>\n",
       "      <th>3</th>\n",
       "      <td>Female</td>\n",
       "      <td>40.0</td>\n",
       "      <td>45.0</td>\n",
       "      <td>2019</td>\n",
       "      <td>2020</td>\n",
       "      <td>0.24315</td>\n",
       "      <td>0.27495</td>\n",
       "      <td>0.29525</td>\n",
       "      <td>0.26428</td>\n",
       "      <td>0.35000</td>\n",
       "      <td>...</td>\n",
       "      <td>0.28105</td>\n",
       "      <td>0.31522</td>\n",
       "      <td>0.29495</td>\n",
       "      <td>0.24098</td>\n",
       "      <td>0.31315</td>\n",
       "      <td>0.28515</td>\n",
       "      <td>0.32320</td>\n",
       "      <td>0.41060</td>\n",
       "      <td>0.31078</td>\n",
       "      <td>0.45695</td>\n",
       "    </tr>\n",
       "    <tr>\n",
       "      <th>4</th>\n",
       "      <td>Female</td>\n",
       "      <td>45.0</td>\n",
       "      <td>50.0</td>\n",
       "      <td>2019</td>\n",
       "      <td>2020</td>\n",
       "      <td>0.19085</td>\n",
       "      <td>0.27205</td>\n",
       "      <td>0.34835</td>\n",
       "      <td>0.27682</td>\n",
       "      <td>0.32140</td>\n",
       "      <td>...</td>\n",
       "      <td>0.24275</td>\n",
       "      <td>0.35128</td>\n",
       "      <td>0.26865</td>\n",
       "      <td>0.23673</td>\n",
       "      <td>0.31025</td>\n",
       "      <td>0.25625</td>\n",
       "      <td>0.32160</td>\n",
       "      <td>0.31240</td>\n",
       "      <td>0.25812</td>\n",
       "      <td>0.29825</td>\n",
       "    </tr>\n",
       "  </tbody>\n",
       "</table>\n",
       "<p>5 rows × 1005 columns</p>\n",
       "</div>"
      ],
      "text/plain": [
       "      sex  age_start  age_end  year_start  year_end   draw_0   draw_1  \\\n",
       "0  Female       25.0     30.0        2019      2020  0.31588  0.40003   \n",
       "1  Female       30.0     35.0        2019      2020  0.30193  0.33175   \n",
       "2  Female       35.0     40.0        2019      2020  0.28018  0.29485   \n",
       "3  Female       40.0     45.0        2019      2020  0.24315  0.27495   \n",
       "4  Female       45.0     50.0        2019      2020  0.19085  0.27205   \n",
       "\n",
       "    draw_2   draw_3   draw_4  ...  draw_990  draw_991  draw_992  draw_993  \\\n",
       "0  0.32045  0.38893  0.24140  ...   0.27915   0.29902   0.33340   0.28170   \n",
       "1  0.28828  0.37140  0.24475  ...   0.27680   0.29742   0.35445   0.23455   \n",
       "2  0.27522  0.29580  0.32445  ...   0.29240   0.29728   0.32355   0.24025   \n",
       "3  0.29525  0.26428  0.35000  ...   0.28105   0.31522   0.29495   0.24098   \n",
       "4  0.34835  0.27682  0.32140  ...   0.24275   0.35128   0.26865   0.23673   \n",
       "\n",
       "   draw_994  draw_995  draw_996  draw_997  draw_998  draw_999  \n",
       "0   0.45043   0.26388   0.31837   0.28815   0.23798   0.20685  \n",
       "1   0.42553   0.22783   0.26775   0.28548   0.25033   0.25325  \n",
       "2   0.35158   0.27568   0.30525   0.40163   0.30818   0.44195  \n",
       "3   0.31315   0.28515   0.32320   0.41060   0.31078   0.45695  \n",
       "4   0.31025   0.25625   0.32160   0.31240   0.25812   0.29825  \n",
       "\n",
       "[5 rows x 1005 columns]"
      ]
     },
     "execution_count": 218,
     "metadata": {},
     "output_type": "execute_result"
    }
   ],
   "source": [
    "art_mort = art.load('sequela.acute_ischemic_stroke.excess_mortality_rate').reset_index()\n",
    "art_mort.head()"
   ]
  },
  {
   "cell_type": "code",
   "execution_count": 209,
   "id": "55ad4190-9493-45ef-aea8-119713d9da52",
   "metadata": {},
   "outputs": [],
   "source": [
    "def load_artifact_data(cause:str, measure:str):\n",
    "    master_art_data = pd.DataFrame()\n",
    "    for i in ['alabama']: #in case there are other countries\n",
    "        \n",
    "        # grab main artifact object\n",
    "        art = Artifact('/mnt/share/costeffectiveness/artifacts/vivarium_nih_us_cvd/' + i + '.hdf', \n",
    "                   filter_terms=['year_start == 2019', 'age_start >=  25']) # << MIGHT WANT TO CHANGE THESE TERMS\n",
    "        \n",
    "        # load requested measure\n",
    "        data = art.load('cause.' + cause + '.' + measure)\n",
    "        \n",
    "        # collapse to desired percentiles\n",
    "        data = data.apply(pd.DataFrame.describe, percentiles=[0.025, 0.975], axis=1).filter(['mean', '2.5%', '97.5%']).reset_index()\n",
    "        \n",
    "        # formatting (may want to format age as well)\n",
    "        data['location'] = i.capitalize()\n",
    "        data['measure'] = measure\n",
    "        data['sex'] = np.where(data['sex'] == 'Female', 'female', 'male')\n",
    "    \n",
    "   \n",
    "        master_art_data = master_art_data.append(data)\n",
    "        \n",
    "    return master_art_data"
   ]
  },
  {
   "cell_type": "code",
   "execution_count": 213,
   "id": "d8246422-6840-4c9e-9b3c-1fa139fd19e0",
   "metadata": {},
   "outputs": [
    {
     "data": {
      "text/html": [
       "<div>\n",
       "<style scoped>\n",
       "    .dataframe tbody tr th:only-of-type {\n",
       "        vertical-align: middle;\n",
       "    }\n",
       "\n",
       "    .dataframe tbody tr th {\n",
       "        vertical-align: top;\n",
       "    }\n",
       "\n",
       "    .dataframe thead th {\n",
       "        text-align: right;\n",
       "    }\n",
       "</style>\n",
       "<table border=\"1\" class=\"dataframe\">\n",
       "  <thead>\n",
       "    <tr style=\"text-align: right;\">\n",
       "      <th></th>\n",
       "      <th>sex</th>\n",
       "      <th>age_start</th>\n",
       "      <th>age_end</th>\n",
       "      <th>year_start</th>\n",
       "      <th>year_end</th>\n",
       "      <th>mean</th>\n",
       "      <th>2.5%</th>\n",
       "      <th>97.5%</th>\n",
       "      <th>location</th>\n",
       "      <th>measure</th>\n",
       "      <th>age_group</th>\n",
       "    </tr>\n",
       "  </thead>\n",
       "  <tbody>\n",
       "    <tr>\n",
       "      <th>0</th>\n",
       "      <td>female</td>\n",
       "      <td>25.0</td>\n",
       "      <td>30.0</td>\n",
       "      <td>2019</td>\n",
       "      <td>2020</td>\n",
       "      <td>0.000950</td>\n",
       "      <td>0.000706</td>\n",
       "      <td>0.001237</td>\n",
       "      <td>Alabama</td>\n",
       "      <td>cause_specific_mortality_rate</td>\n",
       "      <td>25_to_29</td>\n",
       "    </tr>\n",
       "    <tr>\n",
       "      <th>1</th>\n",
       "      <td>female</td>\n",
       "      <td>30.0</td>\n",
       "      <td>35.0</td>\n",
       "      <td>2019</td>\n",
       "      <td>2020</td>\n",
       "      <td>0.001364</td>\n",
       "      <td>0.001029</td>\n",
       "      <td>0.001755</td>\n",
       "      <td>Alabama</td>\n",
       "      <td>cause_specific_mortality_rate</td>\n",
       "      <td>30_to_34</td>\n",
       "    </tr>\n",
       "    <tr>\n",
       "      <th>2</th>\n",
       "      <td>female</td>\n",
       "      <td>35.0</td>\n",
       "      <td>40.0</td>\n",
       "      <td>2019</td>\n",
       "      <td>2020</td>\n",
       "      <td>0.001697</td>\n",
       "      <td>0.001285</td>\n",
       "      <td>0.002179</td>\n",
       "      <td>Alabama</td>\n",
       "      <td>cause_specific_mortality_rate</td>\n",
       "      <td>35_to_39</td>\n",
       "    </tr>\n",
       "    <tr>\n",
       "      <th>3</th>\n",
       "      <td>female</td>\n",
       "      <td>40.0</td>\n",
       "      <td>45.0</td>\n",
       "      <td>2019</td>\n",
       "      <td>2020</td>\n",
       "      <td>0.002592</td>\n",
       "      <td>0.001978</td>\n",
       "      <td>0.003305</td>\n",
       "      <td>Alabama</td>\n",
       "      <td>cause_specific_mortality_rate</td>\n",
       "      <td>40_to_44</td>\n",
       "    </tr>\n",
       "    <tr>\n",
       "      <th>4</th>\n",
       "      <td>female</td>\n",
       "      <td>45.0</td>\n",
       "      <td>50.0</td>\n",
       "      <td>2019</td>\n",
       "      <td>2020</td>\n",
       "      <td>0.003660</td>\n",
       "      <td>0.002792</td>\n",
       "      <td>0.004668</td>\n",
       "      <td>Alabama</td>\n",
       "      <td>cause_specific_mortality_rate</td>\n",
       "      <td>45_to_49</td>\n",
       "    </tr>\n",
       "  </tbody>\n",
       "</table>\n",
       "</div>"
      ],
      "text/plain": [
       "      sex  age_start  age_end  year_start  year_end      mean      2.5%  \\\n",
       "0  female       25.0     30.0        2019      2020  0.000950  0.000706   \n",
       "1  female       30.0     35.0        2019      2020  0.001364  0.001029   \n",
       "2  female       35.0     40.0        2019      2020  0.001697  0.001285   \n",
       "3  female       40.0     45.0        2019      2020  0.002592  0.001978   \n",
       "4  female       45.0     50.0        2019      2020  0.003660  0.002792   \n",
       "\n",
       "      97.5% location                        measure age_group  \n",
       "0  0.001237  Alabama  cause_specific_mortality_rate  25_to_29  \n",
       "1  0.001755  Alabama  cause_specific_mortality_rate  30_to_34  \n",
       "2  0.002179  Alabama  cause_specific_mortality_rate  35_to_39  \n",
       "3  0.003305  Alabama  cause_specific_mortality_rate  40_to_44  \n",
       "4  0.004668  Alabama  cause_specific_mortality_rate  45_to_49  "
      ]
     },
     "execution_count": 213,
     "metadata": {},
     "output_type": "execute_result"
    }
   ],
   "source": [
    "art_acmr = load_artifact_data('all_causes', 'cause_specific_mortality_rate')\n",
    "art_acmr['age_group'] = [f'{int(i)}_to_{int(j) - 1}' for (i,j) in zip(art_acmr.age_start,art_acmr.age_end)]\n",
    "art_acmr.head()"
   ]
  },
  {
   "cell_type": "code",
   "execution_count": 214,
   "id": "ecc96871-ea49-4c83-bbad-d2f93552326e",
   "metadata": {},
   "outputs": [
    {
     "data": {
      "text/plain": [
       "<matplotlib.collections.PolyCollection at 0x7fba7402b760>"
      ]
     },
     "execution_count": 214,
     "metadata": {},
     "output_type": "execute_result"
    },
    {
     "data": {
      "image/png": "[encoded data removed]",
      "text/plain": [
       "<Figure size 432x288 with 1 Axes>"
      ]
     },
     "metadata": {
      "needs_background": "light"
     },
     "output_type": "display_data"
    }
   ],
   "source": [
    "plt.plot(result_summary['age'], result_summary['mean'], marker='o')\n",
    "plt.fill_between(result_summary['age'], result_summary['2.5%'], result_summary['97.5%'], alpha=.3)\n",
    "plt.plot(art_acmr['age_group'], art_acmr['mean'], marker='o')\n",
    "plt.fill_between(art_acmr['age_group'], art_acmr['2.5%'], art_acmr['97.5%'], alpha=.3)"
   ]
  },
  {
   "cell_type": "code",
   "execution_count": 215,
   "id": "d8a51d47-2cea-4c40-ae1a-d2706650debb",
   "metadata": {},
   "outputs": [
    {
     "data": {
      "text/html": [
       "<div>\n",
       "<style scoped>\n",
       "    .dataframe tbody tr th:only-of-type {\n",
       "        vertical-align: middle;\n",
       "    }\n",
       "\n",
       "    .dataframe tbody tr th {\n",
       "        vertical-align: top;\n",
       "    }\n",
       "\n",
       "    .dataframe thead th {\n",
       "        text-align: right;\n",
       "    }\n",
       "</style>\n",
       "<table border=\"1\" class=\"dataframe\">\n",
       "  <thead>\n",
       "    <tr style=\"text-align: right;\">\n",
       "      <th></th>\n",
       "      <th>sex</th>\n",
       "      <th>age_start</th>\n",
       "      <th>age_end</th>\n",
       "      <th>year_start</th>\n",
       "      <th>year_end</th>\n",
       "      <th>mean</th>\n",
       "      <th>2.5%</th>\n",
       "      <th>97.5%</th>\n",
       "      <th>location</th>\n",
       "      <th>measure</th>\n",
       "      <th>age_group</th>\n",
       "    </tr>\n",
       "  </thead>\n",
       "  <tbody>\n",
       "    <tr>\n",
       "      <th>0</th>\n",
       "      <td>female</td>\n",
       "      <td>25.0</td>\n",
       "      <td>30.0</td>\n",
       "      <td>2019</td>\n",
       "      <td>2020</td>\n",
       "      <td>0.000002</td>\n",
       "      <td>0.000001</td>\n",
       "      <td>0.000003</td>\n",
       "      <td>Alabama</td>\n",
       "      <td>cause_specific_mortality_rate</td>\n",
       "      <td>25_to_29</td>\n",
       "    </tr>\n",
       "    <tr>\n",
       "      <th>1</th>\n",
       "      <td>female</td>\n",
       "      <td>30.0</td>\n",
       "      <td>35.0</td>\n",
       "      <td>2019</td>\n",
       "      <td>2020</td>\n",
       "      <td>0.000004</td>\n",
       "      <td>0.000002</td>\n",
       "      <td>0.000007</td>\n",
       "      <td>Alabama</td>\n",
       "      <td>cause_specific_mortality_rate</td>\n",
       "      <td>30_to_34</td>\n",
       "    </tr>\n",
       "    <tr>\n",
       "      <th>2</th>\n",
       "      <td>female</td>\n",
       "      <td>35.0</td>\n",
       "      <td>40.0</td>\n",
       "      <td>2019</td>\n",
       "      <td>2020</td>\n",
       "      <td>0.000006</td>\n",
       "      <td>0.000003</td>\n",
       "      <td>0.000009</td>\n",
       "      <td>Alabama</td>\n",
       "      <td>cause_specific_mortality_rate</td>\n",
       "      <td>35_to_39</td>\n",
       "    </tr>\n",
       "    <tr>\n",
       "      <th>3</th>\n",
       "      <td>female</td>\n",
       "      <td>40.0</td>\n",
       "      <td>45.0</td>\n",
       "      <td>2019</td>\n",
       "      <td>2020</td>\n",
       "      <td>0.000011</td>\n",
       "      <td>0.000007</td>\n",
       "      <td>0.000016</td>\n",
       "      <td>Alabama</td>\n",
       "      <td>cause_specific_mortality_rate</td>\n",
       "      <td>40_to_44</td>\n",
       "    </tr>\n",
       "    <tr>\n",
       "      <th>4</th>\n",
       "      <td>female</td>\n",
       "      <td>45.0</td>\n",
       "      <td>50.0</td>\n",
       "      <td>2019</td>\n",
       "      <td>2020</td>\n",
       "      <td>0.000017</td>\n",
       "      <td>0.000011</td>\n",
       "      <td>0.000026</td>\n",
       "      <td>Alabama</td>\n",
       "      <td>cause_specific_mortality_rate</td>\n",
       "      <td>45_to_49</td>\n",
       "    </tr>\n",
       "  </tbody>\n",
       "</table>\n",
       "</div>"
      ],
      "text/plain": [
       "      sex  age_start  age_end  year_start  year_end      mean      2.5%  \\\n",
       "0  female       25.0     30.0        2019      2020  0.000002  0.000001   \n",
       "1  female       30.0     35.0        2019      2020  0.000004  0.000002   \n",
       "2  female       35.0     40.0        2019      2020  0.000006  0.000003   \n",
       "3  female       40.0     45.0        2019      2020  0.000011  0.000007   \n",
       "4  female       45.0     50.0        2019      2020  0.000017  0.000011   \n",
       "\n",
       "      97.5% location                        measure age_group  \n",
       "0  0.000003  Alabama  cause_specific_mortality_rate  25_to_29  \n",
       "1  0.000007  Alabama  cause_specific_mortality_rate  30_to_34  \n",
       "2  0.000009  Alabama  cause_specific_mortality_rate  35_to_39  \n",
       "3  0.000016  Alabama  cause_specific_mortality_rate  40_to_44  \n",
       "4  0.000026  Alabama  cause_specific_mortality_rate  45_to_49  "
      ]
     },
     "execution_count": 215,
     "metadata": {},
     "output_type": "execute_result"
    }
   ],
   "source": [
    "art_emr = load_artifact_data('ischemic_stroke', 'cause_specific_mortality_rate')\n",
    "art_emr['age_group'] = [f'{int(i)}_to_{int(j) - 1}' for (i,j) in zip(art_acmr.age_start,art_acmr.age_end)]\n",
    "art_emr.head()"
   ]
  },
  {
   "cell_type": "code",
   "execution_count": 219,
   "id": "58f05349-6480-48c3-bb84-4da14c85bc4f",
   "metadata": {},
   "outputs": [
    {
     "data": {
      "text/plain": [
       "<matplotlib.collections.PolyCollection at 0x7fba73f4e400>"
      ]
     },
     "execution_count": 219,
     "metadata": {},
     "output_type": "execute_result"
    },
    {
     "data": {
      "image/png": "[encoded data removed]",
      "text/plain": [
       "<Figure size 432x288 with 1 Axes>"
      ]
     },
     "metadata": {
      "needs_background": "light"
     },
     "output_type": "display_data"
    }
   ],
   "source": [
    "plt.plot(acute_rate_summary['age'], acute_rate_summary['mean'], marker='o')\n",
    "plt.fill_between(acute_rate_summary['age'], acute_rate_summary['2.5%'], acute_rate_summary['97.5%'], alpha=.3)\n",
    "plt.plot(chronic_rate['age'], chronic_rate['mean'], marker='o')\n",
    "plt.fill_between(chronic_rate['age'], chronic_rate['2.5%'], chronic_rate['97.5%'], alpha=.3)\n",
    "plt.plot(art_emr['age_group'], art_emr['mean'], marker='o')\n",
    "plt.fill_between(art_emr['age_group'], art_emr['2.5%'], art_emr['97.5%'], alpha=.3)"
   ]
  },
  {
   "cell_type": "markdown",
   "id": "64c6a519-4a3a-49e3-81ed-1a4622cab8a5",
   "metadata": {},
   "source": [
    "### GBD Comparison"
   ]
  },
  {
   "cell_type": "code",
   "execution_count": null,
   "id": "1ce3094c-af0a-42ae-a274-55af0f79832f",
   "metadata": {},
   "outputs": [],
   "source": []
  }
 ],
 "metadata": {
  "kernelspec": {
   "display_name": "Python 3 (ipykernel)",
   "language": "python",
   "name": "python3"
  },
  "language_info": {
   "codemirror_mode": {
    "name": "ipython",
    "version": 3
   },
   "file_extension": ".py",
   "mimetype": "text/x-python",
   "name": "python",
   "nbconvert_exporter": "python",
   "pygments_lexer": "ipython3",
   "version": "3.8.13"
  }
 },
 "nbformat": 4,
 "nbformat_minor": 5
}
