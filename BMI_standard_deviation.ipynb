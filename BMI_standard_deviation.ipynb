{
 "cells": [
  {
   "cell_type": "markdown",
   "id": "d1355498-3480-4c35-8cc6-0c0a25206402",
   "metadata": {},
   "source": [
    "## BMI Standard Deviation \n",
    "\n",
    "The purpose of this notebook is to pull in the BMI standard deviation values and then create a function that replaces values which are over a certain limit"
   ]
  },
  {
   "cell_type": "markdown",
   "id": "c83d6c03-6435-4571-ac4a-44a66e6bcc6b",
   "metadata": {},
   "source": [
    "### Pull in the 2019 BMI standard deviation values \n",
    "\n",
    "Note that the 2021 values are not terribly different and this code should be able to be used with just changing to release_id 9"
   ]
  },
  {
   "cell_type": "code",
   "execution_count": 1,
   "id": "ab2098b7-a1ed-4c29-b045-5720fa1c3039",
   "metadata": {},
   "outputs": [],
   "source": [
    "import pandas as pd, numpy as np, os\n",
    "from db_queries import get_ids, get_outputs, get_location_metadata, get_population, get_covariate_estimates\n",
    "from get_draws.api import get_draws\n",
    "import matplotlib.pyplot as plt\n",
    "import random"
   ]
  },
  {
   "cell_type": "code",
   "execution_count": 2,
   "id": "26c8b8d1-0025-4261-8dc8-839313c3e69f",
   "metadata": {},
   "outputs": [],
   "source": [
    "bmi_std = get_draws(release_id=6,\n",
    "         year_id=2019,\n",
    "         sex_id=[1,2],\n",
    "         location_id=523,\n",
    "         age_group_id=[10,11,12,13,14,15,16,17,18,19,20,30,31,32],\n",
    "         gbd_id_type='modelable_entity_id',\n",
    "         gbd_id=18706,\n",
    "         source='epi')"
   ]
  },
  {
   "cell_type": "code",
   "execution_count": 3,
   "id": "a950067c-373f-4790-838a-d3c80ba6a782",
   "metadata": {},
   "outputs": [
    {
     "data": {
      "text/html": [
       "<div>\n",
       "<style scoped>\n",
       "    .dataframe tbody tr th:only-of-type {\n",
       "        vertical-align: middle;\n",
       "    }\n",
       "\n",
       "    .dataframe tbody tr th {\n",
       "        vertical-align: top;\n",
       "    }\n",
       "\n",
       "    .dataframe thead th {\n",
       "        text-align: right;\n",
       "    }\n",
       "</style>\n",
       "<table border=\"1\" class=\"dataframe\">\n",
       "  <thead>\n",
       "    <tr style=\"text-align: right;\">\n",
       "      <th>modelable_entity_id</th>\n",
       "      <th>sex_id</th>\n",
       "      <th>age_group_id</th>\n",
       "      <th>draw</th>\n",
       "      <th>standard_deviation</th>\n",
       "    </tr>\n",
       "  </thead>\n",
       "  <tbody>\n",
       "    <tr>\n",
       "      <th>0</th>\n",
       "      <td>1</td>\n",
       "      <td>10</td>\n",
       "      <td>draw_0</td>\n",
       "      <td>9.591207</td>\n",
       "    </tr>\n",
       "    <tr>\n",
       "      <th>1</th>\n",
       "      <td>1</td>\n",
       "      <td>10</td>\n",
       "      <td>draw_1</td>\n",
       "      <td>9.922810</td>\n",
       "    </tr>\n",
       "    <tr>\n",
       "      <th>2</th>\n",
       "      <td>1</td>\n",
       "      <td>10</td>\n",
       "      <td>draw_10</td>\n",
       "      <td>5.695761</td>\n",
       "    </tr>\n",
       "    <tr>\n",
       "      <th>3</th>\n",
       "      <td>1</td>\n",
       "      <td>10</td>\n",
       "      <td>draw_100</td>\n",
       "      <td>9.091147</td>\n",
       "    </tr>\n",
       "    <tr>\n",
       "      <th>4</th>\n",
       "      <td>1</td>\n",
       "      <td>10</td>\n",
       "      <td>draw_101</td>\n",
       "      <td>3.859586</td>\n",
       "    </tr>\n",
       "  </tbody>\n",
       "</table>\n",
       "</div>"
      ],
      "text/plain": [
       "modelable_entity_id  sex_id  age_group_id      draw  standard_deviation\n",
       "0                         1            10    draw_0            9.591207\n",
       "1                         1            10    draw_1            9.922810\n",
       "2                         1            10   draw_10            5.695761\n",
       "3                         1            10  draw_100            9.091147\n",
       "4                         1            10  draw_101            3.859586"
      ]
     },
     "execution_count": 3,
     "metadata": {},
     "output_type": "execute_result"
    }
   ],
   "source": [
    "data = bmi_std.set_index(['sex_id','modelable_entity_id','age_group_id'])\n",
    "data = (data[[c for c in data.columns if 'draw' in c]].stack().reset_index()\n",
    "        .rename(columns={'level_3':'draw',0:'value'}))\n",
    "data = (data.pivot_table(index=['sex_id','age_group_id','draw'], columns='modelable_entity_id', values='value')\n",
    "        .reset_index())\n",
    "data = data.rename(columns={18706:'standard_deviation'})\n",
    "data.head()"
   ]
  },
  {
   "cell_type": "code",
   "execution_count": 4,
   "id": "bcb07061-17c2-469b-ac28-4b7c8c971b9d",
   "metadata": {},
   "outputs": [
    {
     "data": {
      "text/plain": [
       "Text(0.5, 1.0, 'Standard Deviation by Age Group')"
      ]
     },
     "execution_count": 4,
     "metadata": {},
     "output_type": "execute_result"
    },
    {
     "data": {
      "image/png": "[encoded data removed]",
      "text/plain": [
       "<Figure size 432x288 with 1 Axes>"
      ]
     },
     "metadata": {
      "needs_background": "light"
     },
     "output_type": "display_data"
    }
   ],
   "source": [
    "plt.scatter(data.age_group_id, data.standard_deviation, alpha=0.3)\n",
    "plt.xlabel(\"Age Group ID\")\n",
    "plt.ylabel(\"Standard Deviation\")\n",
    "plt.title(\"Standard Deviation by Age Group\") "
   ]
  },
  {
   "cell_type": "code",
   "execution_count": 5,
   "id": "17508d66-2783-43ad-b2e1-e2c15fe2d2cd",
   "metadata": {},
   "outputs": [
    {
     "data": {
      "text/plain": [
       "Text(0, 0.5, 'Counts')"
      ]
     },
     "execution_count": 5,
     "metadata": {},
     "output_type": "execute_result"
    },
    {
     "data": {
      "image/png": "[encoded data removed]",
      "text/plain": [
       "<Figure size 432x288 with 1 Axes>"
      ]
     },
     "metadata": {
      "needs_background": "light"
     },
     "output_type": "display_data"
    }
   ],
   "source": [
    "plt.hist(data.standard_deviation, bins=20)\n",
    "plt.xlabel(\"Standard Deviation\")\n",
    "plt.ylabel(\"Counts\")"
   ]
  },
  {
   "cell_type": "markdown",
   "id": "5c78d16b-d316-423e-9f04-affd92ae98f6",
   "metadata": {},
   "source": [
    "As we can see in the graphs above, there are very few values that are very high and there is a significant gap without any values between ~15 and ~25. Therefore, we will start by removing all standard deviations over 15 and replacing them with the average of the other standard deviations."
   ]
  },
  {
   "cell_type": "markdown",
   "id": "40100e91-ffb8-4f12-a291-d672740d99e2",
   "metadata": {},
   "source": [
    "### Replacing Value over 15\n",
    "\n",
    "Start by doing this for a single age/sex group"
   ]
  },
  {
   "cell_type": "code",
   "execution_count": 6,
   "id": "789497f7-0e7d-4c21-ab22-1afb2f24b2a6",
   "metadata": {},
   "outputs": [
    {
     "data": {
      "text/plain": [
       "965"
      ]
     },
     "execution_count": 6,
     "metadata": {},
     "output_type": "execute_result"
    }
   ],
   "source": [
    "bmi_std_2_10 = data.loc[(data.sex_id == 2) & (data.age_group_id == 10)]\n",
    "bmi_std_2_10_reasonable = bmi_std_2_10.standard_deviation.loc[bmi_std_2_10.standard_deviation < 15]\n",
    "len(bmi_std_2_10_reasonable)\n",
    "\n",
    "#So there are 965 of the samples that fall below 15. That means 35 are above 15. So we need to replace the other 35"
   ]
  },
  {
   "cell_type": "code",
   "execution_count": 7,
   "id": "e02d2039-c646-4b26-8039-52bbf9cf0f1a",
   "metadata": {},
   "outputs": [
    {
     "data": {
      "text/plain": [
       "8.8723401446978"
      ]
     },
     "execution_count": 7,
     "metadata": {},
     "output_type": "execute_result"
    }
   ],
   "source": [
    "y = random.sample(bmi_std_2_10_reasonable.tolist(),50)\n",
    "avg = np.mean(y)\n",
    "avg"
   ]
  },
  {
   "cell_type": "code",
   "execution_count": 8,
   "id": "df5fed08-4609-4749-a8bb-59de4b2a945b",
   "metadata": {},
   "outputs": [],
   "source": [
    "for i in range(len(bmi_std_2_10)):\n",
    "    if bmi_std_2_10.standard_deviation.iloc[i] > 15: \n",
    "        y = random.sample(bmi_std_2_10_reasonable.tolist(),50)\n",
    "        avg = np.mean(y)\n",
    "        bmi_std_2_10.standard_deviation.iloc[i] = avg "
   ]
  },
  {
   "cell_type": "code",
   "execution_count": 9,
   "id": "4c2d1f0c-bb8a-4b0d-8fec-bafbe295cb17",
   "metadata": {},
   "outputs": [
    {
     "data": {
      "text/plain": [
       "Text(0, 0.5, 'Counts')"
      ]
     },
     "execution_count": 9,
     "metadata": {},
     "output_type": "execute_result"
    },
    {
     "data": {
      "image/png": "[encoded data removed]",
      "text/plain": [
       "<Figure size 432x288 with 1 Axes>"
      ]
     },
     "metadata": {
      "needs_background": "light"
     },
     "output_type": "display_data"
    }
   ],
   "source": [
    "plt.hist(bmi_std_2_10.standard_deviation, bins=20)\n",
    "plt.xlabel(\"Standard Deviation\")\n",
    "plt.ylabel(\"Counts\")"
   ]
  },
  {
   "cell_type": "markdown",
   "id": "5770f288-3afb-43ac-82d9-91f75b171410",
   "metadata": {},
   "source": [
    "This seemed to work! "
   ]
  },
  {
   "cell_type": "markdown",
   "id": "b4f3272d-3da3-488a-9a35-6b5b05bf057c",
   "metadata": {},
   "source": [
    "### Generalizing the above into something that works for the full dataset"
   ]
  },
  {
   "cell_type": "code",
   "execution_count": 10,
   "id": "802baba1-1304-44d6-a201-8fed73e383f1",
   "metadata": {},
   "outputs": [],
   "source": [
    "new_data = pd.DataFrame()\n",
    "for i in range(3):\n",
    "    for j in range(data.age_group_id.nunique()):\n",
    "        age_group_id = data.age_group_id.unique()[j]\n",
    "        data_current = data.loc[(data.sex_id == i) & (data.age_group_id == age_group_id)]\n",
    "        data_current_reasonable = data_current.standard_deviation.loc[data_current.standard_deviation < 15]\n",
    "        for k in range(len(data_current)):\n",
    "            if data_current.standard_deviation.iloc[k] > 15: \n",
    "                y = random.sample(data_current_reasonable.tolist(),50)\n",
    "                avg = np.mean(y)\n",
    "                data_current.standard_deviation.iloc[k] = avg \n",
    "        new_data = pd.concat([new_data,data_current])"
   ]
  },
  {
   "cell_type": "code",
   "execution_count": 11,
   "id": "6963daec-9576-4c5b-ac43-0b588d998c14",
   "metadata": {},
   "outputs": [
    {
     "data": {
      "text/plain": [
       "Text(0.5, 1.0, 'Standard Deviation by Age Group')"
      ]
     },
     "execution_count": 11,
     "metadata": {},
     "output_type": "execute_result"
    },
    {
     "data": {
      "image/png": "[encoded data removed]",
      "text/plain": [
       "<Figure size 432x288 with 1 Axes>"
      ]
     },
     "metadata": {
      "needs_background": "light"
     },
     "output_type": "display_data"
    }
   ],
   "source": [
    "plt.scatter(new_data.age_group_id, new_data.standard_deviation, alpha=0.3)\n",
    "plt.xlabel(\"Age Group ID\")\n",
    "plt.ylabel(\"Standard Deviation\")\n",
    "plt.title(\"Standard Deviation by Age Group\") "
   ]
  },
  {
   "cell_type": "code",
   "execution_count": 12,
   "id": "3deb1bad-150d-4d73-b8c8-e83ef3efb0b6",
   "metadata": {},
   "outputs": [
    {
     "data": {
      "text/plain": [
       "Text(0, 0.5, 'Counts')"
      ]
     },
     "execution_count": 12,
     "metadata": {},
     "output_type": "execute_result"
    },
    {
     "data": {
      "image/png": "[encoded data removed]",
      "text/plain": [
       "<Figure size 432x288 with 1 Axes>"
      ]
     },
     "metadata": {
      "needs_background": "light"
     },
     "output_type": "display_data"
    }
   ],
   "source": [
    "plt.hist(bmi_std_2_10.standard_deviation, bins=20)\n",
    "plt.xlabel(\"Standard Deviation\")\n",
    "plt.ylabel(\"Counts\")"
   ]
  },
  {
   "cell_type": "markdown",
   "id": "011e0089-2d5c-4fa2-9dab-682a5c1ef548",
   "metadata": {},
   "source": [
    "While this did fix the issue with the more egregious standard deviations, the distribution still looks quite odd. This will hopefully be fixed in later rounds of GBD, but for now we can use this as a temporary fix.  "
   ]
  }
 ],
 "metadata": {
  "kernelspec": {
   "display_name": "Python 3 (ipykernel)",
   "language": "python",
   "name": "python3"
  },
  "language_info": {
   "codemirror_mode": {
    "name": "ipython",
    "version": 3
   },
   "file_extension": ".py",
   "mimetype": "text/x-python",
   "name": "python",
   "nbconvert_exporter": "python",
   "pygments_lexer": "ipython3",
   "version": "3.8.13"
  }
 },
 "nbformat": 4,
 "nbformat_minor": 5
}
